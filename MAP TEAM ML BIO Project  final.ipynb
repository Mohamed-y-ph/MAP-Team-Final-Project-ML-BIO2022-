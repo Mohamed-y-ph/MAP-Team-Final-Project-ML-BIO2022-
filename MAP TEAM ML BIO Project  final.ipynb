{
 "cells": [
  {
   "cell_type": "markdown",
   "metadata": {
    "id": "A3RiA9uTQs4C"
   },
   "source": [
    "## Data Analysis Plan\n",
    "\n"
   ]
  },
  {
   "cell_type": "markdown",
   "metadata": {
    "id": "3ifZDHogUBMI"
   },
   "source": [
    "1- Import all nedeed libraries\n",
    "\n",
    "2- Load your dataset\n",
    "\n",
    "3- Explore your data\n",
    "\n",
    "4- Task 1: Preprocessing, Cleaning \n",
    "\n",
    "5- Task 2: Classifier and Quality Measure Selection\n",
    "\n",
    "6- Task 3: Parameter Tuning and Validation\n",
    "\n",
    "7- Task 4: Model Training\n",
    "\n",
    "8- Task 5: Model interpretation and feature importance\n",
    "\n",
    "9- Task 6: External Testing Code"
   ]
  },
  {
   "cell_type": "markdown",
   "metadata": {
    "id": "Oy1IjXGtUBMJ"
   },
   "source": [
    "> ## 1- Import Nedded Libraries"
   ]
  },
  {
   "cell_type": "code",
   "execution_count": null,
   "metadata": {
    "id": "DsX3ETFEUBMK"
   },
   "outputs": [],
   "source": [
    "import pandas as pd"
   ]
  },
  {
   "cell_type": "code",
   "execution_count": null,
   "metadata": {
    "id": "gEsK95VxUBML"
   },
   "outputs": [],
   "source": [
    "import numpy as np"
   ]
  },
  {
   "cell_type": "code",
   "execution_count": null,
   "metadata": {
    "id": "HIenWfLFUBMM"
   },
   "outputs": [],
   "source": [
    "import matplotlib.pyplot as plt\n",
    "%matplotlib inline"
   ]
  },
  {
   "cell_type": "markdown",
   "metadata": {
    "id": "n2pQse_ZUBMM"
   },
   "source": [
    "> ## 2- Load your dataset"
   ]
  },
  {
   "cell_type": "code",
   "execution_count": null,
   "metadata": {
    "id": "IH80roJsUBMN"
   },
   "outputs": [],
   "source": [
    "## Read the dataset as pandas dataframe\n",
    "traindata_df =pd.read_csv('trainingdata.csv')"
   ]
  },
  {
   "cell_type": "code",
   "execution_count": null,
   "metadata": {
    "colab": {
     "base_uri": "https://localhost:8080/",
     "height": 237
    },
    "executionInfo": {
     "elapsed": 847,
     "status": "ok",
     "timestamp": 1663003182528,
     "user": {
      "displayName": "Abdelhady Sayed",
      "userId": "09542840263844765052"
     },
     "user_tz": -120
    },
    "id": "9Z4qt54vUBMO",
    "outputId": "5e7ddbfe-d80e-4658-e479-d9d8ff29f0ac",
    "scrolled": true
   },
   "outputs": [
    {
     "data": {
      "text/html": [
       "\n",
       "  <div id=\"df-224b446b-f369-495b-851c-bf3f409c5748\">\n",
       "    <div class=\"colab-df-container\">\n",
       "      <div>\n",
       "<style scoped>\n",
       "    .dataframe tbody tr th:only-of-type {\n",
       "        vertical-align: middle;\n",
       "    }\n",
       "\n",
       "    .dataframe tbody tr th {\n",
       "        vertical-align: top;\n",
       "    }\n",
       "\n",
       "    .dataframe thead th {\n",
       "        text-align: right;\n",
       "    }\n",
       "</style>\n",
       "<table border=\"1\" class=\"dataframe\">\n",
       "  <thead>\n",
       "    <tr style=\"text-align: right;\">\n",
       "      <th></th>\n",
       "      <th>Unnamed: 0</th>\n",
       "      <th>gene_1</th>\n",
       "      <th>gene_2</th>\n",
       "      <th>gene_3</th>\n",
       "      <th>gene_4</th>\n",
       "      <th>gene_5</th>\n",
       "      <th>gene_6</th>\n",
       "      <th>gene_7</th>\n",
       "      <th>gene_8</th>\n",
       "      <th>gene_9</th>\n",
       "      <th>...</th>\n",
       "      <th>gene_4991</th>\n",
       "      <th>gene_4992</th>\n",
       "      <th>gene_4993</th>\n",
       "      <th>gene_4994</th>\n",
       "      <th>gene_4995</th>\n",
       "      <th>gene_4996</th>\n",
       "      <th>gene_4997</th>\n",
       "      <th>gene_4998</th>\n",
       "      <th>gene_4999</th>\n",
       "      <th>gene_5000</th>\n",
       "    </tr>\n",
       "  </thead>\n",
       "  <tbody>\n",
       "    <tr>\n",
       "      <th>0</th>\n",
       "      <td>training_sample_1</td>\n",
       "      <td>NaN</td>\n",
       "      <td>9.925867</td>\n",
       "      <td>NaN</td>\n",
       "      <td>12.435052</td>\n",
       "      <td>13.139116</td>\n",
       "      <td>NaN</td>\n",
       "      <td>12.489272</td>\n",
       "      <td>12.250712</td>\n",
       "      <td>NaN</td>\n",
       "      <td>...</td>\n",
       "      <td>19.526312</td>\n",
       "      <td>536.803733</td>\n",
       "      <td>3.248414</td>\n",
       "      <td>896.454308</td>\n",
       "      <td>0.698281</td>\n",
       "      <td>21.489647</td>\n",
       "      <td>13.671497</td>\n",
       "      <td>0.201634</td>\n",
       "      <td>9.321085</td>\n",
       "      <td>14.926754</td>\n",
       "    </tr>\n",
       "    <tr>\n",
       "      <th>1</th>\n",
       "      <td>training_sample_2</td>\n",
       "      <td>NaN</td>\n",
       "      <td>9.884897</td>\n",
       "      <td>NaN</td>\n",
       "      <td>7.256017</td>\n",
       "      <td>11.139180</td>\n",
       "      <td>8.676973</td>\n",
       "      <td>20.061645</td>\n",
       "      <td>20.269381</td>\n",
       "      <td>11.017372</td>\n",
       "      <td>...</td>\n",
       "      <td>3.750260</td>\n",
       "      <td>533.326221</td>\n",
       "      <td>0.000000</td>\n",
       "      <td>884.224032</td>\n",
       "      <td>0.687570</td>\n",
       "      <td>8.115166</td>\n",
       "      <td>10.320280</td>\n",
       "      <td>0.201912</td>\n",
       "      <td>0.000000</td>\n",
       "      <td>2.428608</td>\n",
       "    </tr>\n",
       "    <tr>\n",
       "      <th>2</th>\n",
       "      <td>training_sample_3</td>\n",
       "      <td>NaN</td>\n",
       "      <td>10.248710</td>\n",
       "      <td>NaN</td>\n",
       "      <td>0.000000</td>\n",
       "      <td>12.029570</td>\n",
       "      <td>8.475879</td>\n",
       "      <td>19.521164</td>\n",
       "      <td>16.750186</td>\n",
       "      <td>8.054995</td>\n",
       "      <td>...</td>\n",
       "      <td>17.357102</td>\n",
       "      <td>543.495109</td>\n",
       "      <td>15.645198</td>\n",
       "      <td>889.211122</td>\n",
       "      <td>0.700385</td>\n",
       "      <td>2.638347</td>\n",
       "      <td>12.721622</td>\n",
       "      <td>0.197425</td>\n",
       "      <td>14.197878</td>\n",
       "      <td>25.394671</td>\n",
       "    </tr>\n",
       "  </tbody>\n",
       "</table>\n",
       "<p>3 rows × 5001 columns</p>\n",
       "</div>\n",
       "      <button class=\"colab-df-convert\" onclick=\"convertToInteractive('df-224b446b-f369-495b-851c-bf3f409c5748')\"\n",
       "              title=\"Convert this dataframe to an interactive table.\"\n",
       "              style=\"display:none;\">\n",
       "        \n",
       "  <svg xmlns=\"http://www.w3.org/2000/svg\" height=\"24px\"viewBox=\"0 0 24 24\"\n",
       "       width=\"24px\">\n",
       "    <path d=\"M0 0h24v24H0V0z\" fill=\"none\"/>\n",
       "    <path d=\"M18.56 5.44l.94 2.06.94-2.06 2.06-.94-2.06-.94-.94-2.06-.94 2.06-2.06.94zm-11 1L8.5 8.5l.94-2.06 2.06-.94-2.06-.94L8.5 2.5l-.94 2.06-2.06.94zm10 10l.94 2.06.94-2.06 2.06-.94-2.06-.94-.94-2.06-.94 2.06-2.06.94z\"/><path d=\"M17.41 7.96l-1.37-1.37c-.4-.4-.92-.59-1.43-.59-.52 0-1.04.2-1.43.59L10.3 9.45l-7.72 7.72c-.78.78-.78 2.05 0 2.83L4 21.41c.39.39.9.59 1.41.59.51 0 1.02-.2 1.41-.59l7.78-7.78 2.81-2.81c.8-.78.8-2.07 0-2.86zM5.41 20L4 18.59l7.72-7.72 1.47 1.35L5.41 20z\"/>\n",
       "  </svg>\n",
       "      </button>\n",
       "      \n",
       "  <style>\n",
       "    .colab-df-container {\n",
       "      display:flex;\n",
       "      flex-wrap:wrap;\n",
       "      gap: 12px;\n",
       "    }\n",
       "\n",
       "    .colab-df-convert {\n",
       "      background-color: #E8F0FE;\n",
       "      border: none;\n",
       "      border-radius: 50%;\n",
       "      cursor: pointer;\n",
       "      display: none;\n",
       "      fill: #1967D2;\n",
       "      height: 32px;\n",
       "      padding: 0 0 0 0;\n",
       "      width: 32px;\n",
       "    }\n",
       "\n",
       "    .colab-df-convert:hover {\n",
       "      background-color: #E2EBFA;\n",
       "      box-shadow: 0px 1px 2px rgba(60, 64, 67, 0.3), 0px 1px 3px 1px rgba(60, 64, 67, 0.15);\n",
       "      fill: #174EA6;\n",
       "    }\n",
       "\n",
       "    [theme=dark] .colab-df-convert {\n",
       "      background-color: #3B4455;\n",
       "      fill: #D2E3FC;\n",
       "    }\n",
       "\n",
       "    [theme=dark] .colab-df-convert:hover {\n",
       "      background-color: #434B5C;\n",
       "      box-shadow: 0px 1px 3px 1px rgba(0, 0, 0, 0.15);\n",
       "      filter: drop-shadow(0px 1px 2px rgba(0, 0, 0, 0.3));\n",
       "      fill: #FFFFFF;\n",
       "    }\n",
       "  </style>\n",
       "\n",
       "      <script>\n",
       "        const buttonEl =\n",
       "          document.querySelector('#df-224b446b-f369-495b-851c-bf3f409c5748 button.colab-df-convert');\n",
       "        buttonEl.style.display =\n",
       "          google.colab.kernel.accessAllowed ? 'block' : 'none';\n",
       "\n",
       "        async function convertToInteractive(key) {\n",
       "          const element = document.querySelector('#df-224b446b-f369-495b-851c-bf3f409c5748');\n",
       "          const dataTable =\n",
       "            await google.colab.kernel.invokeFunction('convertToInteractive',\n",
       "                                                     [key], {});\n",
       "          if (!dataTable) return;\n",
       "\n",
       "          const docLinkHtml = 'Like what you see? Visit the ' +\n",
       "            '<a target=\"_blank\" href=https://colab.research.google.com/notebooks/data_table.ipynb>data table notebook</a>'\n",
       "            + ' to learn more about interactive tables.';\n",
       "          element.innerHTML = '';\n",
       "          dataTable['output_type'] = 'display_data';\n",
       "          await google.colab.output.renderOutput(dataTable, element);\n",
       "          const docLink = document.createElement('div');\n",
       "          docLink.innerHTML = docLinkHtml;\n",
       "          element.appendChild(docLink);\n",
       "        }\n",
       "      </script>\n",
       "    </div>\n",
       "  </div>\n",
       "  "
      ],
      "text/plain": [
       "          Unnamed: 0  gene_1     gene_2  gene_3     gene_4     gene_5  \\\n",
       "0  training_sample_1     NaN   9.925867     NaN  12.435052  13.139116   \n",
       "1  training_sample_2     NaN   9.884897     NaN   7.256017  11.139180   \n",
       "2  training_sample_3     NaN  10.248710     NaN   0.000000  12.029570   \n",
       "\n",
       "     gene_6     gene_7     gene_8     gene_9  ...  gene_4991   gene_4992  \\\n",
       "0       NaN  12.489272  12.250712        NaN  ...  19.526312  536.803733   \n",
       "1  8.676973  20.061645  20.269381  11.017372  ...   3.750260  533.326221   \n",
       "2  8.475879  19.521164  16.750186   8.054995  ...  17.357102  543.495109   \n",
       "\n",
       "   gene_4993   gene_4994  gene_4995  gene_4996  gene_4997  gene_4998  \\\n",
       "0   3.248414  896.454308   0.698281  21.489647  13.671497   0.201634   \n",
       "1   0.000000  884.224032   0.687570   8.115166  10.320280   0.201912   \n",
       "2  15.645198  889.211122   0.700385   2.638347  12.721622   0.197425   \n",
       "\n",
       "   gene_4999  gene_5000  \n",
       "0   9.321085  14.926754  \n",
       "1   0.000000   2.428608  \n",
       "2  14.197878  25.394671  \n",
       "\n",
       "[3 rows x 5001 columns]"
      ]
     },
     "execution_count": 5,
     "metadata": {},
     "output_type": "execute_result"
    }
   ],
   "source": [
    "## check the head rows of your dataframe\n",
    "traindata_df.head(3)"
   ]
  },
  {
   "cell_type": "code",
   "execution_count": null,
   "metadata": {
    "colab": {
     "base_uri": "https://localhost:8080/"
    },
    "executionInfo": {
     "elapsed": 19,
     "status": "ok",
     "timestamp": 1663003182529,
     "user": {
      "displayName": "Abdelhady Sayed",
      "userId": "09542840263844765052"
     },
     "user_tz": -120
    },
    "id": "0lGzIpuIUBMQ",
    "outputId": "0cb89504-40d9-403d-a8d7-a35d1150961c"
   },
   "outputs": [
    {
     "data": {
      "text/plain": [
       "Index(['Unnamed: 0', 'gene_1', 'gene_2', 'gene_3', 'gene_4', 'gene_5',\n",
       "       'gene_6', 'gene_7', 'gene_8', 'gene_9',\n",
       "       ...\n",
       "       'gene_4991', 'gene_4992', 'gene_4993', 'gene_4994', 'gene_4995',\n",
       "       'gene_4996', 'gene_4997', 'gene_4998', 'gene_4999', 'gene_5000'],\n",
       "      dtype='object', length=5001)"
      ]
     },
     "execution_count": 6,
     "metadata": {},
     "output_type": "execute_result"
    }
   ],
   "source": [
    "## find out the column names of your dataframe\n",
    "traindata_df.columns"
   ]
  },
  {
   "cell_type": "code",
   "execution_count": null,
   "metadata": {
    "id": "xz3LcA0XUBMQ"
   },
   "outputs": [],
   "source": [
    "## Make the first column as the index column:\n",
    "\n",
    "traindata_df = pd.read_csv('trainingdata.csv', index_col='Unnamed: 0')"
   ]
  },
  {
   "cell_type": "code",
   "execution_count": null,
   "metadata": {
    "colab": {
     "base_uri": "https://localhost:8080/",
     "height": 237
    },
    "executionInfo": {
     "elapsed": 46,
     "status": "ok",
     "timestamp": 1663003183249,
     "user": {
      "displayName": "Abdelhady Sayed",
      "userId": "09542840263844765052"
     },
     "user_tz": -120
    },
    "id": "GStsUyf3UBMR",
    "outputId": "e56993b7-ef09-402b-9c58-539916c903a6"
   },
   "outputs": [
    {
     "data": {
      "text/html": [
       "\n",
       "  <div id=\"df-9c4ad0fd-f364-45d4-8ab8-7adc52de0a5e\">\n",
       "    <div class=\"colab-df-container\">\n",
       "      <div>\n",
       "<style scoped>\n",
       "    .dataframe tbody tr th:only-of-type {\n",
       "        vertical-align: middle;\n",
       "    }\n",
       "\n",
       "    .dataframe tbody tr th {\n",
       "        vertical-align: top;\n",
       "    }\n",
       "\n",
       "    .dataframe thead th {\n",
       "        text-align: right;\n",
       "    }\n",
       "</style>\n",
       "<table border=\"1\" class=\"dataframe\">\n",
       "  <thead>\n",
       "    <tr style=\"text-align: right;\">\n",
       "      <th></th>\n",
       "      <th>gene_1</th>\n",
       "      <th>gene_2</th>\n",
       "      <th>gene_3</th>\n",
       "      <th>gene_4</th>\n",
       "      <th>gene_5</th>\n",
       "      <th>gene_6</th>\n",
       "      <th>gene_7</th>\n",
       "      <th>gene_8</th>\n",
       "      <th>gene_9</th>\n",
       "      <th>gene_10</th>\n",
       "      <th>...</th>\n",
       "      <th>gene_4991</th>\n",
       "      <th>gene_4992</th>\n",
       "      <th>gene_4993</th>\n",
       "      <th>gene_4994</th>\n",
       "      <th>gene_4995</th>\n",
       "      <th>gene_4996</th>\n",
       "      <th>gene_4997</th>\n",
       "      <th>gene_4998</th>\n",
       "      <th>gene_4999</th>\n",
       "      <th>gene_5000</th>\n",
       "    </tr>\n",
       "  </thead>\n",
       "  <tbody>\n",
       "    <tr>\n",
       "      <th>training_sample_1</th>\n",
       "      <td>NaN</td>\n",
       "      <td>9.925867</td>\n",
       "      <td>NaN</td>\n",
       "      <td>12.435052</td>\n",
       "      <td>13.139116</td>\n",
       "      <td>NaN</td>\n",
       "      <td>12.489272</td>\n",
       "      <td>12.250712</td>\n",
       "      <td>NaN</td>\n",
       "      <td>1.738876</td>\n",
       "      <td>...</td>\n",
       "      <td>19.526312</td>\n",
       "      <td>536.803733</td>\n",
       "      <td>3.248414</td>\n",
       "      <td>896.454308</td>\n",
       "      <td>0.698281</td>\n",
       "      <td>21.489647</td>\n",
       "      <td>13.671497</td>\n",
       "      <td>0.201634</td>\n",
       "      <td>9.321085</td>\n",
       "      <td>14.926754</td>\n",
       "    </tr>\n",
       "    <tr>\n",
       "      <th>training_sample_2</th>\n",
       "      <td>NaN</td>\n",
       "      <td>9.884897</td>\n",
       "      <td>NaN</td>\n",
       "      <td>7.256017</td>\n",
       "      <td>11.139180</td>\n",
       "      <td>8.676973</td>\n",
       "      <td>20.061645</td>\n",
       "      <td>20.269381</td>\n",
       "      <td>11.017372</td>\n",
       "      <td>7.010246</td>\n",
       "      <td>...</td>\n",
       "      <td>3.750260</td>\n",
       "      <td>533.326221</td>\n",
       "      <td>0.000000</td>\n",
       "      <td>884.224032</td>\n",
       "      <td>0.687570</td>\n",
       "      <td>8.115166</td>\n",
       "      <td>10.320280</td>\n",
       "      <td>0.201912</td>\n",
       "      <td>0.000000</td>\n",
       "      <td>2.428608</td>\n",
       "    </tr>\n",
       "    <tr>\n",
       "      <th>training_sample_3</th>\n",
       "      <td>NaN</td>\n",
       "      <td>10.248710</td>\n",
       "      <td>NaN</td>\n",
       "      <td>0.000000</td>\n",
       "      <td>12.029570</td>\n",
       "      <td>8.475879</td>\n",
       "      <td>19.521164</td>\n",
       "      <td>16.750186</td>\n",
       "      <td>8.054995</td>\n",
       "      <td>6.631375</td>\n",
       "      <td>...</td>\n",
       "      <td>17.357102</td>\n",
       "      <td>543.495109</td>\n",
       "      <td>15.645198</td>\n",
       "      <td>889.211122</td>\n",
       "      <td>0.700385</td>\n",
       "      <td>2.638347</td>\n",
       "      <td>12.721622</td>\n",
       "      <td>0.197425</td>\n",
       "      <td>14.197878</td>\n",
       "      <td>25.394671</td>\n",
       "    </tr>\n",
       "  </tbody>\n",
       "</table>\n",
       "<p>3 rows × 5000 columns</p>\n",
       "</div>\n",
       "      <button class=\"colab-df-convert\" onclick=\"convertToInteractive('df-9c4ad0fd-f364-45d4-8ab8-7adc52de0a5e')\"\n",
       "              title=\"Convert this dataframe to an interactive table.\"\n",
       "              style=\"display:none;\">\n",
       "        \n",
       "  <svg xmlns=\"http://www.w3.org/2000/svg\" height=\"24px\"viewBox=\"0 0 24 24\"\n",
       "       width=\"24px\">\n",
       "    <path d=\"M0 0h24v24H0V0z\" fill=\"none\"/>\n",
       "    <path d=\"M18.56 5.44l.94 2.06.94-2.06 2.06-.94-2.06-.94-.94-2.06-.94 2.06-2.06.94zm-11 1L8.5 8.5l.94-2.06 2.06-.94-2.06-.94L8.5 2.5l-.94 2.06-2.06.94zm10 10l.94 2.06.94-2.06 2.06-.94-2.06-.94-.94-2.06-.94 2.06-2.06.94z\"/><path d=\"M17.41 7.96l-1.37-1.37c-.4-.4-.92-.59-1.43-.59-.52 0-1.04.2-1.43.59L10.3 9.45l-7.72 7.72c-.78.78-.78 2.05 0 2.83L4 21.41c.39.39.9.59 1.41.59.51 0 1.02-.2 1.41-.59l7.78-7.78 2.81-2.81c.8-.78.8-2.07 0-2.86zM5.41 20L4 18.59l7.72-7.72 1.47 1.35L5.41 20z\"/>\n",
       "  </svg>\n",
       "      </button>\n",
       "      \n",
       "  <style>\n",
       "    .colab-df-container {\n",
       "      display:flex;\n",
       "      flex-wrap:wrap;\n",
       "      gap: 12px;\n",
       "    }\n",
       "\n",
       "    .colab-df-convert {\n",
       "      background-color: #E8F0FE;\n",
       "      border: none;\n",
       "      border-radius: 50%;\n",
       "      cursor: pointer;\n",
       "      display: none;\n",
       "      fill: #1967D2;\n",
       "      height: 32px;\n",
       "      padding: 0 0 0 0;\n",
       "      width: 32px;\n",
       "    }\n",
       "\n",
       "    .colab-df-convert:hover {\n",
       "      background-color: #E2EBFA;\n",
       "      box-shadow: 0px 1px 2px rgba(60, 64, 67, 0.3), 0px 1px 3px 1px rgba(60, 64, 67, 0.15);\n",
       "      fill: #174EA6;\n",
       "    }\n",
       "\n",
       "    [theme=dark] .colab-df-convert {\n",
       "      background-color: #3B4455;\n",
       "      fill: #D2E3FC;\n",
       "    }\n",
       "\n",
       "    [theme=dark] .colab-df-convert:hover {\n",
       "      background-color: #434B5C;\n",
       "      box-shadow: 0px 1px 3px 1px rgba(0, 0, 0, 0.15);\n",
       "      filter: drop-shadow(0px 1px 2px rgba(0, 0, 0, 0.3));\n",
       "      fill: #FFFFFF;\n",
       "    }\n",
       "  </style>\n",
       "\n",
       "      <script>\n",
       "        const buttonEl =\n",
       "          document.querySelector('#df-9c4ad0fd-f364-45d4-8ab8-7adc52de0a5e button.colab-df-convert');\n",
       "        buttonEl.style.display =\n",
       "          google.colab.kernel.accessAllowed ? 'block' : 'none';\n",
       "\n",
       "        async function convertToInteractive(key) {\n",
       "          const element = document.querySelector('#df-9c4ad0fd-f364-45d4-8ab8-7adc52de0a5e');\n",
       "          const dataTable =\n",
       "            await google.colab.kernel.invokeFunction('convertToInteractive',\n",
       "                                                     [key], {});\n",
       "          if (!dataTable) return;\n",
       "\n",
       "          const docLinkHtml = 'Like what you see? Visit the ' +\n",
       "            '<a target=\"_blank\" href=https://colab.research.google.com/notebooks/data_table.ipynb>data table notebook</a>'\n",
       "            + ' to learn more about interactive tables.';\n",
       "          element.innerHTML = '';\n",
       "          dataTable['output_type'] = 'display_data';\n",
       "          await google.colab.output.renderOutput(dataTable, element);\n",
       "          const docLink = document.createElement('div');\n",
       "          docLink.innerHTML = docLinkHtml;\n",
       "          element.appendChild(docLink);\n",
       "        }\n",
       "      </script>\n",
       "    </div>\n",
       "  </div>\n",
       "  "
      ],
      "text/plain": [
       "                   gene_1     gene_2  gene_3     gene_4     gene_5    gene_6  \\\n",
       "training_sample_1     NaN   9.925867     NaN  12.435052  13.139116       NaN   \n",
       "training_sample_2     NaN   9.884897     NaN   7.256017  11.139180  8.676973   \n",
       "training_sample_3     NaN  10.248710     NaN   0.000000  12.029570  8.475879   \n",
       "\n",
       "                      gene_7     gene_8     gene_9   gene_10  ...  gene_4991  \\\n",
       "training_sample_1  12.489272  12.250712        NaN  1.738876  ...  19.526312   \n",
       "training_sample_2  20.061645  20.269381  11.017372  7.010246  ...   3.750260   \n",
       "training_sample_3  19.521164  16.750186   8.054995  6.631375  ...  17.357102   \n",
       "\n",
       "                    gene_4992  gene_4993   gene_4994  gene_4995  gene_4996  \\\n",
       "training_sample_1  536.803733   3.248414  896.454308   0.698281  21.489647   \n",
       "training_sample_2  533.326221   0.000000  884.224032   0.687570   8.115166   \n",
       "training_sample_3  543.495109  15.645198  889.211122   0.700385   2.638347   \n",
       "\n",
       "                   gene_4997  gene_4998  gene_4999  gene_5000  \n",
       "training_sample_1  13.671497   0.201634   9.321085  14.926754  \n",
       "training_sample_2  10.320280   0.201912   0.000000   2.428608  \n",
       "training_sample_3  12.721622   0.197425  14.197878  25.394671  \n",
       "\n",
       "[3 rows x 5000 columns]"
      ]
     },
     "execution_count": 8,
     "metadata": {},
     "output_type": "execute_result"
    }
   ],
   "source": [
    "## check that the first column is now the index column\n",
    "traindata_df.head(3)"
   ]
  },
  {
   "cell_type": "code",
   "execution_count": null,
   "metadata": {
    "colab": {
     "base_uri": "https://localhost:8080/",
     "height": 300
    },
    "executionInfo": {
     "elapsed": 44,
     "status": "ok",
     "timestamp": 1663003183250,
     "user": {
      "displayName": "Abdelhady Sayed",
      "userId": "09542840263844765052"
     },
     "user_tz": -120
    },
    "id": "m36ivIfpUBMS",
    "outputId": "fae282ae-5d74-4f43-ad06-9e84aeb0123c",
    "scrolled": true
   },
   "outputs": [
    {
     "data": {
      "text/html": [
       "\n",
       "  <div id=\"df-f3c00b82-3be0-4dbb-bcaf-d72c82541ada\">\n",
       "    <div class=\"colab-df-container\">\n",
       "      <div>\n",
       "<style scoped>\n",
       "    .dataframe tbody tr th:only-of-type {\n",
       "        vertical-align: middle;\n",
       "    }\n",
       "\n",
       "    .dataframe tbody tr th {\n",
       "        vertical-align: top;\n",
       "    }\n",
       "\n",
       "    .dataframe thead th {\n",
       "        text-align: right;\n",
       "    }\n",
       "</style>\n",
       "<table border=\"1\" class=\"dataframe\">\n",
       "  <thead>\n",
       "    <tr style=\"text-align: right;\">\n",
       "      <th></th>\n",
       "      <th>gene_1</th>\n",
       "      <th>gene_2</th>\n",
       "      <th>gene_3</th>\n",
       "      <th>gene_4</th>\n",
       "      <th>gene_5</th>\n",
       "      <th>gene_6</th>\n",
       "      <th>gene_7</th>\n",
       "      <th>gene_8</th>\n",
       "      <th>gene_9</th>\n",
       "      <th>gene_10</th>\n",
       "      <th>...</th>\n",
       "      <th>gene_4991</th>\n",
       "      <th>gene_4992</th>\n",
       "      <th>gene_4993</th>\n",
       "      <th>gene_4994</th>\n",
       "      <th>gene_4995</th>\n",
       "      <th>gene_4996</th>\n",
       "      <th>gene_4997</th>\n",
       "      <th>gene_4998</th>\n",
       "      <th>gene_4999</th>\n",
       "      <th>gene_5000</th>\n",
       "    </tr>\n",
       "  </thead>\n",
       "  <tbody>\n",
       "    <tr>\n",
       "      <th>training_sample_596</th>\n",
       "      <td>NaN</td>\n",
       "      <td>8.861974</td>\n",
       "      <td>NaN</td>\n",
       "      <td>9.397273</td>\n",
       "      <td>11.564793</td>\n",
       "      <td>8.820728</td>\n",
       "      <td>11.674931</td>\n",
       "      <td>9.406866</td>\n",
       "      <td>9.985671</td>\n",
       "      <td>2.834931</td>\n",
       "      <td>...</td>\n",
       "      <td>13.336770</td>\n",
       "      <td>540.863533</td>\n",
       "      <td>8.344888</td>\n",
       "      <td>906.672717</td>\n",
       "      <td>0.702944</td>\n",
       "      <td>15.237007</td>\n",
       "      <td>6.844675</td>\n",
       "      <td>0.202377</td>\n",
       "      <td>0.000000</td>\n",
       "      <td>13.774639</td>\n",
       "    </tr>\n",
       "    <tr>\n",
       "      <th>training_sample_597</th>\n",
       "      <td>NaN</td>\n",
       "      <td>10.994000</td>\n",
       "      <td>8.325467</td>\n",
       "      <td>12.342499</td>\n",
       "      <td>11.343963</td>\n",
       "      <td>9.807519</td>\n",
       "      <td>16.124035</td>\n",
       "      <td>17.220336</td>\n",
       "      <td>11.278072</td>\n",
       "      <td>2.267525</td>\n",
       "      <td>...</td>\n",
       "      <td>26.746630</td>\n",
       "      <td>541.228875</td>\n",
       "      <td>8.448715</td>\n",
       "      <td>905.461547</td>\n",
       "      <td>0.698434</td>\n",
       "      <td>23.170266</td>\n",
       "      <td>2.187069</td>\n",
       "      <td>0.199818</td>\n",
       "      <td>14.804905</td>\n",
       "      <td>13.084605</td>\n",
       "    </tr>\n",
       "    <tr>\n",
       "      <th>training_sample_598</th>\n",
       "      <td>NaN</td>\n",
       "      <td>10.514024</td>\n",
       "      <td>NaN</td>\n",
       "      <td>19.127077</td>\n",
       "      <td>11.320671</td>\n",
       "      <td>9.253337</td>\n",
       "      <td>16.879628</td>\n",
       "      <td>16.737419</td>\n",
       "      <td>9.478937</td>\n",
       "      <td>9.561510</td>\n",
       "      <td>...</td>\n",
       "      <td>10.666572</td>\n",
       "      <td>536.376705</td>\n",
       "      <td>3.930514</td>\n",
       "      <td>906.396194</td>\n",
       "      <td>0.695393</td>\n",
       "      <td>16.370510</td>\n",
       "      <td>0.000000</td>\n",
       "      <td>0.202296</td>\n",
       "      <td>2.672799</td>\n",
       "      <td>13.629431</td>\n",
       "    </tr>\n",
       "    <tr>\n",
       "      <th>training_sample_599</th>\n",
       "      <td>NaN</td>\n",
       "      <td>10.079445</td>\n",
       "      <td>7.556759</td>\n",
       "      <td>0.000000</td>\n",
       "      <td>NaN</td>\n",
       "      <td>9.587972</td>\n",
       "      <td>27.479704</td>\n",
       "      <td>18.452056</td>\n",
       "      <td>8.817224</td>\n",
       "      <td>4.766034</td>\n",
       "      <td>...</td>\n",
       "      <td>23.347500</td>\n",
       "      <td>545.280070</td>\n",
       "      <td>8.529575</td>\n",
       "      <td>896.256760</td>\n",
       "      <td>0.709460</td>\n",
       "      <td>11.336570</td>\n",
       "      <td>11.421827</td>\n",
       "      <td>0.201581</td>\n",
       "      <td>0.000000</td>\n",
       "      <td>11.019497</td>\n",
       "    </tr>\n",
       "    <tr>\n",
       "      <th>training_sample_600</th>\n",
       "      <td>1.895147</td>\n",
       "      <td>9.069979</td>\n",
       "      <td>7.590467</td>\n",
       "      <td>7.089150</td>\n",
       "      <td>12.812528</td>\n",
       "      <td>9.524630</td>\n",
       "      <td>19.807916</td>\n",
       "      <td>21.136285</td>\n",
       "      <td>8.784308</td>\n",
       "      <td>1.123519</td>\n",
       "      <td>...</td>\n",
       "      <td>6.486079</td>\n",
       "      <td>533.444194</td>\n",
       "      <td>7.405746</td>\n",
       "      <td>885.680891</td>\n",
       "      <td>0.710359</td>\n",
       "      <td>12.397815</td>\n",
       "      <td>0.000000</td>\n",
       "      <td>0.198190</td>\n",
       "      <td>14.589504</td>\n",
       "      <td>10.974162</td>\n",
       "    </tr>\n",
       "  </tbody>\n",
       "</table>\n",
       "<p>5 rows × 5000 columns</p>\n",
       "</div>\n",
       "      <button class=\"colab-df-convert\" onclick=\"convertToInteractive('df-f3c00b82-3be0-4dbb-bcaf-d72c82541ada')\"\n",
       "              title=\"Convert this dataframe to an interactive table.\"\n",
       "              style=\"display:none;\">\n",
       "        \n",
       "  <svg xmlns=\"http://www.w3.org/2000/svg\" height=\"24px\"viewBox=\"0 0 24 24\"\n",
       "       width=\"24px\">\n",
       "    <path d=\"M0 0h24v24H0V0z\" fill=\"none\"/>\n",
       "    <path d=\"M18.56 5.44l.94 2.06.94-2.06 2.06-.94-2.06-.94-.94-2.06-.94 2.06-2.06.94zm-11 1L8.5 8.5l.94-2.06 2.06-.94-2.06-.94L8.5 2.5l-.94 2.06-2.06.94zm10 10l.94 2.06.94-2.06 2.06-.94-2.06-.94-.94-2.06-.94 2.06-2.06.94z\"/><path d=\"M17.41 7.96l-1.37-1.37c-.4-.4-.92-.59-1.43-.59-.52 0-1.04.2-1.43.59L10.3 9.45l-7.72 7.72c-.78.78-.78 2.05 0 2.83L4 21.41c.39.39.9.59 1.41.59.51 0 1.02-.2 1.41-.59l7.78-7.78 2.81-2.81c.8-.78.8-2.07 0-2.86zM5.41 20L4 18.59l7.72-7.72 1.47 1.35L5.41 20z\"/>\n",
       "  </svg>\n",
       "      </button>\n",
       "      \n",
       "  <style>\n",
       "    .colab-df-container {\n",
       "      display:flex;\n",
       "      flex-wrap:wrap;\n",
       "      gap: 12px;\n",
       "    }\n",
       "\n",
       "    .colab-df-convert {\n",
       "      background-color: #E8F0FE;\n",
       "      border: none;\n",
       "      border-radius: 50%;\n",
       "      cursor: pointer;\n",
       "      display: none;\n",
       "      fill: #1967D2;\n",
       "      height: 32px;\n",
       "      padding: 0 0 0 0;\n",
       "      width: 32px;\n",
       "    }\n",
       "\n",
       "    .colab-df-convert:hover {\n",
       "      background-color: #E2EBFA;\n",
       "      box-shadow: 0px 1px 2px rgba(60, 64, 67, 0.3), 0px 1px 3px 1px rgba(60, 64, 67, 0.15);\n",
       "      fill: #174EA6;\n",
       "    }\n",
       "\n",
       "    [theme=dark] .colab-df-convert {\n",
       "      background-color: #3B4455;\n",
       "      fill: #D2E3FC;\n",
       "    }\n",
       "\n",
       "    [theme=dark] .colab-df-convert:hover {\n",
       "      background-color: #434B5C;\n",
       "      box-shadow: 0px 1px 3px 1px rgba(0, 0, 0, 0.15);\n",
       "      filter: drop-shadow(0px 1px 2px rgba(0, 0, 0, 0.3));\n",
       "      fill: #FFFFFF;\n",
       "    }\n",
       "  </style>\n",
       "\n",
       "      <script>\n",
       "        const buttonEl =\n",
       "          document.querySelector('#df-f3c00b82-3be0-4dbb-bcaf-d72c82541ada button.colab-df-convert');\n",
       "        buttonEl.style.display =\n",
       "          google.colab.kernel.accessAllowed ? 'block' : 'none';\n",
       "\n",
       "        async function convertToInteractive(key) {\n",
       "          const element = document.querySelector('#df-f3c00b82-3be0-4dbb-bcaf-d72c82541ada');\n",
       "          const dataTable =\n",
       "            await google.colab.kernel.invokeFunction('convertToInteractive',\n",
       "                                                     [key], {});\n",
       "          if (!dataTable) return;\n",
       "\n",
       "          const docLinkHtml = 'Like what you see? Visit the ' +\n",
       "            '<a target=\"_blank\" href=https://colab.research.google.com/notebooks/data_table.ipynb>data table notebook</a>'\n",
       "            + ' to learn more about interactive tables.';\n",
       "          element.innerHTML = '';\n",
       "          dataTable['output_type'] = 'display_data';\n",
       "          await google.colab.output.renderOutput(dataTable, element);\n",
       "          const docLink = document.createElement('div');\n",
       "          docLink.innerHTML = docLinkHtml;\n",
       "          element.appendChild(docLink);\n",
       "        }\n",
       "      </script>\n",
       "    </div>\n",
       "  </div>\n",
       "  "
      ],
      "text/plain": [
       "                       gene_1     gene_2    gene_3     gene_4     gene_5  \\\n",
       "training_sample_596       NaN   8.861974       NaN   9.397273  11.564793   \n",
       "training_sample_597       NaN  10.994000  8.325467  12.342499  11.343963   \n",
       "training_sample_598       NaN  10.514024       NaN  19.127077  11.320671   \n",
       "training_sample_599       NaN  10.079445  7.556759   0.000000        NaN   \n",
       "training_sample_600  1.895147   9.069979  7.590467   7.089150  12.812528   \n",
       "\n",
       "                       gene_6     gene_7     gene_8     gene_9   gene_10  ...  \\\n",
       "training_sample_596  8.820728  11.674931   9.406866   9.985671  2.834931  ...   \n",
       "training_sample_597  9.807519  16.124035  17.220336  11.278072  2.267525  ...   \n",
       "training_sample_598  9.253337  16.879628  16.737419   9.478937  9.561510  ...   \n",
       "training_sample_599  9.587972  27.479704  18.452056   8.817224  4.766034  ...   \n",
       "training_sample_600  9.524630  19.807916  21.136285   8.784308  1.123519  ...   \n",
       "\n",
       "                     gene_4991   gene_4992  gene_4993   gene_4994  gene_4995  \\\n",
       "training_sample_596  13.336770  540.863533   8.344888  906.672717   0.702944   \n",
       "training_sample_597  26.746630  541.228875   8.448715  905.461547   0.698434   \n",
       "training_sample_598  10.666572  536.376705   3.930514  906.396194   0.695393   \n",
       "training_sample_599  23.347500  545.280070   8.529575  896.256760   0.709460   \n",
       "training_sample_600   6.486079  533.444194   7.405746  885.680891   0.710359   \n",
       "\n",
       "                     gene_4996  gene_4997  gene_4998  gene_4999  gene_5000  \n",
       "training_sample_596  15.237007   6.844675   0.202377   0.000000  13.774639  \n",
       "training_sample_597  23.170266   2.187069   0.199818  14.804905  13.084605  \n",
       "training_sample_598  16.370510   0.000000   0.202296   2.672799  13.629431  \n",
       "training_sample_599  11.336570  11.421827   0.201581   0.000000  11.019497  \n",
       "training_sample_600  12.397815   0.000000   0.198190  14.589504  10.974162  \n",
       "\n",
       "[5 rows x 5000 columns]"
      ]
     },
     "execution_count": 9,
     "metadata": {},
     "output_type": "execute_result"
    }
   ],
   "source": [
    "## Check the last set of rows in your dataframe\n",
    "traindata_df.tail()"
   ]
  },
  {
   "cell_type": "code",
   "execution_count": null,
   "metadata": {
    "id": "dKlRtAHmUBMS"
   },
   "outputs": [],
   "source": [
    "## Read the labels dataset as pandas dataframe:\n",
    "\n",
    "target_df = pd.read_csv('traininglabels.csv')\n",
    "#target_df.head(3)"
   ]
  },
  {
   "cell_type": "code",
   "execution_count": null,
   "metadata": {
    "id": "mLakZk8SUBMT",
    "scrolled": false
   },
   "outputs": [],
   "source": [
    "## Read the labels dataset & Make the first column as the index column:\n",
    "\n",
    "target_df = pd.read_csv('traininglabels.csv',index_col='Unnamed: 0')\n",
    "target_df.columns= ['class']\n",
    "#target_df"
   ]
  },
  {
   "cell_type": "code",
   "execution_count": null,
   "metadata": {
    "colab": {
     "base_uri": "https://localhost:8080/"
    },
    "executionInfo": {
     "elapsed": 44,
     "status": "ok",
     "timestamp": 1663003183254,
     "user": {
      "displayName": "Abdelhady Sayed",
      "userId": "09542840263844765052"
     },
     "user_tz": -120
    },
    "id": "K-ZvN5L4UBMT",
    "outputId": "127a9017-b9c0-4963-c04f-ce0ce75be3ba",
    "scrolled": true
   },
   "outputs": [
    {
     "data": {
      "text/plain": [
       "class    0\n",
       "dtype: int64"
      ]
     },
     "execution_count": 12,
     "metadata": {},
     "output_type": "execute_result"
    }
   ],
   "source": [
    "## Examine if there is null values in the target dataset:\n",
    "target_df.isnull().sum()"
   ]
  },
  {
   "cell_type": "code",
   "execution_count": null,
   "metadata": {
    "colab": {
     "base_uri": "https://localhost:8080/"
    },
    "executionInfo": {
     "elapsed": 37,
     "status": "ok",
     "timestamp": 1663003183255,
     "user": {
      "displayName": "Abdelhady Sayed",
      "userId": "09542840263844765052"
     },
     "user_tz": -120
    },
    "id": "duvQ1FuRUBMU",
    "outputId": "21e6896d-57e8-4467-9ac6-c5245b2df883"
   },
   "outputs": [
    {
     "data": {
      "text/plain": [
       "array([0, 1])"
      ]
     },
     "execution_count": 13,
     "metadata": {},
     "output_type": "execute_result"
    }
   ],
   "source": [
    "## Find how many classes exist in the target dataset:\n",
    "target_df['class'].unique()"
   ]
  },
  {
   "cell_type": "code",
   "execution_count": null,
   "metadata": {
    "colab": {
     "base_uri": "https://localhost:8080/"
    },
    "executionInfo": {
     "elapsed": 34,
     "status": "ok",
     "timestamp": 1663003183256,
     "user": {
      "displayName": "Abdelhady Sayed",
      "userId": "09542840263844765052"
     },
     "user_tz": -120
    },
    "id": "52qpGt9WUBMV",
    "outputId": "655b7982-5827-485a-f5f0-7c0dcfe61066",
    "scrolled": true
   },
   "outputs": [
    {
     "name": "stdout",
     "output_type": "stream",
     "text": [
      "(600, 1)\n",
      "(600, 5000)\n"
     ]
    }
   ],
   "source": [
    "## check how many rows & columns in your dataframes\n",
    "\n",
    "print(target_df.shape)\n",
    "print(traindata_df.shape)"
   ]
  },
  {
   "cell_type": "markdown",
   "metadata": {
    "id": "1fiBXwz8UBMW"
   },
   "source": [
    "> ## 3- Exploring your data"
   ]
  },
  {
   "cell_type": "code",
   "execution_count": null,
   "metadata": {
    "colab": {
     "base_uri": "https://localhost:8080/"
    },
    "executionInfo": {
     "elapsed": 29,
     "status": "ok",
     "timestamp": 1663003183257,
     "user": {
      "displayName": "Abdelhady Sayed",
      "userId": "09542840263844765052"
     },
     "user_tz": -120
    },
    "id": "ObtgLPJQUBMW",
    "outputId": "91576978-c2e5-4643-fe43-ce272d7843dd"
   },
   "outputs": [
    {
     "name": "stdout",
     "output_type": "stream",
     "text": [
      "<class 'pandas.core.frame.DataFrame'>\n",
      "Index: 600 entries, training_sample_1 to training_sample_600\n",
      "Columns: 5000 entries, gene_1 to gene_5000\n",
      "dtypes: float64(4927), int64(73)\n",
      "memory usage: 22.9+ MB\n"
     ]
    }
   ],
   "source": [
    "traindata_df.info()"
   ]
  },
  {
   "cell_type": "code",
   "execution_count": null,
   "metadata": {
    "colab": {
     "base_uri": "https://localhost:8080/",
     "height": 394
    },
    "executionInfo": {
     "elapsed": 9597,
     "status": "ok",
     "timestamp": 1663003192831,
     "user": {
      "displayName": "Abdelhady Sayed",
      "userId": "09542840263844765052"
     },
     "user_tz": -120
    },
    "id": "Kc8N8LZCUBMW",
    "outputId": "6ad25843-1219-4f2b-d5a8-f5608fd81fc8",
    "scrolled": true
   },
   "outputs": [
    {
     "data": {
      "text/html": [
       "\n",
       "  <div id=\"df-fce72a66-43f1-4a8b-9e31-073a8db786b1\">\n",
       "    <div class=\"colab-df-container\">\n",
       "      <div>\n",
       "<style scoped>\n",
       "    .dataframe tbody tr th:only-of-type {\n",
       "        vertical-align: middle;\n",
       "    }\n",
       "\n",
       "    .dataframe tbody tr th {\n",
       "        vertical-align: top;\n",
       "    }\n",
       "\n",
       "    .dataframe thead th {\n",
       "        text-align: right;\n",
       "    }\n",
       "</style>\n",
       "<table border=\"1\" class=\"dataframe\">\n",
       "  <thead>\n",
       "    <tr style=\"text-align: right;\">\n",
       "      <th></th>\n",
       "      <th>gene_1</th>\n",
       "      <th>gene_2</th>\n",
       "      <th>gene_3</th>\n",
       "      <th>gene_4</th>\n",
       "      <th>gene_5</th>\n",
       "      <th>gene_6</th>\n",
       "      <th>gene_7</th>\n",
       "      <th>gene_8</th>\n",
       "      <th>gene_9</th>\n",
       "      <th>gene_10</th>\n",
       "      <th>...</th>\n",
       "      <th>gene_4991</th>\n",
       "      <th>gene_4992</th>\n",
       "      <th>gene_4993</th>\n",
       "      <th>gene_4994</th>\n",
       "      <th>gene_4995</th>\n",
       "      <th>gene_4996</th>\n",
       "      <th>gene_4997</th>\n",
       "      <th>gene_4998</th>\n",
       "      <th>gene_4999</th>\n",
       "      <th>gene_5000</th>\n",
       "    </tr>\n",
       "  </thead>\n",
       "  <tbody>\n",
       "    <tr>\n",
       "      <th>count</th>\n",
       "      <td>65.000000</td>\n",
       "      <td>600.000000</td>\n",
       "      <td>355.000000</td>\n",
       "      <td>600.000000</td>\n",
       "      <td>549.000000</td>\n",
       "      <td>535.000000</td>\n",
       "      <td>600.000000</td>\n",
       "      <td>600.000000</td>\n",
       "      <td>479.000000</td>\n",
       "      <td>600.000000</td>\n",
       "      <td>...</td>\n",
       "      <td>600.000000</td>\n",
       "      <td>600.000000</td>\n",
       "      <td>600.000000</td>\n",
       "      <td>600.000000</td>\n",
       "      <td>600.000000</td>\n",
       "      <td>600.000000</td>\n",
       "      <td>600.000000</td>\n",
       "      <td>600.000000</td>\n",
       "      <td>600.000000</td>\n",
       "      <td>600.000000</td>\n",
       "    </tr>\n",
       "    <tr>\n",
       "      <th>mean</th>\n",
       "      <td>3.152797</td>\n",
       "      <td>10.189279</td>\n",
       "      <td>7.573543</td>\n",
       "      <td>9.721694</td>\n",
       "      <td>11.894184</td>\n",
       "      <td>9.165010</td>\n",
       "      <td>16.454019</td>\n",
       "      <td>15.517376</td>\n",
       "      <td>10.091952</td>\n",
       "      <td>4.970728</td>\n",
       "      <td>...</td>\n",
       "      <td>10.677761</td>\n",
       "      <td>535.746773</td>\n",
       "      <td>10.456841</td>\n",
       "      <td>892.414584</td>\n",
       "      <td>0.700338</td>\n",
       "      <td>13.850775</td>\n",
       "      <td>5.344296</td>\n",
       "      <td>0.199906</td>\n",
       "      <td>7.365950</td>\n",
       "      <td>10.802939</td>\n",
       "    </tr>\n",
       "    <tr>\n",
       "      <th>std</th>\n",
       "      <td>1.706884</td>\n",
       "      <td>1.230677</td>\n",
       "      <td>0.447046</td>\n",
       "      <td>5.292511</td>\n",
       "      <td>0.637183</td>\n",
       "      <td>0.547469</td>\n",
       "      <td>5.169813</td>\n",
       "      <td>5.067225</td>\n",
       "      <td>1.102212</td>\n",
       "      <td>4.203977</td>\n",
       "      <td>...</td>\n",
       "      <td>8.595839</td>\n",
       "      <td>5.635481</td>\n",
       "      <td>8.507882</td>\n",
       "      <td>8.727742</td>\n",
       "      <td>0.006962</td>\n",
       "      <td>4.898953</td>\n",
       "      <td>4.472732</td>\n",
       "      <td>0.001965</td>\n",
       "      <td>5.267644</td>\n",
       "      <td>9.050029</td>\n",
       "    </tr>\n",
       "    <tr>\n",
       "      <th>min</th>\n",
       "      <td>0.464355</td>\n",
       "      <td>7.872404</td>\n",
       "      <td>5.681137</td>\n",
       "      <td>0.000000</td>\n",
       "      <td>9.978353</td>\n",
       "      <td>6.059995</td>\n",
       "      <td>0.729162</td>\n",
       "      <td>1.190847</td>\n",
       "      <td>6.515872</td>\n",
       "      <td>0.000000</td>\n",
       "      <td>...</td>\n",
       "      <td>0.000000</td>\n",
       "      <td>517.617091</td>\n",
       "      <td>0.000000</td>\n",
       "      <td>870.190864</td>\n",
       "      <td>0.680851</td>\n",
       "      <td>0.000000</td>\n",
       "      <td>0.000000</td>\n",
       "      <td>0.194707</td>\n",
       "      <td>0.000000</td>\n",
       "      <td>0.000000</td>\n",
       "    </tr>\n",
       "    <tr>\n",
       "      <th>25%</th>\n",
       "      <td>2.040472</td>\n",
       "      <td>9.251098</td>\n",
       "      <td>7.288121</td>\n",
       "      <td>5.945803</td>\n",
       "      <td>11.444171</td>\n",
       "      <td>8.820331</td>\n",
       "      <td>12.719576</td>\n",
       "      <td>12.018328</td>\n",
       "      <td>9.409285</td>\n",
       "      <td>1.358236</td>\n",
       "      <td>...</td>\n",
       "      <td>3.470397</td>\n",
       "      <td>532.088173</td>\n",
       "      <td>2.761687</td>\n",
       "      <td>886.332338</td>\n",
       "      <td>0.695900</td>\n",
       "      <td>10.310382</td>\n",
       "      <td>1.234284</td>\n",
       "      <td>0.198563</td>\n",
       "      <td>3.129964</td>\n",
       "      <td>2.839298</td>\n",
       "    </tr>\n",
       "    <tr>\n",
       "      <th>50%</th>\n",
       "      <td>2.888052</td>\n",
       "      <td>9.925828</td>\n",
       "      <td>7.577429</td>\n",
       "      <td>9.911280</td>\n",
       "      <td>11.841879</td>\n",
       "      <td>9.103883</td>\n",
       "      <td>16.269931</td>\n",
       "      <td>15.398189</td>\n",
       "      <td>10.206660</td>\n",
       "      <td>4.436556</td>\n",
       "      <td>...</td>\n",
       "      <td>9.817944</td>\n",
       "      <td>535.804927</td>\n",
       "      <td>9.548563</td>\n",
       "      <td>892.188333</td>\n",
       "      <td>0.700002</td>\n",
       "      <td>13.843898</td>\n",
       "      <td>4.914802</td>\n",
       "      <td>0.199918</td>\n",
       "      <td>6.813815</td>\n",
       "      <td>9.657708</td>\n",
       "    </tr>\n",
       "    <tr>\n",
       "      <th>75%</th>\n",
       "      <td>3.933686</td>\n",
       "      <td>10.805914</td>\n",
       "      <td>7.861607</td>\n",
       "      <td>13.343368</td>\n",
       "      <td>12.333393</td>\n",
       "      <td>9.490411</td>\n",
       "      <td>19.755172</td>\n",
       "      <td>18.801191</td>\n",
       "      <td>10.847829</td>\n",
       "      <td>7.666387</td>\n",
       "      <td>...</td>\n",
       "      <td>16.025598</td>\n",
       "      <td>539.373662</td>\n",
       "      <td>16.693742</td>\n",
       "      <td>898.484287</td>\n",
       "      <td>0.704558</td>\n",
       "      <td>17.104707</td>\n",
       "      <td>8.293804</td>\n",
       "      <td>0.201168</td>\n",
       "      <td>11.052261</td>\n",
       "      <td>17.116483</td>\n",
       "    </tr>\n",
       "    <tr>\n",
       "      <th>max</th>\n",
       "      <td>9.791109</td>\n",
       "      <td>14.226224</td>\n",
       "      <td>8.966289</td>\n",
       "      <td>23.297873</td>\n",
       "      <td>13.594744</td>\n",
       "      <td>12.123206</td>\n",
       "      <td>33.373274</td>\n",
       "      <td>31.124723</td>\n",
       "      <td>13.421329</td>\n",
       "      <td>21.130483</td>\n",
       "      <td>...</td>\n",
       "      <td>36.553480</td>\n",
       "      <td>552.093988</td>\n",
       "      <td>35.351412</td>\n",
       "      <td>921.123495</td>\n",
       "      <td>0.724075</td>\n",
       "      <td>29.662142</td>\n",
       "      <td>19.769599</td>\n",
       "      <td>0.205377</td>\n",
       "      <td>23.512562</td>\n",
       "      <td>38.873169</td>\n",
       "    </tr>\n",
       "  </tbody>\n",
       "</table>\n",
       "<p>8 rows × 5000 columns</p>\n",
       "</div>\n",
       "      <button class=\"colab-df-convert\" onclick=\"convertToInteractive('df-fce72a66-43f1-4a8b-9e31-073a8db786b1')\"\n",
       "              title=\"Convert this dataframe to an interactive table.\"\n",
       "              style=\"display:none;\">\n",
       "        \n",
       "  <svg xmlns=\"http://www.w3.org/2000/svg\" height=\"24px\"viewBox=\"0 0 24 24\"\n",
       "       width=\"24px\">\n",
       "    <path d=\"M0 0h24v24H0V0z\" fill=\"none\"/>\n",
       "    <path d=\"M18.56 5.44l.94 2.06.94-2.06 2.06-.94-2.06-.94-.94-2.06-.94 2.06-2.06.94zm-11 1L8.5 8.5l.94-2.06 2.06-.94-2.06-.94L8.5 2.5l-.94 2.06-2.06.94zm10 10l.94 2.06.94-2.06 2.06-.94-2.06-.94-.94-2.06-.94 2.06-2.06.94z\"/><path d=\"M17.41 7.96l-1.37-1.37c-.4-.4-.92-.59-1.43-.59-.52 0-1.04.2-1.43.59L10.3 9.45l-7.72 7.72c-.78.78-.78 2.05 0 2.83L4 21.41c.39.39.9.59 1.41.59.51 0 1.02-.2 1.41-.59l7.78-7.78 2.81-2.81c.8-.78.8-2.07 0-2.86zM5.41 20L4 18.59l7.72-7.72 1.47 1.35L5.41 20z\"/>\n",
       "  </svg>\n",
       "      </button>\n",
       "      \n",
       "  <style>\n",
       "    .colab-df-container {\n",
       "      display:flex;\n",
       "      flex-wrap:wrap;\n",
       "      gap: 12px;\n",
       "    }\n",
       "\n",
       "    .colab-df-convert {\n",
       "      background-color: #E8F0FE;\n",
       "      border: none;\n",
       "      border-radius: 50%;\n",
       "      cursor: pointer;\n",
       "      display: none;\n",
       "      fill: #1967D2;\n",
       "      height: 32px;\n",
       "      padding: 0 0 0 0;\n",
       "      width: 32px;\n",
       "    }\n",
       "\n",
       "    .colab-df-convert:hover {\n",
       "      background-color: #E2EBFA;\n",
       "      box-shadow: 0px 1px 2px rgba(60, 64, 67, 0.3), 0px 1px 3px 1px rgba(60, 64, 67, 0.15);\n",
       "      fill: #174EA6;\n",
       "    }\n",
       "\n",
       "    [theme=dark] .colab-df-convert {\n",
       "      background-color: #3B4455;\n",
       "      fill: #D2E3FC;\n",
       "    }\n",
       "\n",
       "    [theme=dark] .colab-df-convert:hover {\n",
       "      background-color: #434B5C;\n",
       "      box-shadow: 0px 1px 3px 1px rgba(0, 0, 0, 0.15);\n",
       "      filter: drop-shadow(0px 1px 2px rgba(0, 0, 0, 0.3));\n",
       "      fill: #FFFFFF;\n",
       "    }\n",
       "  </style>\n",
       "\n",
       "      <script>\n",
       "        const buttonEl =\n",
       "          document.querySelector('#df-fce72a66-43f1-4a8b-9e31-073a8db786b1 button.colab-df-convert');\n",
       "        buttonEl.style.display =\n",
       "          google.colab.kernel.accessAllowed ? 'block' : 'none';\n",
       "\n",
       "        async function convertToInteractive(key) {\n",
       "          const element = document.querySelector('#df-fce72a66-43f1-4a8b-9e31-073a8db786b1');\n",
       "          const dataTable =\n",
       "            await google.colab.kernel.invokeFunction('convertToInteractive',\n",
       "                                                     [key], {});\n",
       "          if (!dataTable) return;\n",
       "\n",
       "          const docLinkHtml = 'Like what you see? Visit the ' +\n",
       "            '<a target=\"_blank\" href=https://colab.research.google.com/notebooks/data_table.ipynb>data table notebook</a>'\n",
       "            + ' to learn more about interactive tables.';\n",
       "          element.innerHTML = '';\n",
       "          dataTable['output_type'] = 'display_data';\n",
       "          await google.colab.output.renderOutput(dataTable, element);\n",
       "          const docLink = document.createElement('div');\n",
       "          docLink.innerHTML = docLinkHtml;\n",
       "          element.appendChild(docLink);\n",
       "        }\n",
       "      </script>\n",
       "    </div>\n",
       "  </div>\n",
       "  "
      ],
      "text/plain": [
       "          gene_1      gene_2      gene_3      gene_4      gene_5      gene_6  \\\n",
       "count  65.000000  600.000000  355.000000  600.000000  549.000000  535.000000   \n",
       "mean    3.152797   10.189279    7.573543    9.721694   11.894184    9.165010   \n",
       "std     1.706884    1.230677    0.447046    5.292511    0.637183    0.547469   \n",
       "min     0.464355    7.872404    5.681137    0.000000    9.978353    6.059995   \n",
       "25%     2.040472    9.251098    7.288121    5.945803   11.444171    8.820331   \n",
       "50%     2.888052    9.925828    7.577429    9.911280   11.841879    9.103883   \n",
       "75%     3.933686   10.805914    7.861607   13.343368   12.333393    9.490411   \n",
       "max     9.791109   14.226224    8.966289   23.297873   13.594744   12.123206   \n",
       "\n",
       "           gene_7      gene_8      gene_9     gene_10  ...   gene_4991  \\\n",
       "count  600.000000  600.000000  479.000000  600.000000  ...  600.000000   \n",
       "mean    16.454019   15.517376   10.091952    4.970728  ...   10.677761   \n",
       "std      5.169813    5.067225    1.102212    4.203977  ...    8.595839   \n",
       "min      0.729162    1.190847    6.515872    0.000000  ...    0.000000   \n",
       "25%     12.719576   12.018328    9.409285    1.358236  ...    3.470397   \n",
       "50%     16.269931   15.398189   10.206660    4.436556  ...    9.817944   \n",
       "75%     19.755172   18.801191   10.847829    7.666387  ...   16.025598   \n",
       "max     33.373274   31.124723   13.421329   21.130483  ...   36.553480   \n",
       "\n",
       "        gene_4992   gene_4993   gene_4994   gene_4995   gene_4996   gene_4997  \\\n",
       "count  600.000000  600.000000  600.000000  600.000000  600.000000  600.000000   \n",
       "mean   535.746773   10.456841  892.414584    0.700338   13.850775    5.344296   \n",
       "std      5.635481    8.507882    8.727742    0.006962    4.898953    4.472732   \n",
       "min    517.617091    0.000000  870.190864    0.680851    0.000000    0.000000   \n",
       "25%    532.088173    2.761687  886.332338    0.695900   10.310382    1.234284   \n",
       "50%    535.804927    9.548563  892.188333    0.700002   13.843898    4.914802   \n",
       "75%    539.373662   16.693742  898.484287    0.704558   17.104707    8.293804   \n",
       "max    552.093988   35.351412  921.123495    0.724075   29.662142   19.769599   \n",
       "\n",
       "        gene_4998   gene_4999   gene_5000  \n",
       "count  600.000000  600.000000  600.000000  \n",
       "mean     0.199906    7.365950   10.802939  \n",
       "std      0.001965    5.267644    9.050029  \n",
       "min      0.194707    0.000000    0.000000  \n",
       "25%      0.198563    3.129964    2.839298  \n",
       "50%      0.199918    6.813815    9.657708  \n",
       "75%      0.201168   11.052261   17.116483  \n",
       "max      0.205377   23.512562   38.873169  \n",
       "\n",
       "[8 rows x 5000 columns]"
      ]
     },
     "execution_count": 16,
     "metadata": {},
     "output_type": "execute_result"
    }
   ],
   "source": [
    "traindata_df.describe()"
   ]
  },
  {
   "cell_type": "markdown",
   "metadata": {
    "id": "ql5GQnT9S3-Z"
   },
   "source": [
    "> ## 4- Task 1: Preprocessing, Cleaning \n",
    "\n"
   ]
  },
  {
   "cell_type": "markdown",
   "metadata": {
    "id": "48Vw3DCbUBMX"
   },
   "source": [
    "#### 1- Check for all null columns & remove if any exists.\n",
    "#### 2- Check for all null rows & remove if any exists.\n",
    "#### 3- Check for existance of duplicate rows & remove if any exists.\n",
    "#### 4- Check for existance of duplicate columns & remove if any exists.\n",
    "#### 5- Check for existance of negative values.\n",
    "#### 6- Check for the existance of all zeros columns & remove if any exists.\n",
    "#### 7- Check for columns having nulls >= 25% of its elements & remove if any exists.\n",
    "#### 8- Split df with respect to class and check for <u> all nan </U> or <u> all zeros</u> in each class separately.\n",
    "#### 9- Drop fraction genes.\n",
    "#### 10- Handling outliers. \n",
    "#### 11- Data Imputation (replace missing values).\n",
    "#### 12- Check correlation between columns and remove highly correlated columns. \n",
    "#### 13-Dimensionality reduction.\n",
    "#### 14- Feature scaling."
   ]
  },
  {
   "cell_type": "markdown",
   "metadata": {
    "id": "rO7CMXeuUBMY"
   },
   "source": [
    "> ## Preprocessing steps: \n",
    "> #### 1- Check for all null columns & remove if any exists"
   ]
  },
  {
   "cell_type": "code",
   "execution_count": null,
   "metadata": {
    "colab": {
     "base_uri": "https://localhost:8080/"
    },
    "executionInfo": {
     "elapsed": 632,
     "status": "ok",
     "timestamp": 1663003193455,
     "user": {
      "displayName": "Abdelhady Sayed",
      "userId": "09542840263844765052"
     },
     "user_tz": -120
    },
    "id": "R7QTaoO5UBMY",
    "outputId": "695328bf-dc28-420d-df52-c17fcb4dbb61"
   },
   "outputs": [
    {
     "name": "stdout",
     "output_type": "stream",
     "text": [
      "500\n"
     ]
    }
   ],
   "source": [
    "## Calculate total number of columns that had null values \n",
    "Null_columns =[]\n",
    "for col in traindata_df.columns:\n",
    "    n = traindata_df[col].isnull().any()\n",
    "    if n == True:\n",
    "        Null_columns.append(col)\n",
    "print (len(Null_columns))        "
   ]
  },
  {
   "cell_type": "code",
   "execution_count": null,
   "metadata": {
    "colab": {
     "base_uri": "https://localhost:8080/"
    },
    "executionInfo": {
     "elapsed": 561,
     "status": "ok",
     "timestamp": 1663003194362,
     "user": {
      "displayName": "Abdelhady Sayed",
      "userId": "09542840263844765052"
     },
     "user_tz": -120
    },
    "id": "Zm96S2fxUBMZ",
    "outputId": "a43c4b43-251a-4a8f-8f25-6aa792ecdc03",
    "scrolled": true
   },
   "outputs": [
    {
     "name": "stdout",
     "output_type": "stream",
     "text": [
      "['gene_211', 'gene_251', 'gene_481', 'gene_544', 'gene_635', 'gene_811', 'gene_1027', 'gene_1113', 'gene_1173', 'gene_1430', 'gene_1646', 'gene_1662', 'gene_1690', 'gene_1691', 'gene_1700', 'gene_1740', 'gene_1887', 'gene_1937', 'gene_1939', 'gene_1965', 'gene_2168', 'gene_2207', 'gene_2246', 'gene_2272', 'gene_2374', 'gene_2400', 'gene_2835', 'gene_2999', 'gene_3080', 'gene_3164', 'gene_3376', 'gene_3399', 'gene_3495', 'gene_3654', 'gene_3829', 'gene_3925', 'gene_4009', 'gene_4054', 'gene_4123', 'gene_4127', 'gene_4139', 'gene_4338', 'gene_4351', 'gene_4528', 'gene_4534', 'gene_4641', 'gene_4659', 'gene_4801', 'gene_4805', 'gene_4868']\n",
      "50\n"
     ]
    }
   ],
   "source": [
    "## Find if there were genes (columns) having all it's elements as null values, and counting them:\n",
    "\n",
    "AllNull_genes = []\n",
    "for column in traindata_df.columns:\n",
    "    All_null = traindata_df[column].isnull().sum()\n",
    "    if All_null == 600:         ## This means that this gene has 600 null entries corresponding to the 600 samples\n",
    "        #print (column)\n",
    "        AllNull_genes.append(column)\n",
    "print(AllNull_genes)        \n",
    "print (len(AllNull_genes))\n",
    "        "
   ]
  },
  {
   "cell_type": "code",
   "execution_count": null,
   "metadata": {
    "id": "XD-x2cyjUBMZ",
    "scrolled": true
   },
   "outputs": [],
   "source": [
    "## Drop genes (columns) with all null (missing) elements\n",
    "No_AllNulls_df = traindata_df.dropna(axis=1, how='all')"
   ]
  },
  {
   "cell_type": "markdown",
   "metadata": {
    "id": "Gf6E5bVBUBMZ"
   },
   "source": [
    "### >>> 50 columns were found having all their elements as 'Nan' and were removed"
   ]
  },
  {
   "cell_type": "code",
   "execution_count": null,
   "metadata": {
    "colab": {
     "base_uri": "https://localhost:8080/"
    },
    "executionInfo": {
     "elapsed": 39,
     "status": "ok",
     "timestamp": 1663003194364,
     "user": {
      "displayName": "Abdelhady Sayed",
      "userId": "09542840263844765052"
     },
     "user_tz": -120
    },
    "id": "HVbBp5wYUBMa",
    "outputId": "074d7f17-56ff-45aa-a517-6543f818eb66",
    "scrolled": true
   },
   "outputs": [
    {
     "data": {
      "text/plain": [
       "(600, 4950)"
      ]
     },
     "execution_count": 20,
     "metadata": {},
     "output_type": "execute_result"
    }
   ],
   "source": [
    "No_AllNulls_df.shape"
   ]
  },
  {
   "cell_type": "markdown",
   "metadata": {
    "id": "ujwE3-JyUBMa"
   },
   "source": [
    "> ## Preprocessing steps: \n",
    "> #### 2- Check for all null rows & remove if any exists"
   ]
  },
  {
   "cell_type": "code",
   "execution_count": null,
   "metadata": {
    "colab": {
     "base_uri": "https://localhost:8080/"
    },
    "executionInfo": {
     "elapsed": 31,
     "status": "ok",
     "timestamp": 1663003194365,
     "user": {
      "displayName": "Abdelhady Sayed",
      "userId": "09542840263844765052"
     },
     "user_tz": -120
    },
    "id": "yugoflyzUBMa",
    "outputId": "dff779c4-7046-4859-cfe9-0d8c1b1c74eb"
   },
   "outputs": [
    {
     "data": {
      "text/plain": [
       "training_sample_1      227\n",
       "training_sample_2      218\n",
       "training_sample_3      230\n",
       "training_sample_4      229\n",
       "training_sample_5      227\n",
       "                      ... \n",
       "training_sample_596    208\n",
       "training_sample_597    240\n",
       "training_sample_598    246\n",
       "training_sample_599    225\n",
       "training_sample_600    221\n",
       "Length: 600, dtype: int64"
      ]
     },
     "execution_count": 21,
     "metadata": {},
     "output_type": "execute_result"
    }
   ],
   "source": [
    "# find out the number of null values in each row\n",
    "\n",
    "No_AllNulls_df.isnull().sum(axis=1)"
   ]
  },
  {
   "cell_type": "code",
   "execution_count": null,
   "metadata": {
    "colab": {
     "base_uri": "https://localhost:8080/"
    },
    "executionInfo": {
     "elapsed": 24,
     "status": "ok",
     "timestamp": 1663003194366,
     "user": {
      "displayName": "Abdelhady Sayed",
      "userId": "09542840263844765052"
     },
     "user_tz": -120
    },
    "id": "e89TUozkUBMa",
    "outputId": "d0dbbe2f-0521-4a5d-dc37-438c850fbc02"
   },
   "outputs": [
    {
     "name": "stdout",
     "output_type": "stream",
     "text": [
      "[]\n",
      "0\n"
     ]
    }
   ],
   "source": [
    "## Find if there were samples (rows) having all it's elements as null values and counting them:\n",
    "\n",
    "\n",
    "Samples = dict(No_AllNulls_df.isnull().sum(axis=1))\n",
    "Null_samples = []\n",
    "for key, value in Samples.items():\n",
    "    #print(key)\n",
    "    if value == 4950:\n",
    "        Null_samples.append(key)\n",
    "print(Null_samples)\n",
    "print(len(Null_samples))"
   ]
  },
  {
   "cell_type": "markdown",
   "metadata": {
    "id": "OurQqt5WUBMb"
   },
   "source": [
    "### >>>No rows having all its values as null"
   ]
  },
  {
   "cell_type": "markdown",
   "metadata": {
    "id": "ypd9qzs9UBMb"
   },
   "source": [
    "> ## Preprocessing steps: \n",
    "> #### 3- Check for existance of duplicate rows & remove if any exists"
   ]
  },
  {
   "cell_type": "code",
   "execution_count": null,
   "metadata": {
    "colab": {
     "base_uri": "https://localhost:8080/",
     "height": 488
    },
    "executionInfo": {
     "elapsed": 757,
     "status": "ok",
     "timestamp": 1663003195111,
     "user": {
      "displayName": "Abdelhady Sayed",
      "userId": "09542840263844765052"
     },
     "user_tz": -120
    },
    "id": "ya3mtUX5UBMb",
    "outputId": "798d1c89-2fb1-4982-d229-9c2367fc0006",
    "scrolled": false
   },
   "outputs": [
    {
     "data": {
      "text/html": [
       "\n",
       "  <div id=\"df-22f2c26b-d162-48ec-8416-fcdee2463798\">\n",
       "    <div class=\"colab-df-container\">\n",
       "      <div>\n",
       "<style scoped>\n",
       "    .dataframe tbody tr th:only-of-type {\n",
       "        vertical-align: middle;\n",
       "    }\n",
       "\n",
       "    .dataframe tbody tr th {\n",
       "        vertical-align: top;\n",
       "    }\n",
       "\n",
       "    .dataframe thead th {\n",
       "        text-align: right;\n",
       "    }\n",
       "</style>\n",
       "<table border=\"1\" class=\"dataframe\">\n",
       "  <thead>\n",
       "    <tr style=\"text-align: right;\">\n",
       "      <th></th>\n",
       "      <th>gene_1</th>\n",
       "      <th>gene_2</th>\n",
       "      <th>gene_3</th>\n",
       "      <th>gene_4</th>\n",
       "      <th>gene_5</th>\n",
       "      <th>gene_6</th>\n",
       "      <th>gene_7</th>\n",
       "      <th>gene_8</th>\n",
       "      <th>gene_9</th>\n",
       "      <th>gene_10</th>\n",
       "      <th>...</th>\n",
       "      <th>gene_4991</th>\n",
       "      <th>gene_4992</th>\n",
       "      <th>gene_4993</th>\n",
       "      <th>gene_4994</th>\n",
       "      <th>gene_4995</th>\n",
       "      <th>gene_4996</th>\n",
       "      <th>gene_4997</th>\n",
       "      <th>gene_4998</th>\n",
       "      <th>gene_4999</th>\n",
       "      <th>gene_5000</th>\n",
       "    </tr>\n",
       "  </thead>\n",
       "  <tbody>\n",
       "    <tr>\n",
       "      <th>training_sample_1</th>\n",
       "      <td>NaN</td>\n",
       "      <td>9.925867</td>\n",
       "      <td>NaN</td>\n",
       "      <td>12.435052</td>\n",
       "      <td>13.139116</td>\n",
       "      <td>NaN</td>\n",
       "      <td>12.489272</td>\n",
       "      <td>12.250712</td>\n",
       "      <td>NaN</td>\n",
       "      <td>1.738876</td>\n",
       "      <td>...</td>\n",
       "      <td>19.526312</td>\n",
       "      <td>536.803733</td>\n",
       "      <td>3.248414</td>\n",
       "      <td>896.454308</td>\n",
       "      <td>0.698281</td>\n",
       "      <td>21.489647</td>\n",
       "      <td>13.671497</td>\n",
       "      <td>0.201634</td>\n",
       "      <td>9.321085</td>\n",
       "      <td>14.926754</td>\n",
       "    </tr>\n",
       "    <tr>\n",
       "      <th>training_sample_2</th>\n",
       "      <td>NaN</td>\n",
       "      <td>9.884897</td>\n",
       "      <td>NaN</td>\n",
       "      <td>7.256017</td>\n",
       "      <td>11.139180</td>\n",
       "      <td>8.676973</td>\n",
       "      <td>20.061645</td>\n",
       "      <td>20.269381</td>\n",
       "      <td>11.017372</td>\n",
       "      <td>7.010246</td>\n",
       "      <td>...</td>\n",
       "      <td>3.750260</td>\n",
       "      <td>533.326221</td>\n",
       "      <td>0.000000</td>\n",
       "      <td>884.224032</td>\n",
       "      <td>0.687570</td>\n",
       "      <td>8.115166</td>\n",
       "      <td>10.320280</td>\n",
       "      <td>0.201912</td>\n",
       "      <td>0.000000</td>\n",
       "      <td>2.428608</td>\n",
       "    </tr>\n",
       "    <tr>\n",
       "      <th>training_sample_3</th>\n",
       "      <td>NaN</td>\n",
       "      <td>10.248710</td>\n",
       "      <td>NaN</td>\n",
       "      <td>0.000000</td>\n",
       "      <td>12.029570</td>\n",
       "      <td>8.475879</td>\n",
       "      <td>19.521164</td>\n",
       "      <td>16.750186</td>\n",
       "      <td>8.054995</td>\n",
       "      <td>6.631375</td>\n",
       "      <td>...</td>\n",
       "      <td>17.357102</td>\n",
       "      <td>543.495109</td>\n",
       "      <td>15.645198</td>\n",
       "      <td>889.211122</td>\n",
       "      <td>0.700385</td>\n",
       "      <td>2.638347</td>\n",
       "      <td>12.721622</td>\n",
       "      <td>0.197425</td>\n",
       "      <td>14.197878</td>\n",
       "      <td>25.394671</td>\n",
       "    </tr>\n",
       "    <tr>\n",
       "      <th>training_sample_4</th>\n",
       "      <td>NaN</td>\n",
       "      <td>8.904325</td>\n",
       "      <td>7.552800</td>\n",
       "      <td>11.993353</td>\n",
       "      <td>11.623817</td>\n",
       "      <td>NaN</td>\n",
       "      <td>8.247970</td>\n",
       "      <td>19.426093</td>\n",
       "      <td>10.649005</td>\n",
       "      <td>8.011230</td>\n",
       "      <td>...</td>\n",
       "      <td>7.179604</td>\n",
       "      <td>534.922800</td>\n",
       "      <td>0.000000</td>\n",
       "      <td>894.831646</td>\n",
       "      <td>0.697588</td>\n",
       "      <td>14.252328</td>\n",
       "      <td>3.851136</td>\n",
       "      <td>0.197684</td>\n",
       "      <td>0.000000</td>\n",
       "      <td>0.000000</td>\n",
       "    </tr>\n",
       "    <tr>\n",
       "      <th>training_sample_5</th>\n",
       "      <td>NaN</td>\n",
       "      <td>9.451238</td>\n",
       "      <td>NaN</td>\n",
       "      <td>15.285726</td>\n",
       "      <td>NaN</td>\n",
       "      <td>10.095199</td>\n",
       "      <td>8.741547</td>\n",
       "      <td>20.605480</td>\n",
       "      <td>8.522311</td>\n",
       "      <td>4.117062</td>\n",
       "      <td>...</td>\n",
       "      <td>5.626128</td>\n",
       "      <td>536.198137</td>\n",
       "      <td>13.496698</td>\n",
       "      <td>897.579300</td>\n",
       "      <td>0.699150</td>\n",
       "      <td>15.318108</td>\n",
       "      <td>6.933526</td>\n",
       "      <td>0.198892</td>\n",
       "      <td>9.026380</td>\n",
       "      <td>7.230355</td>\n",
       "    </tr>\n",
       "    <tr>\n",
       "      <th>...</th>\n",
       "      <td>...</td>\n",
       "      <td>...</td>\n",
       "      <td>...</td>\n",
       "      <td>...</td>\n",
       "      <td>...</td>\n",
       "      <td>...</td>\n",
       "      <td>...</td>\n",
       "      <td>...</td>\n",
       "      <td>...</td>\n",
       "      <td>...</td>\n",
       "      <td>...</td>\n",
       "      <td>...</td>\n",
       "      <td>...</td>\n",
       "      <td>...</td>\n",
       "      <td>...</td>\n",
       "      <td>...</td>\n",
       "      <td>...</td>\n",
       "      <td>...</td>\n",
       "      <td>...</td>\n",
       "      <td>...</td>\n",
       "      <td>...</td>\n",
       "    </tr>\n",
       "    <tr>\n",
       "      <th>training_sample_596</th>\n",
       "      <td>NaN</td>\n",
       "      <td>8.861974</td>\n",
       "      <td>NaN</td>\n",
       "      <td>9.397273</td>\n",
       "      <td>11.564793</td>\n",
       "      <td>8.820728</td>\n",
       "      <td>11.674931</td>\n",
       "      <td>9.406866</td>\n",
       "      <td>9.985671</td>\n",
       "      <td>2.834931</td>\n",
       "      <td>...</td>\n",
       "      <td>13.336770</td>\n",
       "      <td>540.863533</td>\n",
       "      <td>8.344888</td>\n",
       "      <td>906.672717</td>\n",
       "      <td>0.702944</td>\n",
       "      <td>15.237007</td>\n",
       "      <td>6.844675</td>\n",
       "      <td>0.202377</td>\n",
       "      <td>0.000000</td>\n",
       "      <td>13.774639</td>\n",
       "    </tr>\n",
       "    <tr>\n",
       "      <th>training_sample_597</th>\n",
       "      <td>NaN</td>\n",
       "      <td>10.994000</td>\n",
       "      <td>8.325467</td>\n",
       "      <td>12.342499</td>\n",
       "      <td>11.343963</td>\n",
       "      <td>9.807519</td>\n",
       "      <td>16.124035</td>\n",
       "      <td>17.220336</td>\n",
       "      <td>11.278072</td>\n",
       "      <td>2.267525</td>\n",
       "      <td>...</td>\n",
       "      <td>26.746630</td>\n",
       "      <td>541.228875</td>\n",
       "      <td>8.448715</td>\n",
       "      <td>905.461547</td>\n",
       "      <td>0.698434</td>\n",
       "      <td>23.170266</td>\n",
       "      <td>2.187069</td>\n",
       "      <td>0.199818</td>\n",
       "      <td>14.804905</td>\n",
       "      <td>13.084605</td>\n",
       "    </tr>\n",
       "    <tr>\n",
       "      <th>training_sample_598</th>\n",
       "      <td>NaN</td>\n",
       "      <td>10.514024</td>\n",
       "      <td>NaN</td>\n",
       "      <td>19.127077</td>\n",
       "      <td>11.320671</td>\n",
       "      <td>9.253337</td>\n",
       "      <td>16.879628</td>\n",
       "      <td>16.737419</td>\n",
       "      <td>9.478937</td>\n",
       "      <td>9.561510</td>\n",
       "      <td>...</td>\n",
       "      <td>10.666572</td>\n",
       "      <td>536.376705</td>\n",
       "      <td>3.930514</td>\n",
       "      <td>906.396194</td>\n",
       "      <td>0.695393</td>\n",
       "      <td>16.370510</td>\n",
       "      <td>0.000000</td>\n",
       "      <td>0.202296</td>\n",
       "      <td>2.672799</td>\n",
       "      <td>13.629431</td>\n",
       "    </tr>\n",
       "    <tr>\n",
       "      <th>training_sample_599</th>\n",
       "      <td>NaN</td>\n",
       "      <td>10.079445</td>\n",
       "      <td>7.556759</td>\n",
       "      <td>0.000000</td>\n",
       "      <td>NaN</td>\n",
       "      <td>9.587972</td>\n",
       "      <td>27.479704</td>\n",
       "      <td>18.452056</td>\n",
       "      <td>8.817224</td>\n",
       "      <td>4.766034</td>\n",
       "      <td>...</td>\n",
       "      <td>23.347500</td>\n",
       "      <td>545.280070</td>\n",
       "      <td>8.529575</td>\n",
       "      <td>896.256760</td>\n",
       "      <td>0.709460</td>\n",
       "      <td>11.336570</td>\n",
       "      <td>11.421827</td>\n",
       "      <td>0.201581</td>\n",
       "      <td>0.000000</td>\n",
       "      <td>11.019497</td>\n",
       "    </tr>\n",
       "    <tr>\n",
       "      <th>training_sample_600</th>\n",
       "      <td>1.895147</td>\n",
       "      <td>9.069979</td>\n",
       "      <td>7.590467</td>\n",
       "      <td>7.089150</td>\n",
       "      <td>12.812528</td>\n",
       "      <td>9.524630</td>\n",
       "      <td>19.807916</td>\n",
       "      <td>21.136285</td>\n",
       "      <td>8.784308</td>\n",
       "      <td>1.123519</td>\n",
       "      <td>...</td>\n",
       "      <td>6.486079</td>\n",
       "      <td>533.444194</td>\n",
       "      <td>7.405746</td>\n",
       "      <td>885.680891</td>\n",
       "      <td>0.710359</td>\n",
       "      <td>12.397815</td>\n",
       "      <td>0.000000</td>\n",
       "      <td>0.198190</td>\n",
       "      <td>14.589504</td>\n",
       "      <td>10.974162</td>\n",
       "    </tr>\n",
       "  </tbody>\n",
       "</table>\n",
       "<p>600 rows × 4950 columns</p>\n",
       "</div>\n",
       "      <button class=\"colab-df-convert\" onclick=\"convertToInteractive('df-22f2c26b-d162-48ec-8416-fcdee2463798')\"\n",
       "              title=\"Convert this dataframe to an interactive table.\"\n",
       "              style=\"display:none;\">\n",
       "        \n",
       "  <svg xmlns=\"http://www.w3.org/2000/svg\" height=\"24px\"viewBox=\"0 0 24 24\"\n",
       "       width=\"24px\">\n",
       "    <path d=\"M0 0h24v24H0V0z\" fill=\"none\"/>\n",
       "    <path d=\"M18.56 5.44l.94 2.06.94-2.06 2.06-.94-2.06-.94-.94-2.06-.94 2.06-2.06.94zm-11 1L8.5 8.5l.94-2.06 2.06-.94-2.06-.94L8.5 2.5l-.94 2.06-2.06.94zm10 10l.94 2.06.94-2.06 2.06-.94-2.06-.94-.94-2.06-.94 2.06-2.06.94z\"/><path d=\"M17.41 7.96l-1.37-1.37c-.4-.4-.92-.59-1.43-.59-.52 0-1.04.2-1.43.59L10.3 9.45l-7.72 7.72c-.78.78-.78 2.05 0 2.83L4 21.41c.39.39.9.59 1.41.59.51 0 1.02-.2 1.41-.59l7.78-7.78 2.81-2.81c.8-.78.8-2.07 0-2.86zM5.41 20L4 18.59l7.72-7.72 1.47 1.35L5.41 20z\"/>\n",
       "  </svg>\n",
       "      </button>\n",
       "      \n",
       "  <style>\n",
       "    .colab-df-container {\n",
       "      display:flex;\n",
       "      flex-wrap:wrap;\n",
       "      gap: 12px;\n",
       "    }\n",
       "\n",
       "    .colab-df-convert {\n",
       "      background-color: #E8F0FE;\n",
       "      border: none;\n",
       "      border-radius: 50%;\n",
       "      cursor: pointer;\n",
       "      display: none;\n",
       "      fill: #1967D2;\n",
       "      height: 32px;\n",
       "      padding: 0 0 0 0;\n",
       "      width: 32px;\n",
       "    }\n",
       "\n",
       "    .colab-df-convert:hover {\n",
       "      background-color: #E2EBFA;\n",
       "      box-shadow: 0px 1px 2px rgba(60, 64, 67, 0.3), 0px 1px 3px 1px rgba(60, 64, 67, 0.15);\n",
       "      fill: #174EA6;\n",
       "    }\n",
       "\n",
       "    [theme=dark] .colab-df-convert {\n",
       "      background-color: #3B4455;\n",
       "      fill: #D2E3FC;\n",
       "    }\n",
       "\n",
       "    [theme=dark] .colab-df-convert:hover {\n",
       "      background-color: #434B5C;\n",
       "      box-shadow: 0px 1px 3px 1px rgba(0, 0, 0, 0.15);\n",
       "      filter: drop-shadow(0px 1px 2px rgba(0, 0, 0, 0.3));\n",
       "      fill: #FFFFFF;\n",
       "    }\n",
       "  </style>\n",
       "\n",
       "      <script>\n",
       "        const buttonEl =\n",
       "          document.querySelector('#df-22f2c26b-d162-48ec-8416-fcdee2463798 button.colab-df-convert');\n",
       "        buttonEl.style.display =\n",
       "          google.colab.kernel.accessAllowed ? 'block' : 'none';\n",
       "\n",
       "        async function convertToInteractive(key) {\n",
       "          const element = document.querySelector('#df-22f2c26b-d162-48ec-8416-fcdee2463798');\n",
       "          const dataTable =\n",
       "            await google.colab.kernel.invokeFunction('convertToInteractive',\n",
       "                                                     [key], {});\n",
       "          if (!dataTable) return;\n",
       "\n",
       "          const docLinkHtml = 'Like what you see? Visit the ' +\n",
       "            '<a target=\"_blank\" href=https://colab.research.google.com/notebooks/data_table.ipynb>data table notebook</a>'\n",
       "            + ' to learn more about interactive tables.';\n",
       "          element.innerHTML = '';\n",
       "          dataTable['output_type'] = 'display_data';\n",
       "          await google.colab.output.renderOutput(dataTable, element);\n",
       "          const docLink = document.createElement('div');\n",
       "          docLink.innerHTML = docLinkHtml;\n",
       "          element.appendChild(docLink);\n",
       "        }\n",
       "      </script>\n",
       "    </div>\n",
       "  </div>\n",
       "  "
      ],
      "text/plain": [
       "                       gene_1     gene_2    gene_3     gene_4     gene_5  \\\n",
       "training_sample_1         NaN   9.925867       NaN  12.435052  13.139116   \n",
       "training_sample_2         NaN   9.884897       NaN   7.256017  11.139180   \n",
       "training_sample_3         NaN  10.248710       NaN   0.000000  12.029570   \n",
       "training_sample_4         NaN   8.904325  7.552800  11.993353  11.623817   \n",
       "training_sample_5         NaN   9.451238       NaN  15.285726        NaN   \n",
       "...                       ...        ...       ...        ...        ...   \n",
       "training_sample_596       NaN   8.861974       NaN   9.397273  11.564793   \n",
       "training_sample_597       NaN  10.994000  8.325467  12.342499  11.343963   \n",
       "training_sample_598       NaN  10.514024       NaN  19.127077  11.320671   \n",
       "training_sample_599       NaN  10.079445  7.556759   0.000000        NaN   \n",
       "training_sample_600  1.895147   9.069979  7.590467   7.089150  12.812528   \n",
       "\n",
       "                        gene_6     gene_7     gene_8     gene_9   gene_10  \\\n",
       "training_sample_1          NaN  12.489272  12.250712        NaN  1.738876   \n",
       "training_sample_2     8.676973  20.061645  20.269381  11.017372  7.010246   \n",
       "training_sample_3     8.475879  19.521164  16.750186   8.054995  6.631375   \n",
       "training_sample_4          NaN   8.247970  19.426093  10.649005  8.011230   \n",
       "training_sample_5    10.095199   8.741547  20.605480   8.522311  4.117062   \n",
       "...                        ...        ...        ...        ...       ...   \n",
       "training_sample_596   8.820728  11.674931   9.406866   9.985671  2.834931   \n",
       "training_sample_597   9.807519  16.124035  17.220336  11.278072  2.267525   \n",
       "training_sample_598   9.253337  16.879628  16.737419   9.478937  9.561510   \n",
       "training_sample_599   9.587972  27.479704  18.452056   8.817224  4.766034   \n",
       "training_sample_600   9.524630  19.807916  21.136285   8.784308  1.123519   \n",
       "\n",
       "                     ...  gene_4991   gene_4992  gene_4993   gene_4994  \\\n",
       "training_sample_1    ...  19.526312  536.803733   3.248414  896.454308   \n",
       "training_sample_2    ...   3.750260  533.326221   0.000000  884.224032   \n",
       "training_sample_3    ...  17.357102  543.495109  15.645198  889.211122   \n",
       "training_sample_4    ...   7.179604  534.922800   0.000000  894.831646   \n",
       "training_sample_5    ...   5.626128  536.198137  13.496698  897.579300   \n",
       "...                  ...        ...         ...        ...         ...   \n",
       "training_sample_596  ...  13.336770  540.863533   8.344888  906.672717   \n",
       "training_sample_597  ...  26.746630  541.228875   8.448715  905.461547   \n",
       "training_sample_598  ...  10.666572  536.376705   3.930514  906.396194   \n",
       "training_sample_599  ...  23.347500  545.280070   8.529575  896.256760   \n",
       "training_sample_600  ...   6.486079  533.444194   7.405746  885.680891   \n",
       "\n",
       "                     gene_4995  gene_4996  gene_4997  gene_4998  gene_4999  \\\n",
       "training_sample_1     0.698281  21.489647  13.671497   0.201634   9.321085   \n",
       "training_sample_2     0.687570   8.115166  10.320280   0.201912   0.000000   \n",
       "training_sample_3     0.700385   2.638347  12.721622   0.197425  14.197878   \n",
       "training_sample_4     0.697588  14.252328   3.851136   0.197684   0.000000   \n",
       "training_sample_5     0.699150  15.318108   6.933526   0.198892   9.026380   \n",
       "...                        ...        ...        ...        ...        ...   \n",
       "training_sample_596   0.702944  15.237007   6.844675   0.202377   0.000000   \n",
       "training_sample_597   0.698434  23.170266   2.187069   0.199818  14.804905   \n",
       "training_sample_598   0.695393  16.370510   0.000000   0.202296   2.672799   \n",
       "training_sample_599   0.709460  11.336570  11.421827   0.201581   0.000000   \n",
       "training_sample_600   0.710359  12.397815   0.000000   0.198190  14.589504   \n",
       "\n",
       "                     gene_5000  \n",
       "training_sample_1    14.926754  \n",
       "training_sample_2     2.428608  \n",
       "training_sample_3    25.394671  \n",
       "training_sample_4     0.000000  \n",
       "training_sample_5     7.230355  \n",
       "...                        ...  \n",
       "training_sample_596  13.774639  \n",
       "training_sample_597  13.084605  \n",
       "training_sample_598  13.629431  \n",
       "training_sample_599  11.019497  \n",
       "training_sample_600  10.974162  \n",
       "\n",
       "[600 rows x 4950 columns]"
      ]
     },
     "execution_count": 23,
     "metadata": {},
     "output_type": "execute_result"
    }
   ],
   "source": [
    "## To check if there is any duplicate row:\n",
    "\n",
    "No_AllNulls_df.drop_duplicates()"
   ]
  },
  {
   "cell_type": "markdown",
   "metadata": {
    "id": "CxAUj0v_UBMb"
   },
   "source": [
    "### >>> No duplicate rows found"
   ]
  },
  {
   "cell_type": "markdown",
   "metadata": {
    "id": "33JNI2BLUBMc"
   },
   "source": [
    "> ## Preprocessing steps: \n",
    "> #### 4- Check for existance of duplicate columns & remove if any exists"
   ]
  },
  {
   "cell_type": "code",
   "execution_count": null,
   "metadata": {
    "colab": {
     "base_uri": "https://localhost:8080/"
    },
    "executionInfo": {
     "elapsed": 835,
     "status": "ok",
     "timestamp": 1663003195940,
     "user": {
      "displayName": "Abdelhady Sayed",
      "userId": "09542840263844765052"
     },
     "user_tz": -120
    },
    "id": "MWmvVfqgUBMc",
    "outputId": "1c23c606-dc7f-49c7-fc1a-1e797e93fd73"
   },
   "outputs": [
    {
     "data": {
      "text/plain": [
       "(600, 4878)"
      ]
     },
     "execution_count": 24,
     "metadata": {},
     "output_type": "execute_result"
    }
   ],
   "source": [
    "NoDuplicate_col_df = No_AllNulls_df.T.drop_duplicates().T\n",
    "NoDuplicate_col_df.shape"
   ]
  },
  {
   "cell_type": "markdown",
   "metadata": {
    "id": "CTamRbSfUBMc"
   },
   "source": [
    "### >>>  72 duplicate columns were found and removed"
   ]
  },
  {
   "cell_type": "markdown",
   "metadata": {
    "id": "s2mgZqy0UBMc"
   },
   "source": [
    "> ## Preprocessing steps: \n",
    "> #### 5- check for the existance of negative values"
   ]
  },
  {
   "cell_type": "code",
   "execution_count": null,
   "metadata": {
    "colab": {
     "base_uri": "https://localhost:8080/"
    },
    "executionInfo": {
     "elapsed": 9,
     "status": "ok",
     "timestamp": 1663003195941,
     "user": {
      "displayName": "Abdelhady Sayed",
      "userId": "09542840263844765052"
     },
     "user_tz": -120
    },
    "id": "igk65IV8UBMd",
    "outputId": "e711114e-14f6-42aa-ba47-cf6a3adb3d47"
   },
   "outputs": [
    {
     "data": {
      "text/plain": [
       "False"
      ]
     },
     "execution_count": 25,
     "metadata": {},
     "output_type": "execute_result"
    }
   ],
   "source": [
    "## To check if there is any faulty entry that has negative values\n",
    "\n",
    "(NoDuplicate_col_df<0).any().any()"
   ]
  },
  {
   "cell_type": "markdown",
   "metadata": {
    "id": "KXe7H8vWUBMd"
   },
   "source": [
    "### >>> No negative values found"
   ]
  },
  {
   "cell_type": "markdown",
   "metadata": {
    "id": "7APy2v1WUBMd"
   },
   "source": [
    "> ## Preprocessing steps: \n",
    "> #### 6- Check for the existance of all zeros columns & remove if any exists"
   ]
  },
  {
   "cell_type": "code",
   "execution_count": null,
   "metadata": {
    "colab": {
     "base_uri": "https://localhost:8080/"
    },
    "executionInfo": {
     "elapsed": 642,
     "status": "ok",
     "timestamp": 1663003196579,
     "user": {
      "displayName": "Abdelhady Sayed",
      "userId": "09542840263844765052"
     },
     "user_tz": -120
    },
    "id": "OAuFRRnmUBMd",
    "outputId": "1089e961-bae4-4658-a330-5f55cde17c15",
    "scrolled": false
   },
   "outputs": [
    {
     "name": "stdout",
     "output_type": "stream",
     "text": [
      "['gene_17', 'gene_3878']\n",
      "2\n"
     ]
    }
   ],
   "source": [
    "# Searching for genes withh all zeros elements\n",
    "# Find range of each gene to detect if there are zero ranges which means genes having all its values as ZERO\n",
    "\n",
    "\n",
    "zero_genes = []      ## Genes all its values are zeros i.e. these genes are not expressed in any of the classes \n",
    "for col in NoDuplicate_col_df.columns:\n",
    "    col_max = max(NoDuplicate_col_df[col])\n",
    "    col_min = min (NoDuplicate_col_df[col])\n",
    "    col_range = col_max - col_min\n",
    "    if col_range == 0:\n",
    "        zero_genes.append(col)\n",
    "print(zero_genes)\n",
    "print(len(zero_genes))"
   ]
  },
  {
   "cell_type": "code",
   "execution_count": null,
   "metadata": {
    "id": "U_stzba1UBMe"
   },
   "outputs": [],
   "source": [
    "## Remove genes that has all its values as 'Zeros':\n",
    "\n",
    "No_AllZeros_df = NoDuplicate_col_df.drop(columns=zero_genes)\n"
   ]
  },
  {
   "cell_type": "code",
   "execution_count": null,
   "metadata": {
    "colab": {
     "base_uri": "https://localhost:8080/"
    },
    "executionInfo": {
     "elapsed": 20,
     "status": "ok",
     "timestamp": 1663003196581,
     "user": {
      "displayName": "Abdelhady Sayed",
      "userId": "09542840263844765052"
     },
     "user_tz": -120
    },
    "id": "rfeW8OexUBMe",
    "outputId": "b24d601d-6144-46a0-bdae-4d2565352a8d",
    "scrolled": false
   },
   "outputs": [
    {
     "data": {
      "text/plain": [
       "0.0    600\n",
       "Name: gene_17, dtype: int64"
      ]
     },
     "execution_count": 28,
     "metadata": {},
     "output_type": "execute_result"
    }
   ],
   "source": [
    "## Double check that the above genes really had all elements as zeros:\n",
    "NoDuplicate_col_df['gene_17'].value_counts()"
   ]
  },
  {
   "cell_type": "markdown",
   "metadata": {
    "id": "aJ0arM4BUBMe"
   },
   "source": [
    "### >>> 2 columns were found having all their elements as zeros and were removed"
   ]
  },
  {
   "cell_type": "code",
   "execution_count": null,
   "metadata": {
    "colab": {
     "base_uri": "https://localhost:8080/"
    },
    "executionInfo": {
     "elapsed": 16,
     "status": "ok",
     "timestamp": 1663003196581,
     "user": {
      "displayName": "Abdelhady Sayed",
      "userId": "09542840263844765052"
     },
     "user_tz": -120
    },
    "id": "v8VCZYP6UBMe",
    "outputId": "dc870fe8-b667-46e2-df06-a2a737725c3a",
    "scrolled": false
   },
   "outputs": [
    {
     "data": {
      "text/plain": [
       "(600, 4876)"
      ]
     },
     "execution_count": 29,
     "metadata": {},
     "output_type": "execute_result"
    }
   ],
   "source": [
    "No_AllZeros_df.shape"
   ]
  },
  {
   "cell_type": "markdown",
   "metadata": {
    "id": "JntRB3XLUBMe"
   },
   "source": [
    "> ## Preprocessing steps:\n",
    "> #### 7- Check for columns having nulls >= 25% of its data & remove if any exists\n",
    "> ##### N.B. This step is highly subjective and no concrete universal guidelines were found for this. "
   ]
  },
  {
   "cell_type": "code",
   "execution_count": null,
   "metadata": {
    "colab": {
     "base_uri": "https://localhost:8080/"
    },
    "executionInfo": {
     "elapsed": 12,
     "status": "ok",
     "timestamp": 1663003196582,
     "user": {
      "displayName": "Abdelhady Sayed",
      "userId": "09542840263844765052"
     },
     "user_tz": -120
    },
    "id": "n76pdRkwUBMf",
    "outputId": "d3f3d1b9-d86e-489e-b359-3f56dc1a33bc",
    "scrolled": false
   },
   "outputs": [
    {
     "name": "stdout",
     "output_type": "stream",
     "text": [
      "max.no. of null values in genes is=  549 out of 600\n",
      "max. percentage of null values in genes is=  91.5 %\n"
     ]
    }
   ],
   "source": [
    "print('max.no. of null values in genes is= ',max(No_AllZeros_df.isnull().sum()), 'out of 600')\n",
    "print('max. percentage of null values in genes is= ',max(No_AllZeros_df.isnull().sum())/600*100 ,'%')\n"
   ]
  },
  {
   "cell_type": "code",
   "execution_count": null,
   "metadata": {
    "colab": {
     "base_uri": "https://localhost:8080/"
    },
    "executionInfo": {
     "elapsed": 1343,
     "status": "ok",
     "timestamp": 1663003197918,
     "user": {
      "displayName": "Abdelhady Sayed",
      "userId": "09542840263844765052"
     },
     "user_tz": -120
    },
    "id": "gglsKaOmUBMf",
    "outputId": "c1c9e5a0-8b85-4577-e1ea-4db560a4b6d1",
    "scrolled": false
   },
   "outputs": [
    {
     "name": "stdout",
     "output_type": "stream",
     "text": [
      "350\n"
     ]
    }
   ],
   "source": [
    "## Genes having null values >= 25%:\n",
    "## Making a list with these gene names and counting them.\n",
    "\n",
    "genes_with_25Per_nulls = []\n",
    "for column in No_AllZeros_df.columns:\n",
    "    with_null = No_AllZeros_df[column].isnull().sum()\n",
    "    if with_null >= 150:         ## This means that this gene has a number of null values >= 75 %\n",
    "        #print (column)\n",
    "        genes_with_25Per_nulls.append(column)\n",
    "#print(genes_with_25Per_nulls)        \n",
    "print (len(genes_with_25Per_nulls))"
   ]
  },
  {
   "cell_type": "code",
   "execution_count": null,
   "metadata": {
    "id": "-dCwjPejUBMf"
   },
   "outputs": [],
   "source": [
    "NoMore_than25per_NA_df= No_AllZeros_df.drop(columns=genes_with_25Per_nulls,axis=1)"
   ]
  },
  {
   "cell_type": "code",
   "execution_count": null,
   "metadata": {
    "colab": {
     "base_uri": "https://localhost:8080/"
    },
    "executionInfo": {
     "elapsed": 27,
     "status": "ok",
     "timestamp": 1663003197919,
     "user": {
      "displayName": "Abdelhady Sayed",
      "userId": "09542840263844765052"
     },
     "user_tz": -120
    },
    "id": "pll-GpMuUBMf",
    "outputId": "05f8d8f8-1bf5-4bb7-f92c-e99833a6997c"
   },
   "outputs": [
    {
     "data": {
      "text/plain": [
       "(600, 4526)"
      ]
     },
     "execution_count": 33,
     "metadata": {},
     "output_type": "execute_result"
    }
   ],
   "source": [
    "NoMore_than25per_NA_df.shape"
   ]
  },
  {
   "cell_type": "code",
   "execution_count": null,
   "metadata": {
    "colab": {
     "base_uri": "https://localhost:8080/"
    },
    "executionInfo": {
     "elapsed": 25,
     "status": "ok",
     "timestamp": 1663003197921,
     "user": {
      "displayName": "Abdelhady Sayed",
      "userId": "09542840263844765052"
     },
     "user_tz": -120
    },
    "id": "tk-3emcmUBMg",
    "outputId": "a1b26220-78ba-4e83-9283-604ac9c7e7ff",
    "scrolled": false
   },
   "outputs": [
    {
     "name": "stdout",
     "output_type": "stream",
     "text": [
      "0\n",
      "131\n"
     ]
    }
   ],
   "source": [
    "## Finding the minimum and maximum number of null values among different columns (genes)\n",
    " \n",
    "print(min(NoMore_than25per_NA_df.isnull().sum()))\n",
    "print(max(NoMore_than25per_NA_df.isnull().sum()))"
   ]
  },
  {
   "cell_type": "markdown",
   "metadata": {
    "id": "_Br8F5A7UBMg"
   },
   "source": [
    "## At this point we removed a total of:\n",
    "#### 50(all null col) + 72(duplicate col) + 2(all zeros col) + 350 (>=25% of gene elements null) = 474 columns out of 5000 columns \n",
    "#### so our dataframe now had 600 rows and 4526 columns"
   ]
  },
  {
   "cell_type": "markdown",
   "metadata": {
    "id": "lRNA-xQEUBMg"
   },
   "source": [
    "#####  Since there still is/are column(s) with a maximum of 131 out of 600 null values we want to check if all of these null values are associated with a specific class so we will divide our 'NoMore_than25per_NA_df' dataframe into two, 'df0' for those with '0' class and the 'df1' for those with '1' class to check them separately for the existance of  genes with all Nan values, and if any exists the whole gene will be removed from the'NoMore_than25per_NA_df' dataframe, because this will affect the training process and cauze bias"
   ]
  },
  {
   "cell_type": "markdown",
   "metadata": {
    "id": "n14lJJsdUBMg"
   },
   "source": [
    "> ## Preprocessing steps:\n",
    "> #### 8- Split df with respect to class and check for <u> all nan </U> or <u> all zeros</u> in each class\n"
   ]
  },
  {
   "cell_type": "code",
   "execution_count": null,
   "metadata": {
    "colab": {
     "base_uri": "https://localhost:8080/"
    },
    "executionInfo": {
     "elapsed": 18,
     "status": "ok",
     "timestamp": 1663003197921,
     "user": {
      "displayName": "Abdelhady Sayed",
      "userId": "09542840263844765052"
     },
     "user_tz": -120
    },
    "id": "Pyv9D_qRUBMh",
    "outputId": "154dac4e-757a-4b4f-cdf9-7a291656778e"
   },
   "outputs": [
    {
     "data": {
      "text/plain": [
       "(600, 4527)"
      ]
     },
     "execution_count": 35,
     "metadata": {},
     "output_type": "execute_result"
    }
   ],
   "source": [
    "# combine the target_df to the NoMore_than75per_NA_df:\n",
    "\n",
    "combined_df = pd.concat([NoMore_than25per_NA_df,target_df],axis=1)\n",
    "combined_df.shape"
   ]
  },
  {
   "cell_type": "code",
   "execution_count": null,
   "metadata": {
    "id": "4-pdQBfYUBMh"
   },
   "outputs": [],
   "source": [
    "## Split the dataset into two one for those with '0' class and one for those with '1' class\n",
    "\n",
    "df0 = combined_df[combined_df['class'] == 0]\n",
    "df1 = combined_df[combined_df['class'] == 1]\n"
   ]
  },
  {
   "cell_type": "code",
   "execution_count": null,
   "metadata": {
    "colab": {
     "base_uri": "https://localhost:8080/"
    },
    "executionInfo": {
     "elapsed": 15,
     "status": "ok",
     "timestamp": 1663003197922,
     "user": {
      "displayName": "Abdelhady Sayed",
      "userId": "09542840263844765052"
     },
     "user_tz": -120
    },
    "id": "z2Bn6N6KUBMh",
    "outputId": "28505f4d-d01d-4d3f-ef37-daaed8631415",
    "scrolled": true
   },
   "outputs": [
    {
     "name": "stdout",
     "output_type": "stream",
     "text": [
      "(375, 4527)\n",
      "(225, 4527)\n"
     ]
    }
   ],
   "source": [
    "print (df0.shape)\n",
    "print (df1.shape)"
   ]
  },
  {
   "cell_type": "code",
   "execution_count": null,
   "metadata": {
    "colab": {
     "base_uri": "https://localhost:8080/"
    },
    "executionInfo": {
     "elapsed": 1087,
     "status": "ok",
     "timestamp": 1663003198998,
     "user": {
      "displayName": "Abdelhady Sayed",
      "userId": "09542840263844765052"
     },
     "user_tz": -120
    },
    "id": "o60EUInVUBMi",
    "outputId": "64345a29-d83a-4464-999f-9b697a9ece33"
   },
   "outputs": [
    {
     "name": "stdout",
     "output_type": "stream",
     "text": [
      "[]\n",
      "0\n"
     ]
    }
   ],
   "source": [
    "## Find if there were genes (columns) having all it's elements as null values in the df0 dataframe:\n",
    "\n",
    "df0_Null_genes = []\n",
    "for column in df0.columns:\n",
    "    All_null = df0[column].isnull().sum()\n",
    "    if All_null == 375:  ## if True this means that this gene has 375 null entries corresponding to the 375 samples\n",
    "        #print (column)\n",
    "        df0_Null_genes.append(column)\n",
    "print(df0_Null_genes)        \n",
    "print (len(df0_Null_genes))\n",
    "        "
   ]
  },
  {
   "cell_type": "code",
   "execution_count": null,
   "metadata": {
    "colab": {
     "base_uri": "https://localhost:8080/"
    },
    "executionInfo": {
     "elapsed": 9,
     "status": "ok",
     "timestamp": 1663003198999,
     "user": {
      "displayName": "Abdelhady Sayed",
      "userId": "09542840263844765052"
     },
     "user_tz": -120
    },
    "id": "b0UqJVniUBMi",
    "outputId": "a68803ba-9ccc-4607-e572-9eeb59c79eb4"
   },
   "outputs": [
    {
     "name": "stdout",
     "output_type": "stream",
     "text": [
      "0\n",
      "85\n"
     ]
    }
   ],
   "source": [
    "## Double check to see that the maximum number of nulls in any of the columns in df0 is less than 375:\n",
    "\n",
    "print(min(df0.isnull().sum()))\n",
    "print(max(df0.isnull().sum()))"
   ]
  },
  {
   "cell_type": "code",
   "execution_count": null,
   "metadata": {
    "colab": {
     "base_uri": "https://localhost:8080/"
    },
    "executionInfo": {
     "elapsed": 959,
     "status": "ok",
     "timestamp": 1663003200282,
     "user": {
      "displayName": "Abdelhady Sayed",
      "userId": "09542840263844765052"
     },
     "user_tz": -120
    },
    "id": "w21gZ-WUUBMi",
    "outputId": "b899295c-af2d-480d-cecf-6482bad84656",
    "scrolled": true
   },
   "outputs": [
    {
     "name": "stdout",
     "output_type": "stream",
     "text": [
      "[]\n",
      "0\n"
     ]
    }
   ],
   "source": [
    "## Find if there were genes (columns) having all it's elements as null values in the df1 dataframe:\n",
    "\n",
    "df1_Null_genes = []\n",
    "for column in df1.columns:\n",
    "    All_null = df1[column].isnull().sum()\n",
    "    if All_null == 225:  ## if True this means that this gene has 225 null entries corresponding to the 225 samples\n",
    "        #print (column)\n",
    "        df1_Null_genes.append(column)\n",
    "print(df1_Null_genes)        \n",
    "print (len(df1_Null_genes))\n",
    "        "
   ]
  },
  {
   "cell_type": "code",
   "execution_count": null,
   "metadata": {
    "colab": {
     "base_uri": "https://localhost:8080/"
    },
    "executionInfo": {
     "elapsed": 12,
     "status": "ok",
     "timestamp": 1663003200283,
     "user": {
      "displayName": "Abdelhady Sayed",
      "userId": "09542840263844765052"
     },
     "user_tz": -120
    },
    "id": "17R35GqTUBMi",
    "outputId": "c78b667a-2f5e-4355-d4b2-726750371fe7",
    "scrolled": true
   },
   "outputs": [
    {
     "name": "stdout",
     "output_type": "stream",
     "text": [
      "0\n",
      "58\n"
     ]
    }
   ],
   "source": [
    "## Double check to see that the maximum number of nulls in any of the columns in df1 is less than 225:\n",
    "\n",
    "print(min(df1.isnull().sum()))\n",
    "print(max(df1.isnull().sum()))"
   ]
  },
  {
   "cell_type": "markdown",
   "metadata": {
    "id": "7WYNLKywUBMj"
   },
   "source": [
    "### Conclusion:  No all Nan columns found in any of the dataframes 'df0' nor 'df1' "
   ]
  },
  {
   "cell_type": "code",
   "execution_count": null,
   "metadata": {
    "id": "a8NahMmfUBMj"
   },
   "outputs": [],
   "source": [
    "## Making copies of the two dataframes df0 & df1 but without the 'class' column:\n",
    "df0_copy = df0.iloc[:, :-1]\n",
    "df1_copy = df1.iloc[:, :-1]"
   ]
  },
  {
   "cell_type": "code",
   "execution_count": null,
   "metadata": {
    "colab": {
     "base_uri": "https://localhost:8080/"
    },
    "executionInfo": {
     "elapsed": 512,
     "status": "ok",
     "timestamp": 1663003200789,
     "user": {
      "displayName": "Abdelhady Sayed",
      "userId": "09542840263844765052"
     },
     "user_tz": -120
    },
    "id": "KdYIrA_wUBMj",
    "outputId": "4927508a-17d0-47d6-b3d5-fbded74379ed"
   },
   "outputs": [
    {
     "name": "stdout",
     "output_type": "stream",
     "text": [
      "[]\n",
      "0\n"
     ]
    }
   ],
   "source": [
    "# Searching for genes withh all zeros elements in df0_copy\n",
    "# Find range of each gene to detect if there are zero ranges which means genes having all its values as ZERO in df0_copy\n",
    "\n",
    "zero_gen = []      ## Genes all its values are zeros i.e. these genes are not expressed in class '0' \n",
    "for col in df0_copy.columns:\n",
    "    col_max = max(df0_copy[col])\n",
    "    col_min = min (df0_copy[col])\n",
    "    col_range = col_max - col_min\n",
    "    if col_range == 0:\n",
    "        zero_gen.append(col)\n",
    "print(zero_gen)\n",
    "print(len(zero_gen))"
   ]
  },
  {
   "cell_type": "code",
   "execution_count": null,
   "metadata": {
    "colab": {
     "base_uri": "https://localhost:8080/"
    },
    "executionInfo": {
     "elapsed": 29,
     "status": "ok",
     "timestamp": 1663003200790,
     "user": {
      "displayName": "Abdelhady Sayed",
      "userId": "09542840263844765052"
     },
     "user_tz": -120
    },
    "id": "ZK9F_TbnUBMj",
    "outputId": "df7f331d-da01-40e9-b89c-ed7f8f805869",
    "scrolled": true
   },
   "outputs": [
    {
     "name": "stdout",
     "output_type": "stream",
     "text": [
      "['gene_342', 'gene_2826', 'gene_4399', 'gene_4863']\n",
      "4\n"
     ]
    }
   ],
   "source": [
    "# Searching for genes with all zeros elements in df1_copy\n",
    "# Find range of each gene to detect if there are zero ranges which means genes having all its values as ZERO in df1_copy\n",
    "\n",
    "\n",
    "zero_gen = []      ## Genes all its values are zeros i.e. these genes are not expressed in class 1 \n",
    "for col in df1_copy.columns:\n",
    "    col_max = max(df1_copy[col])\n",
    "    col_min = min (df1_copy[col])\n",
    "    col_range = col_max - col_min\n",
    "    if col_range == 0:\n",
    "        zero_gen.append(col)\n",
    "print(zero_gen)\n",
    "print(len(zero_gen))"
   ]
  },
  {
   "cell_type": "code",
   "execution_count": null,
   "metadata": {
    "colab": {
     "base_uri": "https://localhost:8080/"
    },
    "executionInfo": {
     "elapsed": 898,
     "status": "ok",
     "timestamp": 1663003201679,
     "user": {
      "displayName": "Abdelhady Sayed",
      "userId": "09542840263844765052"
     },
     "user_tz": -120
    },
    "id": "FJTA_HqkUBMk",
    "outputId": "fca9b583-349b-45e7-8550-fb61cd449d83",
    "scrolled": true
   },
   "outputs": [
    {
     "name": "stdout",
     "output_type": "stream",
     "text": [
      "gene_342 has unuque values and their counts  = 0.0    178\n",
      "Name: gene_342, dtype: int64\n",
      "gene_342has null values = 47\n",
      "gene_2826 has unuque values and their counts  = 0.0    225\n",
      "Name: gene_2826, dtype: int64\n",
      "gene_2826has null values = 0\n",
      "gene_4399 has unuque values and their counts  = 0.0    182\n",
      "Name: gene_4399, dtype: int64\n",
      "gene_4399has null values = 43\n",
      "gene_4863 has unuque values and their counts  = 0.0    225\n",
      "Name: gene_4863, dtype: int64\n",
      "gene_4863has null values = 0\n"
     ]
    }
   ],
   "source": [
    "## Check the unique values in these four genes in df1_copy\n",
    "for gene in zero_gen:\n",
    "    print(gene + ' has unuque values and their counts  = ' + str(df1_copy[gene].value_counts()))\n",
    "    print(gene + 'has null values = ' + str(df1_copy[gene].isnull().sum()))"
   ]
  },
  {
   "cell_type": "code",
   "execution_count": null,
   "metadata": {
    "colab": {
     "base_uri": "https://localhost:8080/"
    },
    "executionInfo": {
     "elapsed": 20,
     "status": "ok",
     "timestamp": 1663003201680,
     "user": {
      "displayName": "Abdelhady Sayed",
      "userId": "09542840263844765052"
     },
     "user_tz": -120
    },
    "id": "M2dAKKNbUBMk",
    "outputId": "63383691-5c80-449d-91af-a1d5af8f3e49"
   },
   "outputs": [
    {
     "name": "stdout",
     "output_type": "stream",
     "text": [
      "gene_342 has unuque values and their counts  = 0.000000    301\n",
      "7.930927      1\n",
      "Name: gene_342, dtype: int64\n",
      "gene_342has null values = 73\n",
      "gene_2826 has unuque values and their counts  = 0.000000    368\n",
      "0.561888      1\n",
      "0.705314      1\n",
      "0.580435      1\n",
      "0.648465      1\n",
      "0.365581      1\n",
      "0.574344      1\n",
      "3.589763      1\n",
      "Name: gene_2826, dtype: int64\n",
      "gene_2826has null values = 0\n",
      "gene_4399 has unuque values and their counts  = 0.0    302\n",
      "Name: gene_4399, dtype: int64\n",
      "gene_4399has null values = 73\n",
      "gene_4863 has unuque values and their counts  = 0.000000    374\n",
      "1.500904      1\n",
      "Name: gene_4863, dtype: int64\n",
      "gene_4863has null values = 0\n"
     ]
    }
   ],
   "source": [
    "## Check the unique values in these four genes in df0_copy\n",
    "for gene in zero_gen:\n",
    "    print(gene + ' has unuque values and their counts  = ' + str(df0_copy[gene].value_counts()))\n",
    "    print(gene + 'has null values = ' + str(df0_copy[gene].isnull().sum()))"
   ]
  },
  {
   "cell_type": "markdown",
   "metadata": {
    "id": "BgH3CVesUBMk"
   },
   "source": [
    "# N.B.: \n",
    "['gene_342', 'gene_2826', 'gene_4399', 'gene_4863']\n",
    "\n",
    "#### After examining these 4 genes in both data sets, we found that almost all of their elements contain null and zeros and must be removed"
   ]
  },
  {
   "cell_type": "code",
   "execution_count": null,
   "metadata": {
    "colab": {
     "base_uri": "https://localhost:8080/"
    },
    "executionInfo": {
     "elapsed": 15,
     "status": "ok",
     "timestamp": 1663003201680,
     "user": {
      "displayName": "Abdelhady Sayed",
      "userId": "09542840263844765052"
     },
     "user_tz": -120
    },
    "id": "u57fewkRUBMk",
    "outputId": "9c4b3346-5fd4-455b-fc39-ec004d984d5f",
    "scrolled": false
   },
   "outputs": [
    {
     "name": "stdout",
     "output_type": "stream",
     "text": [
      "(375, 4527)\n",
      "(225, 4527)\n",
      "(375, 4522)\n",
      "(225, 4522)\n"
     ]
    }
   ],
   "source": [
    "## Drop these 4 genes from each class\n",
    "df0_copy = df0_copy.drop(columns=zero_gen)\n",
    "df1_copy = df1_copy.drop(columns=zero_gen)\n",
    "print (df0.shape)\n",
    "print (df1.shape)\n",
    "print (df0_copy.shape)\n",
    "print (df1_copy.shape)"
   ]
  },
  {
   "cell_type": "markdown",
   "metadata": {
    "id": "m2ap0CiiUBMl"
   },
   "source": [
    "> ## Preprocessing steps:\n",
    ">#### 9- Drop All genes that has the maximum reads < 1 "
   ]
  },
  {
   "cell_type": "code",
   "execution_count": null,
   "metadata": {
    "colab": {
     "base_uri": "https://localhost:8080/"
    },
    "executionInfo": {
     "elapsed": 9,
     "status": "ok",
     "timestamp": 1663003201681,
     "user": {
      "displayName": "Abdelhady Sayed",
      "userId": "09542840263844765052"
     },
     "user_tz": -120
    },
    "id": "lpkmSevRUBMl",
    "outputId": "7ace8865-05cf-4193-9de2-5c7d3809f938"
   },
   "outputs": [
    {
     "data": {
      "text/plain": [
       "(600, 4522)"
      ]
     },
     "execution_count": 48,
     "metadata": {},
     "output_type": "execute_result"
    }
   ],
   "source": [
    "combined_df = pd.concat([df0_copy,df1_copy])\n",
    "combined_df.shape"
   ]
  },
  {
   "cell_type": "code",
   "execution_count": null,
   "metadata": {
    "colab": {
     "base_uri": "https://localhost:8080/"
    },
    "executionInfo": {
     "elapsed": 581,
     "status": "ok",
     "timestamp": 1663003202256,
     "user": {
      "displayName": "Abdelhady Sayed",
      "userId": "09542840263844765052"
     },
     "user_tz": -120
    },
    "id": "Q6Whc8iBzB0P",
    "outputId": "94bc054a-cd21-46fd-f6ae-3aee93f6444c"
   },
   "outputs": [
    {
     "name": "stdout",
     "output_type": "stream",
     "text": [
      "571\n"
     ]
    }
   ],
   "source": [
    "# Here we want to find how many elements out of the 600 elements \n",
    "## in each single gene had expression values less than one: \n",
    "\n",
    "low_genes =[]   ### create an empty list to write gene names \n",
    "for col in combined_df.columns:   ### loop over each gene (column)\n",
    "   if max(combined_df[col])<1:\n",
    "        low_genes.append(col)\n",
    "print(len(low_genes))\n"
   ]
  },
  {
   "cell_type": "code",
   "execution_count": null,
   "metadata": {
    "colab": {
     "base_uri": "https://localhost:8080/"
    },
    "executionInfo": {
     "elapsed": 12,
     "status": "ok",
     "timestamp": 1663003202257,
     "user": {
      "displayName": "Abdelhady Sayed",
      "userId": "09542840263844765052"
     },
     "user_tz": -120
    },
    "id": "A9x_jcfz6v6X",
    "outputId": "4ac6c89d-4bc9-42ea-f27d-c453c68265ef"
   },
   "outputs": [
    {
     "data": {
      "text/plain": [
       "(600, 3951)"
      ]
     },
     "execution_count": 50,
     "metadata": {},
     "output_type": "execute_result"
    }
   ],
   "source": [
    "## create new dataframe 'clean_df1' with these fraction genes dropped from the combined_df:\n",
    "\n",
    "clean_df1 = combined_df.drop(low_genes, axis=1)\n",
    "clean_df1.shape"
   ]
  },
  {
   "cell_type": "markdown",
   "metadata": {
    "id": "snQx6q23UBMm"
   },
   "source": [
    "## At this point we removed a total of: \n",
    "###### 50(all null col) + 72(duplicate col) + 2(all zeros col) + 350 (>=25% of gene elements null) + 4 (mixed null& zeros) + 571 (low count genes)= 1049 genes out of 5000 genes\n",
    "\n",
    "#### so our dataframe now had 600 rows and 3951 columns"
   ]
  },
  {
   "cell_type": "markdown",
   "metadata": {
    "id": "UwZC_tO1UBMm"
   },
   "source": [
    "> ## Preprocessing steps: \n",
    "> #### 10- Handling outliers\n",
    "> ##### a- Detect genes having extreme outlier values (>3*IQR) in each row and remove common outlier genes among all rows.\n",
    "> #### b- Remove outlier samples using binning and distribution of sum of read counts throughout the rows.\n"
   ]
  },
  {
   "cell_type": "code",
   "execution_count": null,
   "metadata": {
    "colab": {
     "base_uri": "https://localhost:8080/"
    },
    "executionInfo": {
     "elapsed": 4165,
     "status": "ok",
     "timestamp": 1663003206413,
     "user": {
      "displayName": "Abdelhady Sayed",
      "userId": "09542840263844765052"
     },
     "user_tz": -120
    },
    "id": "5vWl_6MGSxt4",
    "outputId": "b8fae1ec-64ec-4c4e-9913-f5b9c05c8fcb",
    "scrolled": true
   },
   "outputs": [
    {
     "name": "stdout",
     "output_type": "stream",
     "text": [
      "training_sample_1 all outliers: 382\n",
      "**********************\n",
      "training_sample_2 all outliers: 380\n",
      "**********************\n",
      "training_sample_3 all outliers: 380\n",
      "**********************\n",
      "training_sample_5 all outliers: 381\n",
      "**********************\n",
      "training_sample_6 all outliers: 383\n",
      "**********************\n",
      "training_sample_8 all outliers: 381\n",
      "**********************\n",
      "training_sample_10 all outliers: 381\n",
      "**********************\n",
      "training_sample_14 all outliers: 381\n",
      "**********************\n",
      "training_sample_15 all outliers: 380\n",
      "**********************\n",
      "training_sample_16 all outliers: 382\n",
      "**********************\n",
      "training_sample_18 all outliers: 381\n",
      "**********************\n",
      "training_sample_19 all outliers: 382\n",
      "**********************\n",
      "training_sample_20 all outliers: 381\n",
      "**********************\n",
      "training_sample_21 all outliers: 382\n",
      "**********************\n",
      "training_sample_22 all outliers: 381\n",
      "**********************\n",
      "training_sample_26 all outliers: 382\n",
      "**********************\n",
      "training_sample_29 all outliers: 381\n",
      "**********************\n",
      "training_sample_30 all outliers: 383\n",
      "**********************\n",
      "training_sample_32 all outliers: 381\n",
      "**********************\n",
      "training_sample_33 all outliers: 382\n",
      "**********************\n",
      "training_sample_35 all outliers: 381\n",
      "**********************\n",
      "training_sample_36 all outliers: 380\n",
      "**********************\n",
      "training_sample_37 all outliers: 382\n",
      "**********************\n",
      "training_sample_39 all outliers: 381\n",
      "**********************\n",
      "training_sample_41 all outliers: 380\n",
      "**********************\n",
      "training_sample_43 all outliers: 381\n",
      "**********************\n",
      "training_sample_45 all outliers: 383\n",
      "**********************\n",
      "training_sample_47 all outliers: 381\n",
      "**********************\n",
      "training_sample_48 all outliers: 380\n",
      "**********************\n",
      "training_sample_50 all outliers: 381\n",
      "**********************\n",
      "training_sample_52 all outliers: 381\n",
      "**********************\n",
      "training_sample_54 all outliers: 381\n",
      "**********************\n",
      "training_sample_56 all outliers: 382\n",
      "**********************\n",
      "training_sample_58 all outliers: 381\n",
      "**********************\n",
      "training_sample_59 all outliers: 381\n",
      "**********************\n",
      "training_sample_60 all outliers: 381\n",
      "**********************\n",
      "training_sample_62 all outliers: 381\n",
      "**********************\n",
      "training_sample_65 all outliers: 381\n",
      "**********************\n",
      "training_sample_66 all outliers: 382\n",
      "**********************\n",
      "training_sample_68 all outliers: 381\n",
      "**********************\n",
      "training_sample_72 all outliers: 382\n",
      "**********************\n",
      "training_sample_75 all outliers: 381\n",
      "**********************\n",
      "training_sample_76 all outliers: 381\n",
      "**********************\n",
      "training_sample_77 all outliers: 382\n",
      "**********************\n",
      "training_sample_78 all outliers: 381\n",
      "**********************\n",
      "training_sample_79 all outliers: 382\n",
      "**********************\n",
      "training_sample_80 all outliers: 381\n",
      "**********************\n",
      "training_sample_81 all outliers: 381\n",
      "**********************\n",
      "training_sample_83 all outliers: 381\n",
      "**********************\n",
      "training_sample_84 all outliers: 380\n",
      "**********************\n",
      "training_sample_86 all outliers: 382\n",
      "**********************\n",
      "training_sample_87 all outliers: 381\n",
      "**********************\n",
      "training_sample_88 all outliers: 381\n",
      "**********************\n",
      "training_sample_91 all outliers: 381\n",
      "**********************\n",
      "training_sample_92 all outliers: 381\n",
      "**********************\n",
      "training_sample_93 all outliers: 382\n",
      "**********************\n",
      "training_sample_95 all outliers: 381\n",
      "**********************\n",
      "training_sample_96 all outliers: 381\n",
      "**********************\n",
      "training_sample_98 all outliers: 381\n",
      "**********************\n",
      "training_sample_99 all outliers: 382\n",
      "**********************\n",
      "training_sample_100 all outliers: 381\n",
      "**********************\n",
      "training_sample_103 all outliers: 380\n",
      "**********************\n",
      "training_sample_104 all outliers: 382\n",
      "**********************\n",
      "training_sample_106 all outliers: 381\n",
      "**********************\n",
      "training_sample_108 all outliers: 381\n",
      "**********************\n",
      "training_sample_109 all outliers: 381\n",
      "**********************\n",
      "training_sample_110 all outliers: 380\n",
      "**********************\n",
      "training_sample_111 all outliers: 383\n",
      "**********************\n",
      "training_sample_113 all outliers: 382\n",
      "**********************\n",
      "training_sample_114 all outliers: 381\n",
      "**********************\n",
      "training_sample_117 all outliers: 382\n",
      "**********************\n",
      "training_sample_120 all outliers: 383\n",
      "**********************\n",
      "training_sample_121 all outliers: 381\n",
      "**********************\n",
      "training_sample_122 all outliers: 381\n",
      "**********************\n",
      "training_sample_123 all outliers: 381\n",
      "**********************\n",
      "training_sample_124 all outliers: 381\n",
      "**********************\n",
      "training_sample_125 all outliers: 381\n",
      "**********************\n",
      "training_sample_127 all outliers: 381\n",
      "**********************\n",
      "training_sample_128 all outliers: 381\n",
      "**********************\n",
      "training_sample_129 all outliers: 382\n",
      "**********************\n",
      "training_sample_130 all outliers: 381\n",
      "**********************\n",
      "training_sample_131 all outliers: 381\n",
      "**********************\n",
      "training_sample_133 all outliers: 382\n",
      "**********************\n",
      "training_sample_136 all outliers: 381\n",
      "**********************\n",
      "training_sample_138 all outliers: 382\n",
      "**********************\n",
      "training_sample_139 all outliers: 380\n",
      "**********************\n",
      "training_sample_140 all outliers: 381\n",
      "**********************\n",
      "training_sample_141 all outliers: 381\n",
      "**********************\n",
      "training_sample_142 all outliers: 380\n",
      "**********************\n",
      "training_sample_143 all outliers: 381\n",
      "**********************\n",
      "training_sample_144 all outliers: 381\n",
      "**********************\n",
      "training_sample_145 all outliers: 382\n",
      "**********************\n",
      "training_sample_146 all outliers: 381\n",
      "**********************\n",
      "training_sample_147 all outliers: 383\n",
      "**********************\n",
      "training_sample_148 all outliers: 382\n",
      "**********************\n",
      "training_sample_149 all outliers: 382\n",
      "**********************\n",
      "training_sample_154 all outliers: 381\n",
      "**********************\n",
      "training_sample_155 all outliers: 381\n",
      "**********************\n",
      "training_sample_156 all outliers: 381\n",
      "**********************\n",
      "training_sample_157 all outliers: 382\n",
      "**********************\n",
      "training_sample_158 all outliers: 380\n",
      "**********************\n",
      "training_sample_160 all outliers: 381\n",
      "**********************\n",
      "training_sample_162 all outliers: 381\n",
      "**********************\n",
      "training_sample_163 all outliers: 381\n",
      "**********************\n",
      "training_sample_164 all outliers: 381\n",
      "**********************\n",
      "training_sample_168 all outliers: 381\n",
      "**********************\n",
      "training_sample_169 all outliers: 381\n",
      "**********************\n",
      "training_sample_171 all outliers: 380\n",
      "**********************\n",
      "training_sample_172 all outliers: 381\n",
      "**********************\n",
      "training_sample_173 all outliers: 382\n",
      "**********************\n",
      "training_sample_174 all outliers: 381\n",
      "**********************\n",
      "training_sample_175 all outliers: 381\n",
      "**********************\n",
      "training_sample_176 all outliers: 381\n",
      "**********************\n",
      "training_sample_178 all outliers: 381\n",
      "**********************\n",
      "training_sample_179 all outliers: 381\n",
      "**********************\n",
      "training_sample_180 all outliers: 381\n",
      "**********************\n",
      "training_sample_182 all outliers: 382\n",
      "**********************\n",
      "training_sample_183 all outliers: 380\n",
      "**********************\n",
      "training_sample_184 all outliers: 381\n",
      "**********************\n",
      "training_sample_185 all outliers: 382\n",
      "**********************\n",
      "training_sample_186 all outliers: 381\n",
      "**********************\n",
      "training_sample_187 all outliers: 381\n",
      "**********************\n",
      "training_sample_188 all outliers: 381\n",
      "**********************\n",
      "training_sample_191 all outliers: 381\n",
      "**********************\n",
      "training_sample_192 all outliers: 381\n",
      "**********************\n",
      "training_sample_193 all outliers: 382\n",
      "**********************\n",
      "training_sample_194 all outliers: 382\n",
      "**********************\n",
      "training_sample_195 all outliers: 382\n",
      "**********************\n",
      "training_sample_196 all outliers: 380\n",
      "**********************\n",
      "training_sample_197 all outliers: 381\n",
      "**********************\n",
      "training_sample_198 all outliers: 381\n",
      "**********************\n",
      "training_sample_199 all outliers: 381\n",
      "**********************\n",
      "training_sample_200 all outliers: 381\n",
      "**********************\n",
      "training_sample_201 all outliers: 381\n",
      "**********************\n",
      "training_sample_202 all outliers: 381\n",
      "**********************\n",
      "training_sample_203 all outliers: 381\n",
      "**********************\n",
      "training_sample_205 all outliers: 381\n",
      "**********************\n",
      "training_sample_207 all outliers: 383\n",
      "**********************\n",
      "training_sample_208 all outliers: 381\n",
      "**********************\n",
      "training_sample_209 all outliers: 381\n",
      "**********************\n",
      "training_sample_212 all outliers: 380\n",
      "**********************\n",
      "training_sample_220 all outliers: 381\n",
      "**********************\n",
      "training_sample_221 all outliers: 382\n",
      "**********************\n",
      "training_sample_225 all outliers: 381\n",
      "**********************\n",
      "training_sample_228 all outliers: 381\n",
      "**********************\n",
      "training_sample_231 all outliers: 381\n",
      "**********************\n",
      "training_sample_232 all outliers: 381\n",
      "**********************\n",
      "training_sample_237 all outliers: 382\n",
      "**********************\n",
      "training_sample_239 all outliers: 381\n",
      "**********************\n",
      "training_sample_240 all outliers: 381\n",
      "**********************\n",
      "training_sample_241 all outliers: 382\n",
      "**********************\n",
      "training_sample_242 all outliers: 382\n",
      "**********************\n",
      "training_sample_243 all outliers: 383\n",
      "**********************\n",
      "training_sample_244 all outliers: 383\n",
      "**********************\n",
      "training_sample_245 all outliers: 380\n",
      "**********************\n",
      "training_sample_249 all outliers: 382\n",
      "**********************\n",
      "training_sample_252 all outliers: 382\n",
      "**********************\n",
      "training_sample_253 all outliers: 381\n",
      "**********************\n",
      "training_sample_255 all outliers: 381\n",
      "**********************\n",
      "training_sample_256 all outliers: 380\n",
      "**********************\n",
      "training_sample_258 all outliers: 381\n",
      "**********************\n",
      "training_sample_259 all outliers: 380\n",
      "**********************\n",
      "training_sample_262 all outliers: 381\n",
      "**********************\n",
      "training_sample_263 all outliers: 381\n",
      "**********************\n",
      "training_sample_265 all outliers: 383\n",
      "**********************\n",
      "training_sample_266 all outliers: 381\n",
      "**********************\n",
      "training_sample_268 all outliers: 381\n",
      "**********************\n",
      "training_sample_269 all outliers: 381\n",
      "**********************\n",
      "training_sample_270 all outliers: 380\n",
      "**********************\n",
      "training_sample_271 all outliers: 381\n",
      "**********************\n",
      "training_sample_274 all outliers: 380\n",
      "**********************\n",
      "training_sample_275 all outliers: 383\n",
      "**********************\n",
      "training_sample_276 all outliers: 381\n",
      "**********************\n",
      "training_sample_277 all outliers: 382\n",
      "**********************\n",
      "training_sample_278 all outliers: 381\n",
      "**********************\n",
      "training_sample_279 all outliers: 382\n",
      "**********************\n",
      "training_sample_280 all outliers: 383\n",
      "**********************\n",
      "training_sample_282 all outliers: 381\n",
      "**********************\n",
      "training_sample_283 all outliers: 381\n",
      "**********************\n",
      "training_sample_284 all outliers: 381\n",
      "**********************\n",
      "training_sample_285 all outliers: 381\n",
      "**********************\n",
      "training_sample_287 all outliers: 382\n",
      "**********************\n",
      "training_sample_288 all outliers: 381\n",
      "**********************\n",
      "training_sample_290 all outliers: 380\n",
      "**********************\n",
      "training_sample_291 all outliers: 382\n",
      "**********************\n",
      "training_sample_292 all outliers: 380\n",
      "**********************\n",
      "training_sample_294 all outliers: 382\n",
      "**********************\n",
      "training_sample_295 all outliers: 382\n",
      "**********************\n",
      "training_sample_297 all outliers: 382\n",
      "**********************\n",
      "training_sample_300 all outliers: 383\n",
      "**********************\n",
      "training_sample_301 all outliers: 381\n",
      "**********************\n",
      "training_sample_302 all outliers: 380\n",
      "**********************\n",
      "training_sample_303 all outliers: 384\n",
      "**********************\n",
      "training_sample_305 all outliers: 381\n",
      "**********************\n",
      "training_sample_306 all outliers: 381\n",
      "**********************\n",
      "training_sample_308 all outliers: 383\n",
      "**********************\n",
      "training_sample_311 all outliers: 380\n",
      "**********************\n",
      "training_sample_315 all outliers: 380\n",
      "**********************\n",
      "training_sample_316 all outliers: 381\n",
      "**********************\n",
      "training_sample_319 all outliers: 382\n",
      "**********************\n",
      "training_sample_323 all outliers: 383\n",
      "**********************\n",
      "training_sample_324 all outliers: 381\n",
      "**********************\n",
      "training_sample_325 all outliers: 381\n",
      "**********************\n",
      "training_sample_327 all outliers: 383\n",
      "**********************\n",
      "training_sample_328 all outliers: 382\n",
      "**********************\n",
      "training_sample_331 all outliers: 381\n",
      "**********************\n",
      "training_sample_333 all outliers: 380\n",
      "**********************\n",
      "training_sample_335 all outliers: 381\n",
      "**********************\n",
      "training_sample_336 all outliers: 382\n",
      "**********************\n",
      "training_sample_337 all outliers: 381\n",
      "**********************\n",
      "training_sample_339 all outliers: 381\n",
      "**********************\n",
      "training_sample_342 all outliers: 381\n",
      "**********************\n",
      "training_sample_344 all outliers: 382\n",
      "**********************\n",
      "training_sample_347 all outliers: 381\n",
      "**********************\n",
      "training_sample_348 all outliers: 382\n",
      "**********************\n",
      "training_sample_349 all outliers: 382\n",
      "**********************\n",
      "training_sample_350 all outliers: 383\n",
      "**********************\n",
      "training_sample_352 all outliers: 381\n",
      "**********************\n",
      "training_sample_354 all outliers: 382\n",
      "**********************\n",
      "training_sample_355 all outliers: 382\n",
      "**********************\n",
      "training_sample_356 all outliers: 381\n",
      "**********************\n",
      "training_sample_357 all outliers: 384\n",
      "**********************\n",
      "training_sample_358 all outliers: 381\n",
      "**********************\n",
      "training_sample_360 all outliers: 381\n",
      "**********************\n",
      "training_sample_362 all outliers: 381\n",
      "**********************\n",
      "training_sample_363 all outliers: 382\n",
      "**********************\n",
      "training_sample_364 all outliers: 381\n",
      "**********************\n",
      "training_sample_366 all outliers: 381\n",
      "**********************\n",
      "training_sample_368 all outliers: 381\n",
      "**********************\n",
      "training_sample_369 all outliers: 381\n",
      "**********************\n",
      "training_sample_370 all outliers: 380\n",
      "**********************\n",
      "training_sample_371 all outliers: 382\n",
      "**********************\n",
      "training_sample_373 all outliers: 381\n",
      "**********************\n",
      "training_sample_376 all outliers: 382\n",
      "**********************\n",
      "training_sample_378 all outliers: 381\n",
      "**********************\n",
      "training_sample_379 all outliers: 380\n",
      "**********************\n",
      "training_sample_380 all outliers: 382\n",
      "**********************\n",
      "training_sample_383 all outliers: 380\n",
      "**********************\n",
      "training_sample_384 all outliers: 381\n",
      "**********************\n",
      "training_sample_385 all outliers: 383\n",
      "**********************\n",
      "training_sample_386 all outliers: 382\n",
      "**********************\n",
      "training_sample_388 all outliers: 381\n",
      "**********************\n",
      "training_sample_389 all outliers: 383\n",
      "**********************\n",
      "training_sample_390 all outliers: 381\n",
      "**********************\n",
      "training_sample_393 all outliers: 382\n",
      "**********************\n",
      "training_sample_394 all outliers: 382\n",
      "**********************\n",
      "training_sample_395 all outliers: 382\n",
      "**********************\n",
      "training_sample_396 all outliers: 381\n",
      "**********************\n",
      "training_sample_397 all outliers: 381\n",
      "**********************\n",
      "training_sample_399 all outliers: 381\n",
      "**********************\n",
      "training_sample_400 all outliers: 381\n",
      "**********************\n",
      "training_sample_401 all outliers: 383\n",
      "**********************\n",
      "training_sample_403 all outliers: 381\n",
      "**********************\n",
      "training_sample_405 all outliers: 382\n",
      "**********************\n",
      "training_sample_406 all outliers: 381\n",
      "**********************\n",
      "training_sample_407 all outliers: 381\n",
      "**********************\n",
      "training_sample_409 all outliers: 381\n",
      "**********************\n",
      "training_sample_412 all outliers: 381\n",
      "**********************\n",
      "training_sample_413 all outliers: 382\n",
      "**********************\n",
      "training_sample_414 all outliers: 381\n",
      "**********************\n",
      "training_sample_415 all outliers: 381\n",
      "**********************\n",
      "training_sample_417 all outliers: 381\n",
      "**********************\n",
      "training_sample_418 all outliers: 382\n",
      "**********************\n",
      "training_sample_420 all outliers: 381\n",
      "**********************\n",
      "training_sample_421 all outliers: 383\n",
      "**********************\n",
      "training_sample_423 all outliers: 381\n",
      "**********************\n",
      "training_sample_424 all outliers: 381\n",
      "**********************\n",
      "training_sample_425 all outliers: 381\n",
      "**********************\n",
      "training_sample_426 all outliers: 380\n",
      "**********************\n",
      "training_sample_427 all outliers: 381\n",
      "**********************\n",
      "training_sample_428 all outliers: 380\n",
      "**********************\n",
      "training_sample_430 all outliers: 382\n",
      "**********************\n",
      "training_sample_431 all outliers: 381\n",
      "**********************\n",
      "training_sample_434 all outliers: 381\n",
      "**********************\n",
      "training_sample_435 all outliers: 382\n",
      "**********************\n",
      "training_sample_437 all outliers: 382\n",
      "**********************\n",
      "training_sample_438 all outliers: 381\n",
      "**********************\n",
      "training_sample_440 all outliers: 381\n",
      "**********************\n",
      "training_sample_441 all outliers: 382\n",
      "**********************\n",
      "training_sample_442 all outliers: 381\n",
      "**********************\n",
      "training_sample_443 all outliers: 381\n",
      "**********************\n",
      "training_sample_444 all outliers: 381\n",
      "**********************\n",
      "training_sample_445 all outliers: 383\n",
      "**********************\n",
      "training_sample_446 all outliers: 381\n",
      "**********************\n",
      "training_sample_447 all outliers: 381\n",
      "**********************\n",
      "training_sample_450 all outliers: 381\n",
      "**********************\n",
      "training_sample_451 all outliers: 380\n",
      "**********************\n",
      "training_sample_452 all outliers: 381\n",
      "**********************\n",
      "training_sample_455 all outliers: 382\n",
      "**********************\n",
      "training_sample_456 all outliers: 381\n",
      "**********************\n",
      "training_sample_457 all outliers: 382\n",
      "**********************\n",
      "training_sample_459 all outliers: 380\n",
      "**********************\n",
      "training_sample_461 all outliers: 381\n",
      "**********************\n",
      "training_sample_464 all outliers: 382\n",
      "**********************\n",
      "training_sample_467 all outliers: 381\n",
      "**********************\n",
      "training_sample_468 all outliers: 382\n",
      "**********************\n",
      "training_sample_469 all outliers: 382\n",
      "**********************\n",
      "training_sample_474 all outliers: 382\n",
      "**********************\n",
      "training_sample_475 all outliers: 383\n",
      "**********************\n",
      "training_sample_481 all outliers: 381\n",
      "**********************\n",
      "training_sample_482 all outliers: 381\n",
      "**********************\n",
      "training_sample_483 all outliers: 382\n",
      "**********************\n",
      "training_sample_484 all outliers: 381\n",
      "**********************\n",
      "training_sample_485 all outliers: 383\n",
      "**********************\n",
      "training_sample_486 all outliers: 381\n",
      "**********************\n",
      "training_sample_487 all outliers: 381\n",
      "**********************\n",
      "training_sample_489 all outliers: 382\n",
      "**********************\n",
      "training_sample_490 all outliers: 380\n",
      "**********************\n",
      "training_sample_493 all outliers: 382\n",
      "**********************\n",
      "training_sample_494 all outliers: 381\n",
      "**********************\n",
      "training_sample_495 all outliers: 382\n",
      "**********************\n",
      "training_sample_496 all outliers: 382\n",
      "**********************\n",
      "training_sample_497 all outliers: 382\n",
      "**********************\n",
      "training_sample_498 all outliers: 381\n",
      "**********************\n",
      "training_sample_500 all outliers: 381\n",
      "**********************\n",
      "training_sample_501 all outliers: 382\n",
      "**********************\n",
      "training_sample_503 all outliers: 381\n",
      "**********************\n",
      "training_sample_506 all outliers: 382\n",
      "**********************\n",
      "training_sample_507 all outliers: 381\n",
      "**********************\n",
      "training_sample_509 all outliers: 381\n",
      "**********************\n",
      "training_sample_511 all outliers: 382\n",
      "**********************\n",
      "training_sample_512 all outliers: 381\n",
      "**********************\n",
      "training_sample_513 all outliers: 381\n",
      "**********************\n",
      "training_sample_514 all outliers: 382\n",
      "**********************\n",
      "training_sample_515 all outliers: 381\n",
      "**********************\n",
      "training_sample_516 all outliers: 381\n",
      "**********************\n",
      "training_sample_517 all outliers: 381\n",
      "**********************\n",
      "training_sample_518 all outliers: 381\n",
      "**********************\n",
      "training_sample_519 all outliers: 381\n",
      "**********************\n",
      "training_sample_520 all outliers: 380\n",
      "**********************\n",
      "training_sample_523 all outliers: 381\n",
      "**********************\n",
      "training_sample_524 all outliers: 381\n",
      "**********************\n",
      "training_sample_526 all outliers: 382\n",
      "**********************\n",
      "training_sample_527 all outliers: 381\n",
      "**********************\n",
      "training_sample_529 all outliers: 381\n",
      "**********************\n",
      "training_sample_530 all outliers: 381\n",
      "**********************\n",
      "training_sample_532 all outliers: 381\n",
      "**********************\n",
      "training_sample_534 all outliers: 381\n",
      "**********************\n",
      "training_sample_536 all outliers: 381\n",
      "**********************\n",
      "training_sample_537 all outliers: 382\n",
      "**********************\n",
      "training_sample_538 all outliers: 381\n",
      "**********************\n",
      "training_sample_539 all outliers: 382\n",
      "**********************\n",
      "training_sample_540 all outliers: 382\n",
      "**********************\n",
      "training_sample_542 all outliers: 381\n",
      "**********************\n",
      "training_sample_543 all outliers: 382\n",
      "**********************\n",
      "training_sample_546 all outliers: 382\n",
      "**********************\n",
      "training_sample_550 all outliers: 381\n",
      "**********************\n",
      "training_sample_551 all outliers: 381\n",
      "**********************\n",
      "training_sample_552 all outliers: 382\n",
      "**********************\n",
      "training_sample_554 all outliers: 382\n",
      "**********************\n",
      "training_sample_557 all outliers: 382\n",
      "**********************\n",
      "training_sample_560 all outliers: 382\n",
      "**********************\n",
      "training_sample_562 all outliers: 381\n",
      "**********************\n",
      "training_sample_564 all outliers: 382\n",
      "**********************\n",
      "training_sample_567 all outliers: 381\n",
      "**********************\n",
      "training_sample_569 all outliers: 382\n",
      "**********************\n",
      "training_sample_571 all outliers: 381\n",
      "**********************\n",
      "training_sample_572 all outliers: 380\n",
      "**********************\n",
      "training_sample_573 all outliers: 381\n",
      "**********************\n",
      "training_sample_574 all outliers: 381\n",
      "**********************\n",
      "training_sample_578 all outliers: 382\n",
      "**********************\n",
      "training_sample_579 all outliers: 381\n",
      "**********************\n",
      "training_sample_580 all outliers: 380\n",
      "**********************\n",
      "training_sample_581 all outliers: 382\n",
      "**********************\n",
      "training_sample_582 all outliers: 381\n",
      "**********************\n",
      "training_sample_583 all outliers: 382\n",
      "**********************\n",
      "training_sample_585 all outliers: 381\n",
      "**********************\n",
      "training_sample_587 all outliers: 380\n",
      "**********************\n",
      "training_sample_589 all outliers: 381\n",
      "**********************\n",
      "training_sample_594 all outliers: 382\n",
      "**********************\n",
      "training_sample_595 all outliers: 382\n",
      "**********************\n",
      "training_sample_597 all outliers: 381\n",
      "**********************\n",
      "training_sample_598 all outliers: 382\n",
      "**********************\n",
      "training_sample_599 all outliers: 382\n",
      "**********************\n",
      "training_sample_600 all outliers: 382\n",
      "**********************\n",
      "training_sample_4 all outliers: 380\n",
      "**********************\n",
      "training_sample_7 all outliers: 382\n",
      "**********************\n",
      "training_sample_9 all outliers: 381\n",
      "**********************\n",
      "training_sample_11 all outliers: 381\n",
      "**********************\n",
      "training_sample_12 all outliers: 381\n",
      "**********************\n",
      "training_sample_13 all outliers: 381\n",
      "**********************\n",
      "training_sample_17 all outliers: 381\n",
      "**********************\n",
      "training_sample_23 all outliers: 382\n",
      "**********************\n",
      "training_sample_24 all outliers: 381\n",
      "**********************\n",
      "training_sample_25 all outliers: 382\n",
      "**********************\n",
      "training_sample_27 all outliers: 381\n",
      "**********************\n",
      "training_sample_28 all outliers: 381\n",
      "**********************\n",
      "training_sample_31 all outliers: 381\n",
      "**********************\n",
      "training_sample_34 all outliers: 381\n",
      "**********************\n",
      "training_sample_38 all outliers: 381\n",
      "**********************\n",
      "training_sample_40 all outliers: 381\n",
      "**********************\n",
      "training_sample_42 all outliers: 381\n",
      "**********************\n",
      "training_sample_44 all outliers: 381\n",
      "**********************\n",
      "training_sample_46 all outliers: 381\n",
      "**********************\n",
      "training_sample_49 all outliers: 381\n",
      "**********************\n",
      "training_sample_51 all outliers: 381\n",
      "**********************\n",
      "training_sample_53 all outliers: 381\n",
      "**********************\n",
      "training_sample_55 all outliers: 381\n",
      "**********************\n",
      "training_sample_57 all outliers: 382\n",
      "**********************\n",
      "training_sample_61 all outliers: 380\n",
      "**********************\n",
      "training_sample_63 all outliers: 381\n",
      "**********************\n",
      "training_sample_64 all outliers: 381\n",
      "**********************\n",
      "training_sample_67 all outliers: 381\n",
      "**********************\n",
      "training_sample_69 all outliers: 382\n",
      "**********************\n",
      "training_sample_70 all outliers: 382\n",
      "**********************\n",
      "training_sample_71 all outliers: 381\n",
      "**********************\n",
      "training_sample_73 all outliers: 381\n",
      "**********************\n",
      "training_sample_74 all outliers: 382\n",
      "**********************\n",
      "training_sample_82 all outliers: 381\n",
      "**********************\n",
      "training_sample_85 all outliers: 382\n",
      "**********************\n",
      "training_sample_89 all outliers: 381\n",
      "**********************\n",
      "training_sample_90 all outliers: 384\n",
      "**********************\n",
      "training_sample_94 all outliers: 381\n",
      "**********************\n",
      "training_sample_97 all outliers: 380\n",
      "**********************\n",
      "training_sample_101 all outliers: 381\n",
      "**********************\n",
      "training_sample_102 all outliers: 381\n",
      "**********************\n",
      "training_sample_105 all outliers: 381\n",
      "**********************\n",
      "training_sample_107 all outliers: 381\n",
      "**********************\n",
      "training_sample_112 all outliers: 381\n",
      "**********************\n",
      "training_sample_115 all outliers: 381\n",
      "**********************\n",
      "training_sample_116 all outliers: 383\n",
      "**********************\n",
      "training_sample_118 all outliers: 381\n",
      "**********************\n",
      "training_sample_119 all outliers: 382\n",
      "**********************\n",
      "training_sample_126 all outliers: 382\n",
      "**********************\n",
      "training_sample_132 all outliers: 381\n",
      "**********************\n",
      "training_sample_134 all outliers: 381\n",
      "**********************\n",
      "training_sample_135 all outliers: 381\n",
      "**********************\n",
      "training_sample_137 all outliers: 381\n",
      "**********************\n",
      "training_sample_150 all outliers: 381\n",
      "**********************\n",
      "training_sample_151 all outliers: 381\n",
      "**********************\n",
      "training_sample_152 all outliers: 381\n",
      "**********************\n",
      "training_sample_153 all outliers: 382\n",
      "**********************\n",
      "training_sample_159 all outliers: 381\n",
      "**********************\n",
      "training_sample_161 all outliers: 381\n",
      "**********************\n",
      "training_sample_165 all outliers: 381\n",
      "**********************\n",
      "training_sample_166 all outliers: 381\n",
      "**********************\n",
      "training_sample_167 all outliers: 381\n",
      "**********************\n",
      "training_sample_170 all outliers: 382\n",
      "**********************\n",
      "training_sample_177 all outliers: 380\n",
      "**********************\n",
      "training_sample_181 all outliers: 381\n",
      "**********************\n",
      "training_sample_189 all outliers: 382\n",
      "**********************\n",
      "training_sample_190 all outliers: 381\n",
      "**********************\n",
      "training_sample_204 all outliers: 380\n",
      "**********************\n",
      "training_sample_206 all outliers: 381\n",
      "**********************\n",
      "training_sample_210 all outliers: 380\n",
      "**********************\n",
      "training_sample_211 all outliers: 381\n",
      "**********************\n",
      "training_sample_213 all outliers: 381\n",
      "**********************\n",
      "training_sample_214 all outliers: 382\n",
      "**********************\n",
      "training_sample_215 all outliers: 381\n",
      "**********************\n",
      "training_sample_216 all outliers: 381\n",
      "**********************\n",
      "training_sample_217 all outliers: 381\n",
      "**********************\n",
      "training_sample_218 all outliers: 382\n",
      "**********************\n",
      "training_sample_219 all outliers: 382\n",
      "**********************\n",
      "training_sample_222 all outliers: 381\n",
      "**********************\n",
      "training_sample_223 all outliers: 380\n",
      "**********************\n",
      "training_sample_224 all outliers: 382\n",
      "**********************\n",
      "training_sample_226 all outliers: 381\n",
      "**********************\n",
      "training_sample_227 all outliers: 384\n",
      "**********************\n",
      "training_sample_229 all outliers: 382\n",
      "**********************\n",
      "training_sample_230 all outliers: 381\n",
      "**********************\n",
      "training_sample_233 all outliers: 381\n",
      "**********************\n",
      "training_sample_234 all outliers: 381\n",
      "**********************\n",
      "training_sample_235 all outliers: 382\n",
      "**********************\n",
      "training_sample_236 all outliers: 381\n",
      "**********************\n",
      "training_sample_238 all outliers: 382\n",
      "**********************\n",
      "training_sample_246 all outliers: 381\n",
      "**********************\n",
      "training_sample_247 all outliers: 381\n",
      "**********************\n",
      "training_sample_248 all outliers: 382\n",
      "**********************\n",
      "training_sample_250 all outliers: 381\n",
      "**********************\n",
      "training_sample_251 all outliers: 383\n",
      "**********************\n",
      "training_sample_254 all outliers: 382\n",
      "**********************\n",
      "training_sample_257 all outliers: 382\n",
      "**********************\n",
      "training_sample_260 all outliers: 381\n",
      "**********************\n",
      "training_sample_261 all outliers: 381\n",
      "**********************\n",
      "training_sample_264 all outliers: 381\n",
      "**********************\n",
      "training_sample_267 all outliers: 381\n",
      "**********************\n",
      "training_sample_272 all outliers: 382\n",
      "**********************\n",
      "training_sample_273 all outliers: 380\n",
      "**********************\n",
      "training_sample_281 all outliers: 381\n",
      "**********************\n",
      "training_sample_286 all outliers: 382\n",
      "**********************\n",
      "training_sample_289 all outliers: 381\n",
      "**********************\n",
      "training_sample_293 all outliers: 381\n",
      "**********************\n",
      "training_sample_296 all outliers: 382\n",
      "**********************\n",
      "training_sample_298 all outliers: 381\n",
      "**********************\n",
      "training_sample_299 all outliers: 382\n",
      "**********************\n",
      "training_sample_304 all outliers: 381\n",
      "**********************\n",
      "training_sample_307 all outliers: 381\n",
      "**********************\n",
      "training_sample_309 all outliers: 380\n",
      "**********************\n",
      "training_sample_310 all outliers: 382\n",
      "**********************\n",
      "training_sample_312 all outliers: 381\n",
      "**********************\n",
      "training_sample_313 all outliers: 380\n",
      "**********************\n",
      "training_sample_314 all outliers: 381\n",
      "**********************\n",
      "training_sample_317 all outliers: 381\n",
      "**********************\n",
      "training_sample_318 all outliers: 381\n",
      "**********************\n",
      "training_sample_320 all outliers: 381\n",
      "**********************\n",
      "training_sample_321 all outliers: 383\n",
      "**********************\n",
      "training_sample_322 all outliers: 381\n",
      "**********************\n",
      "training_sample_326 all outliers: 381\n",
      "**********************\n",
      "training_sample_329 all outliers: 381\n",
      "**********************\n",
      "training_sample_330 all outliers: 383\n",
      "**********************\n",
      "training_sample_332 all outliers: 381\n",
      "**********************\n",
      "training_sample_334 all outliers: 381\n",
      "**********************\n",
      "training_sample_338 all outliers: 380\n",
      "**********************\n",
      "training_sample_340 all outliers: 382\n",
      "**********************\n",
      "training_sample_341 all outliers: 381\n",
      "**********************\n",
      "training_sample_343 all outliers: 382\n",
      "**********************\n",
      "training_sample_345 all outliers: 381\n",
      "**********************\n",
      "training_sample_346 all outliers: 381\n",
      "**********************\n",
      "training_sample_351 all outliers: 382\n",
      "**********************\n",
      "training_sample_353 all outliers: 382\n",
      "**********************\n",
      "training_sample_359 all outliers: 381\n",
      "**********************\n",
      "training_sample_361 all outliers: 382\n",
      "**********************\n",
      "training_sample_365 all outliers: 381\n",
      "**********************\n",
      "training_sample_367 all outliers: 382\n",
      "**********************\n",
      "training_sample_372 all outliers: 381\n",
      "**********************\n",
      "training_sample_374 all outliers: 381\n",
      "**********************\n",
      "training_sample_375 all outliers: 382\n",
      "**********************\n",
      "training_sample_377 all outliers: 382\n",
      "**********************\n",
      "training_sample_381 all outliers: 380\n",
      "**********************\n",
      "training_sample_382 all outliers: 382\n",
      "**********************\n",
      "training_sample_387 all outliers: 381\n",
      "**********************\n",
      "training_sample_391 all outliers: 382\n",
      "**********************\n",
      "training_sample_392 all outliers: 381\n",
      "**********************\n",
      "training_sample_398 all outliers: 381\n",
      "**********************\n",
      "training_sample_402 all outliers: 381\n",
      "**********************\n",
      "training_sample_404 all outliers: 381\n",
      "**********************\n",
      "training_sample_408 all outliers: 381\n",
      "**********************\n",
      "training_sample_410 all outliers: 381\n",
      "**********************\n",
      "training_sample_411 all outliers: 381\n",
      "**********************\n",
      "training_sample_416 all outliers: 382\n",
      "**********************\n",
      "training_sample_419 all outliers: 382\n",
      "**********************\n",
      "training_sample_422 all outliers: 381\n",
      "**********************\n",
      "training_sample_429 all outliers: 383\n",
      "**********************\n",
      "training_sample_432 all outliers: 380\n",
      "**********************\n",
      "training_sample_433 all outliers: 382\n",
      "**********************\n",
      "training_sample_436 all outliers: 380\n",
      "**********************\n",
      "training_sample_439 all outliers: 381\n",
      "**********************\n",
      "training_sample_448 all outliers: 383\n",
      "**********************\n",
      "training_sample_449 all outliers: 381\n",
      "**********************\n",
      "training_sample_453 all outliers: 381\n",
      "**********************\n",
      "training_sample_454 all outliers: 381\n",
      "**********************\n",
      "training_sample_458 all outliers: 382\n",
      "**********************\n",
      "training_sample_460 all outliers: 380\n",
      "**********************\n",
      "training_sample_462 all outliers: 381\n",
      "**********************\n",
      "training_sample_463 all outliers: 382\n",
      "**********************\n",
      "training_sample_465 all outliers: 381\n",
      "**********************\n",
      "training_sample_466 all outliers: 382\n",
      "**********************\n",
      "training_sample_470 all outliers: 382\n",
      "**********************\n",
      "training_sample_471 all outliers: 381\n",
      "**********************\n",
      "training_sample_472 all outliers: 381\n",
      "**********************\n",
      "training_sample_473 all outliers: 381\n",
      "**********************\n",
      "training_sample_476 all outliers: 382\n",
      "**********************\n",
      "training_sample_477 all outliers: 381\n",
      "**********************\n",
      "training_sample_478 all outliers: 381\n",
      "**********************\n",
      "training_sample_479 all outliers: 381\n",
      "**********************\n",
      "training_sample_480 all outliers: 381\n",
      "**********************\n",
      "training_sample_488 all outliers: 381\n",
      "**********************\n",
      "training_sample_491 all outliers: 382\n",
      "**********************\n",
      "training_sample_492 all outliers: 382\n",
      "**********************\n",
      "training_sample_499 all outliers: 380\n",
      "**********************\n",
      "training_sample_502 all outliers: 381\n",
      "**********************\n",
      "training_sample_504 all outliers: 381\n",
      "**********************\n",
      "training_sample_505 all outliers: 382\n",
      "**********************\n",
      "training_sample_508 all outliers: 383\n",
      "**********************\n",
      "training_sample_510 all outliers: 382\n",
      "**********************\n",
      "training_sample_521 all outliers: 381\n",
      "**********************\n",
      "training_sample_522 all outliers: 380\n",
      "**********************\n",
      "training_sample_525 all outliers: 381\n",
      "**********************\n",
      "training_sample_528 all outliers: 382\n",
      "**********************\n",
      "training_sample_531 all outliers: 381\n",
      "**********************\n",
      "training_sample_533 all outliers: 381\n",
      "**********************\n",
      "training_sample_535 all outliers: 383\n",
      "**********************\n",
      "training_sample_541 all outliers: 381\n",
      "**********************\n",
      "training_sample_544 all outliers: 382\n",
      "**********************\n",
      "training_sample_545 all outliers: 381\n",
      "**********************\n",
      "training_sample_547 all outliers: 381\n",
      "**********************\n",
      "training_sample_548 all outliers: 382\n",
      "**********************\n",
      "training_sample_549 all outliers: 381\n",
      "**********************\n",
      "training_sample_553 all outliers: 380\n",
      "**********************\n",
      "training_sample_555 all outliers: 381\n",
      "**********************\n",
      "training_sample_556 all outliers: 381\n",
      "**********************\n",
      "training_sample_558 all outliers: 380\n",
      "**********************\n",
      "training_sample_559 all outliers: 381\n",
      "**********************\n",
      "training_sample_561 all outliers: 381\n",
      "**********************\n",
      "training_sample_563 all outliers: 381\n",
      "**********************\n",
      "training_sample_565 all outliers: 381\n",
      "**********************\n",
      "training_sample_566 all outliers: 381\n",
      "**********************\n",
      "training_sample_568 all outliers: 380\n",
      "**********************\n",
      "training_sample_570 all outliers: 381\n",
      "**********************\n",
      "training_sample_575 all outliers: 381\n",
      "**********************\n",
      "training_sample_576 all outliers: 381\n",
      "**********************\n",
      "training_sample_577 all outliers: 381\n",
      "**********************\n",
      "training_sample_584 all outliers: 381\n",
      "**********************\n",
      "training_sample_586 all outliers: 382\n",
      "**********************\n",
      "training_sample_588 all outliers: 382\n",
      "**********************\n",
      "training_sample_590 all outliers: 381\n",
      "**********************\n",
      "training_sample_591 all outliers: 381\n",
      "**********************\n",
      "training_sample_592 all outliers: 381\n",
      "**********************\n",
      "training_sample_593 all outliers: 381\n",
      "**********************\n",
      "training_sample_596 all outliers: 381\n",
      "**********************\n"
     ]
    }
   ],
   "source": [
    "outlier_per_row = {}  ### create empty dictionary to write 600 {key:value} = {sampl_name : [list of outlier genes]}\n",
    "for row in clean_df1.index:  ### loop over every row in our dataframe\n",
    "    outlier_counter = 0      ### create a counter variable to count no. of genes having outlier values in each row\n",
    "    outlier_genes = []       ### create an empty list to write name of genes having outlier values in each row\n",
    "    outs = []\n",
    "    Q1 = clean_df1.loc[row].quantile(0.25)   ### find first quartile for each row\n",
    "    Q3 = clean_df1.loc[row].quantile(0.75)   ### find third quartile for each row\n",
    "    IQR = Q3 - Q1                            ### find IQR for each row \n",
    "    lower_lim = Q1-3*IQR                   ### find upper limit for each row \n",
    "    upper_lim = Q3+3*IQR                   ### find lower limit for each row \n",
    "    for i, v in enumerate(clean_df1.loc[row]):  ### loop over every element in the row \n",
    "        if v>upper_lim:   ### if the value of this element is >upper_lim \n",
    "            outlier_counter += 1          ### add the counter by 1 to count no. of genes having outlier values\n",
    "            outlier_genes.append(clean_df1.columns[i]) ### append gene name having this outlier value to [outlier_genes] list\n",
    "            #print('row:', row[16:],'outlier:', v, 'upper lim:', upper_lim) ### print row name, outlier, upper limit\n",
    "    #print('  ---------------   ')\n",
    "    print(row, 'all outliers:', outlier_counter)  \n",
    "    outlier_per_row[row] = outlier_genes   ### add {sampl_names : [list of outlier genes]} to the created dictionary\n",
    "    print('**********************')\n",
    "            \n"
   ]
  },
  {
   "cell_type": "code",
   "execution_count": null,
   "metadata": {
    "colab": {
     "base_uri": "https://localhost:8080/"
    },
    "executionInfo": {
     "elapsed": 40,
     "status": "ok",
     "timestamp": 1663003206414,
     "user": {
      "displayName": "Abdelhady Sayed",
      "userId": "09542840263844765052"
     },
     "user_tz": -120
    },
    "id": "JTgxpyT8aM-W",
    "outputId": "57e12120-0184-4e82-b3ce-680df6134213",
    "scrolled": true
   },
   "outputs": [
    {
     "name": "stdout",
     "output_type": "stream",
     "text": [
      "380\n",
      "['gene_643', 'gene_2150', 'gene_2867', 'gene_188', 'gene_430', 'gene_4582', 'gene_4992', 'gene_3556', 'gene_4560', 'gene_2667', 'gene_3209', 'gene_2511', 'gene_573', 'gene_2245', 'gene_2074', 'gene_2721', 'gene_657', 'gene_3367', 'gene_2821', 'gene_236', 'gene_2118', 'gene_2327', 'gene_631', 'gene_1651', 'gene_3239', 'gene_4346', 'gene_1623', 'gene_3109', 'gene_3306', 'gene_3409', 'gene_1153', 'gene_1175', 'gene_3097', 'gene_436', 'gene_3631', 'gene_1583', 'gene_3733', 'gene_4629', 'gene_4604', 'gene_4708', 'gene_4920', 'gene_3652', 'gene_3801', 'gene_1301', 'gene_3891', 'gene_3278', 'gene_1162', 'gene_3031', 'gene_612', 'gene_1125', 'gene_2172', 'gene_1998', 'gene_1851', 'gene_2619', 'gene_3369', 'gene_4779', 'gene_714', 'gene_246', 'gene_1163', 'gene_4011', 'gene_3283', 'gene_3666', 'gene_132', 'gene_3921', 'gene_2894', 'gene_3380', 'gene_724', 'gene_2173', 'gene_565', 'gene_4093', 'gene_1234', 'gene_851', 'gene_1434', 'gene_1556', 'gene_90', 'gene_993', 'gene_2842', 'gene_4436', 'gene_3888', 'gene_2644', 'gene_2573', 'gene_2628', 'gene_3625', 'gene_2067', 'gene_2052', 'gene_337', 'gene_711', 'gene_1956', 'gene_3166', 'gene_802', 'gene_2764', 'gene_2796', 'gene_2832', 'gene_4297', 'gene_3674', 'gene_2592', 'gene_4016', 'gene_3579', 'gene_1749', 'gene_2418', 'gene_4808', 'gene_2116', 'gene_4035', 'gene_409', 'gene_3079', 'gene_3340', 'gene_1631', 'gene_2171', 'gene_4228', 'gene_1734', 'gene_3170', 'gene_4439', 'gene_512', 'gene_816', 'gene_4994', 'gene_3493', 'gene_2407', 'gene_2440', 'gene_50', 'gene_4198', 'gene_933', 'gene_162', 'gene_3622', 'gene_552', 'gene_3865', 'gene_4879', 'gene_649', 'gene_25', 'gene_1711', 'gene_504', 'gene_4838', 'gene_3630', 'gene_2578', 'gene_209', 'gene_3515', 'gene_2425', 'gene_4510', 'gene_3869', 'gene_4482', 'gene_758', 'gene_1640', 'gene_2747', 'gene_203', 'gene_1414', 'gene_3928', 'gene_2282', 'gene_1117', 'gene_2461', 'gene_4155', 'gene_4828', 'gene_2571', 'gene_4589', 'gene_4243', 'gene_2562', 'gene_78', 'gene_4590', 'gene_3604', 'gene_3950', 'gene_4479', 'gene_2382', 'gene_1832', 'gene_3999', 'gene_4986', 'gene_4284', 'gene_4173', 'gene_508', 'gene_1305', 'gene_2825', 'gene_1203', 'gene_1370', 'gene_4817', 'gene_2827', 'gene_2915', 'gene_555', 'gene_1143', 'gene_1600', 'gene_1799', 'gene_3977', 'gene_3800', 'gene_2179', 'gene_4496', 'gene_3167', 'gene_2196', 'gene_1549', 'gene_1920', 'gene_3924', 'gene_2190', 'gene_1522', 'gene_4306', 'gene_900', 'gene_3154', 'gene_2435', 'gene_1777', 'gene_2676', 'gene_3021', 'gene_4047', 'gene_2607', 'gene_1836', 'gene_4180', 'gene_2657', 'gene_3930', 'gene_3068', 'gene_2708', 'gene_2789', 'gene_3516', 'gene_1477', 'gene_2369', 'gene_3724', 'gene_2346', 'gene_525', 'gene_3093', 'gene_275', 'gene_3788', 'gene_4894', 'gene_940', 'gene_382', 'gene_4078', 'gene_1464', 'gene_114', 'gene_1105', 'gene_2924', 'gene_129', 'gene_4239', 'gene_4855', 'gene_998', 'gene_1057', 'gene_3935', 'gene_2304', 'gene_2018', 'gene_1336', 'gene_1825', 'gene_2995', 'gene_863', 'gene_117', 'gene_2481', 'gene_4844', 'gene_4073', 'gene_3745', 'gene_1456', 'gene_2609', 'gene_923', 'gene_4806', 'gene_3554', 'gene_1122', 'gene_1391', 'gene_2843', 'gene_710', 'gene_926', 'gene_124', 'gene_2355', 'gene_4962', 'gene_2545', 'gene_1169', 'gene_381', 'gene_530', 'gene_1900', 'gene_1038', 'gene_2566', 'gene_3822', 'gene_2923', 'gene_2154', 'gene_2241', 'gene_313', 'gene_903', 'gene_261', 'gene_167', 'gene_917', 'gene_1996', 'gene_559', 'gene_3030', 'gene_281', 'gene_1246', 'gene_1991', 'gene_4449', 'gene_2916', 'gene_980', 'gene_1551', 'gene_819', 'gene_2833', 'gene_403', 'gene_2535', 'gene_3694', 'gene_1973', 'gene_3487', 'gene_2779', 'gene_3386', 'gene_1795', 'gene_402', 'gene_1356', 'gene_641', 'gene_2420', 'gene_1768', 'gene_1217', 'gene_2744', 'gene_3422', 'gene_3847', 'gene_2855', 'gene_3849', 'gene_1423', 'gene_2927', 'gene_2068', 'gene_4521', 'gene_782', 'gene_4562', 'gene_3241', 'gene_2626', 'gene_3337', 'gene_1031', 'gene_2547', 'gene_4724', 'gene_3058', 'gene_3219', 'gene_2758', 'gene_1970', 'gene_4366', 'gene_3345', 'gene_1340', 'gene_4169', 'gene_1817', 'gene_1967', 'gene_671', 'gene_3645', 'gene_306', 'gene_262', 'gene_1485', 'gene_3616', 'gene_4492', 'gene_858', 'gene_4214', 'gene_1055', 'gene_181', 'gene_343', 'gene_4897', 'gene_1625', 'gene_1789', 'gene_697', 'gene_868', 'gene_2889', 'gene_4060', 'gene_2767', 'gene_1624', 'gene_1725', 'gene_4242', 'gene_2401', 'gene_3223', 'gene_1738', 'gene_4342', 'gene_614', 'gene_2972', 'gene_4923', 'gene_4085', 'gene_2335', 'gene_4317', 'gene_767', 'gene_1923', 'gene_3296', 'gene_158', 'gene_3343', 'gene_241', 'gene_4495', 'gene_1264', 'gene_2898', 'gene_3723', 'gene_187', 'gene_949', 'gene_3445', 'gene_2583', 'gene_3476', 'gene_1528', 'gene_1022', 'gene_472', 'gene_4692', 'gene_490', 'gene_2009', 'gene_1076', 'gene_2291', 'gene_550', 'gene_1855', 'gene_4209', 'gene_3141']\n"
     ]
    }
   ],
   "source": [
    "# Get the common outlier genes throughout all rows\n",
    "\n",
    "comm_out_genes = list(set.intersection(*map(set, outlier_per_row.values())))\n",
    "print(len(comm_out_genes))\n",
    "print(comm_out_genes)"
   ]
  },
  {
   "cell_type": "code",
   "execution_count": null,
   "metadata": {
    "colab": {
     "base_uri": "https://localhost:8080/"
    },
    "executionInfo": {
     "elapsed": 534,
     "status": "ok",
     "timestamp": 1663003206935,
     "user": {
      "displayName": "Abdelhady Sayed",
      "userId": "09542840263844765052"
     },
     "user_tz": -120
    },
    "id": "nnzltl85b-lW",
    "outputId": "bc3023b7-757a-40ac-be19-d01311255618"
   },
   "outputs": [
    {
     "name": "stdout",
     "output_type": "stream",
     "text": [
      "gene_643 310.500579451327 329.1440095551\n",
      "gene_2150 506.946015343444 540.740186617109\n",
      "gene_2867 635.512044041328 671.572008011747\n",
      "gene_188 875.492237780597 929.19977428753\n",
      "gene_430 761.912672940754 815.53397914895\n",
      "gene_4582 470.059579340862 499.166234899211\n",
      "gene_4992 517.61709103111 552.093987622989\n",
      "gene_3556 188.289509875112 200.011877075433\n",
      "gene_4560 776.923454123631 828.584556285704\n",
      "gene_2667 600.197828478092 636.714287908547\n",
      "gene_3209 743.006728623306 787.22896125061\n",
      "gene_2511 256.819660886423 270.887643808024\n",
      "gene_573 636.090760988826 687.652666442543\n",
      "gene_2245 66.89815094127 71.2064122243412\n",
      "gene_2074 422.461187150632 452.097536721745\n",
      "gene_2721 878.574160646563 934.459823777144\n",
      "gene_657 670.182411800462 720.173134997689\n",
      "gene_3367 820.303990909841 871.307120179248\n",
      "gene_2821 294.732413222904 312.791860503926\n",
      "gene_236 287.59204880475 305.019363803074\n",
      "gene_2118 876.895637915812 929.488044155824\n",
      "gene_2327 531.626882284789 562.748877928931\n",
      "gene_631 736.803211826254 787.903635608464\n",
      "gene_1651 566.463524560314 601.957184651468\n",
      "gene_3239 333.898365274168 353.857516361613\n",
      "gene_4346 168.356125672773 178.04641069479\n",
      "gene_1623 225.451487959651 238.220485849518\n",
      "gene_3109 370.811565119942 396.388653880694\n",
      "gene_3306 906.596306453499 957.574418558921\n",
      "gene_3409 58.3238504856998 61.5595167130401\n",
      "gene_1153 303.714201985457 321.116289416614\n",
      "gene_1175 658.171639899098 702.034270257751\n",
      "gene_3097 880.780832757676 930.606320570105\n",
      "gene_436 410.618845626063 437.032359053689\n",
      "gene_3631 589.088335118149 624.94709176413\n",
      "gene_1583 358.25571132549 382.058756585883\n",
      "gene_3733 461.463747236617 489.120016649797\n",
      "gene_4629 325.588996089245 350.029312851056\n",
      "gene_4604 305.144470494718 321.967118123866\n",
      "gene_4708 593.417152575898 632.527326363572\n",
      "gene_4920 298.526616852036 317.280938849865\n",
      "gene_3652 711.533058155646 753.671629164798\n",
      "gene_3801 810.020395445432 858.394982065513\n",
      "gene_1301 905.064517012194 971.856331681272\n",
      "gene_3891 895.967948176096 952.647081380964\n",
      "gene_3278 451.755658782354 478.480473032595\n",
      "gene_1162 694.259005085258 745.987992093415\n",
      "gene_3031 920.522218113791 975.963230302573\n",
      "gene_612 489.724479640929 517.550121023007\n",
      "gene_1125 664.525153678206 705.983381318751\n",
      "gene_2172 327.065581093882 348.01912972613\n",
      "gene_1998 481.941357354841 511.615265436953\n",
      "gene_1851 914.796955710396 968.654451719696\n",
      "gene_2619 215.368050905383 227.870953111602\n",
      "gene_3369 322.757907685626 342.273644932336\n",
      "gene_4779 583.412665106085 616.362590953701\n",
      "gene_714 471.832981702215 501.927898278579\n",
      "gene_246 950.703035059431 1012.97530685814\n",
      "gene_1163 376.248445606626 403.325120372292\n",
      "gene_4011 520.806530477979 559.562175120917\n",
      "gene_3283 820.879285450402 873.397903467067\n",
      "gene_3666 347.035929537165 370.553654507301\n",
      "gene_132 146.914089083231 156.117445513209\n",
      "gene_3921 448.508206616992 476.010295799441\n",
      "gene_2894 744.462498563445 791.986253022784\n",
      "gene_3380 779.332229129765 825.994942218087\n",
      "gene_724 129.518990587595 136.78679507827\n",
      "gene_2173 749.331680368938 793.370812571131\n",
      "gene_565 462.10871581866 489.52812213824\n",
      "gene_4093 678.411817425729 729.792979550318\n",
      "gene_1234 508.546585236732 541.350297436913\n",
      "gene_851 417.574794918819 445.110674874854\n",
      "gene_1434 76.5827473144732 81.5643280680145\n",
      "gene_1556 475.041369563793 503.111282251054\n",
      "gene_90 785.305209292489 834.881409397357\n",
      "gene_993 459.844997385296 490.613161994112\n",
      "gene_2842 747.174545798144 790.364270142162\n",
      "gene_4436 903.220736907816 967.102390670085\n",
      "gene_3888 711.350558210017 760.139719925671\n",
      "gene_2644 137.385442508801 147.222014074932\n",
      "gene_2573 437.032398871033 465.218275479621\n",
      "gene_2628 294.962307987246 313.503876765926\n",
      "gene_3625 518.958566903353 548.504131846692\n",
      "gene_2067 915.51576796673 971.90587799403\n",
      "gene_2052 156.50167487023 167.386122412422\n",
      "gene_337 634.265855364512 674.057111155906\n",
      "gene_711 583.109271493618 616.993632374932\n",
      "gene_1956 58.180419645259 62.1487096294219\n",
      "gene_3166 336.439165011518 357.505194980854\n",
      "gene_802 525.591869698783 556.552777223763\n",
      "gene_2764 723.877834551494 765.308582168966\n",
      "gene_2796 902.654610991331 968.83066546213\n",
      "gene_2832 674.318134912553 711.612251886119\n",
      "gene_4297 405.459113111714 429.745102511521\n",
      "gene_3674 164.307718660767 173.850131148607\n",
      "gene_2592 489.357888028326 519.395243973054\n",
      "gene_4016 337.402768042271 357.329274437263\n",
      "gene_3579 639.888490530102 691.44240926278\n",
      "gene_1749 240.69522284257 256.215736289997\n",
      "gene_2418 394.521014544393 416.979585117921\n",
      "gene_4808 337.384317197967 356.706468464798\n",
      "gene_2116 304.809109064299 321.889055637164\n",
      "gene_4035 564.798126519653 595.595611422136\n",
      "gene_409 584.067266689337 623.396221327206\n",
      "gene_3079 607.847323875769 644.203887317166\n",
      "gene_3340 260.177417343044 274.852187203474\n",
      "gene_1631 822.017663216602 866.579357966439\n",
      "gene_2171 499.597201782872 528.202073927866\n",
      "gene_4228 774.93739795472 825.799967106424\n",
      "gene_1734 402.785113842585 431.417008609502\n",
      "gene_3170 424.818842487983 451.47702342295\n",
      "gene_4439 429.310684886092 453.75996683304\n",
      "gene_512 915.001610725811 966.698787720532\n",
      "gene_816 926.16139791667 982.707869610512\n",
      "gene_4994 870.190863890927 921.123494629087\n",
      "gene_3493 108.40703742702 115.31883925672\n",
      "gene_2407 743.4197644009 786.779645427399\n",
      "gene_2440 223.995515281588 237.835279765677\n",
      "gene_50 757.923997138137 808.978059229185\n",
      "gene_4198 507.176847032073 538.950251806037\n",
      "gene_933 210.563109916501 223.316095349177\n",
      "gene_162 60.9856830670081 65.1368572719095\n",
      "gene_3622 684.502085256098 724.592603636266\n",
      "gene_552 371.645186701026 396.560809487544\n",
      "gene_3865 732.622422483856 779.361794417767\n",
      "gene_4879 243.946344749562 257.792671717404\n",
      "gene_649 473.862383521062 502.481193990242\n",
      "gene_25 928.544394127897 991.677175252514\n",
      "gene_1711 789.15456472362 833.040703660083\n",
      "gene_504 675.915312373851 718.430853237411\n",
      "gene_4838 568.427873239786 603.646794946221\n",
      "gene_3630 903.066269371695 957.401095377308\n",
      "gene_2578 540.523531127194 573.731554385014\n",
      "gene_209 138.124021503653 147.265124544282\n",
      "gene_3515 502.893155200815 535.090947909139\n",
      "gene_2425 117.474809952548 125.003955157035\n",
      "gene_4510 864.651671283178 924.468676251583\n",
      "gene_3869 770.198078436472 819.001405844643\n",
      "gene_4482 403.97092839457 429.784058554191\n",
      "gene_758 497.934132488301 529.006670401249\n",
      "gene_1640 191.200503130782 203.068069894442\n",
      "gene_2747 481.537671424753 516.713320678879\n",
      "gene_203 649.957418947626 693.804939143935\n",
      "gene_1414 901.562000911197 965.24451707003\n",
      "gene_3928 405.024191302123 428.82895111823\n",
      "gene_2282 133.623091841303 142.777818390387\n",
      "gene_1117 266.98050981911 283.416284844236\n",
      "gene_2461 846.702842708222 897.520517270747\n",
      "gene_4155 530.870801665479 564.86912127342\n",
      "gene_4828 152.867516510684 162.672704396809\n",
      "gene_2571 900.89919585107 953.925288487959\n",
      "gene_4589 836.808788460242 892.257718634631\n",
      "gene_4243 566.379274558131 600.818673143308\n",
      "gene_2562 387.197285419751 410.180259371502\n",
      "gene_78 661.735093142466 699.179176122666\n",
      "gene_4590 207.700142126459 222.350706061242\n",
      "gene_3604 439.697259006024 467.181295438836\n",
      "gene_3950 755.568711733274 807.674707917938\n",
      "gene_4479 472.726747139451 502.313983167516\n",
      "gene_2382 520.308639360334 550.276331649654\n",
      "gene_1832 595.952998285909 635.005565728541\n",
      "gene_3999 153.010039222333 162.944747697825\n",
      "gene_4986 644.815704049951 681.900977576738\n",
      "gene_4284 523.196173954938 554.942976415119\n",
      "gene_4173 602.741767147582 637.354238424503\n",
      "gene_508 536.228716670173 568.773833874827\n",
      "gene_1305 229.594242619614 245.259222031626\n",
      "gene_2825 160.6734363278 171.119621611134\n",
      "gene_1203 431.071889053057 459.97913422329\n",
      "gene_1370 515.331571642474 543.187782280807\n",
      "gene_4817 688.614979627299 731.782142264869\n",
      "gene_2827 801.850608673063 855.453694968435\n",
      "gene_2915 376.78692173065 399.746916225151\n",
      "gene_555 301.371693238927 321.106592339064\n",
      "gene_1143 510.402741665107 538.332648725995\n",
      "gene_1600 236.400416118956 251.846301368964\n",
      "gene_1799 591.421267396215 626.009010940858\n",
      "gene_3977 553.60460000168 585.698300249301\n",
      "gene_3800 536.359975706364 569.651211743505\n",
      "gene_2179 419.732404913123 441.949363916087\n",
      "gene_4496 825.496860023352 877.29868822452\n",
      "gene_3167 918.160009752939 977.435778723612\n",
      "gene_2196 482.449377390282 513.342679335815\n",
      "gene_1549 726.667009193012 767.433582521412\n",
      "gene_1920 156.039890032998 165.553218711766\n",
      "gene_3924 407.850279384844 433.724184183388\n",
      "gene_2190 824.467309003688 874.885079284113\n",
      "gene_1522 468.028814824767 497.897296169047\n",
      "gene_4306 912.311092494045 976.933980907232\n",
      "gene_900 598.923741766949 638.746807910356\n",
      "gene_3154 907.286300479921 973.66114270807\n",
      "gene_2435 394.923158614775 423.889352268818\n",
      "gene_1777 886.661997300943 950.226456931534\n",
      "gene_2676 748.79978746302 795.292321427079\n",
      "gene_3021 687.433334948538 726.778103998944\n",
      "gene_4047 161.144350503326 170.663233434025\n",
      "gene_2607 108.364357136169 114.700339841647\n",
      "gene_1836 533.019174180675 575.483875498768\n",
      "gene_4180 303.091747495521 320.73662912407\n",
      "gene_2657 176.888880848801 188.126953463998\n",
      "gene_3930 747.663605806339 795.916002906083\n",
      "gene_3068 203.515996184996 215.305466575735\n",
      "gene_2708 799.717019536789 851.795569684422\n",
      "gene_2789 635.347801530835 675.84034649774\n",
      "gene_3516 706.050104245604 750.302839247854\n",
      "gene_1477 139.059379070765 148.380585170205\n",
      "gene_2369 935.165236877797 997.040767544131\n",
      "gene_3724 591.53395899192 623.44905769092\n",
      "gene_2346 215.021390275893 229.079486741663\n",
      "gene_525 758.706299719334 805.677788866695\n",
      "gene_3093 443.263317749334 470.503125339776\n",
      "gene_275 346.421122005258 366.899754134562\n",
      "gene_3788 437.055573721188 471.07859766818\n",
      "gene_4894 237.352881951128 251.1024155584\n",
      "gene_940 468.257287573253 496.750967500024\n",
      "gene_382 348.659001189692 366.624692143438\n",
      "gene_4078 110.470626581451 117.035657254374\n",
      "gene_1464 641.881692879396 681.123248869366\n",
      "gene_114 430.702218773884 455.901994381457\n",
      "gene_1105 191.672996118895 203.236052897971\n",
      "gene_2924 271.034010834106 288.452265186872\n",
      "gene_129 597.973062850275 633.415626293718\n",
      "gene_4239 295.995476921692 316.088118459681\n",
      "gene_4855 403.386444910388 425.040826976103\n",
      "gene_998 506.788196715664 540.481852506938\n",
      "gene_1057 840.631051384441 900.667770075711\n",
      "gene_3935 507.392625176552 543.972912827649\n",
      "gene_2304 465.552272961229 494.405826454505\n",
      "gene_2018 515.489939589193 549.853296950076\n",
      "gene_1336 821.042561879625 881.397093072472\n",
      "gene_1825 765.63337379393 815.661474757025\n",
      "gene_2995 448.058577094651 476.122410735891\n",
      "gene_863 153.149094204035 163.741375695476\n",
      "gene_117 95.1924075353576 100.964345767836\n",
      "gene_2481 242.687132359428 255.847660691542\n",
      "gene_4844 402.374518448257 427.286274384721\n",
      "gene_4073 661.155942324366 699.266877944832\n",
      "gene_3745 337.258730292386 360.17405168073\n",
      "gene_1456 424.680623827483 450.33842465597\n",
      "gene_2609 954.053841251134 1008.33018390612\n",
      "gene_923 376.024053902255 400.877217137839\n",
      "gene_4806 74.6093918947041 79.1204222537718\n",
      "gene_3554 88.5310376642258 93.592405827816\n",
      "gene_1122 345.361273294295 365.697660577028\n",
      "gene_1391 740.764892955346 784.059566818666\n",
      "gene_2843 656.501825546925 694.190599332763\n",
      "gene_710 78.1265696273623 83.7155377790401\n",
      "gene_926 160.949320412063 170.379685226413\n",
      "gene_124 157.356489786095 167.987392138857\n",
      "gene_2355 159.995972050271 170.567312939833\n",
      "gene_4962 435.10650132669 461.97240908597\n",
      "gene_2545 711.35122354597 757.560789380032\n",
      "gene_1169 574.921623899985 607.360253238645\n",
      "gene_381 428.170177895431 455.977826696576\n",
      "gene_530 965.343730316847 1023.79382739642\n",
      "gene_1900 518.262857595555 559.63918932859\n",
      "gene_1038 104.5631802519 111.325951547393\n",
      "gene_2566 254.301316495469 268.331708757847\n",
      "gene_3822 706.755289279103 750.924747514485\n",
      "gene_2923 244.256681989193 258.582423645393\n",
      "gene_2154 463.446806002461 493.07021833303\n",
      "gene_2241 894.581636129589 953.140850918807\n",
      "gene_313 557.979012821383 595.564526043879\n",
      "gene_903 474.988067863981 511.95007028951\n",
      "gene_261 911.45947614753 965.432613641469\n",
      "gene_167 770.167866193199 812.447016065413\n",
      "gene_917 517.881877756893 556.48759393299\n",
      "gene_1996 257.361442994527 273.257418565707\n",
      "gene_559 947.11978280203 1004.00177248488\n",
      "gene_3030 53.450138343955 56.6513437573314\n",
      "gene_281 505.775051248775 535.225157596309\n",
      "gene_1246 94.1393754354029 99.6706362535839\n",
      "gene_1991 818.854361425139 867.378193036872\n",
      "gene_4449 383.964665025669 405.245639208421\n",
      "gene_2916 285.881284471569 303.363229999209\n",
      "gene_980 797.425990349712 855.299419499796\n",
      "gene_1551 228.301862966037 244.375105300613\n",
      "gene_819 668.445161635047 712.763442486559\n",
      "gene_2833 370.029995028292 393.755129583656\n",
      "gene_403 691.362558564472 733.511339756846\n",
      "gene_2535 577.531090435034 616.690135184272\n",
      "gene_3694 291.772737752088 311.957982528116\n",
      "gene_1973 141.474148222592 149.751209026856\n",
      "gene_3487 853.880599020213 906.271750256889\n",
      "gene_2779 402.6160236286 428.694859425942\n",
      "gene_3386 460.227345881611 487.725838650877\n",
      "gene_1795 575.155813984804 608.565473899234\n",
      "gene_402 326.217228519245 347.269975360308\n",
      "gene_1356 694.383136934066 740.305701366977\n",
      "gene_641 292.468498726429 309.579367308988\n",
      "gene_2420 901.09176782974 962.574285919979\n",
      "gene_1768 237.064258505425 252.998658034281\n",
      "gene_1217 68.0121365944817 71.8877243356078\n",
      "gene_2744 620.171734832512 665.786082141946\n",
      "gene_3422 272.126189061746 289.865317973672\n",
      "gene_3847 757.738698660451 812.237002478415\n",
      "gene_2855 890.776290396441 948.070869642707\n",
      "gene_3849 293.960096764274 314.170837013434\n",
      "gene_1423 87.1904912350574 92.6259683179945\n",
      "gene_2927 841.357349239352 902.128363384582\n",
      "gene_2068 120.516533659797 129.033740188215\n",
      "gene_4521 889.731909816756 945.888044485108\n",
      "gene_782 793.978536952988 847.103275839382\n",
      "gene_4562 950.038949539741 1008.86107422295\n",
      "gene_3241 156.502292584849 167.05871024162\n",
      "gene_2626 332.658309487841 353.721710739014\n",
      "gene_3337 102.098499285316 109.156595462169\n",
      "gene_1031 730.075489204322 775.381034291416\n",
      "gene_2547 480.766426124118 514.15993266811\n",
      "gene_4724 646.066516447681 684.59864790721\n",
      "gene_3058 95.5946985729213 103.074040093527\n",
      "gene_3219 936.757718813884 1009.10044662393\n",
      "gene_2758 390.153874167199 415.45787422707\n",
      "gene_1970 140.578130213798 149.686925001758\n",
      "gene_4366 275.065846213968 290.693586530165\n",
      "gene_3345 878.02434808745 934.915323774625\n",
      "gene_1340 167.489528372421 177.698223140505\n",
      "gene_4169 337.08940245942 356.67509051203\n",
      "gene_1817 358.470207952483 381.114889421692\n",
      "gene_1967 643.026912503766 682.547311032102\n",
      "gene_671 265.936738653328 282.885752802188\n",
      "gene_3645 480.673968631372 508.042110539148\n",
      "gene_306 849.206469424578 903.71541262701\n",
      "gene_262 68.1517080837351 71.9739874823641\n",
      "gene_1485 298.226053268492 319.136170201928\n",
      "gene_3616 191.593994996905 203.414477305424\n",
      "gene_4492 936.270429542205 996.007580801683\n",
      "gene_858 270.441329709549 285.990723992159\n",
      "gene_4214 946.563819300261 1013.44483964028\n",
      "gene_1055 303.445044808195 323.581115745798\n",
      "gene_181 585.255499626312 623.253101600036\n",
      "gene_343 727.610160074875 774.384949101381\n",
      "gene_4897 526.632210066791 560.432329387628\n",
      "gene_1625 113.01298228229 120.88694654218\n",
      "gene_1789 909.689602313453 973.297361780852\n",
      "gene_697 470.959971370188 501.721466117565\n",
      "gene_868 511.402850177809 544.328063723309\n",
      "gene_2889 826.401440150815 876.642757740447\n",
      "gene_4060 620.588611395238 663.27338076846\n",
      "gene_2767 955.092308761338 1021.35493199903\n",
      "gene_1624 592.927523384332 628.529458183143\n",
      "gene_1725 675.757436076211 723.128483489583\n",
      "gene_4242 571.193681839974 609.203411398283\n",
      "gene_2401 832.546166999173 887.196527240878\n",
      "gene_3223 871.68083323989 930.694101324058\n",
      "gene_1738 309.610848683913 330.157857674923\n",
      "gene_4342 687.045167517743 733.135492017263\n",
      "gene_614 520.110926116464 555.876415047272\n",
      "gene_2972 79.6032571576465 84.8633707078874\n",
      "gene_4923 517.046384745504 554.80228692661\n",
      "gene_4085 497.213426837164 529.138289461618\n",
      "gene_2335 958.996695909721 1028.32402170987\n",
      "gene_4317 672.516810507569 716.563675404323\n",
      "gene_767 175.278360585954 185.333113400974\n",
      "gene_1923 220.634274294018 234.012769635693\n",
      "gene_3296 277.317495944144 297.061793829664\n",
      "gene_158 874.075891790283 935.754393175963\n",
      "gene_3343 631.645054496252 668.275919225865\n",
      "gene_241 493.448739292388 523.499445592442\n",
      "gene_4495 171.513960277834 182.158967007448\n",
      "gene_1264 384.449698012523 408.121018363688\n",
      "gene_2898 700.853532877491 747.061436497367\n",
      "gene_3723 216.980414283259 229.016156111804\n",
      "gene_187 718.755660441588 763.754317291415\n",
      "gene_949 281.345351363418 299.525905978818\n",
      "gene_3445 394.212521545181 417.516037991887\n",
      "gene_2583 463.603411538746 495.344397559794\n",
      "gene_3476 367.575781175993 389.580157066135\n",
      "gene_1528 375.998346205191 397.207651776448\n",
      "gene_1022 471.99989007172 502.968887538967\n",
      "gene_472 388.005174361594 416.677222154039\n",
      "gene_4692 693.783973540125 737.303950935995\n",
      "gene_490 823.429296262574 873.304619759678\n",
      "gene_2009 681.112529614869 720.379390870733\n",
      "gene_1076 789.88608098987 840.506968960013\n",
      "gene_2291 514.103095859623 547.135531289746\n",
      "gene_550 819.242477977295 872.856823869423\n",
      "gene_1855 946.857184947131 1007.48722539355\n",
      "gene_4209 381.154514316546 404.026628228639\n",
      "gene_3141 557.386553096401 596.680183117465\n"
     ]
    }
   ],
   "source": [
    "# check min, max values in those outlier genes to assure that they are already outliers\n",
    "# and not effective for classification \n",
    "\n",
    "for gene in comm_out_genes:\n",
    "  print(gene, min(clean_df1[gene]), max(clean_df1[gene]))"
   ]
  },
  {
   "cell_type": "code",
   "execution_count": null,
   "metadata": {
    "colab": {
     "base_uri": "https://localhost:8080/"
    },
    "executionInfo": {
     "elapsed": 18,
     "status": "ok",
     "timestamp": 1663003206936,
     "user": {
      "displayName": "Abdelhady Sayed",
      "userId": "09542840263844765052"
     },
     "user_tz": -120
    },
    "id": "Ti3vcfbVUBMo",
    "outputId": "61b85d29-8cdb-4b66-fc55-788e366d8b40"
   },
   "outputs": [
    {
     "data": {
      "text/plain": [
       "(600, 3571)"
      ]
     },
     "execution_count": 54,
     "metadata": {},
     "output_type": "execute_result"
    }
   ],
   "source": [
    "## Drop all this list of common outlier genes from our dataframe\n",
    "\n",
    "clean_df2 = clean_df1.drop(comm_out_genes, axis=1)\n",
    "clean_df2.shape"
   ]
  },
  {
   "cell_type": "markdown",
   "metadata": {
    "id": "tf-UVwXjd4zS"
   },
   "source": [
    "> #### b- Remove outlier samples using binning and distribution of sum of read counts throughout the rows"
   ]
  },
  {
   "cell_type": "code",
   "execution_count": null,
   "metadata": {
    "colab": {
     "base_uri": "https://localhost:8080/",
     "height": 873
    },
    "executionInfo": {
     "elapsed": 356,
     "status": "ok",
     "timestamp": 1663003207284,
     "user": {
      "displayName": "Abdelhady Sayed",
      "userId": "09542840263844765052"
     },
     "user_tz": -120
    },
    "id": "ifiLy8HP_Jn2",
    "outputId": "9ac5a66c-76be-484d-9aa2-db68ba529f88"
   },
   "outputs": [
    {
     "data": {
      "text/plain": [
       "(array([ 1.,  1.,  0.,  1.,  0.,  2.,  2.,  1.,  2.,  1.,  3.,  0.,  0.,\n",
       "         0.,  0.,  0.,  1.,  3.,  6.,  5.,  4.,  3.,  7.,  1.,  3.,  7.,\n",
       "         8.,  5., 11., 14.,  9., 10., 10.,  7.,  7., 14., 10., 14., 17.,\n",
       "        10., 11., 10., 21., 23., 21., 16., 20., 14., 15., 15., 14., 12.,\n",
       "        15.,  9.,  9., 15., 18.,  9.,  9., 12.,  7., 10., 14., 15.,  5.,\n",
       "         4.,  7.,  5.,  5.,  7.,  2.,  4.,  6.,  2.,  4.,  0.,  1.,  1.,\n",
       "         1.,  2.,  2.,  0.,  1.,  0.,  2.,  0.,  2.,  0.,  0.,  0.,  1.,\n",
       "         1.,  0.,  0.,  0.,  0.,  0.,  0.,  0.,  1.]),\n",
       " array([33702.37380695, 33733.17198429, 33763.97016163, 33794.76833897,\n",
       "        33825.56651631, 33856.36469365, 33887.16287099, 33917.96104833,\n",
       "        33948.75922567, 33979.55740301, 34010.35558035, 34041.15375769,\n",
       "        34071.95193502, 34102.75011236, 34133.5482897 , 34164.34646704,\n",
       "        34195.14464438, 34225.94282172, 34256.74099906, 34287.5391764 ,\n",
       "        34318.33735374, 34349.13553108, 34379.93370842, 34410.73188576,\n",
       "        34441.5300631 , 34472.32824044, 34503.12641778, 34533.92459512,\n",
       "        34564.72277246, 34595.5209498 , 34626.31912713, 34657.11730447,\n",
       "        34687.91548181, 34718.71365915, 34749.51183649, 34780.31001383,\n",
       "        34811.10819117, 34841.90636851, 34872.70454585, 34903.50272319,\n",
       "        34934.30090053, 34965.09907787, 34995.89725521, 35026.69543255,\n",
       "        35057.49360989, 35088.29178723, 35119.08996457, 35149.8881419 ,\n",
       "        35180.68631924, 35211.48449658, 35242.28267392, 35273.08085126,\n",
       "        35303.8790286 , 35334.67720594, 35365.47538328, 35396.27356062,\n",
       "        35427.07173796, 35457.8699153 , 35488.66809264, 35519.46626998,\n",
       "        35550.26444732, 35581.06262466, 35611.860802  , 35642.65897934,\n",
       "        35673.45715668, 35704.25533401, 35735.05351135, 35765.85168869,\n",
       "        35796.64986603, 35827.44804337, 35858.24622071, 35889.04439805,\n",
       "        35919.84257539, 35950.64075273, 35981.43893007, 36012.23710741,\n",
       "        36043.03528475, 36073.83346209, 36104.63163943, 36135.42981677,\n",
       "        36166.22799411, 36197.02617145, 36227.82434878, 36258.62252612,\n",
       "        36289.42070346, 36320.2188808 , 36351.01705814, 36381.81523548,\n",
       "        36412.61341282, 36443.41159016, 36474.2097675 , 36505.00794484,\n",
       "        36535.80612218, 36566.60429952, 36597.40247686, 36628.2006542 ,\n",
       "        36658.99883154, 36689.79700888, 36720.59518622, 36751.39336355,\n",
       "        36782.19154089]),\n",
       " <a list of 100 Patch objects>)"
      ]
     },
     "execution_count": 55,
     "metadata": {},
     "output_type": "execute_result"
    },
    {
     "data": {
      "image/png": "[encoded data removed]",
      "text/plain": [
       "<Figure size 432x288 with 1 Axes>"
      ]
     },
     "metadata": {
      "needs_background": "light"
     },
     "output_type": "display_data"
    }
   ],
   "source": [
    "# Histogram of 100 bins of row sums and distribution counts\n",
    "\n",
    "df_sum = clean_df2.sum(axis=1)\n",
    "plt.hist(df_sum, bins=100)"
   ]
  },
  {
   "cell_type": "code",
   "execution_count": null,
   "metadata": {
    "colab": {
     "base_uri": "https://localhost:8080/"
    },
    "executionInfo": {
     "elapsed": 19,
     "status": "ok",
     "timestamp": 1663003207285,
     "user": {
      "displayName": "Abdelhady Sayed",
      "userId": "09542840263844765052"
     },
     "user_tz": -120
    },
    "id": "nTlu571J_Pql",
    "outputId": "3a8f47c3-57de-44d9-a06d-b7ebdc4a9aa9"
   },
   "outputs": [
    {
     "name": "stdout",
     "output_type": "stream",
     "text": [
      "(600, 3571)\n",
      "(586, 3571)\n",
      "(571, 3571)\n"
     ]
    }
   ],
   "source": [
    "# from the above histogram we decide to remove rows with sum <34200 or >36000 and see the shape of dataframe\n",
    "\n",
    "print(clean_df2.shape)\n",
    "clean_df3 = clean_df2.loc[df_sum>34200]\n",
    "print(clean_df3.shape)\n",
    "clean_df3 = clean_df3.loc[df_sum<36000]\n",
    "print(clean_df3.shape)"
   ]
  },
  {
   "cell_type": "markdown",
   "metadata": {
    "id": "nqe2DzpJfrjG"
   },
   "source": [
    "**Finally check if the classes ratio is affected by removal of outlier rows**"
   ]
  },
  {
   "cell_type": "code",
   "execution_count": null,
   "metadata": {
    "colab": {
     "base_uri": "https://localhost:8080/"
    },
    "executionInfo": {
     "elapsed": 17,
     "status": "ok",
     "timestamp": 1663003207287,
     "user": {
      "displayName": "Abdelhady Sayed",
      "userId": "09542840263844765052"
     },
     "user_tz": -120
    },
    "id": "i4O_1fiqffBX",
    "outputId": "872f6043-5921-4e4a-8cbb-6a8be45aff4b"
   },
   "outputs": [
    {
     "data": {
      "text/plain": [
       "(571, 3572)"
      ]
     },
     "execution_count": 57,
     "metadata": {},
     "output_type": "execute_result"
    }
   ],
   "source": [
    "# combine clean_df3 with target after removal of outlier rows from target\n",
    "clean_target = target_df.loc[clean_df3.index]\n",
    "clean_df3 = pd.concat([clean_df3,clean_target], axis=1)\n",
    "clean_df3.shape"
   ]
  },
  {
   "cell_type": "code",
   "execution_count": null,
   "metadata": {
    "colab": {
     "base_uri": "https://localhost:8080/"
    },
    "executionInfo": {
     "elapsed": 15,
     "status": "ok",
     "timestamp": 1663003207288,
     "user": {
      "displayName": "Abdelhady Sayed",
      "userId": "09542840263844765052"
     },
     "user_tz": -120
    },
    "id": "DX5RugosUBMo",
    "outputId": "bee47685-97d3-48d1-803a-b20b447728e7"
   },
   "outputs": [
    {
     "name": "stdout",
     "output_type": "stream",
     "text": [
      "(356, 3572)\n",
      "(215, 3572)\n"
     ]
    }
   ],
   "source": [
    "# check the shape of each class number of rows\n",
    "\n",
    "clean_df3_0 = clean_df3[clean_df3['class'] == 0]\n",
    "clean_df3_1 = clean_df3[clean_df3['class'] == 1]\n",
    "print(clean_df3_0.shape)\n",
    "print(clean_df3_1.shape)"
   ]
  },
  {
   "cell_type": "markdown",
   "metadata": {
    "id": "C1T1tnoGUBMo"
   },
   "source": [
    "### >>> note: ratio of each class is not affected by removal of outlier rows\n",
    "\n"
   ]
  },
  {
   "cell_type": "markdown",
   "metadata": {
    "id": "5CRYsFFMKgl2"
   },
   "source": [
    "## At this point we removed a total of: \n",
    "###### 50(all null col) + 72(duplicate col) + 2(all zeros col) + 350 (>=25% of gene elements null) + 4 (mixed null& zeros) + 571 (low count genes) + 380 (extreme outliers)= 1429 genes out of 5000 genes\n",
    "###### 29 outlier samples were from 600 so the remaining samples are = 571\n",
    "\n",
    "#### so our dataframe now had 571 rows and 3571 columns "
   ]
  },
  {
   "cell_type": "markdown",
   "metadata": {
    "id": "DtHJwVQjUBMq"
   },
   "source": [
    "> ## Preprocessing steps:\n",
    ">#### 11- Replacing missing values"
   ]
  },
  {
   "cell_type": "code",
   "execution_count": null,
   "metadata": {
    "colab": {
     "base_uri": "https://localhost:8080/"
    },
    "executionInfo": {
     "elapsed": 1767,
     "status": "ok",
     "timestamp": 1663003209044,
     "user": {
      "displayName": "Abdelhady Sayed",
      "userId": "09542840263844765052"
     },
     "user_tz": -120
    },
    "id": "zm4DPnl2UBMq",
    "outputId": "c0653c25-641b-4e16-cbb9-a08c3882dd14"
   },
   "outputs": [
    {
     "name": "stderr",
     "output_type": "stream",
     "text": [
      "/usr/local/lib/python3.7/dist-packages/pandas/core/generic.py:6392: SettingWithCopyWarning: \n",
      "A value is trying to be set on a copy of a slice from a DataFrame\n",
      "\n",
      "See the caveats in the documentation: https://pandas.pydata.org/pandas-docs/stable/user_guide/indexing.html#returning-a-view-versus-a-copy\n",
      "  return self._update_inplace(result)\n"
     ]
    }
   ],
   "source": [
    "# replace null values in class 0 by mean of each column\n",
    "\n",
    "for column in clean_df3_0.columns:\n",
    "    col_mean = clean_df3_0[column].mean()\n",
    "    clean_df3_0[column].fillna(col_mean,inplace= True)"
   ]
  },
  {
   "cell_type": "code",
   "execution_count": null,
   "metadata": {
    "id": "qlyzKIPCUBMr"
   },
   "outputs": [],
   "source": [
    "# replace null values in class 1 by mean of each column\n",
    "\n",
    "for column in clean_df3_1.columns:\n",
    "    col_mean = clean_df3_1[column].mean()\n",
    "    clean_df3_1[column].fillna(col_mean,inplace= True)"
   ]
  },
  {
   "cell_type": "code",
   "execution_count": null,
   "metadata": {
    "colab": {
     "base_uri": "https://localhost:8080/"
    },
    "executionInfo": {
     "elapsed": 26,
     "status": "ok",
     "timestamp": 1663003210168,
     "user": {
      "displayName": "Abdelhady Sayed",
      "userId": "09542840263844765052"
     },
     "user_tz": -120
    },
    "id": "DNns4-bsUBMr",
    "outputId": "c14ccdaf-4b7f-4b20-dee3-4edeffedfdaf",
    "scrolled": true
   },
   "outputs": [
    {
     "name": "stdout",
     "output_type": "stream",
     "text": [
      "0\n",
      "0\n"
     ]
    }
   ],
   "source": [
    "# check that all null values were replaced \n",
    "\n",
    "print (clean_df3_0.isnull().sum().sum())\n",
    "print (clean_df3_1.isnull().sum().sum())"
   ]
  },
  {
   "cell_type": "code",
   "execution_count": null,
   "metadata": {
    "colab": {
     "base_uri": "https://localhost:8080/"
    },
    "executionInfo": {
     "elapsed": 19,
     "status": "ok",
     "timestamp": 1663003210168,
     "user": {
      "displayName": "Abdelhady Sayed",
      "userId": "09542840263844765052"
     },
     "user_tz": -120
    },
    "id": "zCokw5RzUBMr",
    "outputId": "5406042a-fa6c-456f-bd3d-a9cd5fac9457"
   },
   "outputs": [
    {
     "data": {
      "text/plain": [
       "(571, 3572)"
      ]
     },
     "execution_count": 62,
     "metadata": {},
     "output_type": "execute_result"
    }
   ],
   "source": [
    "# finally combine the two classes dataframes\n",
    "\n",
    "clean_df3 = pd.concat([clean_df3_0,clean_df3_1],axis=0)\n",
    "clean_df3.shape"
   ]
  },
  {
   "cell_type": "markdown",
   "metadata": {
    "id": "QAlqRbVMoTbW"
   },
   "source": [
    "> ## Preprocessing steps:\n",
    "> #### 12- Check correlation between columns and remove highly correlated columns "
   ]
  },
  {
   "cell_type": "code",
   "execution_count": null,
   "metadata": {
    "id": "9ZrWcEuYoseM"
   },
   "outputs": [],
   "source": [
    "X = clean_df3.iloc[:,:-1]\n",
    "y = clean_df3.iloc[:, -1]"
   ]
  },
  {
   "cell_type": "code",
   "execution_count": null,
   "metadata": {
    "id": "7hd02UInouto"
   },
   "outputs": [],
   "source": [
    "# with the following function we can select highly correlated features\n",
    "# it will remove the first feature that is correlated with anything other feature\n",
    "\n",
    "def correlation(dataset, threshold):\n",
    "    col_corr = set()  # Set of all the names of correlated columns\n",
    "    corr_matrix = dataset.corr()\n",
    "    for i in range(len(corr_matrix.columns)):\n",
    "        for j in range(i):\n",
    "            if abs(corr_matrix.iloc[i, j]) > threshold: # we are interested in absolute coeff value\n",
    "                colname = corr_matrix.columns[i]  # getting the name of column\n",
    "                col_corr.add(colname)\n",
    "    return col_corr"
   ]
  },
  {
   "cell_type": "code",
   "execution_count": null,
   "metadata": {
    "colab": {
     "base_uri": "https://localhost:8080/"
    },
    "executionInfo": {
     "elapsed": 232130,
     "status": "ok",
     "timestamp": 1663003442289,
     "user": {
      "displayName": "Abdelhady Sayed",
      "userId": "09542840263844765052"
     },
     "user_tz": -120
    },
    "id": "T6lBBsu5o13Q",
    "outputId": "4282366a-bf3a-4539-aca5-16706c6f6ff3"
   },
   "outputs": [
    {
     "data": {
      "text/plain": [
       "37"
      ]
     },
     "execution_count": 65,
     "metadata": {},
     "output_type": "execute_result"
    }
   ],
   "source": [
    "# check correlated genes with threshold corr >= 0.7\n",
    "corr_features = correlation(X, 0.7)\n",
    "len(set(corr_features))"
   ]
  },
  {
   "cell_type": "code",
   "execution_count": null,
   "metadata": {
    "colab": {
     "base_uri": "https://localhost:8080/"
    },
    "executionInfo": {
     "elapsed": 57,
     "status": "ok",
     "timestamp": 1663003442290,
     "user": {
      "displayName": "Abdelhady Sayed",
      "userId": "09542840263844765052"
     },
     "user_tz": -120
    },
    "id": "FqbJw2lEpB4N",
    "outputId": "d80be2a8-ebcf-4683-8681-cdd76b2a7311"
   },
   "outputs": [
    {
     "data": {
      "text/plain": [
       "{'gene_128',\n",
       " 'gene_1553',\n",
       " 'gene_1702',\n",
       " 'gene_1947',\n",
       " 'gene_2160',\n",
       " 'gene_2352',\n",
       " 'gene_2373',\n",
       " 'gene_2380',\n",
       " 'gene_253',\n",
       " 'gene_2734',\n",
       " 'gene_2807',\n",
       " 'gene_2864',\n",
       " 'gene_2919',\n",
       " 'gene_2949',\n",
       " 'gene_3070',\n",
       " 'gene_3234',\n",
       " 'gene_3248',\n",
       " 'gene_3314',\n",
       " 'gene_3466',\n",
       " 'gene_3531',\n",
       " 'gene_3914',\n",
       " 'gene_3961',\n",
       " 'gene_3972',\n",
       " 'gene_3986',\n",
       " 'gene_4022',\n",
       " 'gene_4087',\n",
       " 'gene_4167',\n",
       " 'gene_4396',\n",
       " 'gene_4440',\n",
       " 'gene_4503',\n",
       " 'gene_4721',\n",
       " 'gene_4734',\n",
       " 'gene_4737',\n",
       " 'gene_4738',\n",
       " 'gene_4749',\n",
       " 'gene_4883',\n",
       " 'gene_4902'}"
      ]
     },
     "execution_count": 66,
     "metadata": {},
     "output_type": "execute_result"
    }
   ],
   "source": [
    "corr_features"
   ]
  },
  {
   "cell_type": "code",
   "execution_count": null,
   "metadata": {
    "colab": {
     "base_uri": "https://localhost:8080/"
    },
    "executionInfo": {
     "elapsed": 14,
     "status": "ok",
     "timestamp": 1663003442291,
     "user": {
      "displayName": "Abdelhady Sayed",
      "userId": "09542840263844765052"
     },
     "user_tz": -120
    },
    "id": "atA2A0kYpmyN",
    "outputId": "3f94283e-cccc-4341-c5ed-8847df8c629d"
   },
   "outputs": [
    {
     "name": "stdout",
     "output_type": "stream",
     "text": [
      "(571, 3534)\n"
     ]
    }
   ],
   "source": [
    "# drop all correlated genes\n",
    "\n",
    "X = X.drop(corr_features,axis=1)\n",
    "print(X.shape)"
   ]
  },
  {
   "cell_type": "markdown",
   "metadata": {
    "id": "MR9clQFALsP-"
   },
   "source": [
    "## At this point we removed a total of: \n",
    "###### 50(all null col) + 72(duplicate col) + 2(all zeros col) + 350 (>=25% of gene elements null) + 4 (mixed null& zeros) + 571 (low count genes) + 380 (extreme outliers) + 37 (correlated genes) = 1466 genes out of 5000 genes\n",
    "###### 29 outlier samples were from 600 so the remaining samples are = 571\n",
    "\n",
    "#### so our dataframe now had 571 rows and 3534 columns "
   ]
  },
  {
   "cell_type": "markdown",
   "metadata": {
    "id": "yYucHRSgUBMs"
   },
   "source": [
    "> ## Preprocessing steps:\n",
    "> #### 12- Feature scaling \n",
    "\n",
    "We will use feature scalling by log2 transformation"
   ]
  },
  {
   "cell_type": "code",
   "execution_count": null,
   "metadata": {
    "id": "1JKuIiyOwDUz"
   },
   "outputs": [],
   "source": [
    "#log transformation\n",
    "for col in X.columns:\n",
    "    X[col] = X[col].apply(lambda x: np.log2(x + 1))"
   ]
  },
  {
   "cell_type": "markdown",
   "metadata": {
    "id": "r4C8DgMuWWNH"
   },
   "source": [
    "> ## 5- Task 2: Classifier and Quality Measure Selection\n",
    "\n",
    "a) Select at least two classifiers to solve the classification task at hand. Motivate the choice of your classifiers (e.g. complexity, performance, interpretability). \n",
    "\n",
    "\n",
    "b) Select at least two quality measures to evaluate model performance and justify your choice (Lectures 6 and 8).\n",
    "\n"
   ]
  },
  {
   "cell_type": "markdown",
   "metadata": {
    "id": "19HC8dhcrvmh"
   },
   "source": [
    "**Steps :**\n",
    "\n",
    "\n",
    "**1.**   **We chose three classifier models: k neighbors, decision tree and support vector machines as our train data are small ensembles models are not suitable to avoid overfit**\n",
    "\n",
    "**2.**   **Apply fitting of the three models using 3 Kfold cross validation to use more data in training as our data is small**\n",
    "\n",
    "**3.**   **Use 5 evaluation quality metrics for comparision between the three models\n",
    "and choose the best two of them**\n",
    "\n",
    "\n"
   ]
  },
  {
   "cell_type": "code",
   "execution_count": null,
   "metadata": {
    "id": "AeQpvisu-pCc"
   },
   "outputs": [],
   "source": [
    "from sklearn.neighbors import KNeighborsClassifier \n",
    "from sklearn.svm import SVC\n",
    "from sklearn.tree import DecisionTreeClassifier\n",
    "from sklearn import metrics\n",
    "from sklearn import model_selection\n",
    "from sklearn.model_selection import train_test_split, StratifiedKFold, cross_val_score\n",
    "from sklearn.metrics import make_scorer, f1_score, accuracy_score, roc_auc_score, average_precision_score, matthews_corrcoef\n",
    "\n",
    "# three model variables with middle parameters as possible\n",
    "clf_A = KNeighborsClassifier(n_neighbors=10)\n",
    "clf_B = DecisionTreeClassifier(min_samples_split=2, min_samples_leaf=1, random_state=42)\n",
    "clf_C = SVC()\n",
    "\n",
    "# use of 5 quality metrics to be used in k fold cross validation\n",
    "scoring = {'acc' : make_scorer(accuracy_score),\n",
    "           'f1' : make_scorer(f1_score), \n",
    "           'roc_auc' : make_scorer(roc_auc_score),\n",
    "           'PR_auc' : make_scorer(average_precision_score),\n",
    "           'matcf': make_scorer(matthews_corrcoef)}\n",
    "\n",
    "# loop through the three models and fit all X, y and evaluate the model using 5 kfold cross validation\n",
    "# and store each type of score range in a list then store total scores for each model in a dictionary\n",
    "score = {}\n",
    "results = {}\n",
    "for clf in [clf_A, clf_B, clf_C]:\n",
    "  kfold = StratifiedKFold(n_splits = 3, shuffle=True)\n",
    "  score = model_selection.cross_validate(clf, X, y, cv = kfold, scoring = scoring)\n",
    "  clf_name = clf.__class__.__name__\n",
    "  results[clf_name] = score"
   ]
  },
  {
   "cell_type": "code",
   "execution_count": null,
   "metadata": {
    "colab": {
     "base_uri": "https://localhost:8080/"
    },
    "executionInfo": {
     "elapsed": 329,
     "status": "ok",
     "timestamp": 1663003757980,
     "user": {
      "displayName": "Abdelhady Sayed",
      "userId": "09542840263844765052"
     },
     "user_tz": -120
    },
    "id": "SGF83asxJb2-",
    "outputId": "54714b66-9f59-4bdd-8947-cd9f5ea440ae"
   },
   "outputs": [
    {
     "data": {
      "text/plain": [
       "{'KNeighborsClassifier': {'fit_time': array([0.03578901, 0.05303907, 0.05237055]),\n",
       "  'score_time': array([0.0614543 , 0.08193994, 0.08516216]),\n",
       "  'test_acc': array([0.86910995, 0.91578947, 0.88947368]),\n",
       "  'test_f1': array([0.79338843, 0.88405797, 0.832     ]),\n",
       "  'test_roc_auc': array([0.82913165, 0.90436738, 0.85687382]),\n",
       "  'test_PR_auc': array([0.77871567, 0.83484726, 0.81385855]),\n",
       "  'test_matcf': array([0.73046122, 0.81887726, 0.77206475])},\n",
       " 'DecisionTreeClassifier': {'fit_time': array([0.578686  , 0.44010925, 0.59289503]),\n",
       "  'score_time': array([0.03031445, 0.03049064, 0.03155184]),\n",
       "  'test_acc': array([0.91623037, 0.91578947, 0.88421053]),\n",
       "  'test_f1': array([0.88732394, 0.88732394, 0.84722222]),\n",
       "  'test_roc_auc': array([0.90808824, 0.91004853, 0.87700094]),\n",
       "  'test_PR_auc': array([0.83462042, 0.82944904, 0.77568023]),\n",
       "  'test_matcf': array([0.82088457, 0.82009705, 0.75400188])},\n",
       " 'SVC': {'fit_time': array([0.24790859, 0.2499311 , 0.25441289]),\n",
       "  'score_time': array([0.227844  , 0.22607899, 0.22472739]),\n",
       "  'test_acc': array([0.96335079, 0.93157895, 0.92631579]),\n",
       "  'test_f1': array([0.94890511, 0.89922481, 0.89230769]),\n",
       "  'test_roc_auc': array([0.95138889, 0.9084507 , 0.90277778]),\n",
       "  'test_PR_auc': array([0.93942699, 0.88532246, 0.87923977]),\n",
       "  'test_matcf': array([0.92337612, 0.85816607, 0.84859758])}}"
      ]
     },
     "execution_count": 86,
     "metadata": {},
     "output_type": "execute_result"
    }
   ],
   "source": [
    "# see the score results for the three models\n",
    "results"
   ]
  },
  {
   "cell_type": "code",
   "execution_count": null,
   "metadata": {
    "id": "xqgMfRbbL-Xr"
   },
   "outputs": [],
   "source": [
    "# loop through result dictionary and store the mean for each score for all three models\n",
    "for model, test in results.items():\n",
    "  for (k1,v1)in test.items():\n",
    "    if 'time' in k1:\n",
    "      test[k1] = round(v1.max(), 2)\n",
    "    else:\n",
    "      test[k1] = round(v1.mean(), 2)"
   ]
  },
  {
   "cell_type": "code",
   "execution_count": null,
   "metadata": {
    "colab": {
     "base_uri": "https://localhost:8080/"
    },
    "executionInfo": {
     "elapsed": 5,
     "status": "ok",
     "timestamp": 1663003707743,
     "user": {
      "displayName": "Abdelhady Sayed",
      "userId": "09542840263844765052"
     },
     "user_tz": -120
    },
    "id": "Vf5l30HdMFHY",
    "outputId": "2e5e20ac-013e-4576-8937-e765edeb6ac5"
   },
   "outputs": [
    {
     "data": {
      "text/plain": [
       "{'KNeighborsClassifier': {'fit_time': 0.06,\n",
       "  'score_time': 0.08,\n",
       "  'test_acc': 0.91,\n",
       "  'test_f1': 0.87,\n",
       "  'test_roc_auc': 0.89,\n",
       "  'test_PR_auc': 0.85,\n",
       "  'test_matcf': 0.82},\n",
       " 'DecisionTreeClassifier': {'fit_time': 0.97,\n",
       "  'score_time': 0.03,\n",
       "  'test_acc': 0.92,\n",
       "  'test_f1': 0.89,\n",
       "  'test_roc_auc': 0.91,\n",
       "  'test_PR_auc': 0.84,\n",
       "  'test_matcf': 0.83},\n",
       " 'SVC': {'fit_time': 0.36,\n",
       "  'score_time': 0.17,\n",
       "  'test_acc': 0.96,\n",
       "  'test_f1': 0.94,\n",
       "  'test_roc_auc': 0.94,\n",
       "  'test_PR_auc': 0.93,\n",
       "  'test_matcf': 0.91}}"
      ]
     },
     "execution_count": 83,
     "metadata": {},
     "output_type": "execute_result"
    }
   ],
   "source": [
    "results"
   ]
  },
  {
   "cell_type": "markdown",
   "metadata": {
    "id": "8K-w9CnqxwiR"
   },
   "source": [
    "### >>>From the above quality evaluation scores, we will chose decision tree and svm classifiers. we depended on percision recall score in our evaluation as our data is not balanced ~ 62% for class 0 and ~ 38% for class 1"
   ]
  },
  {
   "cell_type": "markdown",
   "metadata": {
    "id": "5JUX8lDSS3NG"
   },
   "source": [
    "> ## 6- Task 3: Parameter Tuning and Validation\n",
    "\n",
    "a) Carefully choose the set of parameters of the selected classifiers.\n",
    "\n",
    "b) Decide for a validation strategy (e.g. Hold-out, Cross Validation, Monte Carlo Validation, see Lecture 8), carefully select the ratios between training and validation, number of folds, or percentage of data  (e.g. 7:3, 8:2, 9:1) and justify your decision.\n",
    "\n",
    "c) Use the validation strategy to evaluate the chosen range of parameters. Create a plot depicting the relation between parameter range and quality measures. Use the plot to find the optimal set of parameters for each method. Discuss what the best parameters are and how these were chosen.\n",
    "\n",
    "d) Plot a ROC curve for the best performing models\n"
   ]
  },
  {
   "cell_type": "markdown",
   "metadata": {
    "id": "BqnH3CkL1VF1"
   },
   "source": [
    "**Steps :**\n",
    "\n",
    "\n",
    "**1.**  **First we can't use hold out strategy as our data is small so it is not good to split it. secondly, Using Kfold CV only will end with high varaince and using MCCV only is not good for this small data as it leads to high bias.\n",
    "Finally, to avoid high bias and high variance we used Kfold with MCCV we made this combination by using RepeatedStratifiedKFold method from sklearn that repeats the splits randomly in each iteration (so, we used 10 loops of 3 Kfold splits with total 30 splits)** \n",
    "\n",
    "**2.**   **Apply hyperparameter tunning for decision tree and svm models using three scores of accuracy, PR AUC and ROC AUC.**\n",
    "\n",
    "**3.**   **Plotting of each parameters combination with the mean score from cross validation of 3 scores; accuracy, PR AUC and ROC AUC for each model to get the best parameters and at the end plot ROC curve for each model with best parameters**\n",
    "\n",
    "**4.**   **Compare the variance of the best parameters combinations for each model using 30 score for each split** \n",
    "\n",
    "**5.**   **Select the model with high score in best parameters, high roc curve AUC and low variance** \n"
   ]
  },
  {
   "cell_type": "code",
   "execution_count": null,
   "metadata": {
    "colab": {
     "base_uri": "https://localhost:8080/"
    },
    "executionInfo": {
     "elapsed": 789912,
     "status": "ok",
     "timestamp": 1663006063575,
     "user": {
      "displayName": "Abdelhady Sayed",
      "userId": "09542840263844765052"
     },
     "user_tz": -120
    },
    "id": "nB-UrspW0QHL",
    "outputId": "85d979b2-9028-407f-9e87-b162bdd2c7bf"
   },
   "outputs": [
    {
     "data": {
      "text/plain": [
       "{'2/2/gini': {'fit_time': array([0.30151892, 0.30114412, 0.30948162, 0.29826951, 0.29759073,\n",
       "         0.30227256, 0.30012274, 0.30335069, 0.308074  , 0.30478191,\n",
       "         0.29811096, 0.31203318, 0.2999897 , 0.29751444, 0.30169916,\n",
       "         0.29708171, 0.3016963 , 0.29863715, 0.30878639, 0.30010104,\n",
       "         0.29775333, 0.30291772, 0.2978332 , 0.29845524, 0.30244088,\n",
       "         0.29703355, 0.29729939, 0.30145526, 0.30019832, 0.29760385]),\n",
       "  'score_time': array([0.02907658, 0.02837062, 0.02830458, 0.02892041, 0.03056765,\n",
       "         0.02997661, 0.03145051, 0.02880311, 0.02865958, 0.02891016,\n",
       "         0.02841282, 0.03200126, 0.02861881, 0.02885175, 0.03794813,\n",
       "         0.02882981, 0.02874708, 0.02843571, 0.02882671, 0.02863169,\n",
       "         0.02864504, 0.0285089 , 0.02872825, 0.02886176, 0.03074741,\n",
       "         0.02838349, 0.02903366, 0.03135967, 0.03097653, 0.02890849]),\n",
       "  'test_acc': array([0.90052356, 0.93157895, 0.87894737, 0.91099476, 0.91578947,\n",
       "         0.91052632, 0.91099476, 0.92631579, 0.88947368, 0.94240838,\n",
       "         0.91052632, 0.90526316, 0.95287958, 0.90526316, 0.91578947,\n",
       "         0.94764398, 0.87368421, 0.91052632, 0.91623037, 0.92105263,\n",
       "         0.92105263, 0.91099476, 0.9       , 0.87894737, 0.86910995,\n",
       "         0.94736842, 0.9       , 0.90052356, 0.89473684, 0.91052632]),\n",
       "  'test_PR_auc': array([0.7972364 , 0.87570482, 0.76448343, 0.81905662, 0.82944904,\n",
       "         0.82377687, 0.82610803, 0.8522706 , 0.77849253, 0.89097271,\n",
       "         0.81136953, 0.80895468, 0.9043079 , 0.80991553, 0.83222872,\n",
       "         0.89569933, 0.76049043, 0.84377788, 0.82372019, 0.85809241,\n",
       "         0.83824561, 0.82118466, 0.7932172 , 0.77317814, 0.74364386,\n",
       "         0.90212693, 0.80250541, 0.80040334, 0.78745738, 0.81391957]),\n",
       "  'test_roc_auc': array([0.90371148, 0.91413185, 0.87547081, 0.90937208, 0.91004853,\n",
       "         0.90360169, 0.90114379, 0.91845189, 0.89477401, 0.9318394 ,\n",
       "         0.91720914, 0.90477872, 0.94847106, 0.89880459, 0.91054614,\n",
       "         0.94152661, 0.8537105 , 0.88735876, 0.92180205, 0.90004734,\n",
       "         0.92019774, 0.90662932, 0.9059652 , 0.86193503, 0.87575864,\n",
       "         0.93525861, 0.89512712, 0.89822596, 0.8932418 , 0.91713748])},\n",
       " '2/2/entropy': {'fit_time': array([0.54377794, 0.53244615, 0.53612614, 0.53412771, 0.52919579,\n",
       "         0.53397226, 0.52562332, 0.5336113 , 0.53362751, 0.70601273,\n",
       "         0.80567527, 0.61919022, 0.52655005, 0.53581977, 0.52992606,\n",
       "         0.53804326, 0.52085805, 0.53300238, 0.54069972, 0.533149  ,\n",
       "         0.5304904 , 0.52008152, 0.53736806, 0.53133893, 0.53658843,\n",
       "         0.52598739, 0.53611207, 0.52551103, 0.5370357 , 0.53982782]),\n",
       "  'score_time': array([0.02876854, 0.02848721, 0.02852893, 0.02933025, 0.0286355 ,\n",
       "         0.02852678, 0.02838016, 0.02849245, 0.02834511, 0.04940152,\n",
       "         0.05885506, 0.02934742, 0.02911758, 0.02867103, 0.02847147,\n",
       "         0.03079867, 0.03033185, 0.02855158, 0.0283227 , 0.02834558,\n",
       "         0.0345366 , 0.02844763, 0.02878833, 0.02854848, 0.02840853,\n",
       "         0.02850294, 0.02857971, 0.02850652, 0.02836394, 0.02843857]),\n",
       "  'test_acc': array([0.88481675, 0.92105263, 0.91578947, 0.91099476, 0.90526316,\n",
       "         0.91052632, 0.90052356, 0.92631579, 0.88947368, 0.88481675,\n",
       "         0.91052632, 0.87368421, 0.92146597, 0.89473684, 0.91578947,\n",
       "         0.91623037, 0.87368421, 0.88947368, 0.89528796, 0.88947368,\n",
       "         0.92105263, 0.90575916, 0.89473684, 0.88947368, 0.86910995,\n",
       "         0.92105263, 0.87894737, 0.90052356, 0.91052632, 0.88421053]),\n",
       "  'test_PR_auc': array([0.78627859, 0.86767976, 0.84440789, 0.81905662, 0.82757473,\n",
       "         0.82377687, 0.79470412, 0.84674391, 0.77963395, 0.77015616,\n",
       "         0.81136953, 0.75321637, 0.8652005 , 0.80004236, 0.83222872,\n",
       "         0.85200213, 0.7627593 , 0.81885965, 0.79588527, 0.81475167,\n",
       "         0.83824561, 0.83925325, 0.78280386, 0.81885965, 0.74364386,\n",
       "         0.86265944, 0.76049461, 0.80040334, 0.85003706, 0.77568023]),\n",
       "  'test_roc_auc': array([0.8636788 , 0.8943662 , 0.89971751, 0.90937208, 0.88176116,\n",
       "         0.90360169, 0.90919701, 0.92413303, 0.89206685, 0.88836368,\n",
       "         0.91720914, 0.87664783, 0.8985761 , 0.87619837, 0.91054614,\n",
       "         0.89437442, 0.85086993, 0.85416667, 0.88579599, 0.85211268,\n",
       "         0.92019774, 0.87774276, 0.9046041 , 0.85416667, 0.87575864,\n",
       "         0.89720677, 0.88629944, 0.89822596, 0.88028169, 0.87700094])},\n",
       " '2/5/gini': {'fit_time': array([0.30193281, 0.29844856, 0.29753804, 0.30146623, 0.2976861 ,\n",
       "         0.29667139, 0.30029774, 0.29574537, 0.29778695, 0.30032349,\n",
       "         0.29593182, 0.30690384, 0.30073833, 0.29828358, 0.2974844 ,\n",
       "         0.3004353 , 0.29543352, 0.29670167, 0.29975367, 0.29596591,\n",
       "         0.29959798, 0.30248785, 0.32749796, 0.30038667, 0.29976463,\n",
       "         0.29985905, 0.30071878, 0.30263805, 0.29894471, 0.29732227]),\n",
       "  'score_time': array([0.02932072, 0.02865601, 0.0287385 , 0.02850103, 0.0291121 ,\n",
       "         0.02899599, 0.02839899, 0.02854466, 0.02844429, 0.02836847,\n",
       "         0.02886701, 0.02870512, 0.02822804, 0.02917314, 0.02864504,\n",
       "         0.02838326, 0.02862382, 0.02925253, 0.0287776 , 0.02897024,\n",
       "         0.0320313 , 0.02860427, 0.03605461, 0.02836704, 0.02814865,\n",
       "         0.02825904, 0.02881765, 0.02849269, 0.02907085, 0.02840233]),\n",
       "  'test_acc': array([0.90052356, 0.93157895, 0.87894737, 0.91099476, 0.91578947,\n",
       "         0.91052632, 0.91099476, 0.92631579, 0.88947368, 0.94240838,\n",
       "         0.91052632, 0.90526316, 0.95287958, 0.90526316, 0.91578947,\n",
       "         0.94764398, 0.87368421, 0.91052632, 0.91623037, 0.92105263,\n",
       "         0.92105263, 0.91099476, 0.9       , 0.87894737, 0.86910995,\n",
       "         0.94736842, 0.9       , 0.90052356, 0.89473684, 0.91052632]),\n",
       "  'test_PR_auc': array([0.7972364 , 0.87570482, 0.76448343, 0.81905662, 0.82944904,\n",
       "         0.82377687, 0.82610803, 0.8522706 , 0.77849253, 0.89097271,\n",
       "         0.81136953, 0.80895468, 0.9043079 , 0.80991553, 0.83222872,\n",
       "         0.89569933, 0.76049043, 0.84377788, 0.82372019, 0.85809241,\n",
       "         0.83824561, 0.82118466, 0.7932172 , 0.77317814, 0.74364386,\n",
       "         0.90212693, 0.80250541, 0.80040334, 0.78745738, 0.81391957]),\n",
       "  'test_roc_auc': array([0.90371148, 0.91413185, 0.87547081, 0.90937208, 0.91004853,\n",
       "         0.90360169, 0.90114379, 0.91845189, 0.89477401, 0.9318394 ,\n",
       "         0.91720914, 0.90477872, 0.94847106, 0.89880459, 0.91054614,\n",
       "         0.94152661, 0.8537105 , 0.88735876, 0.92180205, 0.90004734,\n",
       "         0.92019774, 0.90662932, 0.9059652 , 0.86193503, 0.87575864,\n",
       "         0.93525861, 0.89512712, 0.89822596, 0.8932418 , 0.91713748])},\n",
       " '2/5/entropy': {'fit_time': array([0.53158832, 0.53002381, 0.52666235, 0.52686858, 0.52868795,\n",
       "         0.52660155, 0.53137255, 0.53349161, 0.53219223, 0.5300169 ,\n",
       "         0.52846766, 0.53326654, 0.52395058, 0.5342772 , 0.52853012,\n",
       "         0.5314858 , 0.52525592, 0.5286355 , 0.52767706, 0.52264738,\n",
       "         0.53258443, 0.5205617 , 0.52792645, 0.52495718, 0.53536654,\n",
       "         0.52469993, 0.5345726 , 0.54470158, 0.52105689, 0.52666998]),\n",
       "  'score_time': array([0.02815557, 0.03420329, 0.02861714, 0.03052616, 0.02818704,\n",
       "         0.03313971, 0.02893782, 0.04238653, 0.02838659, 0.02854538,\n",
       "         0.02898979, 0.02827764, 0.02886939, 0.02850509, 0.02903581,\n",
       "         0.02905941, 0.02866673, 0.02831674, 0.02976179, 0.02882338,\n",
       "         0.02809525, 0.02879119, 0.02849793, 0.02891207, 0.02913094,\n",
       "         0.02871299, 0.02867866, 0.02884483, 0.03102493, 0.02820992]),\n",
       "  'test_acc': array([0.88481675, 0.92105263, 0.91578947, 0.91099476, 0.90526316,\n",
       "         0.91052632, 0.90052356, 0.92631579, 0.88947368, 0.88481675,\n",
       "         0.91052632, 0.87368421, 0.92146597, 0.89473684, 0.91578947,\n",
       "         0.91623037, 0.87368421, 0.88947368, 0.89528796, 0.88947368,\n",
       "         0.92105263, 0.90575916, 0.89473684, 0.88947368, 0.86910995,\n",
       "         0.92105263, 0.87894737, 0.90052356, 0.91052632, 0.88421053]),\n",
       "  'test_PR_auc': array([0.78627859, 0.86767976, 0.84440789, 0.81905662, 0.82757473,\n",
       "         0.82377687, 0.79470412, 0.84674391, 0.77963395, 0.77015616,\n",
       "         0.81136953, 0.75321637, 0.8652005 , 0.80004236, 0.83222872,\n",
       "         0.85200213, 0.7627593 , 0.81885965, 0.79588527, 0.81475167,\n",
       "         0.83824561, 0.83925325, 0.78280386, 0.81885965, 0.74364386,\n",
       "         0.86265944, 0.76049461, 0.80040334, 0.85003706, 0.77568023]),\n",
       "  'test_roc_auc': array([0.8636788 , 0.8943662 , 0.89971751, 0.90937208, 0.88176116,\n",
       "         0.90360169, 0.90919701, 0.92413303, 0.89206685, 0.88836368,\n",
       "         0.91720914, 0.87664783, 0.8985761 , 0.87619837, 0.91054614,\n",
       "         0.89437442, 0.85086993, 0.85416667, 0.88579599, 0.85211268,\n",
       "         0.92019774, 0.87774276, 0.9046041 , 0.85416667, 0.87575864,\n",
       "         0.89720677, 0.88629944, 0.89822596, 0.88028169, 0.87700094])},\n",
       " '2/10/gini': {'fit_time': array([0.29276395, 0.29733539, 0.29851007, 0.29491019, 0.29528332,\n",
       "         0.29844832, 0.29157615, 0.2943809 , 0.30237508, 0.35120678,\n",
       "         0.38865376, 0.40621114, 0.3931303 , 0.33932424, 0.29400945,\n",
       "         0.29263973, 0.29825759, 0.29419756, 0.29241276, 0.29437947,\n",
       "         0.29478049, 0.29442191, 0.29410338, 0.30681014, 0.29405713,\n",
       "         0.3264358 , 0.30878496, 0.29407096, 0.29367757, 0.30659723]),\n",
       "  'score_time': array([0.02872753, 0.02836227, 0.02846456, 0.02846479, 0.02874088,\n",
       "         0.03379869, 0.02862191, 0.02852631, 0.02860045, 0.04777718,\n",
       "         0.04772162, 0.04942441, 0.04881716, 0.02859855, 0.02838492,\n",
       "         0.02851343, 0.02815843, 0.02840662, 0.02882528, 0.03617859,\n",
       "         0.02865219, 0.02844906, 0.02852392, 0.02902436, 0.02845979,\n",
       "         0.02906179, 0.03415871, 0.03229094, 0.0279808 , 0.02858257]),\n",
       "  'test_acc': array([0.90052356, 0.93157895, 0.87894737, 0.91099476, 0.91578947,\n",
       "         0.91052632, 0.91099476, 0.92105263, 0.88947368, 0.94240838,\n",
       "         0.91052632, 0.90526316, 0.95287958, 0.91578947, 0.91578947,\n",
       "         0.95287958, 0.87368421, 0.90526316, 0.91623037, 0.92105263,\n",
       "         0.92105263, 0.90575916, 0.9       , 0.87894737, 0.86910995,\n",
       "         0.93684211, 0.9       , 0.90575916, 0.89473684, 0.91052632]),\n",
       "  'test_PR_auc': array([0.7972364 , 0.87570482, 0.76448343, 0.81905662, 0.82137354,\n",
       "         0.82377687, 0.82610803, 0.84669901, 0.77849253, 0.89097271,\n",
       "         0.81136953, 0.80895468, 0.90822521, 0.82500618, 0.83222872,\n",
       "         0.9124784 , 0.7627593 , 0.83516838, 0.82372019, 0.85809241,\n",
       "         0.83824561, 0.81505443, 0.7932172 , 0.77317814, 0.74364386,\n",
       "         0.88911155, 0.80250541, 0.81065359, 0.78745738, 0.81391957]),\n",
       "  'test_roc_auc': array([0.90371148, 0.91413185, 0.87547081, 0.90937208, 0.92141082,\n",
       "         0.90360169, 0.90114379, 0.90856906, 0.89477401, 0.9318394 ,\n",
       "         0.91720914, 0.90477872, 0.94572829, 0.91572967, 0.91054614,\n",
       "         0.94298553, 0.85086993, 0.88041431, 0.92180205, 0.90004734,\n",
       "         0.92019774, 0.89694211, 0.9059652 , 0.86193503, 0.87575864,\n",
       "         0.91833353, 0.89512712, 0.90242764, 0.8932418 , 0.91713748])},\n",
       " '2/10/entropy': {'fit_time': array([0.64646053, 0.66778231, 1.02253532, 1.03472877, 0.68918538,\n",
       "         0.58087182, 0.69806027, 0.76446652, 0.79824853, 0.78930593,\n",
       "         0.56005526, 0.59783196, 1.43912387, 0.79072142, 0.80625367,\n",
       "         0.65759492, 0.81511307, 0.64791703, 0.5579133 , 0.59612727,\n",
       "         0.57632685, 0.61389399, 0.67378879, 1.06172919, 1.25441694,\n",
       "         0.6806097 , 1.39124107, 1.57556367, 0.97115254, 1.91195488]),\n",
       "  'score_time': array([0.05967832, 0.0284102 , 0.11166763, 0.0484581 , 0.03245687,\n",
       "         0.02828002, 0.02869678, 0.02834415, 0.05083966, 0.04910994,\n",
       "         0.02925324, 0.02868032, 0.10770679, 0.05124211, 0.0554533 ,\n",
       "         0.0491991 , 0.07840562, 0.03172493, 0.02878094, 0.06461191,\n",
       "         0.03133845, 0.02884126, 0.04891968, 0.15534234, 0.02858639,\n",
       "         0.05902839, 0.10409451, 0.09985924, 0.05794597, 0.05003834]),\n",
       "  'test_acc': array([0.88481675, 0.92105263, 0.91578947, 0.91099476, 0.88947368,\n",
       "         0.91052632, 0.90052356, 0.92105263, 0.88947368, 0.88481675,\n",
       "         0.91052632, 0.87368421, 0.92146597, 0.89473684, 0.91578947,\n",
       "         0.92146597, 0.87368421, 0.88421053, 0.89528796, 0.88947368,\n",
       "         0.92105263, 0.90052356, 0.89473684, 0.88947368, 0.86910995,\n",
       "         0.91052632, 0.87894737, 0.90575916, 0.91052632, 0.88421053]),\n",
       "  'test_PR_auc': array([0.78627859, 0.86767976, 0.84440789, 0.81905662, 0.79430442,\n",
       "         0.82377687, 0.79470412, 0.84069681, 0.77963395, 0.77015616,\n",
       "         0.81136953, 0.75321637, 0.8702007 , 0.80004236, 0.83222872,\n",
       "         0.8702007 , 0.7627593 , 0.81023392, 0.79588527, 0.81475167,\n",
       "         0.83824561, 0.83558755, 0.78280386, 0.81885965, 0.74364386,\n",
       "         0.85003706, 0.76049461, 0.81065359, 0.85003706, 0.77568023]),\n",
       "  'test_roc_auc': array([0.8636788 , 0.8943662 , 0.89971751, 0.90937208, 0.86631554,\n",
       "         0.90360169, 0.90919701, 0.91425021, 0.89206685, 0.88836368,\n",
       "         0.91720914, 0.87664783, 0.89583333, 0.87619837, 0.91054614,\n",
       "         0.89583333, 0.85086993, 0.84722222, 0.88579599, 0.85211268,\n",
       "         0.92019774, 0.86805556, 0.9046041 , 0.85416667, 0.87575864,\n",
       "         0.88028169, 0.88629944, 0.90242764, 0.88028169, 0.87700094])},\n",
       " '2/20/gini': {'fit_time': array([0.54908848, 0.43617916, 0.35913706, 0.40139914, 0.45830131,\n",
       "         0.38997507, 0.31842113, 0.29141998, 0.28613353, 0.29506731,\n",
       "         0.31464624, 0.31357288, 0.36199522, 0.3403151 , 0.39736962,\n",
       "         0.39151859, 0.38896728, 0.3883152 , 0.38279223, 0.3288312 ,\n",
       "         0.29377198, 0.29002762, 0.29468799, 0.29274058, 0.47434211,\n",
       "         0.62529206, 0.33401132, 0.41167808, 0.40636897, 0.44198847]),\n",
       "  'score_time': array([0.08176422, 0.02825332, 0.04979897, 0.05082226, 0.0508821 ,\n",
       "         0.04912806, 0.0285697 , 0.02897835, 0.02875733, 0.03179336,\n",
       "         0.02896595, 0.02850866, 0.04895353, 0.02832246, 0.02839637,\n",
       "         0.05193019, 0.0484271 , 0.04912639, 0.05757236, 0.02951598,\n",
       "         0.02874637, 0.028723  , 0.02891612, 0.06930375, 0.09358144,\n",
       "         0.05771112, 0.04629755, 0.05946875, 0.04895496, 0.04877448]),\n",
       "  'test_acc': array([0.90052356, 0.90526316, 0.87894737, 0.89005236, 0.91578947,\n",
       "         0.91052632, 0.88481675, 0.88947368, 0.88947368, 0.92670157,\n",
       "         0.91052632, 0.90526316, 0.93193717, 0.89473684, 0.87368421,\n",
       "         0.92146597, 0.87368421, 0.89473684, 0.92670157, 0.89473684,\n",
       "         0.9       , 0.86910995, 0.90526316, 0.80526316, 0.84816754,\n",
       "         0.92105263, 0.90526316, 0.87958115, 0.86315789, 0.91578947]),\n",
       "  'test_PR_auc': array([0.7972364 , 0.81467422, 0.76448343, 0.77944106, 0.82137354,\n",
       "         0.81391957, 0.78361216, 0.77765011, 0.77963395, 0.85165693,\n",
       "         0.81136953, 0.81532999, 0.85747431, 0.80302957, 0.76476608,\n",
       "         0.83808028, 0.7627593 , 0.80371893, 0.84430423, 0.80633991,\n",
       "         0.79481435, 0.74364386, 0.80787798, 0.65470595, 0.71118889,\n",
       "         0.84069681, 0.80721997, 0.76199733, 0.73224611, 0.82383041]),\n",
       "  'test_roc_auc': array([0.90371148, 0.89312345, 0.87547081, 0.89256536, 0.92141082,\n",
       "         0.91713748, 0.86642157, 0.88904012, 0.89206685, 0.92197712,\n",
       "         0.91720914, 0.89665725, 0.93166433, 0.87335779, 0.85499058,\n",
       "         0.92051821, 0.85086993, 0.87735405, 0.93020542, 0.87051722,\n",
       "         0.9086629 , 0.87575864, 0.90164517, 0.76741996, 0.86169468,\n",
       "         0.91425021, 0.90748588, 0.88141923, 0.86803172, 0.92137476])},\n",
       " '2/20/entropy': {'fit_time': array([0.58536267, 0.50530601, 0.50094461, 0.58473206, 0.53341651,\n",
       "         0.61195946, 0.63374186, 0.77416158, 0.8680346 , 1.41199183,\n",
       "         0.50086808, 0.50096917, 0.49458909, 0.49123144, 0.49716496,\n",
       "         0.505476  , 0.49143028, 0.49242043, 0.49738073, 0.49536157,\n",
       "         0.49592185, 0.48910189, 0.49890137, 0.49257374, 0.49594903,\n",
       "         0.49603105, 0.49135137, 0.5018723 , 0.49026585, 0.51025081]),\n",
       "  'score_time': array([0.03682375, 0.02895665, 0.02875662, 0.05111456, 0.03113008,\n",
       "         0.04978943, 0.05229211, 0.049052  , 0.17294931, 0.02957058,\n",
       "         0.02846265, 0.02861953, 0.02844667, 0.02861357, 0.02896357,\n",
       "         0.02855682, 0.0281713 , 0.02856064, 0.02942276, 0.02886915,\n",
       "         0.0285089 , 0.02834439, 0.02832603, 0.0282495 , 0.0327363 ,\n",
       "         0.03475428, 0.02818394, 0.02824497, 0.03137517, 0.02885389]),\n",
       "  'test_acc': array([0.88481675, 0.89473684, 0.91578947, 0.89005236, 0.87368421,\n",
       "         0.93157895, 0.87434555, 0.88947368, 0.85789474, 0.86910995,\n",
       "         0.91052632, 0.86315789, 0.90052356, 0.89473684, 0.87368421,\n",
       "         0.89005236, 0.87368421, 0.87368421, 0.89528796, 0.86842105,\n",
       "         0.9       , 0.86387435, 0.9       , 0.81578947, 0.84816754,\n",
       "         0.89473684, 0.87894737, 0.87958115, 0.87894737, 0.88421053]),\n",
       "  'test_PR_auc': array([0.78627859, 0.80302957, 0.84440789, 0.77944106, 0.75847066,\n",
       "         0.87012962, 0.75385119, 0.77541698, 0.73429345, 0.74317832,\n",
       "         0.81136953, 0.73991025, 0.814921  , 0.80302957, 0.76476608,\n",
       "         0.79210185, 0.7627593 , 0.77589808, 0.79588527, 0.77946627,\n",
       "         0.79481435, 0.74370229, 0.79592291, 0.69319238, 0.71118889,\n",
       "         0.80004236, 0.76049461, 0.76199733, 0.77398073, 0.77568023]),\n",
       "  'test_roc_auc': array([0.8636788 , 0.87335779, 0.89971751, 0.89256536, 0.85655107,\n",
       "         0.92055085, 0.87447479, 0.89472127, 0.84227872, 0.8785014 ,\n",
       "         0.91720914, 0.85463748, 0.88176937, 0.87335779, 0.85499058,\n",
       "         0.87336601, 0.85086993, 0.84416196, 0.88579599, 0.82394366,\n",
       "         0.9086629 , 0.84687208, 0.90028406, 0.7596516 , 0.86169468,\n",
       "         0.87619837, 0.88629944, 0.88141923, 0.85507161, 0.87700094])},\n",
       " '3/2/gini': {'fit_time': array([0.42956328, 0.38837743, 0.42975879, 0.38704586, 0.45274496,\n",
       "         0.43202329, 0.40663433, 0.61408043, 0.5248661 , 0.50688863,\n",
       "         0.58136153, 0.70204115, 0.81559777, 0.73870134, 0.39108562,\n",
       "         0.38705087, 0.42562175, 0.45246553, 0.49619937, 0.46871448,\n",
       "         0.55810952, 0.56434846, 0.61074924, 0.46015716, 0.41580844,\n",
       "         0.47080588, 0.54285383, 0.48495126, 0.51345563, 0.6038239 ]),\n",
       "  'score_time': array([0.02968407, 0.02801657, 0.02952528, 0.02878308, 0.02878976,\n",
       "         0.03247523, 0.02816153, 0.02826667, 0.03145456, 0.02805781,\n",
       "         0.04882431, 0.13140774, 0.06207275, 0.02841663, 0.02828908,\n",
       "         0.02861834, 0.04812598, 0.04949975, 0.04832292, 0.0283637 ,\n",
       "         0.04971313, 0.04898453, 0.05094051, 0.03133702, 0.04899311,\n",
       "         0.06554151, 0.05079103, 0.05595517, 0.04952335, 0.05034733]),\n",
       "  'test_acc': array([0.91099476, 0.93684211, 0.92631579, 0.92146597, 0.93684211,\n",
       "         0.9       , 0.92146597, 0.94210526, 0.9       , 0.92670157,\n",
       "         0.90526316, 0.89473684, 0.96335079, 0.9       , 0.91052632,\n",
       "         0.94764398, 0.89473684, 0.9       , 0.93717277, 0.91578947,\n",
       "         0.94736842, 0.90052356, 0.92105263, 0.87894737, 0.91099476,\n",
       "         0.93684211, 0.9       , 0.92670157, 0.94736842, 0.94736842]),\n",
       "  'test_PR_auc': array([0.82610803, 0.88911155, 0.85480368, 0.84313677, 0.8697063 ,\n",
       "         0.80942655, 0.84920511, 0.89331913, 0.8068883 , 0.85458323,\n",
       "         0.80604398, 0.78915692, 0.93439869, 0.80132373, 0.82140511,\n",
       "         0.89569933, 0.80302957, 0.82244028, 0.87169139, 0.84928698,\n",
       "         0.90405813, 0.80658518, 0.83163407, 0.77556855, 0.82610803,\n",
       "         0.88451175, 0.79892724, 0.85778218, 0.89399985, 0.89224943]),\n",
       "  'test_roc_auc': array([0.90114379, 0.91833353, 0.91902072, 0.91503268, 0.93253639,\n",
       "         0.88700565, 0.90954715, 0.92821636, 0.88971281, 0.91923436,\n",
       "         0.90448574, 0.89630414, 0.95413165, 0.89176234, 0.90630885,\n",
       "         0.94152661, 0.87335779, 0.87617702, 0.93312325, 0.89300509,\n",
       "         0.93596987, 0.88999767, 0.9256125 , 0.85922787, 0.90114379,\n",
       "         0.9211741 , 0.90054143, 0.9164916 , 0.94093976, 0.94409134])},\n",
       " '3/2/entropy': {'fit_time': array([1.29000306, 0.90934253, 1.13091135, 1.06176066, 1.06314111,\n",
       "         1.13945127, 2.06057119, 0.88934636, 1.38735008, 1.41017246,\n",
       "         0.76056337, 1.04016447, 1.21255469, 1.03291535, 1.14376163,\n",
       "         1.24370456, 0.62960458, 0.673913  , 0.77291298, 0.85011554,\n",
       "         0.88285089, 0.89636016, 1.44158506, 0.90272164, 0.68575716,\n",
       "         0.59898543, 0.7909224 , 0.78894973, 0.84993005, 1.12809753]),\n",
       "  'score_time': array([0.04961944, 0.05678606, 0.05431247, 0.0534358 , 0.02976298,\n",
       "         0.05037546, 0.10555696, 0.07429075, 0.09223008, 0.02847362,\n",
       "         0.0286603 , 0.05724573, 0.05785036, 0.0519433 , 0.10054183,\n",
       "         0.02915192, 0.03065372, 0.02854013, 0.0553751 , 0.03321433,\n",
       "         0.03086615, 0.04910302, 0.02863312, 0.02819204, 0.02854133,\n",
       "         0.02877879, 0.02869391, 0.02841282, 0.05587029, 0.04868269]),\n",
       "  'test_acc': array([0.91623037, 0.92631579, 0.94210526, 0.93193717, 0.93684211,\n",
       "         0.91052632, 0.95811518, 0.95263158, 0.9       , 0.92146597,\n",
       "         0.89473684, 0.9       , 0.95811518, 0.93157895, 0.94210526,\n",
       "         0.89528796, 0.88421053, 0.89473684, 0.93717277, 0.9       ,\n",
       "         0.94736842, 0.95811518, 0.94210526, 0.92631579, 0.91099476,\n",
       "         0.94736842, 0.93157895, 0.91099476, 0.93157895, 0.93157895]),\n",
       "  'test_PR_auc': array([0.84407723, 0.84674391, 0.88728494, 0.86988161, 0.8729311 ,\n",
       "         0.82924631, 0.91291772, 0.91556477, 0.80942655, 0.86064024,\n",
       "         0.78483265, 0.8068883 , 0.91291772, 0.87151362, 0.89544534,\n",
       "         0.78460216, 0.78004283, 0.79618839, 0.86870804, 0.80354511,\n",
       "         0.90405813, 0.90928789, 0.87544928, 0.84667398, 0.82610803,\n",
       "         0.88715335, 0.86034607, 0.83547905, 0.8641848 , 0.85761209]),\n",
       "  'test_roc_auc': array([0.89985994, 0.92413303, 0.93443974, 0.92069328, 0.92969582,\n",
       "         0.89818738, 0.9554155 , 0.93946029, 0.88700565, 0.90131886,\n",
       "         0.89892295, 0.88971281, 0.9554155 , 0.91697242, 0.92902542,\n",
       "         0.9077381 , 0.86495443, 0.88547552, 0.93586601, 0.88892177,\n",
       "         0.93596987, 0.95815826, 0.94241922, 0.92714218, 0.90114379,\n",
       "         0.9466209 , 0.92867232, 0.8929155 , 0.92265357, 0.93137947])},\n",
       " '3/5/gini': {'fit_time': array([1.34769392, 0.45360255, 0.4193151 , 0.42448235, 0.59412932,\n",
       "         0.46094823, 0.53850102, 0.60775185, 0.61885357, 0.54038215,\n",
       "         0.44288325, 0.44401026, 0.42866492, 0.52062273, 0.67215967,\n",
       "         0.61090589, 0.62277126, 0.82118344, 0.7794342 , 0.47660232,\n",
       "         0.39652896, 0.41677332, 0.49799633, 0.53624606, 0.74734426,\n",
       "         0.52215409, 0.55496049, 0.86155081, 0.52277374, 0.54646444]),\n",
       "  'score_time': array([0.05106306, 0.02857089, 0.02832222, 0.0504694 , 0.04936624,\n",
       "         0.0283916 , 0.04971981, 0.0495379 , 0.0582006 , 0.03192616,\n",
       "         0.0287621 , 0.02861309, 0.04921412, 0.05928802, 0.06477332,\n",
       "         0.02929807, 0.04906511, 0.10591149, 0.049824  , 0.02891779,\n",
       "         0.02832031, 0.02893662, 0.02857208, 0.07683063, 0.08490872,\n",
       "         0.04857922, 0.04883862, 0.10666656, 0.04896879, 0.02886701]),\n",
       "  'test_acc': array([0.90575916, 0.93684211, 0.92631579, 0.92146597, 0.93684211,\n",
       "         0.9       , 0.92146597, 0.94736842, 0.9       , 0.92670157,\n",
       "         0.90526316, 0.9       , 0.96335079, 0.89473684, 0.90526316,\n",
       "         0.94764398, 0.88947368, 0.90526316, 0.94764398, 0.92105263,\n",
       "         0.94736842, 0.91623037, 0.92105263, 0.87894737, 0.90052356,\n",
       "         0.94736842, 0.90526316, 0.92670157, 0.94210526, 0.94736842]),\n",
       "  'test_PR_auc': array([0.80876179, 0.88451175, 0.85803019, 0.84313677, 0.8697063 ,\n",
       "         0.80942655, 0.84920511, 0.90674691, 0.8068883 , 0.85458323,\n",
       "         0.80161253, 0.79740173, 0.93439869, 0.79492161, 0.81299342,\n",
       "         0.89569933, 0.80122578, 0.8310307 , 0.89959856, 0.85393481,\n",
       "         0.90405813, 0.84063034, 0.83163407, 0.77556855, 0.8043122 ,\n",
       "         0.90212693, 0.80895468, 0.85778218, 0.87544928, 0.89224943]),\n",
       "  'test_roc_auc': array([0.9051704 , 0.9211741 , 0.91631356, 0.91503268, 0.93253639,\n",
       "         0.88700565, 0.90954715, 0.93241804, 0.88971281, 0.91923436,\n",
       "         0.91300746, 0.90324859, 0.95413165, 0.88187951, 0.89936441,\n",
       "         0.94152661, 0.86063439, 0.88312147, 0.93878385, 0.90288792,\n",
       "         0.93596987, 0.90260271, 0.9256125 , 0.85922787, 0.89274043,\n",
       "         0.93525861, 0.90477872, 0.9164916 , 0.94241922, 0.94409134])},\n",
       " '3/5/entropy': {'fit_time': array([1.02596116, 1.89134264, 1.49610329, 0.77570581, 0.66675282,\n",
       "         0.74600816, 0.68126917, 0.6947999 , 0.75035357, 0.68257475,\n",
       "         0.72155023, 0.71824336, 0.57870245, 0.73180771, 0.68654895,\n",
       "         0.65503812, 0.6247077 , 0.66877055, 0.66694403, 0.68430305,\n",
       "         0.68684745, 0.58397818, 0.76735544, 0.66991448, 0.67081666,\n",
       "         0.58422089, 0.73680592, 0.6849246 , 0.67109251, 0.72971225]),\n",
       "  'score_time': array([0.04292059, 0.04910994, 0.11809659, 0.02894139, 0.0312922 ,\n",
       "         0.02893162, 0.02860951, 0.02836895, 0.03090143, 0.02936673,\n",
       "         0.02856088, 0.03334618, 0.02830029, 0.02849603, 0.0285337 ,\n",
       "         0.03002238, 0.0284307 , 0.02824855, 0.02895498, 0.02890944,\n",
       "         0.02886152, 0.02899885, 0.0286696 , 0.02847242, 0.02905059,\n",
       "         0.02819276, 0.0306201 , 0.0291574 , 0.02822995, 0.02866292]),\n",
       "  'test_acc': array([0.90052356, 0.92631579, 0.90526316, 0.93193717, 0.93684211,\n",
       "         0.91052632, 0.95811518, 0.95263158, 0.89473684, 0.92146597,\n",
       "         0.90526316, 0.91578947, 0.95811518, 0.91578947, 0.93684211,\n",
       "         0.89528796, 0.88421053, 0.9       , 0.92670157, 0.9       ,\n",
       "         0.94736842, 0.95811518, 0.94210526, 0.92631579, 0.91099476,\n",
       "         0.94736842, 0.94210526, 0.91099476, 0.93157895, 0.94210526]),\n",
       "  'test_PR_auc': array([0.81186625, 0.84674391, 0.81087403, 0.86988161, 0.8729311 ,\n",
       "         0.82924631, 0.91291772, 0.91556477, 0.79845201, 0.86064024,\n",
       "         0.80161253, 0.83222872, 0.91291772, 0.83201835, 0.88683297,\n",
       "         0.78460216, 0.78004283, 0.80942655, 0.8465362 , 0.80354511,\n",
       "         0.90405813, 0.90928789, 0.87544928, 0.84667398, 0.82610803,\n",
       "         0.88715335, 0.88369162, 0.83547905, 0.8641848 , 0.87455571]),\n",
       "  'test_roc_auc': array([0.88451214, 0.92413303, 0.90207156, 0.92069328, 0.92969582,\n",
       "         0.89818738, 0.9554155 , 0.93946029, 0.88276836, 0.90131886,\n",
       "         0.91300746, 0.91054614, 0.9554155 , 0.90720795, 0.92208098,\n",
       "         0.9077381 , 0.86495443, 0.88700565, 0.92746265, 0.88892177,\n",
       "         0.93596987, 0.95815826, 0.94241922, 0.92714218, 0.90114379,\n",
       "         0.9466209 , 0.93714689, 0.8929155 , 0.92265357, 0.94526836])},\n",
       " '3/10/gini': {'fit_time': array([0.40536547, 0.3831079 , 0.42173195, 0.38204813, 0.41167045,\n",
       "         0.40807819, 0.38189125, 0.39104533, 0.54328537, 0.39149213,\n",
       "         0.45236802, 0.49866629, 0.41839767, 0.43413448, 0.52979732,\n",
       "         0.50805783, 0.58433342, 0.66892433, 0.41897845, 0.50697446,\n",
       "         0.52090812, 0.55002713, 0.44587803, 0.3847661 , 0.37398267,\n",
       "         0.37777996, 0.41085863, 0.37603617, 0.38189769, 0.40927362]),\n",
       "  'score_time': array([0.02856874, 0.02860403, 0.0282793 , 0.03146887, 0.0304451 ,\n",
       "         0.0289886 , 0.02901053, 0.04977608, 0.03809118, 0.02840972,\n",
       "         0.04859376, 0.02895951, 0.02878642, 0.04706216, 0.04875684,\n",
       "         0.07464528, 0.04961991, 0.08020329, 0.02843332, 0.05356812,\n",
       "         0.0505929 , 0.05549955, 0.02875876, 0.02860928, 0.02854919,\n",
       "         0.02932715, 0.02834129, 0.02841091, 0.02880096, 0.02914548]),\n",
       "  'test_acc': array([0.93193717, 0.91578947, 0.92631579, 0.93717277, 0.93157895,\n",
       "         0.91052632, 0.93193717, 0.92105263, 0.90526316, 0.92146597,\n",
       "         0.92631579, 0.90526316, 0.96335079, 0.91578947, 0.88421053,\n",
       "         0.92146597, 0.87368421, 0.90526316, 0.95287958, 0.91578947,\n",
       "         0.93157895, 0.89528796, 0.95789474, 0.91578947, 0.91099476,\n",
       "         0.91052632, 0.88947368, 0.89005236, 0.93684211, 0.94210526]),\n",
       "  'test_PR_auc': array([0.86018074, 0.83484726, 0.86540342, 0.89616056, 0.85539839,\n",
       "         0.82924631, 0.86018074, 0.85809241, 0.81790291, 0.84049244,\n",
       "         0.84434396, 0.80895468, 0.93439869, 0.82500618, 0.77034905,\n",
       "         0.84049244, 0.7627593 , 0.82726844, 0.91709849, 0.82711801,\n",
       "         0.86658191, 0.80635661, 0.92438273, 0.84821496, 0.82610803,\n",
       "         0.82334409, 0.78398622, 0.78371066, 0.87645464, 0.88728494]),\n",
       "  'test_roc_auc': array([0.92892157, 0.90436738, 0.91089925, 0.91666667, 0.93117529,\n",
       "         0.89818738, 0.92892157, 0.90004734, 0.89395009, 0.91777544,\n",
       "         0.92697361, 0.90477872, 0.95413165, 0.91572967, 0.88782957,\n",
       "         0.91777544, 0.85086993, 0.88582863, 0.94024276, 0.9128891 ,\n",
       "         0.923258  , 0.87482493, 0.94650254, 0.89701036, 0.90114379,\n",
       "         0.9001657 , 0.88394539, 0.88433707, 0.92685525, 0.93443974])},\n",
       " '3/10/entropy': {'fit_time': array([0.70113969, 0.656106  , 0.69436407, 0.66667628, 0.65558124,\n",
       "         0.72319102, 0.66550946, 0.66869831, 0.69156027, 0.6600666 ,\n",
       "         0.69673014, 0.6990006 , 0.56637764, 0.70687675, 0.6594646 ,\n",
       "         0.64738774, 0.67365241, 1.27716255, 1.42076707, 1.2034266 ,\n",
       "         1.06338024, 0.57335258, 0.72876239, 0.6496079 , 0.65345359,\n",
       "         0.55623436, 0.7000072 , 0.66758847, 0.65614748, 0.69822049]),\n",
       "  'score_time': array([0.02915764, 0.03684306, 0.02871776, 0.02817369, 0.0291326 ,\n",
       "         0.0286696 , 0.02818441, 0.0286274 , 0.02848196, 0.0287497 ,\n",
       "         0.02833796, 0.03036284, 0.0286088 , 0.02898097, 0.02844548,\n",
       "         0.02851248, 0.07862926, 0.04802752, 0.09154606, 0.0487957 ,\n",
       "         0.02933645, 0.03309774, 0.0315361 , 0.02858281, 0.02835917,\n",
       "         0.02849412, 0.02831197, 0.02916789, 0.02839017, 0.0292418 ]),\n",
       "  'test_acc': array([0.91623037, 0.92631579, 0.93684211, 0.93717277, 0.93157895,\n",
       "         0.91052632, 0.95811518, 0.94736842, 0.90526316, 0.92146597,\n",
       "         0.92631579, 0.91578947, 0.95811518, 0.93157895, 0.91578947,\n",
       "         0.90052356, 0.88421053, 0.9       , 0.93717277, 0.9       ,\n",
       "         0.93157895, 0.93717277, 0.94210526, 0.92631579, 0.91099476,\n",
       "         0.93684211, 0.93157895, 0.89528796, 0.93157895, 0.94210526]),\n",
       "  'test_PR_auc': array([0.83200827, 0.84674391, 0.87870657, 0.89616056, 0.86768426,\n",
       "         0.82924631, 0.91291772, 0.91178651, 0.82073365, 0.86064024,\n",
       "         0.84434396, 0.83222872, 0.91685261, 0.85806565, 0.83222872,\n",
       "         0.79470412, 0.77558944, 0.8068883 , 0.86870804, 0.80354511,\n",
       "         0.86658191, 0.87494287, 0.87544928, 0.84667398, 0.82610803,\n",
       "         0.8729311 , 0.87012962, 0.80333315, 0.8641848 , 0.87455571]),\n",
       "  'test_roc_auc': array([0.910831  , 0.92413303, 0.92749529, 0.91666667, 0.919813  ,\n",
       "         0.89818738, 0.9554155 , 0.92957746, 0.89124294, 0.90131886,\n",
       "         0.92697361, 0.91054614, 0.95267274, 0.92833471, 0.91054614,\n",
       "         0.90919701, 0.87063558, 0.88971281, 0.93586601, 0.88892177,\n",
       "         0.923258  , 0.93038049, 0.94241922, 0.92714218, 0.90114379,\n",
       "         0.92969582, 0.92055085, 0.87756769, 0.92265357, 0.94526836])},\n",
       " '3/20/gini': {'fit_time': array([0.39067483, 0.36906934, 0.39182043, 0.36476159, 0.39068866,\n",
       "         0.38870645, 0.36640406, 0.36310863, 0.39242077, 0.36372161,\n",
       "         0.38924289, 0.36796141, 0.36415505, 0.39816165, 0.36575174,\n",
       "         0.35936856, 0.40016508, 0.36784673, 0.39314127, 0.36428595,\n",
       "         0.36233664, 0.36621881, 0.39434195, 0.38378191, 0.36621714,\n",
       "         0.36652946, 0.39305043, 0.3668437 , 0.3658793 , 0.39139032]),\n",
       "  'score_time': array([0.0284431 , 0.0285306 , 0.02994418, 0.028543  , 0.02998495,\n",
       "         0.02831268, 0.02829742, 0.03060484, 0.02828217, 0.02868772,\n",
       "         0.02843928, 0.02837873, 0.02927613, 0.02853274, 0.02911139,\n",
       "         0.02836847, 0.02813077, 0.02816296, 0.02875018, 0.02830076,\n",
       "         0.02816916, 0.0282414 , 0.02862096, 0.03129888, 0.02869821,\n",
       "         0.02879667, 0.03165936, 0.02842259, 0.02842426, 0.03241754]),\n",
       "  'test_acc': array([0.90052356, 0.90526316, 0.87894737, 0.89005236, 0.91578947,\n",
       "         0.91052632, 0.88481675, 0.88947368, 0.88947368, 0.92670157,\n",
       "         0.91052632, 0.90526316, 0.93193717, 0.89473684, 0.87368421,\n",
       "         0.92146597, 0.87368421, 0.89473684, 0.92670157, 0.89473684,\n",
       "         0.9       , 0.86910995, 0.90526316, 0.86315789, 0.89005236,\n",
       "         0.92105263, 0.90526316, 0.87958115, 0.86315789, 0.91578947]),\n",
       "  'test_PR_auc': array([0.7972364 , 0.81467422, 0.76448343, 0.77944106, 0.82137354,\n",
       "         0.81391957, 0.78121089, 0.77765011, 0.77963395, 0.85165693,\n",
       "         0.81136953, 0.81532999, 0.85747431, 0.80302957, 0.76476608,\n",
       "         0.83808028, 0.7627593 , 0.80371893, 0.84430423, 0.80633991,\n",
       "         0.79481435, 0.74364386, 0.80787798, 0.74796265, 0.78212042,\n",
       "         0.84069681, 0.80721997, 0.76199733, 0.73224611, 0.82383041]),\n",
       "  'test_roc_auc': array([0.90371148, 0.89312345, 0.87547081, 0.89256536, 0.92141082,\n",
       "         0.91713748, 0.86916433, 0.88904012, 0.89206685, 0.92197712,\n",
       "         0.91720914, 0.89665725, 0.93166433, 0.87335779, 0.85499058,\n",
       "         0.92051821, 0.85086993, 0.87735405, 0.93020542, 0.87051722,\n",
       "         0.9086629 , 0.87575864, 0.90164517, 0.84110169, 0.88707983,\n",
       "         0.91425021, 0.90748588, 0.88141923, 0.86803172, 0.92137476])},\n",
       " '3/20/entropy': {'fit_time': array([0.65561652, 0.60746217, 0.66225171, 0.6304636 , 0.72961521,\n",
       "         0.89242148, 1.05890799, 0.84364796, 0.60909772, 0.92150664,\n",
       "         0.8091979 , 0.63957262, 0.66577744, 1.62519813, 1.87149405,\n",
       "         1.32950783, 0.85555911, 0.78799081, 1.45671034, 1.35312986,\n",
       "         0.9272573 , 0.69196415, 0.80441308, 1.35524988, 0.857831  ,\n",
       "         0.66131139, 0.78289056, 0.92836595, 1.32999706, 0.75901532]),\n",
       "  'score_time': array([0.02861238, 0.0289886 , 0.02821589, 0.0284946 , 0.06321073,\n",
       "         0.05018687, 0.05089164, 0.02825546, 0.03088164, 0.04818153,\n",
       "         0.02899837, 0.0283587 , 0.05381393, 0.07335663, 0.16136789,\n",
       "         0.04815936, 0.04995131, 0.04954338, 0.05491996, 0.05817032,\n",
       "         0.052073  , 0.03131747, 0.04752159, 0.10083795, 0.02835011,\n",
       "         0.04676366, 0.02858233, 0.04906106, 0.08005023, 0.02845621]),\n",
       "  'test_acc': array([0.88481675, 0.9       , 0.91578947, 0.89005236, 0.90526316,\n",
       "         0.93157895, 0.91623037, 0.88947368, 0.85789474, 0.90575916,\n",
       "         0.91052632, 0.91052632, 0.93717277, 0.89473684, 0.87368421,\n",
       "         0.86910995, 0.87368421, 0.88421053, 0.91099476, 0.86315789,\n",
       "         0.9       , 0.91623037, 0.9       , 0.91052632, 0.89005236,\n",
       "         0.92105263, 0.87894737, 0.87958115, 0.9       , 0.88421053]),\n",
       "  'test_PR_auc': array([0.78627859, 0.79448975, 0.84440789, 0.77944106, 0.80604398,\n",
       "         0.87012962, 0.85200213, 0.77541698, 0.73429345, 0.82040298,\n",
       "         0.81136953, 0.83962228, 0.86597165, 0.80302957, 0.76476608,\n",
       "         0.74235516, 0.7627593 , 0.77568023, 0.81239355, 0.74138515,\n",
       "         0.79481435, 0.82065639, 0.79592291, 0.82140511, 0.78212042,\n",
       "         0.83163407, 0.76049461, 0.76199733, 0.7975297 , 0.77568023]),\n",
       "  'test_roc_auc': array([0.8636788 , 0.90312463, 0.89971751, 0.89256536, 0.90448574,\n",
       "         0.92055085, 0.89437442, 0.89472127, 0.84227872, 0.89145658,\n",
       "         0.91720914, 0.89006591, 0.93860878, 0.87335779, 0.85499058,\n",
       "         0.88672969, 0.85086993, 0.87700094, 0.92034314, 0.84246656,\n",
       "         0.9086629 , 0.92728758, 0.90028406, 0.90630885, 0.88707983,\n",
       "         0.9256125 , 0.88629944, 0.88141923, 0.89744348, 0.87700094])},\n",
       " '5/2/gini': {'fit_time': array([0.43126631, 0.77606034, 0.4258492 , 0.55751634, 0.57652593,\n",
       "         0.50124049, 0.66693544, 0.96653318, 0.89646983, 0.69784737,\n",
       "         0.54919934, 0.74455452, 0.97094154, 0.97601318, 1.14771771,\n",
       "         0.81895018, 0.55808496, 0.54621911, 0.47017574, 0.54942679,\n",
       "         0.54819751, 0.55308032, 0.6161859 , 0.70362854, 0.53202868,\n",
       "         0.62716103, 0.52256799, 0.73832369, 0.75886059, 0.6592598 ]),\n",
       "  'score_time': array([0.04859328, 0.02982569, 0.02898765, 0.02879167, 0.03940129,\n",
       "         0.02827144, 0.05753326, 0.05482054, 0.05470753, 0.06230974,\n",
       "         0.02884936, 0.02946591, 0.09651756, 0.04733539, 0.05567741,\n",
       "         0.05458021, 0.03869915, 0.02920222, 0.02854753, 0.02870655,\n",
       "         0.02823687, 0.02838755, 0.02901602, 0.04987359, 0.05084658,\n",
       "         0.02842808, 0.0295856 , 0.04976058, 0.04934168, 0.03129339]),\n",
       "  'test_acc': array([0.89528796, 0.94210526, 0.92631579, 0.91099476, 0.93157895,\n",
       "         0.92105263, 0.94764398, 0.94210526, 0.91578947, 0.90575916,\n",
       "         0.91578947, 0.90526316, 0.96858639, 0.90526316, 0.91052632,\n",
       "         0.94764398, 0.87894737, 0.90526316, 0.93193717, 0.9       ,\n",
       "         0.94210526, 0.90052356, 0.90526316, 0.88421053, 0.92146597,\n",
       "         0.94210526, 0.91052632, 0.92146597, 0.94210526, 0.95263158]),\n",
       "  'test_PR_auc': array([0.80333315, 0.89792917, 0.85480368, 0.81905662, 0.86098697,\n",
       "         0.85298021, 0.88881028, 0.88167955, 0.84440789, 0.80876179,\n",
       "         0.82711801, 0.80895468, 0.93840273, 0.80292481, 0.82924631,\n",
       "         0.89211165, 0.77686409, 0.8310307 , 0.86636147, 0.80354511,\n",
       "         0.89119316, 0.80658518, 0.80991553, 0.78402549, 0.84920511,\n",
       "         0.88167955, 0.82140511, 0.84920511, 0.87842847, 0.90839054]),\n",
       "  'test_roc_auc': array([0.87756769, 0.92537578, 0.91902072, 0.90937208, 0.92549414,\n",
       "         0.90666196, 0.94701214, 0.93673808, 0.89971751, 0.9051704 ,\n",
       "         0.9128891 , 0.90477872, 0.96381886, 0.91016688, 0.89818738,\n",
       "         0.94426937, 0.85223103, 0.88312147, 0.92343604, 0.88892177,\n",
       "         0.93173258, 0.88999767, 0.89880459, 0.86617232, 0.90954715,\n",
       "         0.93673808, 0.90630885, 0.90954715, 0.93957865, 0.94562147])},\n",
       " '5/2/entropy': {'fit_time': array([0.73663712, 0.70499659, 0.80405807, 0.73987556, 0.732831  ,\n",
       "         0.76917076, 0.97822881, 0.85485888, 1.01924133, 0.95046282,\n",
       "         1.06558347, 1.64191246, 0.64247489, 0.75158405, 0.81898522,\n",
       "         0.73339152, 0.64340663, 0.71108913, 0.70830703, 0.73179245,\n",
       "         1.37619734, 0.98558187, 0.93440223, 0.71485662, 0.80192518,\n",
       "         0.6455121 , 0.75571918, 0.72132444, 0.70274496, 0.76827765]),\n",
       "  'score_time': array([0.02881694, 0.02915812, 0.02883506, 0.02849317, 0.02830768,\n",
       "         0.02836108, 0.05053759, 0.04047632, 0.05598783, 0.03955531,\n",
       "         0.04773259, 0.02928019, 0.02874041, 0.0288868 , 0.02903748,\n",
       "         0.02832937, 0.02821779, 0.0286324 , 0.03166938, 0.03831029,\n",
       "         0.05436468, 0.02946258, 0.02863002, 0.02892137, 0.02916837,\n",
       "         0.0289042 , 0.0284059 , 0.02848387, 0.02858257, 0.02829123]),\n",
       "  'test_acc': array([0.91099476, 0.94736842, 0.93157895, 0.90052356, 0.94210526,\n",
       "         0.92631579, 0.95811518, 0.94736842, 0.9       , 0.92146597,\n",
       "         0.91052632, 0.90526316, 0.96858639, 0.91578947, 0.93684211,\n",
       "         0.91623037, 0.88947368, 0.90526316, 0.95287958, 0.92631579,\n",
       "         0.94210526, 0.94764398, 0.92105263, 0.94736842, 0.92146597,\n",
       "         0.94736842, 0.91052632, 0.91099476, 0.94736842, 0.92105263]),\n",
       "  'test_PR_auc': array([0.83547905, 0.89788898, 0.87012962, 0.80225741, 0.87544928,\n",
       "         0.85803019, 0.91291772, 0.89399985, 0.81222447, 0.84603346,\n",
       "         0.81288134, 0.81087403, 0.93840273, 0.83795974, 0.87870657,\n",
       "         0.82746624, 0.79135082, 0.81532999, 0.9043079 , 0.86689837,\n",
       "         0.89119316, 0.89569933, 0.83163407, 0.89224943, 0.84920511,\n",
       "         0.89788898, 0.82140511, 0.82610803, 0.90212693, 0.83399215]),\n",
       "  'test_roc_auc': array([0.8929155 , 0.93809918, 0.92055085, 0.89548319, 0.94241922,\n",
       "         0.91631356, 0.9554155 , 0.94093976, 0.88429849, 0.91228992,\n",
       "         0.91436856, 0.90207156, 0.96381886, 0.90152681, 0.92749529,\n",
       "         0.91631653, 0.86915611, 0.89665725, 0.94847106, 0.9070896 ,\n",
       "         0.93173258, 0.94152661, 0.9256125 , 0.94409134, 0.90954715,\n",
       "         0.93809918, 0.90630885, 0.90114379, 0.93525861, 0.92561205])},\n",
       " '5/5/gini': {'fit_time': array([0.42858386, 0.5436728 , 0.42910194, 0.53995943, 0.57492995,\n",
       "         0.5991199 , 0.73054576, 0.73913789, 0.50227237, 0.54192853,\n",
       "         0.41761875, 0.57528973, 0.4572041 , 0.57274127, 0.46089077,\n",
       "         0.5285778 , 0.46002054, 0.54046416, 0.42605138, 0.54122615,\n",
       "         0.53896761, 0.4646337 , 0.5308423 , 0.53057408, 0.47962976,\n",
       "         0.54181504, 0.42658949, 0.53317308, 0.53995037, 0.45840335]),\n",
       "  'score_time': array([0.03094769, 0.02832532, 0.02877617, 0.03320765, 0.02858758,\n",
       "         0.05258727, 0.05390692, 0.05165958, 0.02864766, 0.02835226,\n",
       "         0.02842999, 0.02858543, 0.02964139, 0.02875185, 0.02891231,\n",
       "         0.0284059 , 0.0284915 , 0.02868843, 0.02890873, 0.0289619 ,\n",
       "         0.02970719, 0.02866697, 0.02837896, 0.03141212, 0.02892852,\n",
       "         0.02908039, 0.02844   , 0.02920508, 0.02862263, 0.02942109]),\n",
       "  'test_acc': array([0.91623037, 0.93684211, 0.92105263, 0.91099476, 0.92631579,\n",
       "         0.91052632, 0.94764398, 0.92631579, 0.89473684, 0.91623037,\n",
       "         0.91052632, 0.89473684, 0.95287958, 0.85263158, 0.91052632,\n",
       "         0.94764398, 0.88947368, 0.90526316, 0.93717277, 0.91578947,\n",
       "         0.94736842, 0.92670157, 0.93684211, 0.88421053, 0.90575916,\n",
       "         0.94210526, 0.91052632, 0.92146597, 0.94210526, 0.94736842]),\n",
       "  'test_PR_auc': array([0.8296297 , 0.8697063 , 0.84948067, 0.8171279 , 0.8421611 ,\n",
       "         0.82638359, 0.8857726 , 0.85544074, 0.79845201, 0.8296297 ,\n",
       "         0.81136953, 0.7856029 , 0.90069888, 0.71602969, 0.83238866,\n",
       "         0.8857726 , 0.80122578, 0.8310307 , 0.87848612, 0.83201835,\n",
       "         0.89979145, 0.85458323, 0.86159156, 0.77940961, 0.81505443,\n",
       "         0.88167955, 0.82140511, 0.84049244, 0.87272053, 0.89224943]),\n",
       "  'test_roc_auc': array([0.91357376, 0.93253639, 0.90936911, 0.91211485, 0.92981418,\n",
       "         0.90089454, 0.9497549 , 0.91561131, 0.88276836, 0.91357376,\n",
       "         0.91720914, 0.90442561, 0.95121382, 0.85394721, 0.89548023,\n",
       "         0.9497549 , 0.86063439, 0.88312147, 0.92763772, 0.90720795,\n",
       "         0.93867702, 0.91923436, 0.94105811, 0.87158663, 0.89694211,\n",
       "         0.93673808, 0.90630885, 0.91777544, 0.94525979, 0.94409134])},\n",
       " '5/5/entropy': {'fit_time': array([0.72704816, 0.69557834, 0.79098201, 0.7178638 , 0.71648622,\n",
       "         0.76273656, 0.81699395, 0.70689893, 0.73621702, 0.73308039,\n",
       "         0.73499179, 0.74758339, 0.6216042 , 0.73138762, 0.80879712,\n",
       "         0.70872974, 0.63505054, 0.69812226, 0.68185878, 0.68758082,\n",
       "         0.81112218, 0.64043999, 0.90175223, 0.70787549, 0.69683361,\n",
       "         0.63485765, 0.72838354, 0.70961857, 0.68760991, 0.73566437]),\n",
       "  'score_time': array([0.02878022, 0.0287292 , 0.02851439, 0.03076124, 0.02804899,\n",
       "         0.02868533, 0.02841783, 0.02837324, 0.02850533, 0.02813005,\n",
       "         0.02852917, 0.03097343, 0.02901173, 0.0285697 , 0.0292635 ,\n",
       "         0.03027463, 0.03143167, 0.02875614, 0.02844429, 0.02908874,\n",
       "         0.02946639, 0.02847147, 0.02903366, 0.02972817, 0.03108692,\n",
       "         0.02858043, 0.02875924, 0.02917266, 0.02861452, 0.02837157]),\n",
       "  'test_acc': array([0.93717277, 0.95789474, 0.93157895, 0.90052356, 0.93684211,\n",
       "         0.92105263, 0.96335079, 0.96315789, 0.9       , 0.92670157,\n",
       "         0.91052632, 0.91578947, 0.96858639, 0.88947368, 0.91052632,\n",
       "         0.91623037, 0.88947368, 0.9       , 0.94240838, 0.92631579,\n",
       "         0.94210526, 0.94764398, 0.92105263, 0.93157895, 0.90575916,\n",
       "         0.96315789, 0.94210526, 0.93193717, 0.94736842, 0.94210526]),\n",
       "  'test_PR_auc': array([0.87494287, 0.92438273, 0.8633288 , 0.80225741, 0.86675569,\n",
       "         0.84628146, 0.92152872, 0.9332008 , 0.8068883 , 0.85458323,\n",
       "         0.81136953, 0.83222872, 0.93840273, 0.77765011, 0.83238866,\n",
       "         0.82746624, 0.79135082, 0.80942655, 0.88024955, 0.86689837,\n",
       "         0.89119316, 0.89569933, 0.83163407, 0.8633288 , 0.81505443,\n",
       "         0.92427195, 0.89119316, 0.86636147, 0.90212693, 0.87734893]),\n",
       "  'test_roc_auc': array([0.93038049, 0.94650254, 0.92596516, 0.89548319, 0.93537697,\n",
       "         0.91207627, 0.96235994, 0.9535448 , 0.88971281, 0.91923436,\n",
       "         0.91720914, 0.91054614, 0.96381886, 0.88904012, 0.89548023,\n",
       "         0.91631653, 0.86915611, 0.88700565, 0.94006769, 0.9070896 ,\n",
       "         0.93173258, 0.94152661, 0.9256125 , 0.92596516, 0.89694211,\n",
       "         0.95922594, 0.93173258, 0.92343604, 0.93525861, 0.94256121])},\n",
       " '5/10/gini': {'fit_time': array([0.40785074, 0.52767587, 0.40910625, 0.44576001, 0.41726661,\n",
       "         0.4115932 , 0.52181578, 0.451864  , 0.41393232, 0.52262974,\n",
       "         0.41506243, 0.49071074, 0.4525826 , 0.48554063, 0.45073271,\n",
       "         0.45334291, 0.41065645, 0.5342989 , 0.41072273, 0.51633787,\n",
       "         0.45357203, 0.45436335, 0.51645017, 0.45457673, 0.38630986,\n",
       "         0.53259826, 0.40833569, 0.45291972, 0.44881415, 0.44855714]),\n",
       "  'score_time': array([0.02828407, 0.02835369, 0.02863097, 0.02859354, 0.02818274,\n",
       "         0.02829885, 0.03200126, 0.02839398, 0.03053236, 0.02853537,\n",
       "         0.02826285, 0.02920246, 0.02852678, 0.02840114, 0.02825356,\n",
       "         0.0287118 , 0.02865291, 0.02876472, 0.02837253, 0.02899861,\n",
       "         0.02865601, 0.02923226, 0.03185678, 0.02846909, 0.0402832 ,\n",
       "         0.02908421, 0.03720164, 0.02849817, 0.02935576, 0.04005408]),\n",
       "  'test_acc': array([0.93193717, 0.91578947, 0.92631579, 0.93717277, 0.93157895,\n",
       "         0.91052632, 0.93193717, 0.92105263, 0.90526316, 0.90575916,\n",
       "         0.92631579, 0.90526316, 0.96335079, 0.91578947, 0.88421053,\n",
       "         0.92146597, 0.87368421, 0.90526316, 0.95287958, 0.91578947,\n",
       "         0.93157895, 0.89528796, 0.93684211, 0.9       , 0.91099476,\n",
       "         0.91052632, 0.88947368, 0.93193717, 0.93684211, 0.94210526]),\n",
       "  'test_PR_auc': array([0.86018074, 0.83484726, 0.86540342, 0.89616056, 0.85539839,\n",
       "         0.82924631, 0.86018074, 0.85393481, 0.81790291, 0.81505443,\n",
       "         0.84434396, 0.80895468, 0.93439869, 0.82500618, 0.77034905,\n",
       "         0.84049244, 0.7627593 , 0.82726844, 0.91709849, 0.82711801,\n",
       "         0.86658191, 0.80635661, 0.87645464, 0.81222447, 0.82610803,\n",
       "         0.82334409, 0.78398622, 0.85747431, 0.87645464, 0.88728494]),\n",
       "  'test_roc_auc': array([0.92892157, 0.90436738, 0.91089925, 0.91666667, 0.93117529,\n",
       "         0.89818738, 0.92892157, 0.90288792, 0.89395009, 0.89694211,\n",
       "         0.92697361, 0.90477872, 0.95413165, 0.91572967, 0.88782957,\n",
       "         0.91777544, 0.85086993, 0.88582863, 0.94024276, 0.9128891 ,\n",
       "         0.923258  , 0.87482493, 0.92685525, 0.88429849, 0.90114379,\n",
       "         0.9001657 , 0.88394539, 0.93166433, 0.92685525, 0.93443974])},\n",
       " '5/10/entropy': {'fit_time': array([0.69758129, 0.6766336 , 0.76560402, 0.68674159, 0.68397093,\n",
       "         0.72290564, 0.77626848, 0.68639398, 0.69690108, 0.68866253,\n",
       "         0.70624185, 0.73521757, 0.59985399, 0.70849872, 0.77876949,\n",
       "         0.69658303, 0.60805464, 0.67918324, 0.65267873, 0.66592383,\n",
       "         0.78468823, 0.60711718, 0.81488895, 0.67371249, 0.67330742,\n",
       "         0.58742809, 0.70156574, 0.68121672, 0.659724  , 0.70980644]),\n",
       "  'score_time': array([0.02845287, 0.02896357, 0.02984118, 0.0287447 , 0.03238654,\n",
       "         0.02823257, 0.0285449 , 0.02821159, 0.02883124, 0.02825618,\n",
       "         0.02844167, 0.02853584, 0.0282371 , 0.02838469, 0.02838755,\n",
       "         0.03407145, 0.02827096, 0.02802753, 0.03077221, 0.02835679,\n",
       "         0.02923679, 0.02837658, 0.02835536, 0.02833533, 0.02836776,\n",
       "         0.0281558 , 0.03128481, 0.0286572 , 0.03765774, 0.03135157]),\n",
       "  'test_acc': array([0.91623037, 0.92631579, 0.93684211, 0.90575916, 0.91578947,\n",
       "         0.91052632, 0.95811518, 0.94210526, 0.90526316, 0.92146597,\n",
       "         0.92631579, 0.91578947, 0.96858639, 0.93157895, 0.91578947,\n",
       "         0.91623037, 0.88421053, 0.89473684, 0.91623037, 0.92631579,\n",
       "         0.93157895, 0.90575916, 0.94210526, 0.92631579, 0.91099476,\n",
       "         0.95263158, 0.93157895, 0.93193717, 0.93157895, 0.94210526]),\n",
       "  'test_PR_auc': array([0.83200827, 0.84674391, 0.87870657, 0.81759979, 0.82711801,\n",
       "         0.82924631, 0.91291772, 0.89331913, 0.82073365, 0.8358822 ,\n",
       "         0.84434396, 0.83222872, 0.94304893, 0.85806565, 0.83222872,\n",
       "         0.83200827, 0.77558944, 0.80095472, 0.83748674, 0.86689837,\n",
       "         0.86658191, 0.82040298, 0.87544928, 0.84667398, 0.82610803,\n",
       "         0.91093515, 0.87012962, 0.86018074, 0.87570482, 0.87734893]),\n",
       "  'test_roc_auc': array([0.910831  , 0.92413303, 0.92749529, 0.89419935, 0.9128891 ,\n",
       "         0.89818738, 0.9554155 , 0.92821636, 0.89124294, 0.92326097,\n",
       "         0.92697361, 0.91054614, 0.9610761 , 0.92833471, 0.91054614,\n",
       "         0.910831  , 0.87063558, 0.88006121, 0.90534547, 0.9070896 ,\n",
       "         0.923258  , 0.89145658, 0.94241922, 0.92714218, 0.90114379,\n",
       "         0.94230086, 0.92055085, 0.92892157, 0.91413185, 0.94256121])},\n",
       " '5/20/gini': {'fit_time': array([0.40652895, 0.43748236, 0.39441895, 0.42570233, 0.39015126,\n",
       "         0.39510441, 0.43133354, 0.43381476, 0.39045835, 0.43724227,\n",
       "         0.3917973 , 0.43426442, 0.42669034, 0.39621878, 0.43810105,\n",
       "         0.42238116, 0.39537764, 0.43787336, 0.39254594, 0.43121123,\n",
       "         0.43371081, 0.36482692, 0.45476294, 0.43473887, 0.37264061,\n",
       "         0.44079471, 0.39032722, 0.36380935, 0.43416595, 0.39371395]),\n",
       "  'score_time': array([0.02842736, 0.02835727, 0.02830958, 0.02861714, 0.02835035,\n",
       "         0.02832389, 0.02892208, 0.02862835, 0.02862334, 0.0281744 ,\n",
       "         0.02902913, 0.02820802, 0.02868009, 0.02888417, 0.029001  ,\n",
       "         0.02885318, 0.02813339, 0.02830362, 0.03595734, 0.02795219,\n",
       "         0.0290904 , 0.0283556 , 0.02849746, 0.02836275, 0.02856779,\n",
       "         0.02915859, 0.03148556, 0.02992082, 0.02838254, 0.03072429]),\n",
       "  'test_acc': array([0.90052356, 0.90526316, 0.87894737, 0.89005236, 0.91578947,\n",
       "         0.91052632, 0.88481675, 0.88947368, 0.88947368, 0.92670157,\n",
       "         0.91052632, 0.90526316, 0.93193717, 0.89473684, 0.87368421,\n",
       "         0.92146597, 0.87368421, 0.89473684, 0.92670157, 0.89473684,\n",
       "         0.9       , 0.86910995, 0.90526316, 0.86315789, 0.89005236,\n",
       "         0.92105263, 0.90526316, 0.87958115, 0.86315789, 0.91578947]),\n",
       "  'test_PR_auc': array([0.7972364 , 0.81467422, 0.76448343, 0.77944106, 0.82137354,\n",
       "         0.81391957, 0.78121089, 0.77765011, 0.77963395, 0.85165693,\n",
       "         0.81136953, 0.81532999, 0.85747431, 0.80302957, 0.76476608,\n",
       "         0.83808028, 0.7627593 , 0.80371893, 0.84430423, 0.80633991,\n",
       "         0.79481435, 0.74364386, 0.80787798, 0.74796265, 0.78212042,\n",
       "         0.84069681, 0.80721997, 0.76199733, 0.73224611, 0.82383041]),\n",
       "  'test_roc_auc': array([0.90371148, 0.89312345, 0.87547081, 0.89256536, 0.92141082,\n",
       "         0.91713748, 0.86916433, 0.88904012, 0.89206685, 0.92197712,\n",
       "         0.91720914, 0.89665725, 0.93166433, 0.87335779, 0.85499058,\n",
       "         0.92051821, 0.85086993, 0.87735405, 0.93020542, 0.87051722,\n",
       "         0.9086629 , 0.87575864, 0.90164517, 0.84110169, 0.88707983,\n",
       "         0.91425021, 0.90748588, 0.88141923, 0.86803172, 0.92137476])},\n",
       " '5/20/entropy': {'fit_time': array([0.65696859, 0.61487484, 0.65658021, 0.65210152, 0.63009501,\n",
       "         0.65920138, 0.63252664, 0.63416576, 0.60299659, 0.63819289,\n",
       "         0.65162969, 0.61535645, 0.56655121, 0.66361403, 0.73799205,\n",
       "         0.62977099, 0.56109595, 0.6149323 , 0.60744786, 0.61265826,\n",
       "         0.73863673, 0.55193901, 0.67247677, 0.62168884, 0.6191287 ,\n",
       "         0.54731321, 0.65397906, 0.62302327, 0.62604856, 0.66471553]),\n",
       "  'score_time': array([0.02859664, 0.028332  , 0.02851105, 0.02857828, 0.02851391,\n",
       "         0.02815127, 0.02813745, 0.02861214, 0.02801347, 0.02897429,\n",
       "         0.03493524, 0.02876639, 0.02834201, 0.02868915, 0.02837658,\n",
       "         0.02796221, 0.02816558, 0.02811837, 0.03154206, 0.02850389,\n",
       "         0.02822781, 0.02881742, 0.0284481 , 0.02840686, 0.02865815,\n",
       "         0.02855158, 0.02859306, 0.02842832, 0.02951765, 0.04811549]),\n",
       "  'test_acc': array([0.88481675, 0.9       , 0.91578947, 0.89005236, 0.90526316,\n",
       "         0.93157895, 0.91623037, 0.88947368, 0.85789474, 0.90575916,\n",
       "         0.91052632, 0.91052632, 0.93717277, 0.89473684, 0.87368421,\n",
       "         0.91099476, 0.87368421, 0.88421053, 0.91099476, 0.86315789,\n",
       "         0.9       , 0.91623037, 0.9       , 0.91052632, 0.89005236,\n",
       "         0.92105263, 0.87894737, 0.87958115, 0.9       , 0.88421053]),\n",
       "  'test_PR_auc': array([0.78627859, 0.79448975, 0.84440789, 0.77944106, 0.80604398,\n",
       "         0.87012962, 0.85200213, 0.77541698, 0.73429345, 0.82040298,\n",
       "         0.81136953, 0.83962228, 0.87494287, 0.80302957, 0.76476608,\n",
       "         0.81905662, 0.7627593 , 0.77568023, 0.81239355, 0.74138515,\n",
       "         0.79481435, 0.82065639, 0.79592291, 0.81924951, 0.78212042,\n",
       "         0.83163407, 0.76049461, 0.76199733, 0.7975297 , 0.77568023]),\n",
       "  'test_roc_auc': array([0.8636788 , 0.90312463, 0.89971751, 0.89256536, 0.90448574,\n",
       "         0.92055085, 0.89437442, 0.89472127, 0.84227872, 0.89145658,\n",
       "         0.91720914, 0.89006591, 0.93038049, 0.87335779, 0.85499058,\n",
       "         0.90937208, 0.85086993, 0.87700094, 0.92034314, 0.84246656,\n",
       "         0.9086629 , 0.92728758, 0.90028406, 0.90901601, 0.88707983,\n",
       "         0.9256125 , 0.88629944, 0.88141923, 0.89744348, 0.87700094])},\n",
       " '10/2/gini': {'fit_time': array([0.56439304, 0.81839633, 0.56861305, 0.54776049, 0.65363693,\n",
       "         0.63567567, 1.00227618, 0.67924833, 0.79461598, 0.69999075,\n",
       "         0.98320913, 1.09068394, 0.59766459, 0.75209522, 0.68445301,\n",
       "         0.7246654 , 0.65999055, 0.75628948, 0.51691723, 0.69879603,\n",
       "         0.63208055, 0.74199295, 0.83890843, 0.74580503, 0.47146654,\n",
       "         0.63651609, 0.46199584, 0.58220911, 0.60077357, 0.67978358]),\n",
       "  'score_time': array([0.04781818, 0.05863881, 0.02853441, 0.03069544, 0.0283258 ,\n",
       "         0.0495472 , 0.02907681, 0.05031466, 0.05632591, 0.04900789,\n",
       "         0.15132141, 0.04925203, 0.05252814, 0.0309608 , 0.04829764,\n",
       "         0.03462839, 0.05026817, 0.06076312, 0.02844429, 0.02892804,\n",
       "         0.05386734, 0.0522213 , 0.03310204, 0.0324502 , 0.02848053,\n",
       "         0.02841783, 0.02978778, 0.05333734, 0.02839565, 0.04795265]),\n",
       "  'test_acc': array([0.89528796, 0.93684211, 0.92631579, 0.91099476, 0.92631579,\n",
       "         0.92105263, 0.93193717, 0.94210526, 0.91578947, 0.91099476,\n",
       "         0.91578947, 0.88947368, 0.96858639, 0.90526316, 0.91052632,\n",
       "         0.94764398, 0.87894737, 0.92105263, 0.93193717, 0.91578947,\n",
       "         0.94210526, 0.90052356, 0.90526316, 0.88421053, 0.92146597,\n",
       "         0.94210526, 0.91052632, 0.92146597, 0.94210526, 0.95263158]),\n",
       "  'test_PR_auc': array([0.80333315, 0.8803045 , 0.85480368, 0.81905662, 0.84674391,\n",
       "         0.85298021, 0.86636147, 0.88167955, 0.84440789, 0.82352887,\n",
       "         0.82711801, 0.78236842, 0.93840273, 0.80292481, 0.82924631,\n",
       "         0.89211165, 0.77686409, 0.85298021, 0.86636147, 0.83795974,\n",
       "         0.89119316, 0.80658518, 0.80991553, 0.78402549, 0.84920511,\n",
       "         0.88522653, 0.82140511, 0.84920511, 0.87842847, 0.90839054]),\n",
       "  'test_roc_auc': array([0.87756769, 0.92401468, 0.91902072, 0.90937208, 0.92413303,\n",
       "         0.90666196, 0.92343604, 0.93673808, 0.89971751, 0.90388655,\n",
       "         0.9128891 , 0.88665254, 0.96381886, 0.91016688, 0.89818738,\n",
       "         0.94426937, 0.85223103, 0.90666196, 0.92343604, 0.90152681,\n",
       "         0.93173258, 0.88999767, 0.89880459, 0.86617232, 0.90954715,\n",
       "         0.9338975 , 0.90630885, 0.90954715, 0.93957865, 0.94562147])},\n",
       " '10/2/entropy': {'fit_time': array([1.10627842, 0.83218455, 0.80513811, 0.89433622, 1.44746566,\n",
       "         2.04425907, 1.88718867, 0.84674287, 0.76192927, 0.7270422 ,\n",
       "         0.75200844, 0.7758491 , 0.63669753, 0.7601912 , 0.8256216 ,\n",
       "         0.73053265, 0.64882421, 0.72007942, 0.70580673, 0.72133017,\n",
       "         0.94224977, 0.65441346, 0.93004799, 0.71925426, 0.80324674,\n",
       "         0.88230538, 1.2066102 , 2.29097724, 1.2604804 , 1.55635643]),\n",
       "  'score_time': array([0.05416751, 0.02818084, 0.02873421, 0.02846718, 0.15127444,\n",
       "         0.08759403, 0.0954423 , 0.03026485, 0.02836251, 0.02843285,\n",
       "         0.02882481, 0.03136992, 0.02848506, 0.02844095, 0.02878594,\n",
       "         0.02823424, 0.02904201, 0.02849674, 0.02840137, 0.02839875,\n",
       "         0.02867031, 0.02875352, 0.02878356, 0.02838302, 0.03367162,\n",
       "         0.04909754, 0.0703845 , 0.12231421, 0.04993606, 0.10209608]),\n",
       "  'test_acc': array([0.91099476, 0.94736842, 0.93157895, 0.90052356, 0.94210526,\n",
       "         0.92631579, 0.95811518, 0.94736842, 0.9       , 0.92146597,\n",
       "         0.91052632, 0.90526316, 0.96858639, 0.91578947, 0.93684211,\n",
       "         0.91623037, 0.88947368, 0.90526316, 0.95287958, 0.92631579,\n",
       "         0.94210526, 0.94764398, 0.92105263, 0.94736842, 0.92146597,\n",
       "         0.94736842, 0.91052632, 0.91099476, 0.94736842, 0.92105263]),\n",
       "  'test_PR_auc': array([0.83547905, 0.89788898, 0.87012962, 0.80225741, 0.87544928,\n",
       "         0.85803019, 0.91291772, 0.89399985, 0.81222447, 0.84603346,\n",
       "         0.81288134, 0.81087403, 0.93840273, 0.83795974, 0.87870657,\n",
       "         0.82746624, 0.79135082, 0.81532999, 0.9043079 , 0.86689837,\n",
       "         0.89119316, 0.89569933, 0.83163407, 0.89224943, 0.84920511,\n",
       "         0.89788898, 0.82140511, 0.82610803, 0.90212693, 0.83399215]),\n",
       "  'test_roc_auc': array([0.8929155 , 0.93809918, 0.92055085, 0.89548319, 0.94241922,\n",
       "         0.91631356, 0.9554155 , 0.94093976, 0.88429849, 0.91228992,\n",
       "         0.91436856, 0.90207156, 0.96381886, 0.90152681, 0.92749529,\n",
       "         0.91631653, 0.86915611, 0.89665725, 0.94847106, 0.9070896 ,\n",
       "         0.93173258, 0.94152661, 0.9256125 , 0.94409134, 0.90954715,\n",
       "         0.93809918, 0.90630885, 0.90114379, 0.93525861, 0.92561205])},\n",
       " '10/5/gini': {'fit_time': array([0.88751459, 0.90590882, 0.54840469, 1.09420133, 1.2299087 ,\n",
       "         0.60015249, 0.54312158, 0.70003128, 0.89210796, 0.88800693,\n",
       "         0.57515621, 0.85627604, 0.67486453, 0.86221671, 1.48300242,\n",
       "         0.72367907, 0.71852231, 1.25453115, 0.69399381, 1.17521596,\n",
       "         0.95198107, 0.64274621, 0.55063128, 0.54456735, 0.46280169,\n",
       "         0.62316155, 0.41985679, 0.54297328, 0.53310227, 0.46476102]),\n",
       "  'score_time': array([0.05821657, 0.04797721, 0.02867746, 0.06274295, 0.10892415,\n",
       "         0.02808523, 0.03076553, 0.07461596, 0.11361337, 0.05099416,\n",
       "         0.05102587, 0.04942155, 0.02873111, 0.0988338 , 0.0627749 ,\n",
       "         0.05045986, 0.11638403, 0.05718064, 0.0633719 , 0.142555  ,\n",
       "         0.05381274, 0.05343366, 0.02861953, 0.02902794, 0.02869415,\n",
       "         0.02883196, 0.02841091, 0.02904916, 0.02917361, 0.02869034]),\n",
       "  'test_acc': array([0.91623037, 0.93684211, 0.92105263, 0.91099476, 0.92631579,\n",
       "         0.91052632, 0.93193717, 0.92631579, 0.89473684, 0.91623037,\n",
       "         0.91052632, 0.89473684, 0.95287958, 0.85263158, 0.91052632,\n",
       "         0.94764398, 0.88947368, 0.90526316, 0.93717277, 0.91578947,\n",
       "         0.94736842, 0.92670157, 0.93684211, 0.88421053, 0.90575916,\n",
       "         0.93157895, 0.91052632, 0.92146597, 0.94210526, 0.94736842]),\n",
       "  'test_PR_auc': array([0.8296297 , 0.8697063 , 0.84948067, 0.8171279 , 0.8421611 ,\n",
       "         0.82638359, 0.85273212, 0.85544074, 0.79845201, 0.8296297 ,\n",
       "         0.81136953, 0.7856029 , 0.90069888, 0.71602969, 0.83238866,\n",
       "         0.8857726 , 0.80122578, 0.8310307 , 0.87848612, 0.83201835,\n",
       "         0.89979145, 0.85458323, 0.86159156, 0.77940961, 0.81505443,\n",
       "         0.86098697, 0.82140511, 0.84049244, 0.87272053, 0.89224943]),\n",
       "  'test_roc_auc': array([0.91357376, 0.93253639, 0.90936911, 0.91211485, 0.92981418,\n",
       "         0.90089454, 0.93714986, 0.91561131, 0.88276836, 0.91357376,\n",
       "         0.91720914, 0.90442561, 0.95121382, 0.85394721, 0.89548023,\n",
       "         0.9497549 , 0.86063439, 0.88312147, 0.92763772, 0.90720795,\n",
       "         0.93867702, 0.91923436, 0.94105811, 0.87158663, 0.89694211,\n",
       "         0.92549414, 0.90630885, 0.91777544, 0.94525979, 0.94409134])},\n",
       " '10/5/entropy': {'fit_time': array([0.7283988 , 0.69187403, 0.78838372, 0.7284925 , 0.73164201,\n",
       "         0.91598153, 1.20230412, 0.91604686, 0.72985125, 0.71283746,\n",
       "         0.73443937, 0.75302529, 0.62381697, 0.73727536, 1.07003498,\n",
       "         0.72958565, 0.64569187, 0.71031332, 0.69210577, 0.68872762,\n",
       "         0.81913733, 0.63947916, 0.90271115, 0.69930601, 0.69920063,\n",
       "         0.62488961, 0.73735476, 0.70004821, 0.68384361, 0.73865652]),\n",
       "  'score_time': array([0.02844262, 0.02877927, 0.02864027, 0.02936339, 0.02926898,\n",
       "         0.05401826, 0.05362916, 0.02842307, 0.02830195, 0.02959609,\n",
       "         0.02978826, 0.02862883, 0.02814841, 0.02845526, 0.03092384,\n",
       "         0.02866077, 0.02826309, 0.02846742, 0.02884555, 0.02957606,\n",
       "         0.02842736, 0.02839375, 0.0287509 , 0.02852678, 0.02900791,\n",
       "         0.02885008, 0.02933788, 0.02867341, 0.02836657, 0.028265  ]),\n",
       "  'test_acc': array([0.93717277, 0.95789474, 0.93157895, 0.90052356, 0.93684211,\n",
       "         0.92105263, 0.96335079, 0.96315789, 0.9       , 0.92670157,\n",
       "         0.91052632, 0.91578947, 0.96858639, 0.88947368, 0.91052632,\n",
       "         0.91623037, 0.88947368, 0.9       , 0.94240838, 0.92631579,\n",
       "         0.94210526, 0.94764398, 0.92105263, 0.93157895, 0.90575916,\n",
       "         0.96315789, 0.94210526, 0.93193717, 0.94736842, 0.94210526]),\n",
       "  'test_PR_auc': array([0.87494287, 0.92438273, 0.8633288 , 0.80225741, 0.86675569,\n",
       "         0.84628146, 0.92152872, 0.9332008 , 0.8068883 , 0.85458323,\n",
       "         0.81136953, 0.83222872, 0.93840273, 0.77765011, 0.83238866,\n",
       "         0.82746624, 0.79135082, 0.80942655, 0.88024955, 0.86689837,\n",
       "         0.89119316, 0.89569933, 0.83163407, 0.8633288 , 0.81505443,\n",
       "         0.92427195, 0.89119316, 0.86636147, 0.90212693, 0.87734893]),\n",
       "  'test_roc_auc': array([0.93038049, 0.94650254, 0.92596516, 0.89548319, 0.93537697,\n",
       "         0.91207627, 0.96235994, 0.9535448 , 0.88971281, 0.91923436,\n",
       "         0.91720914, 0.91054614, 0.96381886, 0.88904012, 0.89548023,\n",
       "         0.91631653, 0.86915611, 0.88700565, 0.94006769, 0.9070896 ,\n",
       "         0.93173258, 0.94152661, 0.9256125 , 0.92596516, 0.89694211,\n",
       "         0.95922594, 0.93173258, 0.92343604, 0.93525861, 0.94256121])},\n",
       " '10/10/gini': {'fit_time': array([0.40957594, 0.52799153, 0.41031528, 0.45898223, 0.40865684,\n",
       "         0.4185617 , 0.52075052, 0.46074986, 0.40933967, 0.52855754,\n",
       "         0.40877032, 0.48671269, 0.4494493 , 0.48851681, 0.44666529,\n",
       "         0.48631907, 0.65304852, 0.60053539, 0.41177988, 0.51583433,\n",
       "         0.45463014, 0.45471382, 0.52153015, 0.49035954, 0.53862429,\n",
       "         0.53344488, 0.41633892, 0.4509728 , 0.45344448, 0.45608544]),\n",
       "  'score_time': array([0.02845883, 0.02797198, 0.03683496, 0.02828956, 0.02858067,\n",
       "         0.02838564, 0.02857137, 0.02911901, 0.02878094, 0.03207088,\n",
       "         0.02842784, 0.02884579, 0.02816606, 0.02851176, 0.02883029,\n",
       "         0.06127191, 0.04807878, 0.02843332, 0.028723  , 0.02817726,\n",
       "         0.02855635, 0.0292747 , 0.03361773, 0.04875994, 0.05687499,\n",
       "         0.02866483, 0.0289433 , 0.02856398, 0.02830839, 0.02860308]),\n",
       "  'test_acc': array([0.93193717, 0.91578947, 0.92631579, 0.93717277, 0.93157895,\n",
       "         0.91052632, 0.93193717, 0.92105263, 0.90526316, 0.90575916,\n",
       "         0.92631579, 0.90526316, 0.96335079, 0.91578947, 0.88421053,\n",
       "         0.92146597, 0.87368421, 0.90526316, 0.95287958, 0.91578947,\n",
       "         0.93157895, 0.89528796, 0.93684211, 0.9       , 0.91099476,\n",
       "         0.91052632, 0.88947368, 0.93193717, 0.93684211, 0.94210526]),\n",
       "  'test_PR_auc': array([0.86018074, 0.83484726, 0.86540342, 0.89616056, 0.85539839,\n",
       "         0.82924631, 0.86018074, 0.85393481, 0.81790291, 0.81505443,\n",
       "         0.84434396, 0.80895468, 0.93439869, 0.82500618, 0.77034905,\n",
       "         0.84049244, 0.7627593 , 0.82726844, 0.91709849, 0.82711801,\n",
       "         0.86658191, 0.80635661, 0.87645464, 0.81222447, 0.82610803,\n",
       "         0.82334409, 0.78398622, 0.85747431, 0.87645464, 0.88728494]),\n",
       "  'test_roc_auc': array([0.92892157, 0.90436738, 0.91089925, 0.91666667, 0.93117529,\n",
       "         0.89818738, 0.92892157, 0.90288792, 0.89395009, 0.89694211,\n",
       "         0.92697361, 0.90477872, 0.95413165, 0.91572967, 0.88782957,\n",
       "         0.91777544, 0.85086993, 0.88582863, 0.94024276, 0.9128891 ,\n",
       "         0.923258  , 0.87482493, 0.92685525, 0.88429849, 0.90114379,\n",
       "         0.9001657 , 0.88394539, 0.93166433, 0.92685525, 0.93443974])},\n",
       " '10/10/entropy': {'fit_time': array([0.69860387, 0.66572642, 0.76462698, 0.69397998, 0.69061184,\n",
       "         0.81285787, 0.95137191, 0.69538641, 0.99298   , 0.82716322,\n",
       "         0.78975391, 0.72226357, 0.60626578, 0.72185564, 0.78690529,\n",
       "         0.69623256, 0.68364573, 0.92503405, 1.63274384, 1.98601317,\n",
       "         0.92198849, 0.61042666, 0.81464458, 0.67258024, 0.67943192,\n",
       "         0.59220743, 0.70759368, 0.68801165, 0.91680813, 0.93250799]),\n",
       "  'score_time': array([0.02814245, 0.02876878, 0.02954412, 0.02864742, 0.02854252,\n",
       "         0.05537271, 0.02860188, 0.03175735, 0.02878141, 0.07804394,\n",
       "         0.02880645, 0.0285511 , 0.02839375, 0.02895427, 0.02859235,\n",
       "         0.02894592, 0.04938054, 0.05664992, 0.06887078, 0.13005018,\n",
       "         0.02923322, 0.02925277, 0.02842116, 0.02843451, 0.02889514,\n",
       "         0.02911854, 0.02995491, 0.0297246 , 0.04988885, 0.03125644]),\n",
       "  'test_acc': array([0.91623037, 0.92631579, 0.93684211, 0.90575916, 0.91578947,\n",
       "         0.91052632, 0.95811518, 0.94210526, 0.90526316, 0.92146597,\n",
       "         0.92631579, 0.91578947, 0.96858639, 0.93157895, 0.91578947,\n",
       "         0.91623037, 0.88421053, 0.89473684, 0.91623037, 0.92631579,\n",
       "         0.93157895, 0.90575916, 0.94210526, 0.92631579, 0.91099476,\n",
       "         0.95263158, 0.93157895, 0.93193717, 0.93157895, 0.94210526]),\n",
       "  'test_PR_auc': array([0.83200827, 0.84674391, 0.87870657, 0.81759979, 0.82711801,\n",
       "         0.82924631, 0.91291772, 0.89331913, 0.82073365, 0.8358822 ,\n",
       "         0.84434396, 0.83222872, 0.94304893, 0.85806565, 0.83222872,\n",
       "         0.83200827, 0.77558944, 0.80095472, 0.83748674, 0.86689837,\n",
       "         0.86658191, 0.82040298, 0.87544928, 0.84667398, 0.82610803,\n",
       "         0.91093515, 0.87012962, 0.86018074, 0.87570482, 0.87734893]),\n",
       "  'test_roc_auc': array([0.910831  , 0.92413303, 0.92749529, 0.89419935, 0.9128891 ,\n",
       "         0.89818738, 0.9554155 , 0.92821636, 0.89124294, 0.92326097,\n",
       "         0.92697361, 0.91054614, 0.9610761 , 0.92833471, 0.91054614,\n",
       "         0.910831  , 0.87063558, 0.88006121, 0.90534547, 0.9070896 ,\n",
       "         0.923258  , 0.89145658, 0.94241922, 0.92714218, 0.90114379,\n",
       "         0.94230086, 0.92055085, 0.92892157, 0.91413185, 0.94256121])},\n",
       " '10/20/gini': {'fit_time': array([0.39486647, 0.43806458, 0.45572972, 0.85285687, 0.81167173,\n",
       "         1.13657594, 0.64894509, 0.59684443, 0.54696369, 0.54410815,\n",
       "         0.60312295, 0.45065022, 0.57201862, 0.60100198, 0.49159598,\n",
       "         0.63584185, 0.40643024, 0.45590472, 0.38812828, 0.45217347,\n",
       "         0.44250321, 0.36944866, 0.45811152, 0.44071078, 0.43696189,\n",
       "         0.77045941, 0.65049982, 0.45176196, 0.96205878, 0.63808751]),\n",
       "  'score_time': array([0.03091431, 0.02830505, 0.08218479, 0.08817983, 0.05399823,\n",
       "         0.11276507, 0.05592275, 0.04957509, 0.02961564, 0.05314994,\n",
       "         0.05841327, 0.0486331 , 0.04914927, 0.04738045, 0.05101013,\n",
       "         0.04837465, 0.02868915, 0.02889395, 0.02842999, 0.03848648,\n",
       "         0.02836943, 0.02856755, 0.02852392, 0.03168154, 0.04884052,\n",
       "         0.06890082, 0.0347116 , 0.09258842, 0.07962823, 0.04909015]),\n",
       "  'test_acc': array([0.90052356, 0.90526316, 0.87894737, 0.89005236, 0.91578947,\n",
       "         0.91052632, 0.88481675, 0.88947368, 0.88947368, 0.92670157,\n",
       "         0.91052632, 0.90526316, 0.93193717, 0.89473684, 0.87368421,\n",
       "         0.92146597, 0.87368421, 0.89473684, 0.92670157, 0.89473684,\n",
       "         0.9       , 0.86910995, 0.90526316, 0.86315789, 0.89005236,\n",
       "         0.92105263, 0.90526316, 0.87958115, 0.86315789, 0.91578947]),\n",
       "  'test_PR_auc': array([0.7972364 , 0.81467422, 0.76448343, 0.77944106, 0.82137354,\n",
       "         0.81391957, 0.78121089, 0.77765011, 0.77963395, 0.85165693,\n",
       "         0.81136953, 0.81532999, 0.85747431, 0.80302957, 0.76476608,\n",
       "         0.83808028, 0.7627593 , 0.80371893, 0.84430423, 0.80633991,\n",
       "         0.79481435, 0.74364386, 0.80787798, 0.74796265, 0.78212042,\n",
       "         0.84069681, 0.80721997, 0.76199733, 0.73224611, 0.82383041]),\n",
       "  'test_roc_auc': array([0.90371148, 0.89312345, 0.87547081, 0.89256536, 0.92141082,\n",
       "         0.91713748, 0.86916433, 0.88904012, 0.89206685, 0.92197712,\n",
       "         0.91720914, 0.89665725, 0.93166433, 0.87335779, 0.85499058,\n",
       "         0.92051821, 0.85086993, 0.87735405, 0.93020542, 0.87051722,\n",
       "         0.9086629 , 0.87575864, 0.90164517, 0.84110169, 0.88707983,\n",
       "         0.91425021, 0.90748588, 0.88141923, 0.86803172, 0.92137476])},\n",
       " '10/20/entropy': {'fit_time': array([0.73924088, 0.623106  , 0.68015003, 0.63922668, 0.71814442,\n",
       "         0.85971427, 0.63815641, 1.02893114, 1.18899989, 0.85566902,\n",
       "         0.81928301, 0.82169437, 0.84576273, 0.74042201, 0.81488919,\n",
       "         0.80969501, 0.83535671, 1.49198341, 0.94225121, 1.05387235,\n",
       "         1.1708324 , 0.56261015, 0.68008304, 0.62713599, 0.81264305,\n",
       "         0.72307062, 0.77975273, 0.88685584, 0.78619099, 0.86524034]),\n",
       "  'score_time': array([0.02954364, 0.0284338 , 0.02827334, 0.02816534, 0.04793382,\n",
       "         0.02833509, 0.03119349, 0.07635522, 0.04664254, 0.02848887,\n",
       "         0.04902744, 0.0492239 , 0.04881525, 0.02949572, 0.02978849,\n",
       "         0.0493381 , 0.04905176, 0.02849722, 0.04909277, 0.07346582,\n",
       "         0.03245258, 0.03059578, 0.02865863, 0.02843165, 0.02871394,\n",
       "         0.05635381, 0.02840924, 0.02866006, 0.05603623, 0.04794192]),\n",
       "  'test_acc': array([0.88481675, 0.9       , 0.91578947, 0.89005236, 0.90526316,\n",
       "         0.93157895, 0.91623037, 0.88947368, 0.85789474, 0.90575916,\n",
       "         0.91052632, 0.91052632, 0.93717277, 0.89473684, 0.87368421,\n",
       "         0.91099476, 0.87368421, 0.88421053, 0.91099476, 0.86315789,\n",
       "         0.9       , 0.91623037, 0.9       , 0.91052632, 0.89005236,\n",
       "         0.92105263, 0.87894737, 0.87958115, 0.9       , 0.88421053]),\n",
       "  'test_PR_auc': array([0.78627859, 0.79448975, 0.84440789, 0.77944106, 0.80604398,\n",
       "         0.87012962, 0.85200213, 0.77541698, 0.73429345, 0.82040298,\n",
       "         0.81136953, 0.83962228, 0.87494287, 0.80302957, 0.76476608,\n",
       "         0.81905662, 0.7627593 , 0.77568023, 0.81239355, 0.74138515,\n",
       "         0.79481435, 0.82065639, 0.79592291, 0.81924951, 0.78212042,\n",
       "         0.83163407, 0.76049461, 0.76199733, 0.7975297 , 0.77568023]),\n",
       "  'test_roc_auc': array([0.8636788 , 0.90312463, 0.89971751, 0.89256536, 0.90448574,\n",
       "         0.92055085, 0.89437442, 0.89472127, 0.84227872, 0.89145658,\n",
       "         0.91720914, 0.89006591, 0.93038049, 0.87335779, 0.85499058,\n",
       "         0.90937208, 0.85086993, 0.87700094, 0.92034314, 0.84246656,\n",
       "         0.9086629 , 0.92728758, 0.90028406, 0.90901601, 0.88707983,\n",
       "         0.9256125 , 0.88629944, 0.88141923, 0.89744348, 0.87700094])},\n",
       " '20/2/gini': {'fit_time': array([0.59090638, 0.92589784, 0.42852402, 0.54749346, 0.65597057,\n",
       "         0.46871257, 0.62037396, 0.54931307, 0.42921877, 0.62495136,\n",
       "         0.50101066, 0.66139793, 0.46872759, 0.61910963, 0.53454041,\n",
       "         0.55485892, 0.53401589, 0.62927842, 0.46461415, 0.62288713,\n",
       "         0.54719329, 0.54380393, 0.60794973, 0.53981876, 0.47868729,\n",
       "         0.62831593, 0.46215558, 0.54722786, 0.53930712, 0.53949189]),\n",
       "  'score_time': array([0.05049348, 0.03124166, 0.02843547, 0.02867818, 0.02800202,\n",
       "         0.02826524, 0.0281651 , 0.02857137, 0.02961636, 0.02880406,\n",
       "         0.0283196 , 0.03005838, 0.02860928, 0.02832699, 0.02867222,\n",
       "         0.02866912, 0.02871728, 0.02777028, 0.03773642, 0.02841473,\n",
       "         0.02874112, 0.02861857, 0.03100014, 0.02884984, 0.02858806,\n",
       "         0.02866793, 0.02858877, 0.02890873, 0.02832556, 0.02817273]),\n",
       "  'test_acc': array([0.89528796, 0.93684211, 0.92631579, 0.91099476, 0.92631579,\n",
       "         0.92105263, 0.93193717, 0.94210526, 0.91578947, 0.91099476,\n",
       "         0.91578947, 0.88947368, 0.96858639, 0.90526316, 0.91052632,\n",
       "         0.94764398, 0.87894737, 0.92105263, 0.93193717, 0.91578947,\n",
       "         0.94210526, 0.90052356, 0.90526316, 0.88421053, 0.92146597,\n",
       "         0.94210526, 0.91052632, 0.92146597, 0.94210526, 0.95263158]),\n",
       "  'test_PR_auc': array([0.80333315, 0.8803045 , 0.85480368, 0.81905662, 0.84674391,\n",
       "         0.85298021, 0.86636147, 0.88167955, 0.84440789, 0.82352887,\n",
       "         0.82711801, 0.78236842, 0.93840273, 0.80292481, 0.82924631,\n",
       "         0.89211165, 0.77686409, 0.85298021, 0.86636147, 0.83795974,\n",
       "         0.89119316, 0.80658518, 0.80991553, 0.78402549, 0.84920511,\n",
       "         0.88522653, 0.82140511, 0.84920511, 0.87842847, 0.90839054]),\n",
       "  'test_roc_auc': array([0.87756769, 0.92401468, 0.91902072, 0.90937208, 0.92413303,\n",
       "         0.90666196, 0.92343604, 0.93673808, 0.89971751, 0.90388655,\n",
       "         0.9128891 , 0.88665254, 0.96381886, 0.91016688, 0.89818738,\n",
       "         0.94426937, 0.85223103, 0.90666196, 0.92343604, 0.90152681,\n",
       "         0.93173258, 0.88999767, 0.89880459, 0.86617232, 0.90954715,\n",
       "         0.9338975 , 0.90630885, 0.90954715, 0.93957865, 0.94562147])},\n",
       " '20/2/entropy': {'fit_time': array([0.74633551, 0.70135713, 0.81859899, 0.73940372, 0.73403144,\n",
       "         0.76451468, 0.8235085 , 0.72737646, 0.75350022, 0.71701956,\n",
       "         0.74031162, 0.77056599, 0.63359118, 0.76907372, 0.82518172,\n",
       "         0.73101115, 0.6722765 , 0.71679139, 0.70511413, 0.71917725,\n",
       "         0.94380331, 0.65801191, 0.91389489, 0.7152884 , 0.80465651,\n",
       "         0.64216852, 0.74556708, 0.72190237, 0.70912766, 0.78861904]),\n",
       "  'score_time': array([0.02852941, 0.0288372 , 0.02900839, 0.02842212, 0.02840185,\n",
       "         0.02834344, 0.02863407, 0.02804518, 0.02846336, 0.02853298,\n",
       "         0.03101587, 0.02854705, 0.03059316, 0.02874303, 0.02922893,\n",
       "         0.02844834, 0.02825427, 0.02832508, 0.03206778, 0.02810097,\n",
       "         0.0284133 , 0.03219771, 0.02845097, 0.02866268, 0.02864623,\n",
       "         0.0288229 , 0.03062177, 0.02819848, 0.02846646, 0.02853346]),\n",
       "  'test_acc': array([0.91099476, 0.94736842, 0.93157895, 0.90052356, 0.94210526,\n",
       "         0.92631579, 0.95811518, 0.94736842, 0.9       , 0.92146597,\n",
       "         0.91052632, 0.90526316, 0.96858639, 0.91578947, 0.93684211,\n",
       "         0.91623037, 0.88947368, 0.90526316, 0.95287958, 0.92631579,\n",
       "         0.94210526, 0.94764398, 0.92105263, 0.94736842, 0.92146597,\n",
       "         0.94736842, 0.91052632, 0.91099476, 0.94736842, 0.92105263]),\n",
       "  'test_PR_auc': array([0.83547905, 0.89788898, 0.87012962, 0.80225741, 0.87544928,\n",
       "         0.85803019, 0.91291772, 0.89399985, 0.81222447, 0.84603346,\n",
       "         0.81288134, 0.81087403, 0.93840273, 0.83795974, 0.87870657,\n",
       "         0.82746624, 0.79135082, 0.81532999, 0.9043079 , 0.86689837,\n",
       "         0.89119316, 0.89569933, 0.83163407, 0.89224943, 0.84920511,\n",
       "         0.89788898, 0.82140511, 0.82610803, 0.90212693, 0.83399215]),\n",
       "  'test_roc_auc': array([0.8929155 , 0.93809918, 0.92055085, 0.89548319, 0.94241922,\n",
       "         0.91631356, 0.9554155 , 0.94093976, 0.88429849, 0.91228992,\n",
       "         0.91436856, 0.90207156, 0.96381886, 0.90152681, 0.92749529,\n",
       "         0.91631653, 0.86915611, 0.89665725, 0.94847106, 0.9070896 ,\n",
       "         0.93173258, 0.94152661, 0.9256125 , 0.94409134, 0.90954715,\n",
       "         0.93809918, 0.90630885, 0.90114379, 0.93525861, 0.92561205])},\n",
       " '20/5/gini': {'fit_time': array([0.42002916, 0.62219691, 0.43596029, 0.53760815, 0.56598878,\n",
       "         0.46331501, 0.53523397, 0.54472399, 0.42124367, 0.54789448,\n",
       "         0.42243862, 0.57486701, 0.45747614, 0.56718993, 0.47052264,\n",
       "         0.53325081, 0.4584794 , 0.54304242, 0.42583561, 0.55255342,\n",
       "         0.5372479 , 0.46749735, 0.53520656, 0.54281569, 0.46907163,\n",
       "         0.61577392, 0.42855501, 0.53015161, 0.54463005, 0.45782661]),\n",
       "  'score_time': array([0.028754  , 0.02881813, 0.03199887, 0.02853417, 0.02833796,\n",
       "         0.02801228, 0.02899718, 0.02936554, 0.02892232, 0.02837014,\n",
       "         0.02883673, 0.02837682, 0.03763127, 0.0283978 , 0.02849674,\n",
       "         0.02832627, 0.02840877, 0.02905798, 0.02877426, 0.03048778,\n",
       "         0.02894878, 0.02958179, 0.02927709, 0.02929449, 0.02856755,\n",
       "         0.02817655, 0.02867866, 0.02899408, 0.0282712 , 0.03525591]),\n",
       "  'test_acc': array([0.91623037, 0.93684211, 0.92105263, 0.91099476, 0.92631579,\n",
       "         0.91052632, 0.93193717, 0.92631579, 0.89473684, 0.91623037,\n",
       "         0.91052632, 0.89473684, 0.95287958, 0.85263158, 0.91052632,\n",
       "         0.94764398, 0.88947368, 0.90526316, 0.93717277, 0.91578947,\n",
       "         0.94736842, 0.92670157, 0.93684211, 0.88421053, 0.90575916,\n",
       "         0.93157895, 0.91052632, 0.92146597, 0.94210526, 0.94736842]),\n",
       "  'test_PR_auc': array([0.8296297 , 0.8697063 , 0.84948067, 0.8171279 , 0.8421611 ,\n",
       "         0.82638359, 0.85273212, 0.85544074, 0.79845201, 0.8296297 ,\n",
       "         0.81136953, 0.7856029 , 0.90069888, 0.71602969, 0.83238866,\n",
       "         0.8857726 , 0.80122578, 0.8310307 , 0.87848612, 0.83201835,\n",
       "         0.89979145, 0.85458323, 0.86159156, 0.77940961, 0.81505443,\n",
       "         0.86098697, 0.82140511, 0.84049244, 0.87272053, 0.89224943]),\n",
       "  'test_roc_auc': array([0.91357376, 0.93253639, 0.90936911, 0.91211485, 0.92981418,\n",
       "         0.90089454, 0.93714986, 0.91561131, 0.88276836, 0.91357376,\n",
       "         0.91720914, 0.90442561, 0.95121382, 0.85394721, 0.89548023,\n",
       "         0.9497549 , 0.86063439, 0.88312147, 0.92763772, 0.90720795,\n",
       "         0.93867702, 0.91923436, 0.94105811, 0.87158663, 0.89694211,\n",
       "         0.92549414, 0.90630885, 0.91777544, 0.94525979, 0.94409134])},\n",
       " '20/5/entropy': {'fit_time': array([0.72408175, 0.69899535, 0.78571963, 0.72200584, 0.7136817 ,\n",
       "         0.77205229, 0.80366635, 0.71523142, 0.72659469, 0.70860767,\n",
       "         0.72612309, 0.75498056, 0.61897969, 0.73539209, 0.80877447,\n",
       "         0.70356631, 0.63346171, 0.71421432, 0.97962093, 1.01948452,\n",
       "         0.93717194, 0.63304186, 0.89152527, 0.70189357, 0.7053473 ,\n",
       "         0.62593508, 0.73166537, 0.70566726, 0.69443488, 0.81954122]),\n",
       "  'score_time': array([0.02835345, 0.02861619, 0.03112245, 0.03483295, 0.02848411,\n",
       "         0.02857065, 0.02842712, 0.02841353, 0.02818727, 0.02886009,\n",
       "         0.02864528, 0.02983212, 0.028862  , 0.02827764, 0.0289185 ,\n",
       "         0.03194809, 0.02854395, 0.03374696, 0.05441022, 0.05327034,\n",
       "         0.02846003, 0.03564215, 0.02842402, 0.02836728, 0.02895546,\n",
       "         0.02936244, 0.02878189, 0.0284667 , 0.0346458 , 0.05256462]),\n",
       "  'test_acc': array([0.93717277, 0.95789474, 0.93157895, 0.90052356, 0.93684211,\n",
       "         0.92105263, 0.96335079, 0.96315789, 0.9       , 0.92670157,\n",
       "         0.91052632, 0.91578947, 0.96858639, 0.88947368, 0.91052632,\n",
       "         0.91623037, 0.88947368, 0.9       , 0.94240838, 0.92631579,\n",
       "         0.94210526, 0.94764398, 0.92105263, 0.93157895, 0.90575916,\n",
       "         0.96315789, 0.94210526, 0.93193717, 0.94736842, 0.94210526]),\n",
       "  'test_PR_auc': array([0.87494287, 0.92438273, 0.8633288 , 0.80225741, 0.86675569,\n",
       "         0.84628146, 0.92152872, 0.9332008 , 0.8068883 , 0.85458323,\n",
       "         0.81136953, 0.83222872, 0.93840273, 0.77765011, 0.83238866,\n",
       "         0.82746624, 0.79135082, 0.80942655, 0.88024955, 0.86689837,\n",
       "         0.89119316, 0.89569933, 0.83163407, 0.8633288 , 0.81505443,\n",
       "         0.92427195, 0.89119316, 0.86636147, 0.90212693, 0.87734893]),\n",
       "  'test_roc_auc': array([0.93038049, 0.94650254, 0.92596516, 0.89548319, 0.93537697,\n",
       "         0.91207627, 0.96235994, 0.9535448 , 0.88971281, 0.91923436,\n",
       "         0.91720914, 0.91054614, 0.96381886, 0.88904012, 0.89548023,\n",
       "         0.91631653, 0.86915611, 0.88700565, 0.94006769, 0.9070896 ,\n",
       "         0.93173258, 0.94152661, 0.9256125 , 0.92596516, 0.89694211,\n",
       "         0.95922594, 0.93173258, 0.92343604, 0.93525861, 0.94256121])},\n",
       " '20/10/gini': {'fit_time': array([0.56391191, 0.73030329, 0.56728792, 0.48000574, 0.41294169,\n",
       "         0.41567254, 0.52259135, 0.4571135 , 0.41129613, 0.5247128 ,\n",
       "         0.41065526, 0.48516226, 0.44976401, 0.48286462, 0.45960736,\n",
       "         0.45175934, 0.40814829, 0.53266263, 0.40851116, 0.51936865,\n",
       "         0.45289373, 0.45532084, 0.51172376, 0.45561576, 0.3873899 ,\n",
       "         0.53359294, 0.40782595, 0.45201373, 0.4543879 , 0.44412589]),\n",
       "  'score_time': array([0.05309367, 0.05336905, 0.05343986, 0.02862048, 0.0287466 ,\n",
       "         0.02824092, 0.02858472, 0.0286243 , 0.02840757, 0.02990627,\n",
       "         0.02891445, 0.02860737, 0.02897334, 0.02884984, 0.02853131,\n",
       "         0.02864766, 0.02882433, 0.02844143, 0.0289607 , 0.02895617,\n",
       "         0.02864456, 0.02861691, 0.0285213 , 0.02842879, 0.0287683 ,\n",
       "         0.02832437, 0.02842355, 0.02996874, 0.03092575, 0.02833152]),\n",
       "  'test_acc': array([0.93193717, 0.91578947, 0.92631579, 0.93717277, 0.93157895,\n",
       "         0.91052632, 0.93193717, 0.92105263, 0.90526316, 0.90575916,\n",
       "         0.92631579, 0.90526316, 0.96335079, 0.91578947, 0.88421053,\n",
       "         0.92146597, 0.87368421, 0.90526316, 0.95287958, 0.91578947,\n",
       "         0.93157895, 0.89528796, 0.93684211, 0.9       , 0.91099476,\n",
       "         0.91052632, 0.88947368, 0.93193717, 0.93684211, 0.94210526]),\n",
       "  'test_PR_auc': array([0.86018074, 0.83484726, 0.86540342, 0.89616056, 0.85539839,\n",
       "         0.82924631, 0.86018074, 0.85393481, 0.81790291, 0.81505443,\n",
       "         0.84434396, 0.80895468, 0.93439869, 0.82500618, 0.77034905,\n",
       "         0.84049244, 0.7627593 , 0.82726844, 0.91709849, 0.82711801,\n",
       "         0.86658191, 0.80635661, 0.87645464, 0.81222447, 0.82610803,\n",
       "         0.82334409, 0.78398622, 0.85747431, 0.87645464, 0.88728494]),\n",
       "  'test_roc_auc': array([0.92892157, 0.90436738, 0.91089925, 0.91666667, 0.93117529,\n",
       "         0.89818738, 0.92892157, 0.90288792, 0.89395009, 0.89694211,\n",
       "         0.92697361, 0.90477872, 0.95413165, 0.91572967, 0.88782957,\n",
       "         0.91777544, 0.85086993, 0.88582863, 0.94024276, 0.9128891 ,\n",
       "         0.923258  , 0.87482493, 0.92685525, 0.88429849, 0.90114379,\n",
       "         0.9001657 , 0.88394539, 0.93166433, 0.92685525, 0.93443974])},\n",
       " '20/10/entropy': {'fit_time': array([0.70246196, 0.67418909, 0.76270103, 0.68945384, 0.68318272,\n",
       "         0.72913551, 0.776407  , 0.6812408 , 0.705374  , 0.68352246,\n",
       "         0.69603539, 0.72624421, 0.60727239, 0.70150042, 0.78102398,\n",
       "         0.69292617, 0.60842586, 0.68615723, 0.6619525 , 0.66667819,\n",
       "         0.77690554, 0.6032517 , 0.8144269 , 0.67794108, 0.66737366,\n",
       "         0.59579039, 0.70179343, 0.66753697, 0.66549325, 0.70525265]),\n",
       "  'score_time': array([0.02854633, 0.02837658, 0.02834749, 0.02901912, 0.02850747,\n",
       "         0.02837968, 0.03474879, 0.02862024, 0.02890539, 0.02863455,\n",
       "         0.02875566, 0.02823448, 0.02962875, 0.02864408, 0.02923203,\n",
       "         0.02843213, 0.02827835, 0.02959633, 0.02849483, 0.02929449,\n",
       "         0.02916741, 0.0284276 , 0.02862382, 0.03072524, 0.02953696,\n",
       "         0.03112984, 0.02903962, 0.02838707, 0.0285728 , 0.02839065]),\n",
       "  'test_acc': array([0.91623037, 0.92631579, 0.93684211, 0.90575916, 0.91578947,\n",
       "         0.91052632, 0.95811518, 0.94210526, 0.90526316, 0.92146597,\n",
       "         0.92631579, 0.91578947, 0.96858639, 0.93157895, 0.91578947,\n",
       "         0.91623037, 0.88421053, 0.89473684, 0.91623037, 0.92631579,\n",
       "         0.93157895, 0.90575916, 0.94210526, 0.92631579, 0.91099476,\n",
       "         0.95263158, 0.93157895, 0.93193717, 0.93157895, 0.94210526]),\n",
       "  'test_PR_auc': array([0.83200827, 0.84674391, 0.87870657, 0.81759979, 0.82711801,\n",
       "         0.82924631, 0.91291772, 0.89331913, 0.82073365, 0.8358822 ,\n",
       "         0.84434396, 0.83222872, 0.94304893, 0.85806565, 0.83222872,\n",
       "         0.83200827, 0.77558944, 0.80095472, 0.83748674, 0.86689837,\n",
       "         0.86658191, 0.82040298, 0.87544928, 0.84667398, 0.82610803,\n",
       "         0.91093515, 0.87012962, 0.86018074, 0.87570482, 0.87734893]),\n",
       "  'test_roc_auc': array([0.910831  , 0.92413303, 0.92749529, 0.89419935, 0.9128891 ,\n",
       "         0.89818738, 0.9554155 , 0.92821636, 0.89124294, 0.92326097,\n",
       "         0.92697361, 0.91054614, 0.9610761 , 0.92833471, 0.91054614,\n",
       "         0.910831  , 0.87063558, 0.88006121, 0.90534547, 0.9070896 ,\n",
       "         0.923258  , 0.89145658, 0.94241922, 0.92714218, 0.90114379,\n",
       "         0.94230086, 0.92055085, 0.92892157, 0.91413185, 0.94256121])},\n",
       " '20/20/gini': {'fit_time': array([0.38943172, 0.44388556, 0.39688063, 0.42750406, 0.39833903,\n",
       "         0.39142323, 0.43708873, 0.43141294, 0.39503789, 0.43211293,\n",
       "         0.39185548, 0.43634772, 0.41891265, 0.40075469, 0.43166733,\n",
       "         0.42929697, 0.39491796, 0.44495964, 0.38950825, 0.43574882,\n",
       "         0.43684506, 0.35882187, 0.46259928, 0.43101835, 0.37480903,\n",
       "         0.43965673, 0.39153242, 0.36966777, 0.43427896, 0.39919829]),\n",
       "  'score_time': array([0.02885079, 0.03008127, 0.0284481 , 0.02870727, 0.02823091,\n",
       "         0.02919102, 0.02840662, 0.02870846, 0.02845001, 0.02886128,\n",
       "         0.02864432, 0.02918482, 0.02810884, 0.02864885, 0.02838612,\n",
       "         0.02840757, 0.02828574, 0.02844954, 0.02882671, 0.03000951,\n",
       "         0.02813649, 0.03100586, 0.02819753, 0.02892184, 0.02837515,\n",
       "         0.02906299, 0.02813625, 0.02942109, 0.0284152 , 0.02822256]),\n",
       "  'test_acc': array([0.90052356, 0.90526316, 0.87894737, 0.89005236, 0.91578947,\n",
       "         0.91052632, 0.88481675, 0.88947368, 0.88947368, 0.92670157,\n",
       "         0.91052632, 0.90526316, 0.93193717, 0.89473684, 0.87368421,\n",
       "         0.92146597, 0.87368421, 0.89473684, 0.92670157, 0.89473684,\n",
       "         0.9       , 0.86910995, 0.90526316, 0.86315789, 0.89005236,\n",
       "         0.92105263, 0.90526316, 0.87958115, 0.86315789, 0.91578947]),\n",
       "  'test_PR_auc': array([0.7972364 , 0.81467422, 0.76448343, 0.77944106, 0.82137354,\n",
       "         0.81391957, 0.78121089, 0.77765011, 0.77963395, 0.85165693,\n",
       "         0.81136953, 0.81532999, 0.85747431, 0.80302957, 0.76476608,\n",
       "         0.83808028, 0.7627593 , 0.80371893, 0.84430423, 0.80633991,\n",
       "         0.79481435, 0.74364386, 0.80787798, 0.74796265, 0.78212042,\n",
       "         0.84069681, 0.80721997, 0.76199733, 0.73224611, 0.82383041]),\n",
       "  'test_roc_auc': array([0.90371148, 0.89312345, 0.87547081, 0.89256536, 0.92141082,\n",
       "         0.91713748, 0.86916433, 0.88904012, 0.89206685, 0.92197712,\n",
       "         0.91720914, 0.89665725, 0.93166433, 0.87335779, 0.85499058,\n",
       "         0.92051821, 0.85086993, 0.87735405, 0.93020542, 0.87051722,\n",
       "         0.9086629 , 0.87575864, 0.90164517, 0.84110169, 0.88707983,\n",
       "         0.91425021, 0.90748588, 0.88141923, 0.86803172, 0.92137476])},\n",
       " '20/20/entropy': {'fit_time': array([0.64904141, 0.6114397 , 0.66364169, 0.63776302, 0.62901759,\n",
       "         0.66568422, 0.62562084, 0.6301477 , 0.62306118, 0.62703037,\n",
       "         0.65782309, 0.62433028, 0.54964972, 0.66219831, 0.74139547,\n",
       "         0.63152909, 0.569839  , 0.62087107, 0.61353612, 0.62018728,\n",
       "         0.73489833, 0.55450535, 0.68036675, 0.620579  , 0.62317657,\n",
       "         0.54763079, 0.65117884, 0.63635564, 0.61168599, 0.6360693 ]),\n",
       "  'score_time': array([0.02884245, 0.02892423, 0.02868056, 0.02832627, 0.02858305,\n",
       "         0.02864146, 0.02852702, 0.02837563, 0.02825475, 0.02846432,\n",
       "         0.02871752, 0.02821994, 0.02827477, 0.02812099, 0.02875018,\n",
       "         0.02855802, 0.02952886, 0.02872372, 0.02846789, 0.02891135,\n",
       "         0.02886748, 0.02844381, 0.02886581, 0.0283494 , 0.02843952,\n",
       "         0.02838635, 0.03101158, 0.02803874, 0.02856421, 0.03077006]),\n",
       "  'test_acc': array([0.88481675, 0.9       , 0.91578947, 0.89005236, 0.90526316,\n",
       "         0.93157895, 0.91623037, 0.88947368, 0.85789474, 0.90575916,\n",
       "         0.91052632, 0.91052632, 0.93717277, 0.89473684, 0.87368421,\n",
       "         0.91099476, 0.87368421, 0.88421053, 0.91099476, 0.86315789,\n",
       "         0.9       , 0.91623037, 0.9       , 0.91052632, 0.89005236,\n",
       "         0.92105263, 0.87894737, 0.87958115, 0.9       , 0.88421053]),\n",
       "  'test_PR_auc': array([0.78627859, 0.79448975, 0.84440789, 0.77944106, 0.80604398,\n",
       "         0.87012962, 0.85200213, 0.77541698, 0.73429345, 0.82040298,\n",
       "         0.81136953, 0.83962228, 0.87494287, 0.80302957, 0.76476608,\n",
       "         0.81905662, 0.7627593 , 0.77568023, 0.81239355, 0.74138515,\n",
       "         0.79481435, 0.82065639, 0.79592291, 0.81924951, 0.78212042,\n",
       "         0.83163407, 0.76049461, 0.76199733, 0.7975297 , 0.77568023]),\n",
       "  'test_roc_auc': array([0.8636788 , 0.90312463, 0.89971751, 0.89256536, 0.90448574,\n",
       "         0.92055085, 0.89437442, 0.89472127, 0.84227872, 0.89145658,\n",
       "         0.91720914, 0.89006591, 0.93038049, 0.87335779, 0.85499058,\n",
       "         0.90937208, 0.85086993, 0.87700094, 0.92034314, 0.84246656,\n",
       "         0.9086629 , 0.92728758, 0.90028406, 0.90901601, 0.88707983,\n",
       "         0.9256125 , 0.88629944, 0.88141923, 0.89744348, 0.87700094])}}"
      ]
     },
     "execution_count": 98,
     "metadata": {},
     "output_type": "execute_result"
    }
   ],
   "source": [
    "from sklearn.model_selection import RepeatedStratifiedKFold\n",
    "\n",
    "# decision tree hyper parameters\n",
    "max_depth= [2, 3, 5, 10, 20]\n",
    "min_samples_leaf= [2, 5, 10, 20]\n",
    "criterion = [\"gini\", \"entropy\"]\n",
    "\n",
    "# scoring metrics\n",
    "scoring = {'acc' : make_scorer(accuracy_score),\n",
    "           'PR_auc' : make_scorer(average_precision_score),\n",
    "           'roc_auc' : make_scorer(roc_auc_score)}\n",
    "\n",
    "# loop through the three models and fit all X, y and evaluate the model using 5 kfold cross validation\n",
    "# and store each type of score range in a list then store total scores for each model in a dictionary\n",
    "cv= RepeatedStratifiedKFold(n_splits=3, n_repeats=10, random_state=1)\n",
    "\n",
    "# dt parameter hypertunning and using cross validation\n",
    "dt_scores = {}\n",
    "for d in max_depth:\n",
    "  for s in min_samples_leaf:\n",
    "    for c in criterion:\n",
    "      model= DecisionTreeClassifier(criterion=c, max_depth=d, min_samples_leaf=s, random_state=42)\n",
    "      score = model_selection.cross_validate(model, X, y, cv = cv, scoring = scoring)\n",
    "      dt_scores[str(d) + '/'+ str(s)+'/' + str(c)]=score\n",
    "dt_scores"
   ]
  },
  {
   "cell_type": "code",
   "execution_count": 121,
   "metadata": {
    "colab": {
     "base_uri": "https://localhost:8080/"
    },
    "executionInfo": {
     "elapsed": 513,
     "status": "ok",
     "timestamp": 1663009531482,
     "user": {
      "displayName": "Abdelhady Sayed",
      "userId": "09542840263844765052"
     },
     "user_tz": -120
    },
    "id": "5i1ZhU7F1ua1",
    "outputId": "95826696-c83a-4ff6-d24d-bb4e69b1d099"
   },
   "outputs": [
    {
     "name": "stdout",
     "output_type": "stream",
     "text": [
      "40\n",
      "40\n",
      "40\n",
      "40\n"
     ]
    }
   ],
   "source": [
    "# loop through result dictionary and store the mean for each score and store the parameter range\n",
    "\n",
    "dt_param = []\n",
    "prauc_dt =[]\n",
    "acc_dt =[]\n",
    "rocauc_dt =[]\n",
    "total_dt= {}\n",
    "for p, s in dt_scores.items():\n",
    "  scores=[]\n",
    "  for (k, v)in s.items():\n",
    "    if 'time' in k:\n",
    "      continue\n",
    "    elif 'PR_auc'in k:\n",
    "      prauc_dt.append(round(v.mean(), 2))\n",
    "      scores.append(v)\n",
    "    elif 'roc_auc'in k:\n",
    "      rocauc_dt.append(round(v.mean(), 2))\n",
    "    elif 'acc'in k:\n",
    "      acc_dt.append(round(v.mean(), 2))\n",
    "      dt_param.append(p)\n",
    "  total_dt[p]=scores\n",
    "\n",
    "#print(total_dt)\n",
    "print(len(dt_param))\n",
    "print(len(prauc_dt))\n",
    "print(len(acc_dt))\n",
    "print(len(rocauc_dt))"
   ]
  },
  {
   "cell_type": "code",
   "execution_count": null,
   "metadata": {
    "colab": {
     "base_uri": "https://localhost:8080/",
     "height": 554
    },
    "executionInfo": {
     "elapsed": 1292,
     "status": "ok",
     "timestamp": 1663007066205,
     "user": {
      "displayName": "Abdelhady Sayed",
      "userId": "09542840263844765052"
     },
     "user_tz": -120
    },
    "id": "r5xpExbW2sEK",
    "outputId": "2544ea89-41b5-41a2-de0f-989b8a3205b2"
   },
   "outputs": [
    {
     "data": {
      "image/png": "[encoded data removed]",
      "text/plain": [
       "<Figure size 1008x504 with 1 Axes>"
      ]
     },
     "metadata": {
      "needs_background": "light"
     },
     "output_type": "display_data"
    }
   ],
   "source": [
    "# plot the parameter range with 3 types of scores of decision tree model\n",
    "\n",
    "fig = plt.figure(figsize =(14, 7))\n",
    "fig.suptitle('Hyperparameter tuning DT')\n",
    "ax = fig.add_subplot()\n",
    "bp = plt.plot(dt_param, acc_dt, color='red', label='Max Acc: '+str(max(acc_dt)), lw=1)\n",
    "bp = plt.plot(dt_param, rocauc_dt, color='green', label='Max ROC auc: '+str(max(rocauc_dt)), lw=1)\n",
    "bp = plt.plot(dt_param, prauc_dt, color='blue', label='Max PR auc: '+str(max(prauc_dt)), lw=1)\n",
    "ax.set_xticklabels(dt_param)\n",
    "plt.xticks(fontsize=12, rotation=90)\n",
    "plt.yticks(fontsize=12)\n",
    "plt.legend(loc=4, prop={'size': 10})\n",
    "plt.show()"
   ]
  },
  {
   "cell_type": "code",
   "execution_count": null,
   "metadata": {
    "colab": {
     "base_uri": "https://localhost:8080/"
    },
    "executionInfo": {
     "elapsed": 253837,
     "status": "ok",
     "timestamp": 1663004181648,
     "user": {
      "displayName": "Abdelhady Sayed",
      "userId": "09542840263844765052"
     },
     "user_tz": -120
    },
    "id": "3-ibHy5auO5i",
    "outputId": "65a32e23-32f6-43bf-83e0-25675f9a2007"
   },
   "outputs": [
    {
     "data": {
      "text/plain": [
       "{'rbf/0.1/scale': {'fit_time': array([0.52968764, 0.23855591, 0.24239612, 0.23810935, 0.24931669,\n",
       "         0.26494336, 0.24865341, 0.25072289, 0.23863339, 0.24069548,\n",
       "         0.24425459, 0.25186872, 0.24117041, 0.24046826, 0.24709773,\n",
       "         0.24856138, 0.24243879, 0.23724389, 0.24635029, 0.24381828,\n",
       "         0.24685764, 0.24609804, 0.2488873 , 0.23992181, 0.23750901,\n",
       "         0.24010038, 0.24427247, 0.24042249, 0.23872948, 0.2467258 ]),\n",
       "  'score_time': array([0.2244482 , 0.220263  , 0.22313666, 0.21645665, 0.22638583,\n",
       "         0.21747518, 0.21773505, 0.2211647 , 0.21410704, 0.2222774 ,\n",
       "         0.215446  , 0.22225595, 0.21903777, 0.22710252, 0.21694899,\n",
       "         0.22554803, 0.21586084, 0.21306539, 0.21152806, 0.21728778,\n",
       "         0.21768904, 0.21404624, 0.22555375, 0.21135306, 0.22303748,\n",
       "         0.21726322, 0.22700739, 0.23698545, 0.21800184, 0.22044492]),\n",
       "  'test_acc': array([0.62303665, 0.62631579, 0.62105263, 0.62303665, 0.62631579,\n",
       "         0.62105263, 0.62303665, 0.62631579, 0.62105263, 0.62303665,\n",
       "         0.62631579, 0.62105263, 0.62303665, 0.62631579, 0.62105263,\n",
       "         0.62303665, 0.62631579, 0.62105263, 0.62303665, 0.62631579,\n",
       "         0.62105263, 0.62303665, 0.62631579, 0.62105263, 0.62303665,\n",
       "         0.62631579, 0.62105263, 0.62303665, 0.62631579, 0.62105263]),\n",
       "  'test_PR_auc': array([0.37696335, 0.37368421, 0.37894737, 0.37696335, 0.37368421,\n",
       "         0.37894737, 0.37696335, 0.37368421, 0.37894737, 0.37696335,\n",
       "         0.37368421, 0.37894737, 0.37696335, 0.37368421, 0.37894737,\n",
       "         0.37696335, 0.37368421, 0.37894737, 0.37696335, 0.37368421,\n",
       "         0.37894737, 0.37696335, 0.37368421, 0.37894737, 0.37696335,\n",
       "         0.37368421, 0.37894737, 0.37696335, 0.37368421, 0.37894737]),\n",
       "  'test_roc_auc': array([0.5, 0.5, 0.5, 0.5, 0.5, 0.5, 0.5, 0.5, 0.5, 0.5, 0.5, 0.5, 0.5,\n",
       "         0.5, 0.5, 0.5, 0.5, 0.5, 0.5, 0.5, 0.5, 0.5, 0.5, 0.5, 0.5, 0.5,\n",
       "         0.5, 0.5, 0.5, 0.5])},\n",
       " 'linear/0.1/scale': {'fit_time': array([0.23296881, 0.23194504, 0.24217987, 0.23277545, 0.2340343 ,\n",
       "         0.23672318, 0.23222709, 0.24095774, 0.23490548, 0.2311554 ,\n",
       "         0.23275566, 0.23266053, 0.23040247, 0.23458886, 0.23593688,\n",
       "         0.23713064, 0.24076247, 0.23481512, 0.23285198, 0.23660469,\n",
       "         0.23356271, 0.22914648, 0.23864722, 0.24157763, 0.23605537,\n",
       "         0.24819756, 0.25398016, 0.23298526, 0.23516464, 0.23889089]),\n",
       "  'score_time': array([0.11958742, 0.12221789, 0.11417794, 0.11378551, 0.12331223,\n",
       "         0.1143589 , 0.11417413, 0.11195517, 0.11454105, 0.11504245,\n",
       "         0.11467433, 0.11462831, 0.11587358, 0.11318731, 0.11322451,\n",
       "         0.11373496, 0.1174221 , 0.11635542, 0.11604047, 0.11369491,\n",
       "         0.1158061 , 0.1172719 , 0.11427283, 0.11523342, 0.11402321,\n",
       "         0.11413622, 0.11442232, 0.11902905, 0.13110805, 0.11688137]),\n",
       "  'test_acc': array([0.9895288 , 0.97894737, 0.97894737, 0.98429319, 0.98947368,\n",
       "         0.97894737, 0.98429319, 0.99473684, 0.97368421, 0.98429319,\n",
       "         0.97894737, 0.97368421, 0.9895288 , 0.96842105, 0.97894737,\n",
       "         0.98429319, 0.98947368, 0.98947368, 0.97905759, 0.98947368,\n",
       "         0.97894737, 0.97905759, 0.98421053, 0.98947368, 0.98429319,\n",
       "         0.99473684, 0.98421053, 0.96858639, 0.98421053, 0.98421053]),\n",
       "  'test_PR_auc': array([0.97765073, 0.95965557, 0.96043233, 0.96900016, 0.9823573 ,\n",
       "         0.96549708, 0.96900016, 0.99117865, 0.95180948, 0.97404014,\n",
       "         0.95965557, 0.95687135, 0.98269343, 0.93736208, 0.96043233,\n",
       "         0.97404014, 0.9823573 , 0.98274854, 0.95568725, 0.9823573 ,\n",
       "         0.96043233, 0.96538685, 0.968474  , 0.97767828, 0.97404014,\n",
       "         0.99117865, 0.96905527, 0.94304893, 0.97353595, 0.97412281]),\n",
       "  'test_roc_auc': array([0.98885387, 0.97467156, 0.97492938, 0.98190943, 0.98591549,\n",
       "         0.97222222, 0.98190943, 0.99295775, 0.96798493, 0.97916667,\n",
       "         0.97467156, 0.96527778, 0.98611111, 0.96342762, 0.97492938,\n",
       "         0.97916667, 0.98591549, 0.98611111, 0.97770775, 0.98591549,\n",
       "         0.97492938, 0.97222222, 0.98171381, 0.98881827, 0.97916667,\n",
       "         0.99295775, 0.98187382, 0.9610761 , 0.97887324, 0.97916667])},\n",
       " 'poly/0.1/scale': {'fit_time': array([0.23678708, 0.23741269, 0.23762512, 0.23999405, 0.23902345,\n",
       "         0.23822904, 0.24093223, 0.24038863, 0.24305797, 0.23949838,\n",
       "         0.24443221, 0.24040198, 0.27417684, 0.23941517, 0.23895073,\n",
       "         0.23347259, 0.23195696, 0.24898076, 0.31150031, 0.2379992 ,\n",
       "         0.26371264, 0.30995154, 0.29342341, 0.26257372, 0.36021996,\n",
       "         0.3017509 , 0.30197501, 0.258816  , 0.35387683, 0.33756232]),\n",
       "  'score_time': array([0.12893295, 0.1176219 , 0.12269711, 0.12201858, 0.11805654,\n",
       "         0.11710119, 0.1188252 , 0.11418724, 0.11973786, 0.12034249,\n",
       "         0.11950874, 0.11567569, 0.12138629, 0.12182617, 0.12313914,\n",
       "         0.11722207, 0.11585593, 0.13210416, 0.14305806, 0.15707397,\n",
       "         0.16473389, 0.12433434, 0.18111277, 0.16079354, 0.15974808,\n",
       "         0.15983891, 0.12242961, 0.11697865, 0.18421865, 0.17800164]),\n",
       "  'test_acc': array([0.98429319, 0.97894737, 0.97368421, 0.98429319, 0.98947368,\n",
       "         0.97894737, 0.98429319, 0.98947368, 0.96842105, 0.97905759,\n",
       "         0.97368421, 0.97368421, 0.9895288 , 0.96842105, 0.98421053,\n",
       "         0.98429319, 0.98947368, 0.98947368, 0.97905759, 0.98947368,\n",
       "         0.97894737, 0.97905759, 0.98421053, 0.98947368, 0.98429319,\n",
       "         0.99473684, 0.98421053, 0.96858639, 0.97894737, 0.98421053]),\n",
       "  'test_PR_auc': array([0.96900016, 0.95965557, 0.95180948, 0.96900016, 0.9823573 ,\n",
       "         0.96549708, 0.96900016, 0.9823573 , 0.93851295, 0.96538685,\n",
       "         0.95083722, 0.95687135, 0.98269343, 0.93736208, 0.97412281,\n",
       "         0.97404014, 0.9823573 , 0.98274854, 0.95568725, 0.9823573 ,\n",
       "         0.96043233, 0.96538685, 0.968474  , 0.97767828, 0.97404014,\n",
       "         0.99117865, 0.96905527, 0.94304893, 0.9647146 , 0.97412281]),\n",
       "  'test_roc_auc': array([0.98190943, 0.97467156, 0.96798493, 0.98190943, 0.98591549,\n",
       "         0.97222222, 0.98190943, 0.98591549, 0.96374765, 0.97222222,\n",
       "         0.96762931, 0.96527778, 0.98611111, 0.96342762, 0.97916667,\n",
       "         0.97916667, 0.98591549, 0.98611111, 0.97770775, 0.98591549,\n",
       "         0.97492938, 0.97222222, 0.98171381, 0.98881827, 0.97916667,\n",
       "         0.99295775, 0.98187382, 0.9610761 , 0.97183099, 0.97916667])},\n",
       " 'rbf/0.1/auto': {'fit_time': array([0.41910839, 0.36490393, 0.46880984, 0.23854733, 0.23684478,\n",
       "         0.25097513, 0.23704052, 0.28445816, 0.28295398, 0.3179388 ,\n",
       "         0.46362472, 0.35288858, 0.34673834, 0.24957633, 0.24094248,\n",
       "         0.34664965, 0.26338887, 0.30810499, 0.37774467, 0.3063457 ,\n",
       "         0.24923253, 0.30930567, 0.33706546, 0.31621718, 0.23761559,\n",
       "         0.23883319, 0.23980117, 0.2488873 , 0.73721933, 0.5265739 ]),\n",
       "  'score_time': array([0.41220021, 0.35343242, 0.67584729, 0.21658111, 0.21871233,\n",
       "         0.21899414, 0.22640061, 0.47109485, 0.33844543, 0.32034445,\n",
       "         0.3089695 , 0.36088133, 0.35753226, 0.21866965, 0.22466302,\n",
       "         0.25196576, 0.27001309, 0.24620414, 0.31957579, 0.32009387,\n",
       "         0.29628968, 0.34593654, 0.31590366, 0.33573055, 0.22826099,\n",
       "         0.22639132, 0.22390819, 0.23455429, 0.48564553, 0.75309467]),\n",
       "  'test_acc': array([0.62303665, 0.62631579, 0.62105263, 0.62303665, 0.62631579,\n",
       "         0.62105263, 0.62303665, 0.62631579, 0.62105263, 0.62303665,\n",
       "         0.62631579, 0.62105263, 0.62303665, 0.62631579, 0.62105263,\n",
       "         0.62303665, 0.62631579, 0.62105263, 0.62303665, 0.62631579,\n",
       "         0.62105263, 0.62303665, 0.62631579, 0.62105263, 0.62303665,\n",
       "         0.62631579, 0.62105263, 0.62303665, 0.62631579, 0.62105263]),\n",
       "  'test_PR_auc': array([0.37696335, 0.37368421, 0.37894737, 0.37696335, 0.37368421,\n",
       "         0.37894737, 0.37696335, 0.37368421, 0.37894737, 0.37696335,\n",
       "         0.37368421, 0.37894737, 0.37696335, 0.37368421, 0.37894737,\n",
       "         0.37696335, 0.37368421, 0.37894737, 0.37696335, 0.37368421,\n",
       "         0.37894737, 0.37696335, 0.37368421, 0.37894737, 0.37696335,\n",
       "         0.37368421, 0.37894737, 0.37696335, 0.37368421, 0.37894737]),\n",
       "  'test_roc_auc': array([0.5, 0.5, 0.5, 0.5, 0.5, 0.5, 0.5, 0.5, 0.5, 0.5, 0.5, 0.5, 0.5,\n",
       "         0.5, 0.5, 0.5, 0.5, 0.5, 0.5, 0.5, 0.5, 0.5, 0.5, 0.5, 0.5, 0.5,\n",
       "         0.5, 0.5, 0.5, 0.5])},\n",
       " 'linear/0.1/auto': {'fit_time': array([0.30312896, 0.30656862, 0.31105781, 0.30194664, 0.30514884,\n",
       "         0.26031756, 0.23303127, 0.23248267, 0.23447633, 0.23302317,\n",
       "         0.23465848, 0.23575783, 0.23417902, 0.23465228, 0.24129033,\n",
       "         0.23040891, 0.23409605, 0.24640656, 0.24035215, 0.23602605,\n",
       "         0.23855329, 0.23680186, 0.24045825, 0.23966122, 0.24130678,\n",
       "         0.23542523, 0.23178053, 0.23313642, 0.24045014, 0.23335791]),\n",
       "  'score_time': array([0.15500736, 0.16279006, 0.15982032, 0.16078091, 0.16840291,\n",
       "         0.11489558, 0.11688995, 0.11327505, 0.11723638, 0.11638427,\n",
       "         0.12171507, 0.1172123 , 0.11800265, 0.11957932, 0.11874056,\n",
       "         0.11584139, 0.11940336, 0.1158464 , 0.14296889, 0.12765741,\n",
       "         0.11781907, 0.11689782, 0.1257596 , 0.11927676, 0.1193347 ,\n",
       "         0.13396072, 0.11579561, 0.11488318, 0.11708045, 0.11667752]),\n",
       "  'test_acc': array([0.9895288 , 0.97894737, 0.97894737, 0.98429319, 0.98947368,\n",
       "         0.97894737, 0.98429319, 0.99473684, 0.97368421, 0.98429319,\n",
       "         0.97894737, 0.97368421, 0.9895288 , 0.96842105, 0.97894737,\n",
       "         0.98429319, 0.98947368, 0.98947368, 0.97905759, 0.98947368,\n",
       "         0.97894737, 0.97905759, 0.98421053, 0.98947368, 0.98429319,\n",
       "         0.99473684, 0.98421053, 0.96858639, 0.98421053, 0.98421053]),\n",
       "  'test_PR_auc': array([0.97765073, 0.95965557, 0.96043233, 0.96900016, 0.9823573 ,\n",
       "         0.96549708, 0.96900016, 0.99117865, 0.95180948, 0.97404014,\n",
       "         0.95965557, 0.95687135, 0.98269343, 0.93736208, 0.96043233,\n",
       "         0.97404014, 0.9823573 , 0.98274854, 0.95568725, 0.9823573 ,\n",
       "         0.96043233, 0.96538685, 0.968474  , 0.97767828, 0.97404014,\n",
       "         0.99117865, 0.96905527, 0.94304893, 0.97353595, 0.97412281]),\n",
       "  'test_roc_auc': array([0.98885387, 0.97467156, 0.97492938, 0.98190943, 0.98591549,\n",
       "         0.97222222, 0.98190943, 0.99295775, 0.96798493, 0.97916667,\n",
       "         0.97467156, 0.96527778, 0.98611111, 0.96342762, 0.97492938,\n",
       "         0.97916667, 0.98591549, 0.98611111, 0.97770775, 0.98591549,\n",
       "         0.97492938, 0.97222222, 0.98171381, 0.98881827, 0.97916667,\n",
       "         0.99295775, 0.98187382, 0.9610761 , 0.97887324, 0.97916667])},\n",
       " 'poly/0.1/auto': {'fit_time': array([0.23486733, 0.23518062, 0.23343253, 0.23166752, 0.24198842,\n",
       "         0.23798943, 0.24093437, 0.23888803, 0.23658586, 0.23268867,\n",
       "         0.23387384, 0.23439574, 0.2317555 , 0.23479033, 0.23700094,\n",
       "         0.23806906, 0.23534632, 0.23114157, 0.23571897, 0.2331214 ,\n",
       "         0.23574734, 0.23651052, 0.23472309, 0.2554388 , 0.23815894,\n",
       "         0.26010013, 0.23288369, 0.23852301, 0.23677921, 0.24007773]),\n",
       "  'score_time': array([0.11872125, 0.11689448, 0.11971188, 0.11868382, 0.11900258,\n",
       "         0.11841679, 0.12485552, 0.1181829 , 0.1171453 , 0.12117529,\n",
       "         0.11872458, 0.11860371, 0.12796474, 0.12399125, 0.11749148,\n",
       "         0.12418985, 0.1180377 , 0.11820364, 0.12280512, 0.11675096,\n",
       "         0.12215018, 0.12230515, 0.11788368, 0.12036443, 0.11911106,\n",
       "         0.11517906, 0.11676478, 0.1171627 , 0.12201643, 0.12210894]),\n",
       "  'test_acc': array([0.98429319, 0.97894737, 0.97368421, 0.98429319, 0.98947368,\n",
       "         0.97894737, 0.98429319, 0.98947368, 0.96842105, 0.97905759,\n",
       "         0.97368421, 0.97368421, 0.9895288 , 0.96842105, 0.98421053,\n",
       "         0.98429319, 0.98947368, 0.98947368, 0.97905759, 0.98947368,\n",
       "         0.97894737, 0.97905759, 0.98421053, 0.98947368, 0.98429319,\n",
       "         0.99473684, 0.98421053, 0.96858639, 0.97894737, 0.98421053]),\n",
       "  'test_PR_auc': array([0.96900016, 0.95965557, 0.95180948, 0.96900016, 0.9823573 ,\n",
       "         0.96549708, 0.96900016, 0.9823573 , 0.93851295, 0.96538685,\n",
       "         0.95083722, 0.95687135, 0.98269343, 0.93736208, 0.97412281,\n",
       "         0.97404014, 0.9823573 , 0.98274854, 0.95568725, 0.9823573 ,\n",
       "         0.96043233, 0.96538685, 0.968474  , 0.97767828, 0.97404014,\n",
       "         0.99117865, 0.96905527, 0.94304893, 0.9647146 , 0.97412281]),\n",
       "  'test_roc_auc': array([0.98190943, 0.97467156, 0.96798493, 0.98190943, 0.98591549,\n",
       "         0.97222222, 0.98190943, 0.98591549, 0.96374765, 0.97222222,\n",
       "         0.96762931, 0.96527778, 0.98611111, 0.96342762, 0.97916667,\n",
       "         0.97916667, 0.98591549, 0.98611111, 0.97770775, 0.98591549,\n",
       "         0.97492938, 0.97222222, 0.98171381, 0.98881827, 0.97916667,\n",
       "         0.99295775, 0.98187382, 0.9610761 , 0.97183099, 0.97916667])},\n",
       " 'rbf/1/scale': {'fit_time': array([0.25150394, 0.24373031, 0.25264621, 0.24043441, 0.31478906,\n",
       "         0.27900934, 0.30653071, 0.29599023, 0.31810951, 0.31915665,\n",
       "         0.3150332 , 0.3359077 , 0.31880236, 0.2714653 , 0.25415301,\n",
       "         0.35070157, 0.32099795, 0.39732265, 0.24409485, 0.24888659,\n",
       "         0.24047089, 0.23733854, 0.24914932, 0.37976336, 0.37249184,\n",
       "         0.37201071, 0.41620564, 0.45703626, 0.27162647, 0.2798872 ]),\n",
       "  'score_time': array([0.22791219, 0.22716045, 0.215868  , 0.22723079, 0.29532957,\n",
       "         0.28923059, 0.21909356, 0.24027944, 0.32296705, 0.33631492,\n",
       "         0.32521582, 0.23648357, 0.29091358, 0.32751679, 0.30750442,\n",
       "         0.30544043, 0.30952907, 0.2567904 , 0.22100377, 0.22148657,\n",
       "         0.2166934 , 0.21479559, 0.26339245, 0.36138725, 0.32285714,\n",
       "         0.41784692, 0.41215777, 0.5052557 , 0.25064254, 0.23553824]),\n",
       "  'test_acc': array([0.95811518, 0.94210526, 0.92105263, 0.94240838, 0.96315789,\n",
       "         0.94736842, 0.95287958, 0.94736842, 0.93684211, 0.95287958,\n",
       "         0.92631579, 0.94210526, 0.96335079, 0.96315789, 0.93684211,\n",
       "         0.94764398, 0.94210526, 0.94736842, 0.95811518, 0.93684211,\n",
       "         0.93684211, 0.90575916, 0.96842105, 0.94210526, 0.93193717,\n",
       "         0.97368421, 0.93157895, 0.94240838, 0.95263158, 0.94210526]),\n",
       "  'test_PR_auc': array([0.93077371, 0.90296516, 0.87061404, 0.90481385, 0.93825056,\n",
       "         0.91374269, 0.92212042, 0.91178651, 0.89145208, 0.92212042,\n",
       "         0.87650111, 0.90511696, 0.93942699, 0.93825056, 0.89649123,\n",
       "         0.91346713, 0.90296516, 0.91374269, 0.93077371, 0.89414381,\n",
       "         0.89145208, 0.84424084, 0.94201896, 0.90511696, 0.88750727,\n",
       "         0.95589325, 0.8878655 , 0.90481385, 0.92060786, 0.90511696]),\n",
       "  'test_roc_auc': array([0.94444444, 0.92253521, 0.89583333, 0.92361111, 0.95070423,\n",
       "         0.93055556, 0.9375    , 0.92957746, 0.91937382, 0.9375    ,\n",
       "         0.90140845, 0.92361111, 0.95138889, 0.95070423, 0.91666667,\n",
       "         0.93055556, 0.92253521, 0.93055556, 0.94444444, 0.91549296,\n",
       "         0.91937382, 0.875     , 0.96058705, 0.92361111, 0.90972222,\n",
       "         0.96478873, 0.90972222, 0.92361111, 0.93661972, 0.92361111])},\n",
       " 'linear/1/scale': {'fit_time': array([0.30527878, 0.25440264, 0.24753714, 0.26346421, 0.31059051,\n",
       "         0.42671156, 0.45817661, 0.62010002, 0.47651124, 0.72206616,\n",
       "         0.2364943 , 0.24391007, 0.23571825, 0.23586321, 0.23858142,\n",
       "         0.24457884, 0.2425704 , 0.23925257, 0.2337029 , 0.2347312 ,\n",
       "         0.39070725, 0.53036499, 0.30293775, 0.37817311, 0.46581364,\n",
       "         0.37380171, 0.27334595, 0.29904079, 0.2845664 , 0.27708244]),\n",
       "  'score_time': array([0.14510655, 0.15066004, 0.13309288, 0.14952421, 0.15386415,\n",
       "         0.35600209, 0.15583444, 0.36506438, 0.274333  , 0.35569024,\n",
       "         0.11413789, 0.11241794, 0.1160655 , 0.11310744, 0.11392903,\n",
       "         0.12038398, 0.11750031, 0.11127472, 0.11589074, 0.15852547,\n",
       "         0.15778995, 0.15671277, 0.17329311, 0.16225767, 0.22537255,\n",
       "         0.194839  , 0.14958429, 0.15400958, 0.15602803, 0.14903641]),\n",
       "  'test_acc': array([0.9895288 , 0.97894737, 0.97894737, 0.98429319, 0.98947368,\n",
       "         0.97894737, 0.98429319, 0.99473684, 0.97368421, 0.98429319,\n",
       "         0.97894737, 0.97368421, 0.9895288 , 0.96842105, 0.97894737,\n",
       "         0.98429319, 0.98947368, 0.98947368, 0.97905759, 0.98947368,\n",
       "         0.97894737, 0.97905759, 0.98421053, 0.98947368, 0.98429319,\n",
       "         0.99473684, 0.98421053, 0.96858639, 0.98421053, 0.98421053]),\n",
       "  'test_PR_auc': array([0.97765073, 0.95965557, 0.96043233, 0.96900016, 0.9823573 ,\n",
       "         0.96549708, 0.96900016, 0.99117865, 0.95180948, 0.97404014,\n",
       "         0.95965557, 0.95687135, 0.98269343, 0.93736208, 0.96043233,\n",
       "         0.97404014, 0.9823573 , 0.98274854, 0.95568725, 0.9823573 ,\n",
       "         0.96043233, 0.96538685, 0.968474  , 0.97767828, 0.97404014,\n",
       "         0.99117865, 0.96905527, 0.94304893, 0.97353595, 0.97412281]),\n",
       "  'test_roc_auc': array([0.98885387, 0.97467156, 0.97492938, 0.98190943, 0.98591549,\n",
       "         0.97222222, 0.98190943, 0.99295775, 0.96798493, 0.97916667,\n",
       "         0.97467156, 0.96527778, 0.98611111, 0.96342762, 0.97492938,\n",
       "         0.97916667, 0.98591549, 0.98611111, 0.97770775, 0.98591549,\n",
       "         0.97492938, 0.97222222, 0.98171381, 0.98881827, 0.97916667,\n",
       "         0.99295775, 0.98187382, 0.9610761 , 0.97887324, 0.97916667])},\n",
       " 'poly/1/scale': {'fit_time': array([0.29367828, 0.24339986, 0.24932313, 0.23854899, 0.23929238,\n",
       "         0.24526906, 0.23784733, 0.23776221, 0.2491188 , 0.23037314,\n",
       "         0.2371192 , 0.24657321, 0.24507356, 0.23773146, 0.2443068 ,\n",
       "         0.23418164, 0.23958254, 0.23440695, 0.24923706, 0.24106026,\n",
       "         0.23965025, 0.24297786, 0.24184895, 0.23672438, 0.23710823,\n",
       "         0.24445367, 0.24483991, 0.24291182, 0.23685527, 0.23901701]),\n",
       "  'score_time': array([0.16140413, 0.11898899, 0.11864948, 0.12448096, 0.11582136,\n",
       "         0.11872053, 0.13033915, 0.11654735, 0.12679291, 0.11760592,\n",
       "         0.12042499, 0.11782956, 0.12559557, 0.12106109, 0.11704731,\n",
       "         0.11730218, 0.13208652, 0.12292576, 0.13894653, 0.12250233,\n",
       "         0.12002182, 0.12383604, 0.117939  , 0.12077928, 0.1200211 ,\n",
       "         0.11923599, 0.12028098, 0.12380934, 0.11782312, 0.11618114]),\n",
       "  'test_acc': array([0.98429319, 0.97894737, 0.97368421, 0.98429319, 0.98947368,\n",
       "         0.97894737, 0.98429319, 0.98947368, 0.96842105, 0.97905759,\n",
       "         0.97368421, 0.97368421, 0.9895288 , 0.96842105, 0.98421053,\n",
       "         0.98429319, 0.98947368, 0.98947368, 0.97905759, 0.98947368,\n",
       "         0.97894737, 0.97905759, 0.98421053, 0.98947368, 0.98429319,\n",
       "         0.99473684, 0.98421053, 0.96858639, 0.97894737, 0.98421053]),\n",
       "  'test_PR_auc': array([0.96900016, 0.95965557, 0.95180948, 0.96900016, 0.9823573 ,\n",
       "         0.96549708, 0.96900016, 0.9823573 , 0.93851295, 0.96538685,\n",
       "         0.95083722, 0.95687135, 0.98269343, 0.93736208, 0.97412281,\n",
       "         0.97404014, 0.9823573 , 0.98274854, 0.95568725, 0.9823573 ,\n",
       "         0.96043233, 0.96538685, 0.968474  , 0.97767828, 0.97404014,\n",
       "         0.99117865, 0.96905527, 0.94304893, 0.9647146 , 0.97412281]),\n",
       "  'test_roc_auc': array([0.98190943, 0.97467156, 0.96798493, 0.98190943, 0.98591549,\n",
       "         0.97222222, 0.98190943, 0.98591549, 0.96374765, 0.97222222,\n",
       "         0.96762931, 0.96527778, 0.98611111, 0.96342762, 0.97916667,\n",
       "         0.97916667, 0.98591549, 0.98611111, 0.97770775, 0.98591549,\n",
       "         0.97492938, 0.97222222, 0.98171381, 0.98881827, 0.97916667,\n",
       "         0.99295775, 0.98187382, 0.9610761 , 0.97183099, 0.97916667])},\n",
       " 'rbf/1/auto': {'fit_time': array([0.25284624, 0.24408507, 0.23676038, 0.23447633, 0.2319665 ,\n",
       "         0.24120665, 0.23799682, 0.24079609, 0.23928905, 0.23940134,\n",
       "         0.24004889, 0.23422122, 0.23785257, 0.23755002, 0.23875666,\n",
       "         0.23703814, 0.25306535, 0.24091125, 0.24199104, 0.25946069,\n",
       "         0.23992014, 0.23425746, 0.23828721, 0.23752427, 0.23293591,\n",
       "         0.24723315, 0.24464703, 0.23505545, 0.23757601, 0.23695445]),\n",
       "  'score_time': array([0.22467351, 0.2187531 , 0.22247124, 0.21856976, 0.22362924,\n",
       "         0.2179544 , 0.21688771, 0.21627378, 0.2216661 , 0.21797013,\n",
       "         0.21808434, 0.22026157, 0.21675587, 0.24391556, 0.22770262,\n",
       "         0.22336674, 0.22438097, 0.22766066, 0.22626686, 0.22069311,\n",
       "         0.22206545, 0.21788359, 0.22000313, 0.21729684, 0.22523975,\n",
       "         0.22377467, 0.22280025, 0.22129154, 0.22069097, 0.21707034]),\n",
       "  'test_acc': array([0.87434555, 0.88947368, 0.85789474, 0.87958115, 0.89473684,\n",
       "         0.87894737, 0.86387435, 0.87894737, 0.83157895, 0.87434555,\n",
       "         0.87894737, 0.86842105, 0.89528796, 0.88421053, 0.88421053,\n",
       "         0.88481675, 0.86842105, 0.89473684, 0.86387435, 0.85789474,\n",
       "         0.86842105, 0.85863874, 0.87368421, 0.87368421, 0.85340314,\n",
       "         0.88421053, 0.86315789, 0.87958115, 0.87368421, 0.88947368]),\n",
       "  'test_PR_auc': array([0.79232112, 0.81475167, 0.76710526, 0.8009744 , 0.82357302,\n",
       "         0.80160819, 0.77501454, 0.79710897, 0.72397661, 0.79232112,\n",
       "         0.79710897, 0.78435673, 0.82693426, 0.80593032, 0.81023392,\n",
       "         0.80962769, 0.77946627, 0.82748538, 0.77501454, 0.76182357,\n",
       "         0.77937701, 0.76636126, 0.78828762, 0.79298246, 0.75770797,\n",
       "         0.80593032, 0.77573099, 0.8009744 , 0.78828762, 0.81885965]),\n",
       "  'test_roc_auc': array([0.83333333, 0.85211268, 0.8125    , 0.84027778, 0.85915493,\n",
       "         0.84027778, 0.81944444, 0.83802817, 0.77777778, 0.83333333,\n",
       "         0.83802817, 0.82638889, 0.86111111, 0.84507042, 0.84722222,\n",
       "         0.84722222, 0.82394366, 0.86111111, 0.81944444, 0.80985915,\n",
       "         0.82909605, 0.8125    , 0.83098592, 0.83333333, 0.80555556,\n",
       "         0.84507042, 0.81944444, 0.84027778, 0.83098592, 0.85416667])},\n",
       " 'linear/1/auto': {'fit_time': array([0.22666073, 0.23389626, 0.23390913, 0.22915435, 0.22589159,\n",
       "         0.22740722, 0.22773552, 0.22582126, 0.25125146, 0.23566914,\n",
       "         0.22722316, 0.2269969 , 0.22755241, 0.2355051 , 0.23006535,\n",
       "         0.23007488, 0.23446822, 0.22949696, 0.23262644, 0.75506306,\n",
       "         0.33839083, 0.35413671, 0.42467165, 0.53443217, 0.28716874,\n",
       "         0.46756244, 0.50757384, 0.31096005, 0.40927482, 0.35361028]),\n",
       "  'score_time': array([0.11871314, 0.11708999, 0.11530185, 0.11392879, 0.11922979,\n",
       "         0.113554  , 0.11405158, 0.1134479 , 0.11663032, 0.11625576,\n",
       "         0.12435365, 0.11359572, 0.11404777, 0.11687422, 0.11585402,\n",
       "         0.11376166, 0.11658239, 0.1122396 , 0.11584902, 0.33794069,\n",
       "         0.18422699, 0.18920636, 0.26500225, 0.18145943, 0.15491962,\n",
       "         0.22566795, 0.17979074, 0.18479872, 0.18814635, 0.15504527]),\n",
       "  'test_acc': array([0.9895288 , 0.97894737, 0.97894737, 0.98429319, 0.98947368,\n",
       "         0.97894737, 0.98429319, 0.99473684, 0.97368421, 0.98429319,\n",
       "         0.97894737, 0.97368421, 0.9895288 , 0.96842105, 0.97894737,\n",
       "         0.98429319, 0.98947368, 0.98947368, 0.97905759, 0.98947368,\n",
       "         0.97894737, 0.97905759, 0.98421053, 0.98947368, 0.98429319,\n",
       "         0.99473684, 0.98421053, 0.96858639, 0.98421053, 0.98421053]),\n",
       "  'test_PR_auc': array([0.97765073, 0.95965557, 0.96043233, 0.96900016, 0.9823573 ,\n",
       "         0.96549708, 0.96900016, 0.99117865, 0.95180948, 0.97404014,\n",
       "         0.95965557, 0.95687135, 0.98269343, 0.93736208, 0.96043233,\n",
       "         0.97404014, 0.9823573 , 0.98274854, 0.95568725, 0.9823573 ,\n",
       "         0.96043233, 0.96538685, 0.968474  , 0.97767828, 0.97404014,\n",
       "         0.99117865, 0.96905527, 0.94304893, 0.97353595, 0.97412281]),\n",
       "  'test_roc_auc': array([0.98885387, 0.97467156, 0.97492938, 0.98190943, 0.98591549,\n",
       "         0.97222222, 0.98190943, 0.99295775, 0.96798493, 0.97916667,\n",
       "         0.97467156, 0.96527778, 0.98611111, 0.96342762, 0.97492938,\n",
       "         0.97916667, 0.98591549, 0.98611111, 0.97770775, 0.98591549,\n",
       "         0.97492938, 0.97222222, 0.98171381, 0.98881827, 0.97916667,\n",
       "         0.99295775, 0.98187382, 0.9610761 , 0.97887324, 0.97916667])},\n",
       " 'poly/1/auto': {'fit_time': array([0.27020431, 0.24265122, 0.2337575 , 0.23856807, 0.23398972,\n",
       "         0.22513437, 0.22953796, 0.23117709, 0.23004675, 0.22805119,\n",
       "         0.2335465 , 0.23043776, 0.24048972, 0.23111939, 0.23915601,\n",
       "         0.24373388, 0.42846179, 0.37722325, 0.32039165, 0.87945104,\n",
       "         0.35210252, 0.36535025, 0.37088275, 0.49071717, 0.73517752,\n",
       "         0.57028794, 0.4005878 , 0.24964237, 0.24131155, 0.24268627]),\n",
       "  'score_time': array([0.12062168, 0.11645412, 0.12769461, 0.12511396, 0.11887074,\n",
       "         0.11839724, 0.12360358, 0.11685848, 0.12050819, 0.1275003 ,\n",
       "         0.11729407, 0.11803842, 0.1214385 , 0.11857462, 0.11820483,\n",
       "         0.13532019, 0.14040327, 0.19327426, 0.15862203, 0.30985665,\n",
       "         0.32704329, 0.37983656, 0.34887123, 0.2810638 , 0.41353774,\n",
       "         0.35138297, 0.16451907, 0.12021995, 0.12208748, 0.11678243]),\n",
       "  'test_acc': array([0.98429319, 0.97894737, 0.97368421, 0.98429319, 0.98947368,\n",
       "         0.97894737, 0.98429319, 0.98947368, 0.96842105, 0.97905759,\n",
       "         0.97368421, 0.97368421, 0.9895288 , 0.96842105, 0.98421053,\n",
       "         0.98429319, 0.98947368, 0.98947368, 0.97905759, 0.98947368,\n",
       "         0.97894737, 0.97905759, 0.98421053, 0.98947368, 0.98429319,\n",
       "         0.99473684, 0.98421053, 0.96858639, 0.97894737, 0.98421053]),\n",
       "  'test_PR_auc': array([0.96900016, 0.95965557, 0.95180948, 0.96900016, 0.9823573 ,\n",
       "         0.96549708, 0.96900016, 0.9823573 , 0.93851295, 0.96538685,\n",
       "         0.95083722, 0.95687135, 0.98269343, 0.93736208, 0.97412281,\n",
       "         0.97404014, 0.9823573 , 0.98274854, 0.95568725, 0.9823573 ,\n",
       "         0.96043233, 0.96538685, 0.968474  , 0.97767828, 0.97404014,\n",
       "         0.99117865, 0.96905527, 0.94304893, 0.9647146 , 0.97412281]),\n",
       "  'test_roc_auc': array([0.98190943, 0.97467156, 0.96798493, 0.98190943, 0.98591549,\n",
       "         0.97222222, 0.98190943, 0.98591549, 0.96374765, 0.97222222,\n",
       "         0.96762931, 0.96527778, 0.98611111, 0.96342762, 0.97916667,\n",
       "         0.97916667, 0.98591549, 0.98611111, 0.97770775, 0.98591549,\n",
       "         0.97492938, 0.97222222, 0.98171381, 0.98881827, 0.97916667,\n",
       "         0.99295775, 0.98187382, 0.9610761 , 0.97183099, 0.97916667])},\n",
       " 'rbf/3/scale': {'fit_time': array([0.23963881, 0.33093095, 0.30948496, 0.30427146, 0.37407351,\n",
       "         0.31780624, 0.26072359, 0.2728703 , 0.3325758 , 0.50265479,\n",
       "         0.59338927, 0.37377691, 0.31687188, 0.24958992, 0.25161171,\n",
       "         0.24524212, 0.2490797 , 0.25323319, 0.24034858, 0.24995875,\n",
       "         0.24744034, 0.25022626, 0.24143505, 0.239079  , 0.24166274,\n",
       "         0.24398518, 0.2594533 , 0.25019979, 0.24485826, 0.24271941]),\n",
       "  'score_time': array([0.30554509, 0.28573704, 0.34617686, 0.36875558, 0.29543686,\n",
       "         0.27276754, 0.25449395, 0.33609653, 0.39831448, 0.46396422,\n",
       "         0.4343884 , 0.32200217, 0.30395722, 0.21816611, 0.22449851,\n",
       "         0.22217607, 0.2186203 , 0.22096562, 0.21852517, 0.21880007,\n",
       "         0.22543573, 0.22491312, 0.2176888 , 0.22349644, 0.22001171,\n",
       "         0.2253828 , 0.21510625, 0.22370625, 0.21557403, 0.21749353]),\n",
       "  'test_acc': array([0.96335079, 0.96315789, 0.96842105, 0.97905759, 0.97368421,\n",
       "         0.97368421, 0.97382199, 0.95789474, 0.95789474, 0.96335079,\n",
       "         0.95789474, 0.95789474, 0.98429319, 0.97368421, 0.96315789,\n",
       "         0.97905759, 0.98421053, 0.97368421, 0.97382199, 0.98421053,\n",
       "         0.95263158, 0.95287958, 0.97894737, 0.97368421, 0.95287958,\n",
       "         0.98947368, 0.96842105, 0.95287958, 0.97368421, 0.97368421]),\n",
       "  'test_PR_auc': array([0.93439869, 0.93825056, 0.94824561, 0.96034966, 0.95589325,\n",
       "         0.95687135, 0.95673357, 0.92942921, 0.92594143, 0.93942699,\n",
       "         0.92438273, 0.93099415, 0.97404014, 0.95083722, 0.93961988,\n",
       "         0.96538685, 0.97353595, 0.95687135, 0.95673357, 0.97353595,\n",
       "         0.91731894, 0.92212042, 0.95965557, 0.95687135, 0.92212042,\n",
       "         0.9823573 , 0.94824561, 0.92212042, 0.95589325, 0.95687135]),\n",
       "  'test_roc_auc': array([0.95413165, 0.95070423, 0.95833333, 0.97496499, 0.96478873,\n",
       "         0.96527778, 0.96527778, 0.94366197, 0.9471516 , 0.95138889,\n",
       "         0.94650254, 0.94444444, 0.97916667, 0.96762931, 0.95138889,\n",
       "         0.97222222, 0.97887324, 0.96527778, 0.96527778, 0.97887324,\n",
       "         0.94020716, 0.9375    , 0.97467156, 0.96527778, 0.9375    ,\n",
       "         0.98591549, 0.95833333, 0.9375    , 0.96478873, 0.96527778])},\n",
       " 'linear/3/scale': {'fit_time': array([0.24594116, 0.24248219, 0.23627448, 0.23576236, 0.23082423,\n",
       "         0.23129439, 0.2349422 , 0.23367667, 0.23680019, 0.24962759,\n",
       "         0.24450183, 0.23869538, 0.24673653, 0.30715537, 0.33483601,\n",
       "         0.32085133, 0.23985028, 0.24054098, 0.23386812, 0.27977395,\n",
       "         0.27672529, 0.30402088, 0.2871573 , 0.25838089, 0.31506848,\n",
       "         0.31520867, 0.4102118 , 0.5410831 , 0.50982499, 0.41189313]),\n",
       "  'score_time': array([0.11824465, 0.11614299, 0.11647701, 0.11427951, 0.11429667,\n",
       "         0.11479831, 0.11593294, 0.11510062, 0.11628485, 0.12368488,\n",
       "         0.11843657, 0.1132741 , 0.12099648, 0.22332692, 0.15685225,\n",
       "         0.11469269, 0.11989236, 0.11628366, 0.12081623, 0.11682749,\n",
       "         0.16086745, 0.13644028, 0.11637592, 0.12513995, 0.15432286,\n",
       "         0.34642458, 0.23244333, 0.23134065, 0.28887582, 0.15684724]),\n",
       "  'test_acc': array([0.9895288 , 0.97894737, 0.97894737, 0.98429319, 0.98947368,\n",
       "         0.97894737, 0.98429319, 0.99473684, 0.97368421, 0.98429319,\n",
       "         0.97894737, 0.97368421, 0.9895288 , 0.96842105, 0.97894737,\n",
       "         0.98429319, 0.98947368, 0.98947368, 0.97905759, 0.98947368,\n",
       "         0.97894737, 0.97905759, 0.98421053, 0.98947368, 0.98429319,\n",
       "         0.99473684, 0.98421053, 0.96858639, 0.98421053, 0.98421053]),\n",
       "  'test_PR_auc': array([0.97765073, 0.95965557, 0.96043233, 0.96900016, 0.9823573 ,\n",
       "         0.96549708, 0.96900016, 0.99117865, 0.95180948, 0.97404014,\n",
       "         0.95965557, 0.95687135, 0.98269343, 0.93736208, 0.96043233,\n",
       "         0.97404014, 0.9823573 , 0.98274854, 0.95568725, 0.9823573 ,\n",
       "         0.96043233, 0.96538685, 0.968474  , 0.97767828, 0.97404014,\n",
       "         0.99117865, 0.96905527, 0.94304893, 0.97353595, 0.97412281]),\n",
       "  'test_roc_auc': array([0.98885387, 0.97467156, 0.97492938, 0.98190943, 0.98591549,\n",
       "         0.97222222, 0.98190943, 0.99295775, 0.96798493, 0.97916667,\n",
       "         0.97467156, 0.96527778, 0.98611111, 0.96342762, 0.97492938,\n",
       "         0.97916667, 0.98591549, 0.98611111, 0.97770775, 0.98591549,\n",
       "         0.97492938, 0.97222222, 0.98171381, 0.98881827, 0.97916667,\n",
       "         0.99295775, 0.98187382, 0.9610761 , 0.97887324, 0.97916667])},\n",
       " 'poly/3/scale': {'fit_time': array([0.30566263, 0.23802328, 0.30828428, 0.26219392, 0.26808548,\n",
       "         0.3088963 , 0.32526302, 0.47032499, 0.62207961, 0.53225875,\n",
       "         0.33445859, 0.24419904, 0.27844596, 0.29547334, 0.2982409 ,\n",
       "         0.30741429, 0.35257316, 0.29886985, 0.28835917, 0.32537961,\n",
       "         0.41607738, 0.49436116, 0.40808463, 0.24945283, 0.26830602,\n",
       "         0.25060415, 0.27216721, 0.31266737, 0.3067925 , 0.3302052 ]),\n",
       "  'score_time': array([0.12637353, 0.15855002, 0.13138103, 0.15917015, 0.13538218,\n",
       "         0.16896892, 0.24179864, 0.27675581, 0.17843604, 0.23698997,\n",
       "         0.15062714, 0.12636781, 0.15710139, 0.12488413, 0.19270349,\n",
       "         0.15699148, 0.15624452, 0.17039752, 0.11794853, 0.1742754 ,\n",
       "         0.29734325, 0.17775464, 0.23492622, 0.13961411, 0.12531137,\n",
       "         0.11701012, 0.1603601 , 0.15417361, 0.16102171, 0.15666461]),\n",
       "  'test_acc': array([0.98429319, 0.97894737, 0.97368421, 0.98429319, 0.98947368,\n",
       "         0.97894737, 0.98429319, 0.98947368, 0.96842105, 0.97905759,\n",
       "         0.97368421, 0.97368421, 0.9895288 , 0.96842105, 0.98421053,\n",
       "         0.98429319, 0.98947368, 0.98947368, 0.97905759, 0.98947368,\n",
       "         0.97894737, 0.97905759, 0.98421053, 0.98947368, 0.98429319,\n",
       "         0.99473684, 0.98421053, 0.96858639, 0.97894737, 0.98421053]),\n",
       "  'test_PR_auc': array([0.96900016, 0.95965557, 0.95180948, 0.96900016, 0.9823573 ,\n",
       "         0.96549708, 0.96900016, 0.9823573 , 0.93851295, 0.96538685,\n",
       "         0.95083722, 0.95687135, 0.98269343, 0.93736208, 0.97412281,\n",
       "         0.97404014, 0.9823573 , 0.98274854, 0.95568725, 0.9823573 ,\n",
       "         0.96043233, 0.96538685, 0.968474  , 0.97767828, 0.97404014,\n",
       "         0.99117865, 0.96905527, 0.94304893, 0.9647146 , 0.97412281]),\n",
       "  'test_roc_auc': array([0.98190943, 0.97467156, 0.96798493, 0.98190943, 0.98591549,\n",
       "         0.97222222, 0.98190943, 0.98591549, 0.96374765, 0.97222222,\n",
       "         0.96762931, 0.96527778, 0.98611111, 0.96342762, 0.97916667,\n",
       "         0.97916667, 0.98591549, 0.98611111, 0.97770775, 0.98591549,\n",
       "         0.97492938, 0.97222222, 0.98171381, 0.98881827, 0.97916667,\n",
       "         0.99295775, 0.98187382, 0.9610761 , 0.97183099, 0.97916667])},\n",
       " 'rbf/3/auto': {'fit_time': array([0.32486987, 0.24165726, 0.23718739, 0.24177718, 0.23932648,\n",
       "         0.25002551, 0.27949834, 0.31201029, 0.2852726 , 0.29815698,\n",
       "         0.31978559, 0.31949854, 0.76423788, 0.23871279, 0.24639273,\n",
       "         0.23763657, 0.26929545, 0.35310125, 0.33921957, 0.31445765,\n",
       "         0.34429455, 0.23436928, 0.35163236, 0.34138727, 0.29313946,\n",
       "         0.2844348 , 0.3450644 , 0.31184149, 0.31387615, 0.31457376]),\n",
       "  'score_time': array([0.26426554, 0.2127502 , 0.21931505, 0.22926927, 0.21823311,\n",
       "         0.83039069, 0.23519969, 0.30167603, 0.27198863, 0.30878687,\n",
       "         0.30384898, 0.3284862 , 0.36418009, 0.21777916, 0.22856832,\n",
       "         0.22115922, 0.30608773, 0.34020281, 0.33647466, 0.24293256,\n",
       "         0.38024306, 0.36312914, 0.43778348, 0.37442327, 0.24758124,\n",
       "         0.27916765, 0.31213784, 0.32413292, 0.30620384, 0.21810937]),\n",
       "  'test_acc': array([0.91623037, 0.90526316, 0.9       , 0.89528796, 0.93157895,\n",
       "         0.90526316, 0.89528796, 0.90526316, 0.87368421, 0.92670157,\n",
       "         0.90526316, 0.91052632, 0.94764398, 0.90526316, 0.88947368,\n",
       "         0.93193717, 0.91578947, 0.92105263, 0.90575916, 0.9       ,\n",
       "         0.89473684, 0.89005236, 0.91578947, 0.91052632, 0.87958115,\n",
       "         0.93684211, 0.9       , 0.92146597, 0.91052632, 0.89473684]),\n",
       "  'test_PR_auc': array([0.86154741, 0.84121572, 0.83611111, 0.82693426, 0.88532246,\n",
       "         0.84473684, 0.82693426, 0.84121572, 0.79298246, 0.87885398,\n",
       "         0.84121572, 0.85336257, 0.91346713, 0.84121572, 0.81885965,\n",
       "         0.88750727, 0.85885841, 0.87061404, 0.84424084, 0.83239437,\n",
       "         0.82247942, 0.81828098, 0.85885841, 0.85336257, 0.8009744 ,\n",
       "         0.89414381, 0.83611111, 0.8702007 , 0.85003706, 0.82748538]),\n",
       "  'test_roc_auc': array([0.88888889, 0.87323944, 0.86805556, 0.86111111, 0.9084507 ,\n",
       "         0.875     , 0.86111111, 0.87323944, 0.83333333, 0.90277778,\n",
       "         0.87323944, 0.88194444, 0.93055556, 0.87323944, 0.85416667,\n",
       "         0.90972222, 0.88732394, 0.89583333, 0.875     , 0.86619718,\n",
       "         0.86381827, 0.85416667, 0.88732394, 0.88194444, 0.84027778,\n",
       "         0.91549296, 0.86805556, 0.89583333, 0.88028169, 0.86111111])},\n",
       " 'linear/3/auto': {'fit_time': array([0.22699499, 0.22703481, 0.23444271, 0.22938251, 0.23086715,\n",
       "         0.23912168, 0.22861314, 0.22793603, 0.23630977, 0.24234653,\n",
       "         0.2312386 , 0.23027062, 0.22613096, 0.22852349, 0.23053265,\n",
       "         0.22915387, 0.23098516, 0.23658729, 0.23490453, 0.23210859,\n",
       "         0.26824689, 0.41668177, 0.48289227, 0.36826181, 0.23433018,\n",
       "         0.44623184, 0.30653048, 0.3532927 , 0.23067617, 0.2312603 ]),\n",
       "  'score_time': array([0.11687398, 0.11517787, 0.11506891, 0.11341429, 0.11304545,\n",
       "         0.11982799, 0.11660075, 0.11084771, 0.11639285, 0.11492229,\n",
       "         0.11652827, 0.13233995, 0.11429644, 0.11779761, 0.11706877,\n",
       "         0.11398315, 0.11837912, 0.11497355, 0.11824775, 0.11946321,\n",
       "         0.17334032, 0.2861371 , 0.33759618, 0.11970234, 0.12711811,\n",
       "         0.19293976, 0.21245837, 0.11511016, 0.1170125 , 0.12448454]),\n",
       "  'test_acc': array([0.9895288 , 0.97894737, 0.97894737, 0.98429319, 0.98947368,\n",
       "         0.97894737, 0.98429319, 0.99473684, 0.97368421, 0.98429319,\n",
       "         0.97894737, 0.97368421, 0.9895288 , 0.96842105, 0.97894737,\n",
       "         0.98429319, 0.98947368, 0.98947368, 0.97905759, 0.98947368,\n",
       "         0.97894737, 0.97905759, 0.98421053, 0.98947368, 0.98429319,\n",
       "         0.99473684, 0.98421053, 0.96858639, 0.98421053, 0.98421053]),\n",
       "  'test_PR_auc': array([0.97765073, 0.95965557, 0.96043233, 0.96900016, 0.9823573 ,\n",
       "         0.96549708, 0.96900016, 0.99117865, 0.95180948, 0.97404014,\n",
       "         0.95965557, 0.95687135, 0.98269343, 0.93736208, 0.96043233,\n",
       "         0.97404014, 0.9823573 , 0.98274854, 0.95568725, 0.9823573 ,\n",
       "         0.96043233, 0.96538685, 0.968474  , 0.97767828, 0.97404014,\n",
       "         0.99117865, 0.96905527, 0.94304893, 0.97353595, 0.97412281]),\n",
       "  'test_roc_auc': array([0.98885387, 0.97467156, 0.97492938, 0.98190943, 0.98591549,\n",
       "         0.97222222, 0.98190943, 0.99295775, 0.96798493, 0.97916667,\n",
       "         0.97467156, 0.96527778, 0.98611111, 0.96342762, 0.97492938,\n",
       "         0.97916667, 0.98591549, 0.98611111, 0.97770775, 0.98591549,\n",
       "         0.97492938, 0.97222222, 0.98171381, 0.98881827, 0.97916667,\n",
       "         0.99295775, 0.98187382, 0.9610761 , 0.97887324, 0.97916667])},\n",
       " 'poly/3/auto': {'fit_time': array([0.23331809, 0.23614049, 0.39290738, 0.35185027, 0.25035954,\n",
       "         0.23687291, 0.23501086, 0.23053741, 0.25838709, 0.27430439,\n",
       "         0.29393172, 0.28692365, 0.22616768, 0.23174334, 0.25183654,\n",
       "         0.29875445, 0.32086325, 0.3372097 , 0.29025817, 0.27093649,\n",
       "         0.23697591, 0.23336005, 0.23120856, 0.23249841, 0.23456335,\n",
       "         0.230515  , 0.230443  , 0.2317338 , 0.23206615, 0.23042941]),\n",
       "  'score_time': array([0.11663365, 0.18492222, 0.27998614, 0.12519145, 0.11983228,\n",
       "         0.13141155, 0.12436914, 0.11636901, 0.11694884, 0.15920568,\n",
       "         0.15985489, 0.17996025, 0.14880705, 0.16833305, 0.16009164,\n",
       "         0.16015649, 0.18874598, 0.162467  , 0.17986441, 0.12409306,\n",
       "         0.12435007, 0.11749053, 0.11748123, 0.11700797, 0.11776209,\n",
       "         0.11757302, 0.11862803, 0.12036872, 0.12105536, 0.11658096]),\n",
       "  'test_acc': array([0.98429319, 0.97894737, 0.97368421, 0.98429319, 0.98947368,\n",
       "         0.97894737, 0.98429319, 0.98947368, 0.96842105, 0.97905759,\n",
       "         0.97368421, 0.97368421, 0.9895288 , 0.96842105, 0.98421053,\n",
       "         0.98429319, 0.98947368, 0.98947368, 0.97905759, 0.98947368,\n",
       "         0.97894737, 0.97905759, 0.98421053, 0.98947368, 0.98429319,\n",
       "         0.99473684, 0.98421053, 0.96858639, 0.97894737, 0.98421053]),\n",
       "  'test_PR_auc': array([0.96900016, 0.95965557, 0.95180948, 0.96900016, 0.9823573 ,\n",
       "         0.96549708, 0.96900016, 0.9823573 , 0.93851295, 0.96538685,\n",
       "         0.95083722, 0.95687135, 0.98269343, 0.93736208, 0.97412281,\n",
       "         0.97404014, 0.9823573 , 0.98274854, 0.95568725, 0.9823573 ,\n",
       "         0.96043233, 0.96538685, 0.968474  , 0.97767828, 0.97404014,\n",
       "         0.99117865, 0.96905527, 0.94304893, 0.9647146 , 0.97412281]),\n",
       "  'test_roc_auc': array([0.98190943, 0.97467156, 0.96798493, 0.98190943, 0.98591549,\n",
       "         0.97222222, 0.98190943, 0.98591549, 0.96374765, 0.97222222,\n",
       "         0.96762931, 0.96527778, 0.98611111, 0.96342762, 0.97916667,\n",
       "         0.97916667, 0.98591549, 0.98611111, 0.97770775, 0.98591549,\n",
       "         0.97492938, 0.97222222, 0.98171381, 0.98881827, 0.97916667,\n",
       "         0.99295775, 0.98187382, 0.9610761 , 0.97183099, 0.97916667])}}"
      ]
     },
     "execution_count": 89,
     "metadata": {},
     "output_type": "execute_result"
    }
   ],
   "source": [
    "from sklearn.model_selection import RepeatedStratifiedKFold\n",
    "\n",
    "C= [0.1, 1, 3]\n",
    "gamma= ['scale', 'auto']\n",
    "kernel= ['rbf', 'linear', 'poly']\n",
    "\n",
    "svm = SVC()\n",
    "scoring = {'acc' : make_scorer(accuracy_score),\n",
    "           'PR_auc' : make_scorer(average_precision_score),\n",
    "           'roc_auc' : make_scorer(roc_auc_score)}\n",
    "\n",
    "# loop through the three models and fit all X, y and evaluate the model using 5 kfold cross validation\n",
    "# and store each type of score range in a list then store total scores for each model in a dictionary\n",
    "cv= RepeatedStratifiedKFold(n_splits=3, n_repeats=10, random_state=1)\n",
    "\n",
    "svm_scores = {}\n",
    "for c in C:\n",
    "  for g in gamma:\n",
    "    for k in kernel:\n",
    "      model= SVC(C=c, gamma=g, kernel=k)\n",
    "      score = model_selection.cross_validate(model, X, y, cv = cv, scoring = scoring)\n",
    "      svm_scores[str(k) + '/'+ str(c)+'/' + str(g)]=score\n",
    "svm_scores"
   ]
  },
  {
   "cell_type": "code",
   "execution_count": 118,
   "metadata": {
    "colab": {
     "base_uri": "https://localhost:8080/"
    },
    "executionInfo": {
     "elapsed": 717,
     "status": "ok",
     "timestamp": 1663009303795,
     "user": {
      "displayName": "Abdelhady Sayed",
      "userId": "09542840263844765052"
     },
     "user_tz": -120
    },
    "id": "z8d4-ZlZ0ccM",
    "outputId": "b551c49d-ea56-48b9-feb6-6d4a39d93813"
   },
   "outputs": [
    {
     "name": "stdout",
     "output_type": "stream",
     "text": [
      "18\n",
      "18\n",
      "18\n",
      "18\n"
     ]
    }
   ],
   "source": [
    "# loop through result dictionary and store the mean for each score and parameter range \n",
    "\n",
    "svm_param = []\n",
    "prauc_svm =[]\n",
    "acc_svm =[]\n",
    "rocauc_svm =[]\n",
    "total_svm= {}\n",
    "for p, s in svm_scores.items():\n",
    "  scores=[]\n",
    "  for (k, v)in s.items():\n",
    "    if 'time' in k:\n",
    "      continue\n",
    "    elif 'PR_auc'in k:\n",
    "      prauc_svm.append(round(v.mean(), 2))\n",
    "      scores.append(v)\n",
    "    elif 'roc_auc'in k:\n",
    "      rocauc_svm.append(round(v.mean(), 2))\n",
    "    elif 'acc'in k:\n",
    "      acc_svm.append(round(v.mean(), 2))\n",
    "      svm_param.append(p)\n",
    "  total_svm[p]=scores\n",
    "\n",
    "#print(total_svm)\n",
    "print(len(svm_param))\n",
    "print(len(prauc_svm))\n",
    "print(len(acc_svm))\n",
    "print(len(rocauc_svm))"
   ]
  },
  {
   "cell_type": "code",
   "execution_count": 119,
   "metadata": {
    "colab": {
     "base_uri": "https://localhost:8080/",
     "height": 561
    },
    "executionInfo": {
     "elapsed": 1107,
     "status": "ok",
     "timestamp": 1663009351656,
     "user": {
      "displayName": "Abdelhady Sayed",
      "userId": "09542840263844765052"
     },
     "user_tz": -120
    },
    "id": "QmHRrrQs465y",
    "outputId": "c0518aba-b3cf-423b-f1f0-4c78acf2d3af"
   },
   "outputs": [
    {
     "data": {
      "image/png": "[encoded data removed]",
      "text/plain": [
       "<Figure size 864x504 with 1 Axes>"
      ]
     },
     "metadata": {
      "needs_background": "light"
     },
     "output_type": "display_data"
    }
   ],
   "source": [
    "# plot the parameter range with 3 types of scores of decision tree model\n",
    "\n",
    "fig = plt.figure(figsize =(12, 7))\n",
    "fig.suptitle('Hyperparameter tuning SVM')\n",
    "ax = fig.add_subplot()\n",
    "bp = plt.plot(svm_param, acc_svm, color='red', label='Accuracy: '+str(max(acc_svm)), lw=1)\n",
    "bp = plt.plot(svm_param, rocauc_svm, color='green', label='ROC auc: '+str(max(acc_svm)), lw=1)\n",
    "bp = plt.plot(svm_param, prauc_svm, color='blue', label='PR auc: '+str(max(prauc_svm)), lw=1)\n",
    "ax.set_xticklabels(svm_param)\n",
    "plt.xticks(fontsize=12, rotation=90)\n",
    "plt.yticks(fontsize=12)\n",
    "plt.legend(loc=4, prop={'size': 12})\n",
    "plt.show()"
   ]
  },
  {
   "cell_type": "code",
   "execution_count": null,
   "metadata": {
    "colab": {
     "base_uri": "https://localhost:8080/",
     "height": 374
    },
    "executionInfo": {
     "elapsed": 2655,
     "status": "ok",
     "timestamp": 1663007114085,
     "user": {
      "displayName": "Abdelhady Sayed",
      "userId": "09542840263844765052"
     },
     "user_tz": -120
    },
    "id": "CkI48cKqSku6",
    "outputId": "2a581d94-6089-4b0e-b851-6bb9882fb77b"
   },
   "outputs": [
    {
     "data": {
      "image/png": "[encoded data removed]",
      "text/plain": [
       "<Figure size 648x432 with 1 Axes>"
      ]
     },
     "metadata": {
      "needs_background": "light"
     },
     "output_type": "display_data"
    }
   ],
   "source": [
    "from sklearn.metrics import roc_curve\n",
    "\n",
    "# split the data into train and test \n",
    "x_train, x_test, y_train, y_test = train_test_split(X, y, test_size = 0.3, random_state = 42)\n",
    "\n",
    "# SVM and DT models with the best parameters\n",
    "SVM = SVC(C= 0.1, gamma='scale', kernel= 'linear', probability=True)\n",
    "DT= DecisionTreeClassifier(criterion= 'entropy', max_depth= 5, min_samples_leaf=5, random_state=42)\n",
    "\n",
    "# model fit on train data\n",
    "SVM.fit(x_train, y_train)\n",
    "DT.fit(x_train, y_train)\n",
    "\n",
    "# prediction of the model\n",
    "pred_svm = SVM.predict(x_test)\n",
    "pred_dt = DT.predict(x_test)\n",
    "\n",
    "# calculate roc auc for each model\n",
    "AUC0 = roc_auc_score(y_test, pred_svm)\n",
    "AUC1 = roc_auc_score(y_test, pred_dt)\n",
    "\n",
    "# get false and true predictions for each model\n",
    "fpr0, tpr0, thresholds0 = roc_curve(y_test, pred_svm)\n",
    "fpr1, tpr1, thresholds1 = roc_curve(y_test, pred_dt)\n",
    "\n",
    "# plot roc auc with calculated AUC values\n",
    "plt.figure(figsize=(9, 6))\n",
    "plt.plot(fpr0,tpr0, color='blue', label=\"SVM AUC=\"+str(round(AUC0, 2)), lw=1)\n",
    "plt.plot(fpr1,tpr1, color='green', label=\"DT AUC=\"+str(round(AUC1, 2)), lw=1)\n",
    "\n",
    "plt.legend(loc=4, prop={'size': 12})\n",
    "\n",
    "plt.show()"
   ]
  },
  {
   "cell_type": "code",
   "execution_count": 123,
   "metadata": {
    "colab": {
     "base_uri": "https://localhost:8080/"
    },
    "executionInfo": {
     "elapsed": 459,
     "status": "ok",
     "timestamp": 1663009815855,
     "user": {
      "displayName": "Abdelhady Sayed",
      "userId": "09542840263844765052"
     },
     "user_tz": -120
    },
    "id": "-yWJaz719kqh",
    "outputId": "5874a777-4393-4051-b82f-90f065a32c31"
   },
   "outputs": [
    {
     "name": "stdout",
     "output_type": "stream",
     "text": [
      "DT:  5/5/entropy : Mean(PR_AUC):  0.86 , Var(PR_AUC):  0.0019\n",
      "=================================\n",
      "SVM: linear/0.1/scale : Mean( PR_AUC):  0.97 , Var(PR_AUC):  0.0002\n"
     ]
    }
   ],
   "source": [
    "# print mean and variance of pr auc score for decision tree model best parameters\n",
    "for p, s in total_dt.items():\n",
    "  if p == '5/5/entropy':\n",
    "    print('DT: ', p, ': Mean(PR_AUC): ', round(np.mean(s),2), ', Var(PR_AUC): ', round(np.var(s),4))\n",
    "    print('=================================')\n",
    "\n",
    "# print mean and variance of pr auc score for svm model best parameters\n",
    "for p, s in total_svm.items():\n",
    "  if p == 'linear/0.1/scale':\n",
    "    print('SVM:', p, ': Mean( PR_AUC): ', round(np.mean(s),2), ', Var(PR_AUC): ', round(np.var(s),4))\n"
   ]
  },
  {
   "cell_type": "markdown",
   "metadata": {
    "id": "-Cwx7K3fBb2d"
   },
   "source": [
    "\n",
    "# >> Final Evaluation:\n",
    "\n",
    "### 1- SVM model is better than DT model in PR AUC score after tunning and in ROC curve auc score, and also SVM has low variance than DT.\n",
    "\n",
    "### 2- linear and poly kernels are the same in performance. C=0.1, gamma = scale are the best parameters in SVM model. So, we will choose linear kernel for simplicity awith the best parameters\n"
   ]
  },
  {
   "cell_type": "markdown",
   "metadata": {
    "id": "8oyFQbEFH8ES"
   },
   "source": [
    "> ## 7- Task 4: Model Training\n",
    "\n",
    "a) Select one classifier/ model that is most generalizable and will perform best on the external test set.\n",
    "\n",
    "b) With chosen classifiers and optimal parameters, train your model with data (training data).\n"
   ]
  },
  {
   "cell_type": "code",
   "execution_count": null,
   "metadata": {
    "colab": {
     "base_uri": "https://localhost:8080/"
    },
    "executionInfo": {
     "elapsed": 3819,
     "status": "ok",
     "timestamp": 1663006615722,
     "user": {
      "displayName": "Abdelhady Sayed",
      "userId": "09542840263844765052"
     },
     "user_tz": -120
    },
    "id": "CbY6T0u_VwMm",
    "outputId": "bf34ce5d-cad5-4999-d771-291163dda212"
   },
   "outputs": [
    {
     "data": {
      "text/plain": [
       "SVC(C=0.1, kernel='linear', probability=True)"
      ]
     },
     "execution_count": 108,
     "metadata": {},
     "output_type": "execute_result"
    }
   ],
   "source": [
    "# initiation of the linear svm model with the best parameters\n",
    "\n",
    "SVM_clf = SVC(C=0.1, kernel='linear', gamma='scale', probability=True)\n",
    "\n",
    "# fit the model on the training data\n",
    "SVM_clf.fit(X, y)\n"
   ]
  },
  {
   "cell_type": "markdown",
   "metadata": {
    "id": "b2l6lxAgZxsW"
   },
   "source": [
    "> ## 8- Task 5: Model interpretation and feature importance\n",
    "\n",
    "a) Depending on your choice of model, select an adequate feature importance method (e.g. Linear weights, Gini Index, forward/backward selection, see Lecture 9) and explain your decision.\n",
    "\n",
    "b) Identify the 10 most informative features for your model and visualize them in a bar plot sorted by their importance.\n"
   ]
  },
  {
   "cell_type": "markdown",
   "metadata": {
    "id": "qwQzoh_I-ZCV"
   },
   "source": [
    "**Steps:**\n",
    "\n",
    "**1- Use linear weights calculated by the linear model of svm to see the feature importance and plot the top 10 features.**\n",
    "\n",
    "**2- Use pearson correlation as another way to see the feature importance and plot the top 10 features**"
   ]
  },
  {
   "cell_type": "code",
   "execution_count": null,
   "metadata": {
    "colab": {
     "base_uri": "https://localhost:8080/",
     "height": 383
    },
    "executionInfo": {
     "elapsed": 714,
     "status": "ok",
     "timestamp": 1663006625996,
     "user": {
      "displayName": "Abdelhady Sayed",
      "userId": "09542840263844765052"
     },
     "user_tz": -120
    },
    "id": "0QCSZzCpV9oQ",
    "outputId": "b1054125-a9be-4e28-eb7c-0b3679271831"
   },
   "outputs": [
    {
     "name": "stderr",
     "output_type": "stream",
     "text": [
      "/usr/local/lib/python3.7/dist-packages/seaborn/_decorators.py:43: FutureWarning: Pass the following variables as keyword args: x, y. From version 0.12, the only valid positional argument will be `data`, and passing other arguments without an explicit keyword will result in an error or misinterpretation.\n",
      "  FutureWarning\n"
     ]
    },
    {
     "name": "stdout",
     "output_type": "stream",
     "text": [
      "[['gene_663', 0.017988165625706598], ['gene_830', 0.018506129347137627], ['gene_2197', 0.01911221230527318], ['gene_1957', 0.020328776057154763], ['gene_1870', 0.021338074557628314], ['gene_2715', 0.021999531698826465], ['gene_2156', 0.022911140594685], ['gene_3504', 0.023370753661159288], ['gene_4170', 0.024951527287982972], ['gene_81', 0.02578296492001634]]\n"
     ]
    },
    {
     "data": {
      "image/png": "[encoded data removed]",
      "text/plain": [
       "<Figure size 432x288 with 1 Axes>"
      ]
     },
     "metadata": {
      "needs_background": "light"
     },
     "output_type": "display_data"
    }
   ],
   "source": [
    "import seaborn as sns\n",
    "\n",
    "# train features\n",
    "features = X.columns\n",
    "\n",
    "# weights of the features from model coeficients attribute\n",
    "coef = SVM_clf.coef_[0]\n",
    "\n",
    "#map each feature with its importance score\n",
    "f_coef = []\n",
    "for f, c in zip(features, coef):\n",
    "  f_coef.append([f, c])\n",
    "\n",
    "# sort the list of feature weights and get the higher 10 features\n",
    "top = sorted(f_coef, key = lambda x : x[1])[-10:]\n",
    "\n",
    "# loop through top list and store the feature and weights in lists\n",
    "top_col = []\n",
    "top_cor = []\n",
    "for i in top:\n",
    "  top_col.append(i[1])\n",
    "  top_cor.append(i[0])\n",
    "\n",
    "# plot top 10 features with the weights\n",
    "g = sns.barplot(top_cor, top_col)\n",
    "g.set_xticklabels(g.get_xticklabels(), rotation=90)\n",
    "\n",
    "print(top)"
   ]
  },
  {
   "cell_type": "code",
   "execution_count": 140,
   "metadata": {
    "colab": {
     "base_uri": "https://localhost:8080/",
     "height": 383
    },
    "executionInfo": {
     "elapsed": 1414,
     "status": "ok",
     "timestamp": 1663010210363,
     "user": {
      "displayName": "Abdelhady Sayed",
      "userId": "09542840263844765052"
     },
     "user_tz": -120
    },
    "id": "VboKKUXIWEAX",
    "outputId": "5dbde074-dd89-4a17-ed3a-ea83d8564a29"
   },
   "outputs": [
    {
     "name": "stdout",
     "output_type": "stream",
     "text": [
      "[['gene_4205', 0.5484403275406937], ['gene_2156', 0.5615372339958666], ['gene_620', 0.5635757428711092], ['gene_97', 0.5959474507946684], ['gene_663', 0.6084035764093698], ['gene_92', 0.6114787203277329], ['gene_4170', 0.6410999487517671], ['gene_3504', 0.6488060491690759], ['gene_1042', 0.6722531062218413], ['gene_1798', 0.6994299704980662]]\n"
     ]
    },
    {
     "name": "stderr",
     "output_type": "stream",
     "text": [
      "/usr/local/lib/python3.7/dist-packages/seaborn/_decorators.py:43: FutureWarning: Pass the following variables as keyword args: x, y. From version 0.12, the only valid positional argument will be `data`, and passing other arguments without an explicit keyword will result in an error or misinterpretation.\n",
      "  FutureWarning\n"
     ]
    },
    {
     "data": {
      "image/png": "[encoded data removed]",
      "text/plain": [
       "<Figure size 432x288 with 1 Axes>"
      ]
     },
     "metadata": {
      "needs_background": "light"
     },
     "output_type": "display_data"
    }
   ],
   "source": [
    "import numpy as np\n",
    "from scipy import stats\n",
    "import matplotlib.pyplot as plt\n",
    "\n",
    "# store the correlation coeficients with each feature in a list\n",
    "pvs = []\n",
    "for i in X.columns:\n",
    "  r = stats.pearsonr(X[i], y)\n",
    "  pvs.append([i, r[0]])\n",
    "\n",
    "# sort the list according to weights and get the higher 10 \n",
    "top = sorted(pvs, key = lambda x : x[1])[-10:]\n",
    "\n",
    "# store the name of column and coeficients in lists\n",
    "top_col = []\n",
    "top_cor = []\n",
    "top = sorted(pvs, key = lambda x : x[1])[-10:]\n",
    "for i in top:\n",
    "  top_col.append(i[1])\n",
    "  top_cor.append(i[0])\n",
    "\n",
    "# plot the columns with their importance\n",
    "g = sns.barplot(top_cor, top_col)\n",
    "g.set_xticklabels(g.get_xticklabels(), rotation=90)\n",
    "\n",
    "print(top)"
   ]
  },
  {
   "cell_type": "markdown",
   "metadata": {
    "id": "MDYFdLPJd7JV"
   },
   "source": [
    "> ## 9- Task 6: External Testing Code\n",
    "\n",
    "a) Load external test dataset stored in the following two files: “testdata.csv” and “testlabels.csv”. Both will have the same format as the given dataset. At the time of testing, we will copy these into your collaborative file and run your test code.\n",
    "\n",
    "b) Prepare code for your classifier to be applied to the loaded data and labels. Note: If you selected a set of features for your finale model, please make sure that you also reduce the test dataset to those features.\n",
    "\n",
    "c) Store the predicted labels in a vector named “finaltest_pred” (see Exercise week 10).\n",
    "\n",
    "d) Store the predicted probabilities in a vector named “finaltest_prob” (see Exercise week 10).\n"
   ]
  },
  {
   "cell_type": "markdown",
   "metadata": {
    "id": "D2TzlteHISdL"
   },
   "source": [
    "##  <u> Steps</u>:\n",
    "\n",
    "\n",
    "**1.**   **load the test data and labels and convert them to dataframes**\n",
    "\n",
    "**2**.   **Reduce columns of testdata with the same columns present in traindata**\n",
    "\n",
    "**3.**   **Impute null values in testdata with the train column mean for each class (the same value used for imputing in traing data)**\n",
    "\n",
    "**4.**   **log transformation for testdata using log2**\n",
    "\n",
    "**5.**   **store final test data as finaltest**\n",
    "\n",
    "**6.   make prediction of the model on finaltest and store the predicted labels as finaltest_pred and predicted probabilites as finatest_prob**\n",
    "\n",
    "\n",
    "\n"
   ]
  },
  {
   "cell_type": "code",
   "execution_count": 124,
   "metadata": {
    "executionInfo": {
     "elapsed": 1005,
     "status": "ok",
     "timestamp": 1663009941874,
     "user": {
      "displayName": "Abdelhady Sayed",
      "userId": "09542840263844765052"
     },
     "user_tz": -120
    },
    "id": "eP-h5zLCYThg"
   },
   "outputs": [],
   "source": [
    "# convert testdata to dataframe and make Unnamed:0 column as index\n",
    "\n",
    "testdata =pd.read_csv('testdata.csv', index_col='Unnamed: 0')"
   ]
  },
  {
   "cell_type": "code",
   "execution_count": 125,
   "metadata": {
    "executionInfo": {
     "elapsed": 321,
     "status": "ok",
     "timestamp": 1663009945543,
     "user": {
      "displayName": "Abdelhady Sayed",
      "userId": "09542840263844765052"
     },
     "user_tz": -120
    },
    "id": "77HE8jpTYYoi"
   },
   "outputs": [],
   "source": [
    "# convert testlabels to dataframe and make Unnamed:0 column as index\n",
    "\n",
    "test_label = pd.read_csv('testlabels.csv', index_col='Unnamed: 0')"
   ]
  },
  {
   "cell_type": "code",
   "execution_count": 126,
   "metadata": {
    "executionInfo": {
     "elapsed": 448,
     "status": "ok",
     "timestamp": 1663009947421,
     "user": {
      "displayName": "Abdelhady Sayed",
      "userId": "09542840263844765052"
     },
     "user_tz": -120
    },
    "id": "5_AI_h9rYe8n"
   },
   "outputs": [],
   "source": [
    "# rename the label column to class \n",
    "\n",
    "test_label.columns = ['class']"
   ]
  },
  {
   "cell_type": "code",
   "execution_count": 127,
   "metadata": {
    "colab": {
     "base_uri": "https://localhost:8080/"
    },
    "executionInfo": {
     "elapsed": 15,
     "status": "ok",
     "timestamp": 1663009952813,
     "user": {
      "displayName": "Abdelhady Sayed",
      "userId": "09542840263844765052"
     },
     "user_tz": -120
    },
    "id": "Kmj9k5v-Yiyr",
    "outputId": "c5268cab-1488-4e6d-aedd-a51fc33f1729"
   },
   "outputs": [
    {
     "data": {
      "text/plain": [
       "(600, 3534)"
      ]
     },
     "execution_count": 127,
     "metadata": {},
     "output_type": "execute_result"
    }
   ],
   "source": [
    "# discard the features that were discarded from train data \n",
    "\n",
    "test2= testdata.filter(X.columns)\n",
    "test2.shape"
   ]
  },
  {
   "cell_type": "code",
   "execution_count": 128,
   "metadata": {
    "executionInfo": {
     "elapsed": 349,
     "status": "ok",
     "timestamp": 1663009955885,
     "user": {
      "displayName": "Abdelhady Sayed",
      "userId": "09542840263844765052"
     },
     "user_tz": -120
    },
    "id": "EH9s6VUFYmW6"
   },
   "outputs": [],
   "source": [
    "# add the testlabel to the testdata dataframe\n",
    "\n",
    "lab_test = pd.concat([test2,test_label],axis=1)"
   ]
  },
  {
   "cell_type": "code",
   "execution_count": 129,
   "metadata": {
    "executionInfo": {
     "elapsed": 575,
     "status": "ok",
     "timestamp": 1663009958146,
     "user": {
      "displayName": "Abdelhady Sayed",
      "userId": "09542840263844765052"
     },
     "user_tz": -120
    },
    "id": "P3Ry3_BSYtAL"
   },
   "outputs": [],
   "source": [
    "# split the testdata into class0 and class1 dataframes\n",
    "\n",
    "test0=lab_test[lab_test['class']==0]\n",
    "test1=lab_test[lab_test['class']==1]"
   ]
  },
  {
   "cell_type": "code",
   "execution_count": 130,
   "metadata": {
    "colab": {
     "base_uri": "https://localhost:8080/"
    },
    "executionInfo": {
     "elapsed": 1625,
     "status": "ok",
     "timestamp": 1663009964158,
     "user": {
      "displayName": "Abdelhady Sayed",
      "userId": "09542840263844765052"
     },
     "user_tz": -120
    },
    "id": "sCddl1wXYt8g",
    "outputId": "de038fbc-376b-4a58-b91a-d24640e1bcfe"
   },
   "outputs": [
    {
     "name": "stderr",
     "output_type": "stream",
     "text": [
      "/usr/local/lib/python3.7/dist-packages/pandas/core/generic.py:6392: SettingWithCopyWarning: \n",
      "A value is trying to be set on a copy of a slice from a DataFrame\n",
      "\n",
      "See the caveats in the documentation: https://pandas.pydata.org/pandas-docs/stable/user_guide/indexing.html#returning-a-view-versus-a-copy\n",
      "  return self._update_inplace(result)\n"
     ]
    }
   ],
   "source": [
    "# impute the null value in the testdata columns by the same value we used for imputing\n",
    "# in the train data mean(train(col) of class 0\n",
    "\n",
    "for col in test0.columns:\n",
    "    train0_col_mean = clean_df3_0[col].mean()\n",
    "    test0[col].fillna(train0_col_mean, inplace= True)"
   ]
  },
  {
   "cell_type": "code",
   "execution_count": 131,
   "metadata": {
    "executionInfo": {
     "elapsed": 1404,
     "status": "ok",
     "timestamp": 1663009978458,
     "user": {
      "displayName": "Abdelhady Sayed",
      "userId": "09542840263844765052"
     },
     "user_tz": -120
    },
    "id": "kW3Em4JTYycM"
   },
   "outputs": [],
   "source": [
    "# impute the null value in the testdata columns by the same value we used for imputing\n",
    "# in the train data mean(train(col) of class 1\n",
    "\n",
    "for col in test1.columns:\n",
    "    train1_col_mean = clean_df3_1[col].mean()\n",
    "    test1[col].fillna(train1_col_mean, inplace= True)"
   ]
  },
  {
   "cell_type": "code",
   "execution_count": 132,
   "metadata": {
    "executionInfo": {
     "elapsed": 406,
     "status": "ok",
     "timestamp": 1663009990954,
     "user": {
      "displayName": "Abdelhady Sayed",
      "userId": "09542840263844765052"
     },
     "user_tz": -120
    },
    "id": "MNcdxNyoY1kI"
   },
   "outputs": [],
   "source": [
    "# combine the two class dataframes to each other after imputing of null values\n",
    "\n",
    "comb_test = pd.concat([test0,test1],axis=0)"
   ]
  },
  {
   "cell_type": "code",
   "execution_count": 133,
   "metadata": {
    "executionInfo": {
     "elapsed": 464,
     "status": "ok",
     "timestamp": 1663009993066,
     "user": {
      "displayName": "Abdelhady Sayed",
      "userId": "09542840263844765052"
     },
     "user_tz": -120
    },
    "id": "mXAAzyv-ZG8J"
   },
   "outputs": [],
   "source": [
    "# store testing data without labels in finaltest dataframe\n",
    "\n",
    "final_test = comb_test.iloc[:, :-1]"
   ]
  },
  {
   "cell_type": "code",
   "execution_count": 134,
   "metadata": {
    "executionInfo": {
     "elapsed": 4631,
     "status": "ok",
     "timestamp": 1663010002963,
     "user": {
      "displayName": "Abdelhady Sayed",
      "userId": "09542840263844765052"
     },
     "user_tz": -120
    },
    "id": "rUrstcisZhYf"
   },
   "outputs": [],
   "source": [
    "# log transformation of finaltest data\n",
    "\n",
    "for col in final_test.columns:\n",
    " final_test[col] = final_test[col].apply(lambda x: np.log2(x + 1))"
   ]
  },
  {
   "cell_type": "code",
   "execution_count": 135,
   "metadata": {
    "executionInfo": {
     "elapsed": 459,
     "status": "ok",
     "timestamp": 1663010003412,
     "user": {
      "displayName": "Abdelhady Sayed",
      "userId": "09542840263844765052"
     },
     "user_tz": -120
    },
    "id": "XO-QsFnPY7-W"
   },
   "outputs": [],
   "source": [
    "# Store the predicted labels as finaltest_pred\n",
    "\n",
    "finaltest_pred = SVM_clf.predict(final_test)"
   ]
  },
  {
   "cell_type": "code",
   "execution_count": 138,
   "metadata": {
    "executionInfo": {
     "elapsed": 953,
     "status": "ok",
     "timestamp": 1663010095972,
     "user": {
      "displayName": "Abdelhady Sayed",
      "userId": "09542840263844765052"
     },
     "user_tz": -120
    },
    "id": "9qI7T9gYZBdJ"
   },
   "outputs": [],
   "source": [
    "# Store the predicted probabilities in finaltest_prob\n",
    "\n",
    "finaltest_prob = SVM_clf.predict_proba(final_test)[:,1]"
   ]
  },
  {
   "cell_type": "markdown",
   "metadata": {
    "id": "qSxTxm-2k91P"
   },
   "source": [
    "## Submission\n",
    "Please submit your final collaborative file latest 12th of September to anne-christin.hauschild@med.uni-goettingen.de\n"
   ]
  }
 ],
 "metadata": {
  "colab": {
   "collapsed_sections": [
    "48Vw3DCbUBMX",
    "OurQqt5WUBMb",
    "CxAUj0v_UBMb",
    "CTamRbSfUBMc",
    "KXe7H8vWUBMd",
    "snQx6q23UBMm",
    "qSxTxm-2k91P"
   ],
   "provenance": [
    {
     "file_id": "1N7nAtX_D1uA3CmatGepetLQnIaXF1hYu",
     "timestamp": 1662930184778
    },
    {
     "file_id": "1Beg2Nepcj8Qo3UHa_IkrOtOPw1vMjC84",
     "timestamp": 1662828898869
    },
    {
     "file_id": "1PDQcv2tQMjqYkux5SGfQri7pT6qZjJ0K",
     "timestamp": 1659098191434
    }
   ]
  },
  "kernelspec": {
   "display_name": "Python 3 (ipykernel)",
   "language": "python",
   "name": "python3"
  },
  "language_info": {
   "codemirror_mode": {
    "name": "ipython",
    "version": 3
   },
   "file_extension": ".py",
   "mimetype": "text/x-python",
   "name": "python",
   "nbconvert_exporter": "python",
   "pygments_lexer": "ipython3",
   "version": "3.10.5"
  }
 },
 "nbformat": 4,
 "nbformat_minor": 1
}
